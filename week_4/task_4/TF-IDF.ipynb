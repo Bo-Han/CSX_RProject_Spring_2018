{
 "cells": [
  {
   "cell_type": "markdown",
   "metadata": {},
   "source": [
    "# 中文文本探勘"
   ]
  },
  {
   "cell_type": "markdown",
   "metadata": {},
   "source": [
    "## B05901180 電機系二年級 趙冠豪\n",
    "## timestamp : 2018/3/24"
   ]
  },
  {
   "cell_type": "code",
   "execution_count": 1,
   "metadata": {},
   "outputs": [
    {
     "ename": "ERROR",
     "evalue": "Error in worker(): 沒有這個函數 \"worker\"\n",
     "output_type": "error",
     "traceback": [
      "Error in worker(): 沒有這個函數 \"worker\"\nTraceback:\n"
     ]
    }
   ],
   "source": [
    "cutter = worker()"
   ]
  },
  {
   "cell_type": "code",
   "execution_count": null,
   "metadata": {},
   "outputs": [],
   "source": []
  }
 ],
 "metadata": {
  "kernelspec": {
   "display_name": "R",
   "language": "R",
   "name": "ir"
  },
  "language_info": {
   "codemirror_mode": "r",
   "file_extension": ".r",
   "mimetype": "text/x-r-source",
   "name": "R",
   "pygments_lexer": "r",
   "version": "3.4.3"
  }
 },
 "nbformat": 4,
 "nbformat_minor": 2
}
