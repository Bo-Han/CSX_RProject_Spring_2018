{
 "cells": [
  {
   "cell_type": "markdown",
   "metadata": {},
   "source": [
    "# Facebook API practice"
   ]
  },
  {
   "cell_type": "markdown",
   "metadata": {},
   "source": [
    "### B05901180 電機系二年級 趙冠豪\n",
    "### Timestamp : 2018/3/24"
   ]
  },
  {
   "cell_type": "markdown",
   "metadata": {},
   "source": [
    "## Use facebook api to link to my account"
   ]
  },
  {
   "cell_type": "code",
   "execution_count": 344,
   "metadata": {},
   "outputs": [],
   "source": [
    "#先把需要的package執行看存不存在\n",
    "library(httr)\n",
    "library(rjson)\n",
    "library(httpuv)\n",
    "library(Rfacebook)"
   ]
  },
  {
   "cell_type": "code",
   "execution_count": 345,
   "metadata": {},
   "outputs": [],
   "source": [
    "library(plyr)\n",
    "library(nlr)"
   ]
  },
  {
   "cell_type": "code",
   "execution_count": 346,
   "metadata": {},
   "outputs": [],
   "source": [
    "token <- \"EAACEdEose0cBAP29G74zpR497rG3dxRqZCMvWMh9R4QKgW3s0M2MjneBpHu2ibg5WmhWEZA90qTJNirjZBZBpus9NP3F0CUfO4VSinJJkBjqCiuM56DQVeTxezlRlMeF4fBbhAE2zMOrua06qJshw6UfiB78yVJZCAY8mXPNftrJz6FVYlRyKdHhMu92SJ25T7yZAIMcYZCTwZDZD\"\n",
    "prefex_post <- \"https://graph.facebook.com/v2.12/me/?fields=posts&access_token=\"\n",
    "url <- paste0(prefex_post, token)\n",
    "# Get the response of the url (ex. posts)\n",
    "res <- httr::GET(url)\n",
    "# Get the content of the url\n",
    "posts <- content(res)"
   ]
  },
  {
   "cell_type": "code",
   "execution_count": 347,
   "metadata": {},
   "outputs": [
    {
     "data": {
      "text/plain": [
       "Response [https://graph.facebook.com/v2.12/me/?fields=posts&access_token=EAACEdEose0cBAP29G74zpR497rG3dxRqZCMvWMh9R4QKgW3s0M2MjneBpHu2ibg5WmhWEZA90qTJNirjZBZBpus9NP3F0CUfO4VSinJJkBjqCiuM56DQVeTxezlRlMeF4fBbhAE2zMOrua06qJshw6UfiB78yVJZCAY8mXPNftrJz6FVYlRyKdHhMu92SJ25T7yZAIMcYZCTwZDZD]\n",
       "  Date: 2018-03-24 08:36\n",
       "  Status: 200\n",
       "  Content-Type: application/json; charset=UTF-8\n",
       "  Size: 6.02 kB\n"
      ]
     },
     "metadata": {},
     "output_type": "display_data"
    }
   ],
   "source": [
    "res"
   ]
  },
  {
   "cell_type": "markdown",
   "metadata": {},
   "source": [
    "### Get the History Post"
   ]
  },
  {
   "cell_type": "code",
   "execution_count": 348,
   "metadata": {},
   "outputs": [
    {
     "name": "stdout",
     "output_type": "stream",
     "text": [
      "[1] \"太久沒換惹\\U0001f602\\n一張去年聖誕節的燦笑\\U0001f602\\U0001f602\"\n",
      "[1] \"#電機之夜 #大一舞 #hiphop #帥一波\"\n",
      "[1] \"第二年的電夜 林承德我會幫你好好上課\"\n",
      "NULL\n",
      "NULL\n",
      "[1] \"翻翻手機照片開始懷疑我到底是不是建中的ＸＤ\\n建中生是多麼不喜歡穿制服\\n好不容易找到的一張制服照片ＸＤ\"\n",
      "[1] \"笑爛\"\n",
      "[1] \"#小福廣場\\n#10月16到10月20號\\n#2017台大電機週frEEstyle\"\n",
      "NULL\n",
      "[1] \"超級罩的永松和承德\\nJack Chuang不用修簡報課就超電\\U0001f64f\\U0001f64f\\n之後黑客松再衝一波\\U0001f4aa\\U0001f3fc\\n\\n#2017wcit #smartbell\"\n",
      "[1] \"歡迎大家來探班\\n聽說入場費20000元\\n值班囉\\n#2017WCIT\"\n",
      "[1] \"https://www.youtube.com/watch?v=55aEVvITNJ0\"\n",
      "NULL\n",
      "[1] \"一年過了\\n也許這一年很多事變了\\n但聚在一起那種熟悉懷念的感覺依舊\\n會讓人想起高中三年的種種\\n各種肆無忌憚因為預繳錢的亂吃\\n各種秀下限沒有極限的ㄎㄧㄤˉ\\n各種感情上的審問大公開、逼供桌\\n各種把妹小技巧的共筆\\n各種南部人北部人的互嘴、種田騎山豬\\n各種深夜吵雜的談心佐酒\\n\\n開始想念起指考前那段打球玩肚子衝刺的日子\\n開始想念起高中下課打各種小遊戲的耍廢時間\\n開始想念起穿著那身制服的感覺\\n\\n第一年 沒變的還是這些熟悉溫暖的幹話\\n好像又回到了326\\n歐不已經是426了\\n#第一年 #326 #高中同學會\"\n",
      "NULL\n",
      "NULL\n"
     ]
    }
   ],
   "source": [
    "for( x in 1:16){\n",
    "    print(posts$posts$data[[x]]$message)\n",
    "}"
   ]
  },
  {
   "cell_type": "markdown",
   "metadata": {},
   "source": [
    "## Get my name"
   ]
  },
  {
   "cell_type": "code",
   "execution_count": 349,
   "metadata": {},
   "outputs": [
    {
     "data": {
      "text/html": [
       "'Howard Chao'"
      ],
      "text/latex": [
       "'Howard Chao'"
      ],
      "text/markdown": [
       "'Howard Chao'"
      ],
      "text/plain": [
       "[1] \"Howard Chao\""
      ]
     },
     "metadata": {},
     "output_type": "display_data"
    }
   ],
   "source": [
    "me <- getUsers(\"me\", token, private_info = TRUE)\n",
    "me$name"
   ]
  },
  {
   "cell_type": "markdown",
   "metadata": {},
   "source": [
    "## Get the page I liked"
   ]
  },
  {
   "cell_type": "code",
   "execution_count": 350,
   "metadata": {},
   "outputs": [],
   "source": [
    "prefex_me <- \"https://graph.facebook.com/v2.12/dXNlcl9jb250ZAXh0OgGQNe5zws7pL4orKZAUj0IozaP2PZBPencXCNLENCnWXnhavvE0BZBI7yRH8keorFJRghjVfeePOzljewhIqICEeD1byr9snTuZAmGuqtj93DzuJ9AZD/mutual_likes?pretty=0&limit=25&after=MTM5MDU4NTE5NDU3NDAxNwZDZD&access_token=\"\n",
    "url_me <- paste0(prefex_me, token)\n",
    "# Get the response of the url (ex. posts)\n",
    "res_me <- httr::GET(url_me)\n",
    "# Get the content of the url\n",
    "posts_me <- content(res_me)"
   ]
  },
  {
   "cell_type": "code",
   "execution_count": 351,
   "metadata": {},
   "outputs": [],
   "source": [
    "data_list <- vector()"
   ]
  },
  {
   "cell_type": "code",
   "execution_count": 352,
   "metadata": {},
   "outputs": [],
   "source": [
    "for(x in 1:25){\n",
    "    data_list <- c(data_list, posts_me$data[[x]]$name)\n",
    "}\n",
    "a <- data.frame(data_list)\n",
    "colnames(a) <- c(\"Liked paged\")\n",
    "url_next <- posts_me$paging$`next`\n",
    "res_next <- httr::GET(url_next)\n",
    "posts_me <- content(res_next)"
   ]
  },
  {
   "cell_type": "code",
   "execution_count": 353,
   "metadata": {},
   "outputs": [
    {
     "data": {
      "text/html": [
       "<table>\n",
       "<thead><tr><th scope=col>Liked paged</th></tr></thead>\n",
       "<tbody>\n",
       "\t<tr><td>Facebook Careers                                  </td></tr>\n",
       "\t<tr><td>Yahoo! intern                                     </td></tr>\n",
       "\t<tr><td>資策會                                            </td></tr>\n",
       "\t<tr><td>Brain-Magnet 學生企業實習平台                     </td></tr>\n",
       "\t<tr><td>微軟實習 未來生涯體驗計劃 Microsoft Intern Program</td></tr>\n",
       "\t<tr><td>CIEE Taiwan Fans Club                             </td></tr>\n",
       "\t<tr><td>We Student Internship matching                    </td></tr>\n",
       "\t<tr><td>NTU Toastmasters 台大國際英語演講社               </td></tr>\n",
       "\t<tr><td>HackMD                                            </td></tr>\n",
       "\t<tr><td>Data Skeptic Podcast                              </td></tr>\n",
       "\t<tr><td>Hacks In Taiwan 台灣駭客年會 ( HITCON )           </td></tr>\n",
       "\t<tr><td>台灣資料科學年會                                  </td></tr>\n",
       "\t<tr><td>台中軟體園區 OASIS 資訊科技論壇                   </td></tr>\n",
       "\t<tr><td><span style=white-space:pre-wrap>Soft &amp; Share 軟體開發資訊分享                     </span></td></tr>\n",
       "\t<tr><td>動漫聯盟                                          </td></tr>\n",
       "\t<tr><td>Android World                                     </td></tr>\n",
       "\t<tr><td>Android Developers                                </td></tr>\n",
       "\t<tr><td>Unity Technologies Korea - 유니티 코리아          </td></tr>\n",
       "\t<tr><td>Unity                                             </td></tr>\n",
       "\t<tr><td>Unity Taiwan                                      </td></tr>\n",
       "\t<tr><td>Android 中文網（APK.TW）                          </td></tr>\n",
       "\t<tr><td>VR Hack Fest / VR 開發者黑客松大賽                </td></tr>\n",
       "\t<tr><td>Jimmy Vegas Unity 3D Tutorials                    </td></tr>\n",
       "\t<tr><td>優拓資訊 Yoctol Info                              </td></tr>\n",
       "\t<tr><td>Unity Education                                   </td></tr>\n",
       "</tbody>\n",
       "</table>\n"
      ],
      "text/latex": [
       "\\begin{tabular}{r|l}\n",
       " Liked paged\\\\\n",
       "\\hline\n",
       "\t Facebook Careers                                  \\\\\n",
       "\t Yahoo! intern                                     \\\\\n",
       "\t 資策會                                            \\\\\n",
       "\t Brain-Magnet 學生企業實習平台                     \\\\\n",
       "\t 微軟實習 未來生涯體驗計劃 Microsoft Intern Program\\\\\n",
       "\t CIEE Taiwan Fans Club                             \\\\\n",
       "\t We Student Internship matching                    \\\\\n",
       "\t NTU Toastmasters 台大國際英語演講社               \\\\\n",
       "\t HackMD                                            \\\\\n",
       "\t Data Skeptic Podcast                              \\\\\n",
       "\t Hacks In Taiwan 台灣駭客年會 ( HITCON )           \\\\\n",
       "\t 台灣資料科學年會                                  \\\\\n",
       "\t 台中軟體園區 OASIS 資訊科技論壇                   \\\\\n",
       "\t Soft \\& Share 軟體開發資訊分享                     \\\\\n",
       "\t 動漫聯盟                                          \\\\\n",
       "\t Android World                                     \\\\\n",
       "\t Android Developers                                \\\\\n",
       "\t Unity Technologies Korea - 유니티 코리아          \\\\\n",
       "\t Unity                                             \\\\\n",
       "\t Unity Taiwan                                      \\\\\n",
       "\t Android 中文網（APK.TW）                          \\\\\n",
       "\t VR Hack Fest / VR 開發者黑客松大賽                \\\\\n",
       "\t Jimmy Vegas Unity 3D Tutorials                    \\\\\n",
       "\t 優拓資訊 Yoctol Info                              \\\\\n",
       "\t Unity Education                                   \\\\\n",
       "\\end{tabular}\n"
      ],
      "text/markdown": [
       "\n",
       "Liked paged | \n",
       "|---|---|---|---|---|---|---|---|---|---|---|---|---|---|---|---|---|---|---|---|---|---|---|---|---|\n",
       "| Facebook Careers                                   | \n",
       "| Yahoo! intern                                      | \n",
       "| 資策會                                             | \n",
       "| Brain-Magnet 學生企業實習平台                      | \n",
       "| 微軟實習 未來生涯體驗計劃 Microsoft Intern Program | \n",
       "| CIEE Taiwan Fans Club                              | \n",
       "| We Student Internship matching                     | \n",
       "| NTU Toastmasters 台大國際英語演講社                | \n",
       "| HackMD                                             | \n",
       "| Data Skeptic Podcast                               | \n",
       "| Hacks In Taiwan 台灣駭客年會 ( HITCON )            | \n",
       "| 台灣資料科學年會                                   | \n",
       "| 台中軟體園區 OASIS 資訊科技論壇                    | \n",
       "| Soft & Share 軟體開發資訊分享                      | \n",
       "| 動漫聯盟                                           | \n",
       "| Android World                                      | \n",
       "| Android Developers                                 | \n",
       "| Unity Technologies Korea - 유니티 코리아           | \n",
       "| Unity                                              | \n",
       "| Unity Taiwan                                       | \n",
       "| Android 中文網（APK.TW）                           | \n",
       "| VR Hack Fest / VR 開發者黑客松大賽                 | \n",
       "| Jimmy Vegas Unity 3D Tutorials                     | \n",
       "| 優拓資訊 Yoctol Info                               | \n",
       "| Unity Education                                    | \n",
       "\n",
       "\n"
      ],
      "text/plain": [
       "   Liked paged                                       \n",
       "1  Facebook Careers                                  \n",
       "2  Yahoo! intern                                     \n",
       "3  資策會                                            \n",
       "4  Brain-Magnet 學生企業實習平台                     \n",
       "5  微軟實習 未來生涯體驗計劃 Microsoft Intern Program\n",
       "6  CIEE Taiwan Fans Club                             \n",
       "7  We Student Internship matching                    \n",
       "8  NTU Toastmasters 台大國際英語演講社               \n",
       "9  HackMD                                            \n",
       "10 Data Skeptic Podcast                              \n",
       "11 Hacks In Taiwan 台灣駭客年會 ( HITCON )           \n",
       "12 台灣資料科學年會                                  \n",
       "13 台中軟體園區 OASIS 資訊科技論壇                   \n",
       "14 Soft & Share 軟體開發資訊分享                     \n",
       "15 動漫聯盟                                          \n",
       "16 Android World                                     \n",
       "17 Android Developers                                \n",
       "18 Unity Technologies Korea - 유니티 코리아          \n",
       "19 Unity                                             \n",
       "20 Unity Taiwan                                      \n",
       "21 Android 中文網（APK.TW）                          \n",
       "22 VR Hack Fest / VR 開發者黑客松大賽                \n",
       "23 Jimmy Vegas Unity 3D Tutorials                    \n",
       "24 優拓資訊 Yoctol Info                              \n",
       "25 Unity Education                                   "
      ]
     },
     "metadata": {},
     "output_type": "display_data"
    }
   ],
   "source": [
    "a"
   ]
  },
  {
   "cell_type": "markdown",
   "metadata": {},
   "source": [
    "## Get 朱立倫's posts from 2015-11-01 to 2016-1-17"
   ]
  },
  {
   "cell_type": "code",
   "execution_count": 409,
   "metadata": {},
   "outputs": [],
   "source": [
    "token <- \"EAACEdEose0cBAP29G74zpR497rG3dxRqZCMvWMh9R4QKgW3s0M2MjneBpHu2ibg5WmhWEZA90qTJNirjZBZBpus9NP3F0CUfO4VSinJJkBjqCiuM56DQVeTxezlRlMeF4fBbhAE2zMOrua06qJshw6UfiB78yVJZCAY8mXPNftrJz6FVYlRyKdHhMu92SJ25T7yZAIMcYZCTwZDZD\"\n",
    "prefex_post <- \"https://graph.facebook.com/v2.12/10150145806225128/posts?limit=1&until=2016-1-17&since=2015-11-01&access_token=\"\n",
    "url <- paste0(prefex_post, token)\n",
    "# Get the response of the url (ex. posts)\n",
    "res <- httr::GET(url)\n",
    "# Get the content of the url\n",
    "posts <- httr::content(res)"
   ]
  },
  {
   "cell_type": "code",
   "execution_count": 410,
   "metadata": {
    "scrolled": true
   },
   "outputs": [
    {
     "data": {
      "text/html": [
       "'https://graph.facebook.com/v2.12/10150145806225128/posts?limit=1&amp;until=2016-1-17&amp;since=2015-11-01&amp;access_token=EAACEdEose0cBAP29G74zpR497rG3dxRqZCMvWMh9R4QKgW3s0M2MjneBpHu2ibg5WmhWEZA90qTJNirjZBZBpus9NP3F0CUfO4VSinJJkBjqCiuM56DQVeTxezlRlMeF4fBbhAE2zMOrua06qJshw6UfiB78yVJZCAY8mXPNftrJz6FVYlRyKdHhMu92SJ25T7yZAIMcYZCTwZDZD'"
      ],
      "text/latex": [
       "'https://graph.facebook.com/v2.12/10150145806225128/posts?limit=1\\&until=2016-1-17\\&since=2015-11-01\\&access\\_token=EAACEdEose0cBAP29G74zpR497rG3dxRqZCMvWMh9R4QKgW3s0M2MjneBpHu2ibg5WmhWEZA90qTJNirjZBZBpus9NP3F0CUfO4VSinJJkBjqCiuM56DQVeTxezlRlMeF4fBbhAE2zMOrua06qJshw6UfiB78yVJZCAY8mXPNftrJz6FVYlRyKdHhMu92SJ25T7yZAIMcYZCTwZDZD'"
      ],
      "text/markdown": [
       "'https://graph.facebook.com/v2.12/10150145806225128/posts?limit=1&amp;until=2016-1-17&amp;since=2015-11-01&amp;access_token=EAACEdEose0cBAP29G74zpR497rG3dxRqZCMvWMh9R4QKgW3s0M2MjneBpHu2ibg5WmhWEZA90qTJNirjZBZBpus9NP3F0CUfO4VSinJJkBjqCiuM56DQVeTxezlRlMeF4fBbhAE2zMOrua06qJshw6UfiB78yVJZCAY8mXPNftrJz6FVYlRyKdHhMu92SJ25T7yZAIMcYZCTwZDZD'"
      ],
      "text/plain": [
       "[1] \"https://graph.facebook.com/v2.12/10150145806225128/posts?limit=1&until=2016-1-17&since=2015-11-01&access_token=EAACEdEose0cBAP29G74zpR497rG3dxRqZCMvWMh9R4QKgW3s0M2MjneBpHu2ibg5WmhWEZA90qTJNirjZBZBpus9NP3F0CUfO4VSinJJkBjqCiuM56DQVeTxezlRlMeF4fBbhAE2zMOrua06qJshw6UfiB78yVJZCAY8mXPNftrJz6FVYlRyKdHhMu92SJ25T7yZAIMcYZCTwZDZD\""
      ]
     },
     "metadata": {},
     "output_type": "display_data"
    }
   ],
   "source": [
    "url"
   ]
  },
  {
   "cell_type": "code",
   "execution_count": 411,
   "metadata": {},
   "outputs": [
    {
     "data": {
      "text/plain": [
       "Response [https://graph.facebook.com/v2.12/10150145806225128/posts?limit=1&until=2016-1-17&since=2015-11-01&access_token=EAACEdEose0cBAP29G74zpR497rG3dxRqZCMvWMh9R4QKgW3s0M2MjneBpHu2ibg5WmhWEZA90qTJNirjZBZBpus9NP3F0CUfO4VSinJJkBjqCiuM56DQVeTxezlRlMeF4fBbhAE2zMOrua06qJshw6UfiB78yVJZCAY8mXPNftrJz6FVYlRyKdHhMu92SJ25T7yZAIMcYZCTwZDZD]\n",
       "  Date: 2018-03-24 09:01\n",
       "  Status: 200\n",
       "  Content-Type: application/json; charset=UTF-8\n",
       "  Size: 11 kB\n"
      ]
     },
     "metadata": {},
     "output_type": "display_data"
    }
   ],
   "source": [
    "res"
   ]
  },
  {
   "cell_type": "code",
   "execution_count": 412,
   "metadata": {
    "scrolled": true
   },
   "outputs": [
    {
     "data": {
      "text/html": [
       "<dl>\n",
       "\t<dt>$data</dt>\n",
       "\t\t<dd><ol>\n",
       "\t<li><dl>\n",
       "\t<dt>$created_time</dt>\n",
       "\t\t<dd>'2016-01-16T11:51:30+0000'</dd>\n",
       "\t<dt>$message</dt>\n",
       "\t\t<dd>'對不起，朱立倫讓各位失望了！我們敗選了，國民黨敗選了，我們努力不夠，我們辜負了選民的期望，我們辜負了對國家的責任!\\n\\n身為黨主席，身為黨的總統參選人，責無旁貸，要負起最大的責任，我即刻辭去黨主席的職務，徹底自我檢討，自我反省，但我不會放棄我對國民黨的信心，對國家對社會對選民的信心。\\n\\n恭賀蔡英文主席，恭賀民進黨贏得選舉。這是台灣人民的選擇，也是台灣人民對蔡主席、對民進黨的責任的託付，我深切的祝福蔡主席與民進黨，能在勝選之後，帶領中華民國，帶領台灣，走向更幸福，更美好的未來。\\n\\n更要恭賀所有選民，選民才是最大贏家，是選民讓我們朝野政黨，知道了民意的依歸，民意的動向。\\n\\n我們國民黨，必定會記取這次大選，我們所遭到的嚴重挫敗。除了深切的反躬自省，傾聽選票所透露出的民意訊息外，國民黨也必當扮演好，反對黨的角色，監督的力量。\\n\\n國民黨敗選了，但做為在野的反對黨，做為政治上的監督者，我們也必當在未來扮演好反對的聲音，監督的力量，但請大家放心，我們會做忠誠的反對黨，我們會做體察民意，反映民意的監督者。一切發乎善意，一切出自真誠的愛台灣之心！\\n\\n台灣，只有一個，我在選前這樣相信，我在選後依舊這樣相信。\\n\\n選舉的時候，政黨依據不同的理念，不同的價值，可以激烈競爭，但選後，只有一個執政黨，只有一個政府，我們要尊重選民的抉擇，我們要相信民主的機制，選後，台灣依舊只有一個，做為在野的反對黨，國民黨必須誠懇的反省，何以人民做了這樣的選擇 ! 何以我們執政了近八年，會再度成為在野黨？\\n\\n如果我們反省的方向不對，如果我們反省的深度不夠，那四年後，國民黨依舊沒有資格說 : 我們可以再起 ! 我們還有機會 ! \\n\\n我知道，此刻，所有支持我們的民眾，內心是悲痛的，情感是受創的，但我要告訴各位，我們沒有遲疑、悲觀的權利。從現在起，我們就要開始認真的思索：為什麼？怎麼做？往哪裡去？\\n\\n過去幾年，為什麼民意有了巨大的轉變？為什麼，國民黨對民意的體察，有那麼大的落差？我們的政策主張，我們的用人方式，我們與社會溝通連結的語言和姿態，是不是都出現了大問題？為什麼我們的反省檢討，不能徹底，不能落實？\\n\\n失去中央執政，再失去國會多數，這是國民黨史無前例的巨變。其實從前年底的九合一選舉，國民黨失去多數的地方執政，就已經顯露了我們所面臨的巨大危機。如果此時此刻，是質問我們該怎麼做的最好時機，那我必須說，從地方開始扎根，從地方基層開始徹底培養人才，透過一次次的選舉，讓我們的未來人才、未來領袖，從基層開始培養起，進入國會，進入政府，才是『浴火重生』的唯一出路！也是我們國民黨爭取民意認同的，從根做起的唯一機會！\\n\\n民進黨執政，我們誠懇祝福。不過，政黨政治，就是不同政策，不同理念的競爭。我們國民黨，對中華民國，對台灣的發展藍圖，確實有跟民進黨不一樣的區隔。\\n\\n雖然這次選舉我們輸了，然而，對國家未來發展的大方向，我們依舊有責任，對新政府，對執政黨表達我們的關切，以及我們的憂心。這是一個負責任的在野政黨，必須要做的。台灣往哪裡走？不止是一個政黨的事，而是二千三百萬台灣人共同的事！國民黨雖然輸了選舉，但不會輸掉我們對台灣的愛，對中華民國的愛！\\n\\n這是我可以對所有選民做出的承諾。\\n\\n我感恩最後關頭，仍對國民黨不棄不離的選民朋友，是你們支撐了我們奮戰的勇氣！對於始終沉默不語的選民朋友，是你們激勵了我們不斷的反省不斷的自我批判。對於沒有投票給我們的選民朋友，是你們激發了我們必須徹頭徹尾的檢討，是你們給了我們繼續改革，繼續求變，爭取四年後重新再起的動力！\\n\\n選舉結束了。今晚以後，勝選的要扛起責任，敗選的要衷心祝福，自我惕勵。\\n台灣的民主，是華人社會的驕傲，我很珍惜這次的參選，我再次的感謝大家，共同完成一次台灣民主史上的壯舉。\\n\\n選舉有輸贏，台灣的未來，則不能輸，必須贏。\\n\\n國民黨要在谷底扎根，要能浴火重生，要在每一張選票的託付與指責中，重新改變我們的體質，這是我們必須要做的承諾，也是我們的責任。\\n\\n我們要在谷底仰望天空，思索未來，努力進前。祝福大家。'</dd>\n",
       "\t<dt>$id</dt>\n",
       "\t\t<dd>'10150145806225128_10156542710795128'</dd>\n",
       "</dl>\n",
       "</li>\n",
       "</ol>\n",
       "</dd>\n",
       "\t<dt>$paging</dt>\n",
       "\t\t<dd><dl>\n",
       "\t<dt>$cursors</dt>\n",
       "\t\t<dd><dl>\n",
       "\t<dt>$before</dt>\n",
       "\t\t<dd>'Q2c4U1pXNTBYM0YxWlhKNVgzTjBiM0o1WDJsa0R5VXhNREUxTURFME5UZA3dOakl5TlRFeU9Eb3pORFUyTmpZAek16ZAzNNRGsxTnpVNU5EazFEd3hoY0dsZAmMzUnZAjbmxmYVdRUEl6RXdNVFV3TVRRMU9EQTJNakkxTVRJNFh6RXdNVFUyTlRReU56RXdOemsxTVRJNER3UjBhVzFsQmxhYUxzSUIZD'</dd>\n",
       "\t<dt>$after</dt>\n",
       "\t\t<dd>'Q2c4U1pXNTBYM0YxWlhKNVgzTjBiM0o1WDJsa0R5VXhNREUxTURFME5UZA3dOakl5TlRFeU9Eb3pORFUyTmpZAek16ZAzNNRGsxTnpVNU5EazFEd3hoY0dsZAmMzUnZAjbmxmYVdRUEl6RXdNVFV3TVRRMU9EQTJNakkxTVRJNFh6RXdNVFUyTlRReU56RXdOemsxTVRJNER3UjBhVzFsQmxhYUxzSUIZD'</dd>\n",
       "</dl>\n",
       "</dd>\n",
       "\t<dt>$`next`</dt>\n",
       "\t\t<dd>'https://graph.facebook.com/v2.12/10150145806225128/posts?access_token=EAACEdEose0cBAP29G74zpR497rG3dxRqZCMvWMh9R4QKgW3s0M2MjneBpHu2ibg5WmhWEZA90qTJNirjZBZBpus9NP3F0CUfO4VSinJJkBjqCiuM56DQVeTxezlRlMeF4fBbhAE2zMOrua06qJshw6UfiB78yVJZCAY8mXPNftrJz6FVYlRyKdHhMu92SJ25T7yZAIMcYZCTwZDZD&amp;since=2015-11-01&amp;until=2016-1-17&amp;limit=1&amp;after=Q2c4U1pXNTBYM0YxWlhKNVgzTjBiM0o1WDJsa0R5VXhNREUxTURFME5UZA3dOakl5TlRFeU9Eb3pORFUyTmpZAek16ZAzNNRGsxTnpVNU5EazFEd3hoY0dsZAmMzUnZAjbmxmYVdRUEl6RXdNVFV3TVRRMU9EQTJNakkxTVRJNFh6RXdNVFUyTlRReU56RXdOemsxTVRJNER3UjBhVzFsQmxhYUxzSUIZD'</dd>\n",
       "</dl>\n",
       "</dd>\n",
       "</dl>\n"
      ],
      "text/latex": [
       "\\begin{description}\n",
       "\\item[\\$data] \\begin{enumerate}\n",
       "\\item \\begin{description}\n",
       "\\item[\\$created\\_time] '2016-01-16T11:51:30+0000'\n",
       "\\item[\\$message] '對不起，朱立倫讓各位失望了！我們敗選了，國民黨敗選了，我們努力不夠，我們辜負了選民的期望，我們辜負了對國家的責任!\\textbackslash{}n\\textbackslash{}n身為黨主席，身為黨的總統參選人，責無旁貸，要負起最大的責任，我即刻辭去黨主席的職務，徹底自我檢討，自我反省，但我不會放棄我對國民黨的信心，對國家對社會對選民的信心。\\textbackslash{}n\\textbackslash{}n恭賀蔡英文主席，恭賀民進黨贏得選舉。這是台灣人民的選擇，也是台灣人民對蔡主席、對民進黨的責任的託付，我深切的祝福蔡主席與民進黨，能在勝選之後，帶領中華民國，帶領台灣，走向更幸福，更美好的未來。\\textbackslash{}n\\textbackslash{}n更要恭賀所有選民，選民才是最大贏家，是選民讓我們朝野政黨，知道了民意的依歸，民意的動向。\\textbackslash{}n\\textbackslash{}n我們國民黨，必定會記取這次大選，我們所遭到的嚴重挫敗。除了深切的反躬自省，傾聽選票所透露出的民意訊息外，國民黨也必當扮演好，反對黨的角色，監督的力量。\\textbackslash{}n\\textbackslash{}n國民黨敗選了，但做為在野的反對黨，做為政治上的監督者，我們也必當在未來扮演好反對的聲音，監督的力量，但請大家放心，我們會做忠誠的反對黨，我們會做體察民意，反映民意的監督者。一切發乎善意，一切出自真誠的愛台灣之心！\\textbackslash{}n\\textbackslash{}n台灣，只有一個，我在選前這樣相信，我在選後依舊這樣相信。\\textbackslash{}n\\textbackslash{}n選舉的時候，政黨依據不同的理念，不同的價值，可以激烈競爭，但選後，只有一個執政黨，只有一個政府，我們要尊重選民的抉擇，我們要相信民主的機制，選後，台灣依舊只有一個，做為在野的反對黨，國民黨必須誠懇的反省，何以人民做了這樣的選擇 ! 何以我們執政了近八年，會再度成為在野黨？\\textbackslash{}n\\textbackslash{}n如果我們反省的方向不對，如果我們反省的深度不夠，那四年後，國民黨依舊沒有資格說 : 我們可以再起 ! 我們還有機會 ! \\textbackslash{}n\\textbackslash{}n我知道，此刻，所有支持我們的民眾，內心是悲痛的，情感是受創的，但我要告訴各位，我們沒有遲疑、悲觀的權利。從現在起，我們就要開始認真的思索：為什麼？怎麼做？往哪裡去？\\textbackslash{}n\\textbackslash{}n過去幾年，為什麼民意有了巨大的轉變？為什麼，國民黨對民意的體察，有那麼大的落差？我們的政策主張，我們的用人方式，我們與社會溝通連結的語言和姿態，是不是都出現了大問題？為什麼我們的反省檢討，不能徹底，不能落實？\\textbackslash{}n\\textbackslash{}n失去中央執政，再失去國會多數，這是國民黨史無前例的巨變。其實從前年底的九合一選舉，國民黨失去多數的地方執政，就已經顯露了我們所面臨的巨大危機。如果此時此刻，是質問我們該怎麼做的最好時機，那我必須說，從地方開始扎根，從地方基層開始徹底培養人才，透過一次次的選舉，讓我們的未來人才、未來領袖，從基層開始培養起，進入國會，進入政府，才是『浴火重生』的唯一出路！也是我們國民黨爭取民意認同的，從根做起的唯一機會！\\textbackslash{}n\\textbackslash{}n民進黨執政，我們誠懇祝福。不過，政黨政治，就是不同政策，不同理念的競爭。我們國民黨，對中華民國，對台灣的發展藍圖，確實有跟民進黨不一樣的區隔。\\textbackslash{}n\\textbackslash{}n雖然這次選舉我們輸了，然而，對國家未來發展的大方向，我們依舊有責任，對新政府，對執政黨表達我們的關切，以及我們的憂心。這是一個負責任的在野政黨，必須要做的。台灣往哪裡走？不止是一個政黨的事，而是二千三百萬台灣人共同的事！國民黨雖然輸了選舉，但不會輸掉我們對台灣的愛，對中華民國的愛！\\textbackslash{}n\\textbackslash{}n這是我可以對所有選民做出的承諾。\\textbackslash{}n\\textbackslash{}n我感恩最後關頭，仍對國民黨不棄不離的選民朋友，是你們支撐了我們奮戰的勇氣！對於始終沉默不語的選民朋友，是你們激勵了我們不斷的反省不斷的自我批判。對於沒有投票給我們的選民朋友，是你們激發了我們必須徹頭徹尾的檢討，是你們給了我們繼續改革，繼續求變，爭取四年後重新再起的動力！\\textbackslash{}n\\textbackslash{}n選舉結束了。今晚以後，勝選的要扛起責任，敗選的要衷心祝福，自我惕勵。\\textbackslash{}n台灣的民主，是華人社會的驕傲，我很珍惜這次的參選，我再次的感謝大家，共同完成一次台灣民主史上的壯舉。\\textbackslash{}n\\textbackslash{}n選舉有輸贏，台灣的未來，則不能輸，必須贏。\\textbackslash{}n\\textbackslash{}n國民黨要在谷底扎根，要能浴火重生，要在每一張選票的託付與指責中，重新改變我們的體質，這是我們必須要做的承諾，也是我們的責任。\\textbackslash{}n\\textbackslash{}n我們要在谷底仰望天空，思索未來，努力進前。祝福大家。'\n",
       "\\item[\\$id] '10150145806225128\\_10156542710795128'\n",
       "\\end{description}\n",
       "\n",
       "\\end{enumerate}\n",
       "\n",
       "\\item[\\$paging] \\begin{description}\n",
       "\\item[\\$cursors] \\begin{description}\n",
       "\\item[\\$before] 'Q2c4U1pXNTBYM0YxWlhKNVgzTjBiM0o1WDJsa0R5VXhNREUxTURFME5UZA3dOakl5TlRFeU9Eb3pORFUyTmpZAek16ZAzNNRGsxTnpVNU5EazFEd3hoY0dsZAmMzUnZAjbmxmYVdRUEl6RXdNVFV3TVRRMU9EQTJNakkxTVRJNFh6RXdNVFUyTlRReU56RXdOemsxTVRJNER3UjBhVzFsQmxhYUxzSUIZD'\n",
       "\\item[\\$after] 'Q2c4U1pXNTBYM0YxWlhKNVgzTjBiM0o1WDJsa0R5VXhNREUxTURFME5UZA3dOakl5TlRFeU9Eb3pORFUyTmpZAek16ZAzNNRGsxTnpVNU5EazFEd3hoY0dsZAmMzUnZAjbmxmYVdRUEl6RXdNVFV3TVRRMU9EQTJNakkxTVRJNFh6RXdNVFUyTlRReU56RXdOemsxTVRJNER3UjBhVzFsQmxhYUxzSUIZD'\n",
       "\\end{description}\n",
       "\n",
       "\\item[\\$`next`] 'https://graph.facebook.com/v2.12/10150145806225128/posts?access\\_token=EAACEdEose0cBAP29G74zpR497rG3dxRqZCMvWMh9R4QKgW3s0M2MjneBpHu2ibg5WmhWEZA90qTJNirjZBZBpus9NP3F0CUfO4VSinJJkBjqCiuM56DQVeTxezlRlMeF4fBbhAE2zMOrua06qJshw6UfiB78yVJZCAY8mXPNftrJz6FVYlRyKdHhMu92SJ25T7yZAIMcYZCTwZDZD\\&since=2015-11-01\\&until=2016-1-17\\&limit=1\\&after=Q2c4U1pXNTBYM0YxWlhKNVgzTjBiM0o1WDJsa0R5VXhNREUxTURFME5UZA3dOakl5TlRFeU9Eb3pORFUyTmpZAek16ZAzNNRGsxTnpVNU5EazFEd3hoY0dsZAmMzUnZAjbmxmYVdRUEl6RXdNVFV3TVRRMU9EQTJNakkxTVRJNFh6RXdNVFUyTlRReU56RXdOemsxTVRJNER3UjBhVzFsQmxhYUxzSUIZD'\n",
       "\\end{description}\n",
       "\n",
       "\\end{description}\n"
      ],
      "text/markdown": [
       "$data\n",
       ":   1. $created_time\n",
       ":   '2016-01-16T11:51:30+0000'\n",
       "$message\n",
       ":   '對不起，朱立倫讓各位失望了！我們敗選了，國民黨敗選了，我們努力不夠，我們辜負了選民的期望，我們辜負了對國家的責任!\\n\\n身為黨主席，身為黨的總統參選人，責無旁貸，要負起最大的責任，我即刻辭去黨主席的職務，徹底自我檢討，自我反省，但我不會放棄我對國民黨的信心，對國家對社會對選民的信心。\\n\\n恭賀蔡英文主席，恭賀民進黨贏得選舉。這是台灣人民的選擇，也是台灣人民對蔡主席、對民進黨的責任的託付，我深切的祝福蔡主席與民進黨，能在勝選之後，帶領中華民國，帶領台灣，走向更幸福，更美好的未來。\\n\\n更要恭賀所有選民，選民才是最大贏家，是選民讓我們朝野政黨，知道了民意的依歸，民意的動向。\\n\\n我們國民黨，必定會記取這次大選，我們所遭到的嚴重挫敗。除了深切的反躬自省，傾聽選票所透露出的民意訊息外，國民黨也必當扮演好，反對黨的角色，監督的力量。\\n\\n國民黨敗選了，但做為在野的反對黨，做為政治上的監督者，我們也必當在未來扮演好反對的聲音，監督的力量，但請大家放心，我們會做忠誠的反對黨，我們會做體察民意，反映民意的監督者。一切發乎善意，一切出自真誠的愛台灣之心！\\n\\n台灣，只有一個，我在選前這樣相信，我在選後依舊這樣相信。\\n\\n選舉的時候，政黨依據不同的理念，不同的價值，可以激烈競爭，但選後，只有一個執政黨，只有一個政府，我們要尊重選民的抉擇，我們要相信民主的機制，選後，台灣依舊只有一個，做為在野的反對黨，國民黨必須誠懇的反省，何以人民做了這樣的選擇 ! 何以我們執政了近八年，會再度成為在野黨？\\n\\n如果我們反省的方向不對，如果我們反省的深度不夠，那四年後，國民黨依舊沒有資格說 : 我們可以再起 ! 我們還有機會 ! \\n\\n我知道，此刻，所有支持我們的民眾，內心是悲痛的，情感是受創的，但我要告訴各位，我們沒有遲疑、悲觀的權利。從現在起，我們就要開始認真的思索：為什麼？怎麼做？往哪裡去？\\n\\n過去幾年，為什麼民意有了巨大的轉變？為什麼，國民黨對民意的體察，有那麼大的落差？我們的政策主張，我們的用人方式，我們與社會溝通連結的語言和姿態，是不是都出現了大問題？為什麼我們的反省檢討，不能徹底，不能落實？\\n\\n失去中央執政，再失去國會多數，這是國民黨史無前例的巨變。其實從前年底的九合一選舉，國民黨失去多數的地方執政，就已經顯露了我們所面臨的巨大危機。如果此時此刻，是質問我們該怎麼做的最好時機，那我必須說，從地方開始扎根，從地方基層開始徹底培養人才，透過一次次的選舉，讓我們的未來人才、未來領袖，從基層開始培養起，進入國會，進入政府，才是『浴火重生』的唯一出路！也是我們國民黨爭取民意認同的，從根做起的唯一機會！\\n\\n民進黨執政，我們誠懇祝福。不過，政黨政治，就是不同政策，不同理念的競爭。我們國民黨，對中華民國，對台灣的發展藍圖，確實有跟民進黨不一樣的區隔。\\n\\n雖然這次選舉我們輸了，然而，對國家未來發展的大方向，我們依舊有責任，對新政府，對執政黨表達我們的關切，以及我們的憂心。這是一個負責任的在野政黨，必須要做的。台灣往哪裡走？不止是一個政黨的事，而是二千三百萬台灣人共同的事！國民黨雖然輸了選舉，但不會輸掉我們對台灣的愛，對中華民國的愛！\\n\\n這是我可以對所有選民做出的承諾。\\n\\n我感恩最後關頭，仍對國民黨不棄不離的選民朋友，是你們支撐了我們奮戰的勇氣！對於始終沉默不語的選民朋友，是你們激勵了我們不斷的反省不斷的自我批判。對於沒有投票給我們的選民朋友，是你們激發了我們必須徹頭徹尾的檢討，是你們給了我們繼續改革，繼續求變，爭取四年後重新再起的動力！\\n\\n選舉結束了。今晚以後，勝選的要扛起責任，敗選的要衷心祝福，自我惕勵。\\n台灣的民主，是華人社會的驕傲，我很珍惜這次的參選，我再次的感謝大家，共同完成一次台灣民主史上的壯舉。\\n\\n選舉有輸贏，台灣的未來，則不能輸，必須贏。\\n\\n國民黨要在谷底扎根，要能浴火重生，要在每一張選票的託付與指責中，重新改變我們的體質，這是我們必須要做的承諾，也是我們的責任。\\n\\n我們要在谷底仰望天空，思索未來，努力進前。祝福大家。'\n",
       "$id\n",
       ":   '10150145806225128_10156542710795128'\n",
       "\n",
       "\n",
       "\n",
       "\n",
       "\n",
       "\n",
       "$paging\n",
       ":   $cursors\n",
       ":   $before\n",
       ":   'Q2c4U1pXNTBYM0YxWlhKNVgzTjBiM0o1WDJsa0R5VXhNREUxTURFME5UZA3dOakl5TlRFeU9Eb3pORFUyTmpZAek16ZAzNNRGsxTnpVNU5EazFEd3hoY0dsZAmMzUnZAjbmxmYVdRUEl6RXdNVFV3TVRRMU9EQTJNakkxTVRJNFh6RXdNVFUyTlRReU56RXdOemsxTVRJNER3UjBhVzFsQmxhYUxzSUIZD'\n",
       "$after\n",
       ":   'Q2c4U1pXNTBYM0YxWlhKNVgzTjBiM0o1WDJsa0R5VXhNREUxTURFME5UZA3dOakl5TlRFeU9Eb3pORFUyTmpZAek16ZAzNNRGsxTnpVNU5EazFEd3hoY0dsZAmMzUnZAjbmxmYVdRUEl6RXdNVFV3TVRRMU9EQTJNakkxTVRJNFh6RXdNVFUyTlRReU56RXdOemsxTVRJNER3UjBhVzFsQmxhYUxzSUIZD'\n",
       "\n",
       "\n",
       "\n",
       "$`next`\n",
       ":   'https://graph.facebook.com/v2.12/10150145806225128/posts?access_token=EAACEdEose0cBAP29G74zpR497rG3dxRqZCMvWMh9R4QKgW3s0M2MjneBpHu2ibg5WmhWEZA90qTJNirjZBZBpus9NP3F0CUfO4VSinJJkBjqCiuM56DQVeTxezlRlMeF4fBbhAE2zMOrua06qJshw6UfiB78yVJZCAY8mXPNftrJz6FVYlRyKdHhMu92SJ25T7yZAIMcYZCTwZDZD&amp;since=2015-11-01&amp;until=2016-1-17&amp;limit=1&amp;after=Q2c4U1pXNTBYM0YxWlhKNVgzTjBiM0o1WDJsa0R5VXhNREUxTURFME5UZA3dOakl5TlRFeU9Eb3pORFUyTmpZAek16ZAzNNRGsxTnpVNU5EazFEd3hoY0dsZAmMzUnZAjbmxmYVdRUEl6RXdNVFV3TVRRMU9EQTJNakkxTVRJNFh6RXdNVFUyTlRReU56RXdOemsxTVRJNER3UjBhVzFsQmxhYUxzSUIZD'\n",
       "\n",
       "\n",
       "\n",
       "\n",
       "\n"
      ],
      "text/plain": [
       "$data\n",
       "$data[[1]]\n",
       "$data[[1]]$created_time\n",
       "[1] \"2016-01-16T11:51:30+0000\"\n",
       "\n",
       "$data[[1]]$message\n",
       "[1] \"對不起，朱立倫讓各位失望了！我們敗選了，國民黨敗選了，我們努力不夠，我們辜負了選民的期望，我們辜負了對國家的責任!\\n\\n身為黨主席，身為黨的總統參選人，責無旁貸，要負起最大的責任，我即刻辭去黨主席的職務，徹底自我檢討，自我反省，但我不會放棄我對國民黨的信心，對國家對社會對選民的信心。\\n\\n恭賀蔡英文主席，恭賀民進黨贏得選舉。這是台灣人民的選擇，也是台灣人民對蔡主席、對民進黨的責任的託付，我深切的祝福蔡主席與民進黨，能在勝選之後，帶領中華民國，帶領台灣，走向更幸福，更美好的未來。\\n\\n更要恭賀所有選民，選民才是最大贏家，是選民讓我們朝野政黨，知道了民意的依歸，民意的動向。\\n\\n我們國民黨，必定會記取這次大選，我們所遭到的嚴重挫敗。除了深切的反躬自省，傾聽選票所透露出的民意訊息外，國民黨也必當扮演好，反對黨的角色，監督的力量。\\n\\n國民黨敗選了，但做為在野的反對黨，做為政治上的監督者，我們也必當在未來扮演好反對的聲音，監督的力量，但請大家放心，我們會做忠誠的反對黨，我們會做體察民意，反映民意的監督者。一切發乎善意，一切出自真誠的愛台灣之心！\\n\\n台灣，只有一個，我在選前這樣相信，我在選後依舊這樣相信。\\n\\n選舉的時候，政黨依據不同的理念，不同的價值，可以激烈競爭，但選後，只有一個執政黨，只有一個政府，我們要尊重選民的抉擇，我們要相信民主的機制，選後，台灣依舊只有一個，做為在野的反對黨，國民黨必須誠懇的反省，何以人民做了這樣的選擇 ! 何以我們執政了近八年，會再度成為在野黨？\\n\\n如果我們反省的方向不對，如果我們反省的深度不夠，那四年後，國民黨依舊沒有資格說 : 我們可以再起 ! 我們還有機會 ! \\n\\n我知道，此刻，所有支持我們的民眾，內心是悲痛的，情感是受創的，但我要告訴各位，我們沒有遲疑、悲觀的權利。從現在起，我們就要開始認真的思索：為什麼？怎麼做？往哪裡去？\\n\\n過去幾年，為什麼民意有了巨大的轉變？為什麼，國民黨對民意的體察，有那麼大的落差？我們的政策主張，我們的用人方式，我們與社會溝通連結的語言和姿態，是不是都出現了大問題？為什麼我們的反省檢討，不能徹底，不能落實？\\n\\n失去中央執政，再失去國會多數，這是國民黨史無前例的巨變。其實從前年底的九合一選舉，國民黨失去多數的地方執政，就已經顯露了我們所面臨的巨大危機。如果此時此刻，是質問我們該怎麼做的最好時機，那我必須說，從地方開始扎根，從地方基層開始徹底培養人才，透過一次次的選舉，讓我們的未來人才、未來領袖，從基層開始培養起，進入國會，進入政府，才是『浴火重生』的唯一出路！也是我們國民黨爭取民意認同的，從根做起的唯一機會！\\n\\n民進黨執政，我們誠懇祝福。不過，政黨政治，就是不同政策，不同理念的競爭。我們國民黨，對中華民國，對台灣的發展藍圖，確實有跟民進黨不一樣的區隔。\\n\\n雖然這次選舉我們輸了，然而，對國家未來發展的大方向，我們依舊有責任，對新政府，對執政黨表達我們的關切，以及我們的憂心。這是一個負責任的在野政黨，必須要做的。台灣往哪裡走？不止是一個政黨的事，而是二千三百萬台灣人共同的事！國民黨雖然輸了選舉，但不會輸掉我們對台灣的愛，對中華民國的愛！\\n\\n這是我可以對所有選民做出的承諾。\\n\\n我感恩最後關頭，仍對國民黨不棄不離的選民朋友，是你們支撐了我們奮戰的勇氣！對於始終沉默不語的選民朋友，是你們激勵了我們不斷的反省不斷的自我批判。對於沒有投票給我們的選民朋友，是你們激發了我們必須徹頭徹尾的檢討，是你們給了我們繼續改革，繼續求變，爭取四年後重新再起的動力！\\n\\n選舉結束了。今晚以後，勝選的要扛起責任，敗選的要衷心祝福，自我惕勵。\\n台灣的民主，是華人社會的驕傲，我很珍惜這次的參選，我再次的感謝大家，共同完成一次台灣民主史上的壯舉。\\n\\n選舉有輸贏，台灣的未來，則不能輸，必須贏。\\n\\n國民黨要在谷底扎根，要能浴火重生，要在每一張選票的託付與指責中，重新改變我們的體質，這是我們必須要做的承諾，也是我們的責任。\\n\\n我們要在谷底仰望天空，思索未來，努力進前。祝福大家。\"\n",
       "\n",
       "$data[[1]]$id\n",
       "[1] \"10150145806225128_10156542710795128\"\n",
       "\n",
       "\n",
       "\n",
       "$paging\n",
       "$paging$cursors\n",
       "$paging$cursors$before\n",
       "[1] \"Q2c4U1pXNTBYM0YxWlhKNVgzTjBiM0o1WDJsa0R5VXhNREUxTURFME5UZA3dOakl5TlRFeU9Eb3pORFUyTmpZAek16ZAzNNRGsxTnpVNU5EazFEd3hoY0dsZAmMzUnZAjbmxmYVdRUEl6RXdNVFV3TVRRMU9EQTJNakkxTVRJNFh6RXdNVFUyTlRReU56RXdOemsxTVRJNER3UjBhVzFsQmxhYUxzSUIZD\"\n",
       "\n",
       "$paging$cursors$after\n",
       "[1] \"Q2c4U1pXNTBYM0YxWlhKNVgzTjBiM0o1WDJsa0R5VXhNREUxTURFME5UZA3dOakl5TlRFeU9Eb3pORFUyTmpZAek16ZAzNNRGsxTnpVNU5EazFEd3hoY0dsZAmMzUnZAjbmxmYVdRUEl6RXdNVFV3TVRRMU9EQTJNakkxTVRJNFh6RXdNVFUyTlRReU56RXdOemsxTVRJNER3UjBhVzFsQmxhYUxzSUIZD\"\n",
       "\n",
       "\n",
       "$paging$`next`\n",
       "[1] \"https://graph.facebook.com/v2.12/10150145806225128/posts?access_token=EAACEdEose0cBAP29G74zpR497rG3dxRqZCMvWMh9R4QKgW3s0M2MjneBpHu2ibg5WmhWEZA90qTJNirjZBZBpus9NP3F0CUfO4VSinJJkBjqCiuM56DQVeTxezlRlMeF4fBbhAE2zMOrua06qJshw6UfiB78yVJZCAY8mXPNftrJz6FVYlRyKdHhMu92SJ25T7yZAIMcYZCTwZDZD&since=2015-11-01&until=2016-1-17&limit=1&after=Q2c4U1pXNTBYM0YxWlhKNVgzTjBiM0o1WDJsa0R5VXhNREUxTURFME5UZA3dOakl5TlRFeU9Eb3pORFUyTmpZAek16ZAzNNRGsxTnpVNU5EazFEd3hoY0dsZAmMzUnZAjbmxmYVdRUEl6RXdNVFV3TVRRMU9EQTJNakkxTVRJNFh6RXdNVFUyTlRReU56RXdOemsxTVRJNER3UjBhVzFsQmxhYUxzSUIZD\"\n",
       "\n"
      ]
     },
     "metadata": {},
     "output_type": "display_data"
    }
   ],
   "source": [
    "posts"
   ]
  },
  {
   "cell_type": "code",
   "execution_count": 413,
   "metadata": {},
   "outputs": [],
   "source": [
    "# convert posts data into\n",
    "# unlist(given a list structure, simplifies it to produce a vector contains \n",
    "#   all the atomic components with occurs in x)\n",
    "groups <- matrix(unlist(posts$data))"
   ]
  },
  {
   "cell_type": "code",
   "execution_count": 414,
   "metadata": {},
   "outputs": [
    {
     "data": {
      "text/html": [
       "<table>\n",
       "<tbody>\n",
       "\t<tr><td>2016-01-16T11:51:30+0000                                                                                                                                                                                                                                                                                                                                                                                                                                                                                                                                                                                                                                                                                                                                                                                                                                                                                                                                                                                                                                                                                                                                                                                                                                                                                                                                                                                                                                                                                                                                                                                                                                                                                                                                                                                                                                                                                                                                                                                                                                                                                                                                                                                                                                                                                                                                                                                                                                                                                                                                                                                                                                                                                                                                                                                                                                                                                                                                                                                                                                                                                                                                                                                                                                                                                                                                                                                                                                 </td></tr>\n",
       "\t<tr><td>對不起，朱立倫讓各位失望了！我們敗選了，國民黨敗選了，我們努力不夠，我們辜負了選民的期望，我們辜負了對國家的責任!\n",
       "\n",
       "身為黨主席，身為黨的總統參選人，責無旁貸，要負起最大的責任，我即刻辭去黨主席的職務，徹底自我檢討，自我反省，但我不會放棄我對國民黨的信心，對國家對社會對選民的信心。\n",
       "\n",
       "恭賀蔡英文主席，恭賀民進黨贏得選舉。這是台灣人民的選擇，也是台灣人民對蔡主席、對民進黨的責任的託付，我深切的祝福蔡主席與民進黨，能在勝選之後，帶領中華民國，帶領台灣，走向更幸福，更美好的未來。\n",
       "\n",
       "更要恭賀所有選民，選民才是最大贏家，是選民讓我們朝野政黨，知道了民意的依歸，民意的動向。\n",
       "\n",
       "我們國民黨，必定會記取這次大選，我們所遭到的嚴重挫敗。除了深切的反躬自省，傾聽選票所透露出的民意訊息外，國民黨也必當扮演好，反對黨的角色，監督的力量。\n",
       "\n",
       "國民黨敗選了，但做為在野的反對黨，做為政治上的監督者，我們也必當在未來扮演好反對的聲音，監督的力量，但請大家放心，我們會做忠誠的反對黨，我們會做體察民意，反映民意的監督者。一切發乎善意，一切出自真誠的愛台灣之心！\n",
       "\n",
       "台灣，只有一個，我在選前這樣相信，我在選後依舊這樣相信。\n",
       "\n",
       "選舉的時候，政黨依據不同的理念，不同的價值，可以激烈競爭，但選後，只有一個執政黨，只有一個政府，我們要尊重選民的抉擇，我們要相信民主的機制，選後，台灣依舊只有一個，做為在野的反對黨，國民黨必須誠懇的反省，何以人民做了這樣的選擇 ! 何以我們執政了近八年，會再度成為在野黨？\n",
       "\n",
       "如果我們反省的方向不對，如果我們反省的深度不夠，那四年後，國民黨依舊沒有資格說 : 我們可以再起 ! 我們還有機會 ! \n",
       "\n",
       "我知道，此刻，所有支持我們的民眾，內心是悲痛的，情感是受創的，但我要告訴各位，我們沒有遲疑、悲觀的權利。從現在起，我們就要開始認真的思索：為什麼？怎麼做？往哪裡去？\n",
       "\n",
       "過去幾年，為什麼民意有了巨大的轉變？為什麼，國民黨對民意的體察，有那麼大的落差？我們的政策主張，我們的用人方式，我們與社會溝通連結的語言和姿態，是不是都出現了大問題？為什麼我們的反省檢討，不能徹底，不能落實？\n",
       "\n",
       "失去中央執政，再失去國會多數，這是國民黨史無前例的巨變。其實從前年底的九合一選舉，國民黨失去多數的地方執政，就已經顯露了我們所面臨的巨大危機。如果此時此刻，是質問我們該怎麼做的最好時機，那我必須說，從地方開始扎根，從地方基層開始徹底培養人才，透過一次次的選舉，讓我們的未來人才、未來領袖，從基層開始培養起，進入國會，進入政府，才是『浴火重生』的唯一出路！也是我們國民黨爭取民意認同的，從根做起的唯一機會！\n",
       "\n",
       "民進黨執政，我們誠懇祝福。不過，政黨政治，就是不同政策，不同理念的競爭。我們國民黨，對中華民國，對台灣的發展藍圖，確實有跟民進黨不一樣的區隔。\n",
       "\n",
       "雖然這次選舉我們輸了，然而，對國家未來發展的大方向，我們依舊有責任，對新政府，對執政黨表達我們的關切，以及我們的憂心。這是一個負責任的在野政黨，必須要做的。台灣往哪裡走？不止是一個政黨的事，而是二千三百萬台灣人共同的事！國民黨雖然輸了選舉，但不會輸掉我們對台灣的愛，對中華民國的愛！\n",
       "\n",
       "這是我可以對所有選民做出的承諾。\n",
       "\n",
       "我感恩最後關頭，仍對國民黨不棄不離的選民朋友，是你們支撐了我們奮戰的勇氣！對於始終沉默不語的選民朋友，是你們激勵了我們不斷的反省不斷的自我批判。對於沒有投票給我們的選民朋友，是你們激發了我們必須徹頭徹尾的檢討，是你們給了我們繼續改革，繼續求變，爭取四年後重新再起的動力！\n",
       "\n",
       "選舉結束了。今晚以後，勝選的要扛起責任，敗選的要衷心祝福，自我惕勵。\n",
       "台灣的民主，是華人社會的驕傲，我很珍惜這次的參選，我再次的感謝大家，共同完成一次台灣民主史上的壯舉。\n",
       "\n",
       "選舉有輸贏，台灣的未來，則不能輸，必須贏。\n",
       "\n",
       "國民黨要在谷底扎根，要能浴火重生，要在每一張選票的託付與指責中，重新改變我們的體質，這是我們必須要做的承諾，也是我們的責任。\n",
       "\n",
       "我們要在谷底仰望天空，思索未來，努力進前。祝福大家。</td></tr>\n",
       "\t<tr><td>10150145806225128_10156542710795128                                                                                                                                                                                                                                                                                                                                                                                                                                                                                                                                                                                                                                                                                                                                                                                                                                                                                                                                                                                                                                                                                                                                                                                                                                                                                                                                                                                                                                                                                                                                                                                                                                                                                                                                                                                                                                                                                                                                                                                                                                                                                                                                                                                                                                                                                                                                                                                                                                                                                                                                                                                                                                                                                                                                                                                                                                                                                                                                                                                                                                                                                                                                                                                                                                                                                                                                                                                                                      </td></tr>\n",
       "</tbody>\n",
       "</table>\n"
      ],
      "text/latex": [
       "\\begin{tabular}{l}\n",
       "\t 2016-01-16T11:51:30+0000                                                                                                                                                                                                                                                                                                                                                                                                                                                                                                                                                                                                                                                                                                                                                                                                                                                                                                                                                                                                                                                                                                                                                                                                                                                                                                                                                                                                                                                                                                                                                                                                                                                                                                                                                                                                                                                                                                                                                                                                                                                                                                                                                                                                                                                                                                                                                                                                                                                                                                                                                                                                                                                                                                                                                                                                                                                                                                                                                                                                                                                                                                                                                                                                                                                                                                                                                                                                                                 \\\\\n",
       "\t 對不起，朱立倫讓各位失望了！我們敗選了，國民黨敗選了，我們努力不夠，我們辜負了選民的期望，我們辜負了對國家的責任!\n",
       "\n",
       "身為黨主席，身為黨的總統參選人，責無旁貸，要負起最大的責任，我即刻辭去黨主席的職務，徹底自我檢討，自我反省，但我不會放棄我對國民黨的信心，對國家對社會對選民的信心。\n",
       "\n",
       "恭賀蔡英文主席，恭賀民進黨贏得選舉。這是台灣人民的選擇，也是台灣人民對蔡主席、對民進黨的責任的託付，我深切的祝福蔡主席與民進黨，能在勝選之後，帶領中華民國，帶領台灣，走向更幸福，更美好的未來。\n",
       "\n",
       "更要恭賀所有選民，選民才是最大贏家，是選民讓我們朝野政黨，知道了民意的依歸，民意的動向。\n",
       "\n",
       "我們國民黨，必定會記取這次大選，我們所遭到的嚴重挫敗。除了深切的反躬自省，傾聽選票所透露出的民意訊息外，國民黨也必當扮演好，反對黨的角色，監督的力量。\n",
       "\n",
       "國民黨敗選了，但做為在野的反對黨，做為政治上的監督者，我們也必當在未來扮演好反對的聲音，監督的力量，但請大家放心，我們會做忠誠的反對黨，我們會做體察民意，反映民意的監督者。一切發乎善意，一切出自真誠的愛台灣之心！\n",
       "\n",
       "台灣，只有一個，我在選前這樣相信，我在選後依舊這樣相信。\n",
       "\n",
       "選舉的時候，政黨依據不同的理念，不同的價值，可以激烈競爭，但選後，只有一個執政黨，只有一個政府，我們要尊重選民的抉擇，我們要相信民主的機制，選後，台灣依舊只有一個，做為在野的反對黨，國民黨必須誠懇的反省，何以人民做了這樣的選擇 ! 何以我們執政了近八年，會再度成為在野黨？\n",
       "\n",
       "如果我們反省的方向不對，如果我們反省的深度不夠，那四年後，國民黨依舊沒有資格說 : 我們可以再起 ! 我們還有機會 ! \n",
       "\n",
       "我知道，此刻，所有支持我們的民眾，內心是悲痛的，情感是受創的，但我要告訴各位，我們沒有遲疑、悲觀的權利。從現在起，我們就要開始認真的思索：為什麼？怎麼做？往哪裡去？\n",
       "\n",
       "過去幾年，為什麼民意有了巨大的轉變？為什麼，國民黨對民意的體察，有那麼大的落差？我們的政策主張，我們的用人方式，我們與社會溝通連結的語言和姿態，是不是都出現了大問題？為什麼我們的反省檢討，不能徹底，不能落實？\n",
       "\n",
       "失去中央執政，再失去國會多數，這是國民黨史無前例的巨變。其實從前年底的九合一選舉，國民黨失去多數的地方執政，就已經顯露了我們所面臨的巨大危機。如果此時此刻，是質問我們該怎麼做的最好時機，那我必須說，從地方開始扎根，從地方基層開始徹底培養人才，透過一次次的選舉，讓我們的未來人才、未來領袖，從基層開始培養起，進入國會，進入政府，才是『浴火重生』的唯一出路！也是我們國民黨爭取民意認同的，從根做起的唯一機會！\n",
       "\n",
       "民進黨執政，我們誠懇祝福。不過，政黨政治，就是不同政策，不同理念的競爭。我們國民黨，對中華民國，對台灣的發展藍圖，確實有跟民進黨不一樣的區隔。\n",
       "\n",
       "雖然這次選舉我們輸了，然而，對國家未來發展的大方向，我們依舊有責任，對新政府，對執政黨表達我們的關切，以及我們的憂心。這是一個負責任的在野政黨，必須要做的。台灣往哪裡走？不止是一個政黨的事，而是二千三百萬台灣人共同的事！國民黨雖然輸了選舉，但不會輸掉我們對台灣的愛，對中華民國的愛！\n",
       "\n",
       "這是我可以對所有選民做出的承諾。\n",
       "\n",
       "我感恩最後關頭，仍對國民黨不棄不離的選民朋友，是你們支撐了我們奮戰的勇氣！對於始終沉默不語的選民朋友，是你們激勵了我們不斷的反省不斷的自我批判。對於沒有投票給我們的選民朋友，是你們激發了我們必須徹頭徹尾的檢討，是你們給了我們繼續改革，繼續求變，爭取四年後重新再起的動力！\n",
       "\n",
       "選舉結束了。今晚以後，勝選的要扛起責任，敗選的要衷心祝福，自我惕勵。\n",
       "台灣的民主，是華人社會的驕傲，我很珍惜這次的參選，我再次的感謝大家，共同完成一次台灣民主史上的壯舉。\n",
       "\n",
       "選舉有輸贏，台灣的未來，則不能輸，必須贏。\n",
       "\n",
       "國民黨要在谷底扎根，要能浴火重生，要在每一張選票的託付與指責中，重新改變我們的體質，這是我們必須要做的承諾，也是我們的責任。\n",
       "\n",
       "我們要在谷底仰望天空，思索未來，努力進前。祝福大家。\\\\\n",
       "\t 10150145806225128\\_10156542710795128                                                                                                                                                                                                                                                                                                                                                                                                                                                                                                                                                                                                                                                                                                                                                                                                                                                                                                                                                                                                                                                                                                                                                                                                                                                                                                                                                                                                                                                                                                                                                                                                                                                                                                                                                                                                                                                                                                                                                                                                                                                                                                                                                                                                                                                                                                                                                                                                                                                                                                                                                                                                                                                                                                                                                                                                                                                                                                                                                                                                                                                                                                                                                                                                                                                                                                                                                                                                                      \\\\\n",
       "\\end{tabular}\n"
      ],
      "text/markdown": [
       "\n",
       "| 2016-01-16T11:51:30+0000                                                                                                                                                                                                                                                                                                                                                                                                                                                                                                                                                                                                                                                                                                                                                                                                                                                                                                                                                                                                                                                                                                                                                                                                                                                                                                                                                                                                                                                                                                                                                                                                                                                                                                                                                                                                                                                                                                                                                                                                                                                                                                                                                                                                                                                                                                                                                                                                                                                                                                                                                                                                                                                                                                                                                                                                                                                                                                                                                                                                                                                                                                                                                                                                                                                                                                                                                                                                                                  | \n",
       "| 對不起，朱立倫讓各位失望了！我們敗選了，國民黨敗選了，我們努力不夠，我們辜負了選民的期望，我們辜負了對國家的責任!\n",
       "\n",
       "身為黨主席，身為黨的總統參選人，責無旁貸，要負起最大的責任，我即刻辭去黨主席的職務，徹底自我檢討，自我反省，但我不會放棄我對國民黨的信心，對國家對社會對選民的信心。\n",
       "\n",
       "恭賀蔡英文主席，恭賀民進黨贏得選舉。這是台灣人民的選擇，也是台灣人民對蔡主席、對民進黨的責任的託付，我深切的祝福蔡主席與民進黨，能在勝選之後，帶領中華民國，帶領台灣，走向更幸福，更美好的未來。\n",
       "\n",
       "更要恭賀所有選民，選民才是最大贏家，是選民讓我們朝野政黨，知道了民意的依歸，民意的動向。\n",
       "\n",
       "我們國民黨，必定會記取這次大選，我們所遭到的嚴重挫敗。除了深切的反躬自省，傾聽選票所透露出的民意訊息外，國民黨也必當扮演好，反對黨的角色，監督的力量。\n",
       "\n",
       "國民黨敗選了，但做為在野的反對黨，做為政治上的監督者，我們也必當在未來扮演好反對的聲音，監督的力量，但請大家放心，我們會做忠誠的反對黨，我們會做體察民意，反映民意的監督者。一切發乎善意，一切出自真誠的愛台灣之心！\n",
       "\n",
       "台灣，只有一個，我在選前這樣相信，我在選後依舊這樣相信。\n",
       "\n",
       "選舉的時候，政黨依據不同的理念，不同的價值，可以激烈競爭，但選後，只有一個執政黨，只有一個政府，我們要尊重選民的抉擇，我們要相信民主的機制，選後，台灣依舊只有一個，做為在野的反對黨，國民黨必須誠懇的反省，何以人民做了這樣的選擇 ! 何以我們執政了近八年，會再度成為在野黨？\n",
       "\n",
       "如果我們反省的方向不對，如果我們反省的深度不夠，那四年後，國民黨依舊沒有資格說 : 我們可以再起 ! 我們還有機會 ! \n",
       "\n",
       "我知道，此刻，所有支持我們的民眾，內心是悲痛的，情感是受創的，但我要告訴各位，我們沒有遲疑、悲觀的權利。從現在起，我們就要開始認真的思索：為什麼？怎麼做？往哪裡去？\n",
       "\n",
       "過去幾年，為什麼民意有了巨大的轉變？為什麼，國民黨對民意的體察，有那麼大的落差？我們的政策主張，我們的用人方式，我們與社會溝通連結的語言和姿態，是不是都出現了大問題？為什麼我們的反省檢討，不能徹底，不能落實？\n",
       "\n",
       "失去中央執政，再失去國會多數，這是國民黨史無前例的巨變。其實從前年底的九合一選舉，國民黨失去多數的地方執政，就已經顯露了我們所面臨的巨大危機。如果此時此刻，是質問我們該怎麼做的最好時機，那我必須說，從地方開始扎根，從地方基層開始徹底培養人才，透過一次次的選舉，讓我們的未來人才、未來領袖，從基層開始培養起，進入國會，進入政府，才是『浴火重生』的唯一出路！也是我們國民黨爭取民意認同的，從根做起的唯一機會！\n",
       "\n",
       "民進黨執政，我們誠懇祝福。不過，政黨政治，就是不同政策，不同理念的競爭。我們國民黨，對中華民國，對台灣的發展藍圖，確實有跟民進黨不一樣的區隔。\n",
       "\n",
       "雖然這次選舉我們輸了，然而，對國家未來發展的大方向，我們依舊有責任，對新政府，對執政黨表達我們的關切，以及我們的憂心。這是一個負責任的在野政黨，必須要做的。台灣往哪裡走？不止是一個政黨的事，而是二千三百萬台灣人共同的事！國民黨雖然輸了選舉，但不會輸掉我們對台灣的愛，對中華民國的愛！\n",
       "\n",
       "這是我可以對所有選民做出的承諾。\n",
       "\n",
       "我感恩最後關頭，仍對國民黨不棄不離的選民朋友，是你們支撐了我們奮戰的勇氣！對於始終沉默不語的選民朋友，是你們激勵了我們不斷的反省不斷的自我批判。對於沒有投票給我們的選民朋友，是你們激發了我們必須徹頭徹尾的檢討，是你們給了我們繼續改革，繼續求變，爭取四年後重新再起的動力！\n",
       "\n",
       "選舉結束了。今晚以後，勝選的要扛起責任，敗選的要衷心祝福，自我惕勵。\n",
       "台灣的民主，是華人社會的驕傲，我很珍惜這次的參選，我再次的感謝大家，共同完成一次台灣民主史上的壯舉。\n",
       "\n",
       "選舉有輸贏，台灣的未來，則不能輸，必須贏。\n",
       "\n",
       "國民黨要在谷底扎根，要能浴火重生，要在每一張選票的託付與指責中，重新改變我們的體質，這是我們必須要做的承諾，也是我們的責任。\n",
       "\n",
       "我們要在谷底仰望天空，思索未來，努力進前。祝福大家。 | \n",
       "| 10150145806225128_10156542710795128                                                                                                                                                                                                                                                                                                                                                                                                                                                                                                                                                                                                                                                                                                                                                                                                                                                                                                                                                                                                                                                                                                                                                                                                                                                                                                                                                                                                                                                                                                                                                                                                                                                                                                                                                                                                                                                                                                                                                                                                                                                                                                                                                                                                                                                                                                                                                                                                                                                                                                                                                                                                                                                                                                                                                                                                                                                                                                                                                                                                                                                                                                                                                                                                                                                                                                                                                                                                                       | \n",
       "\n",
       "\n"
      ],
      "text/plain": [
       "     [,1]                                                                                                                                                                                                                                                                                                                                                                                                                                                                                                                                                                                                                                                                                                                                                                                                                                                                                                                                                                                                                                                                                                                                                                                                                                                                                                                                                                                                                                                                                                                                                                                                                                                                                                                                                                                                                                                                                                                                                                                                                                                                                                                                                                                                                                                                                                                                                                                                                                                                                                                                                                                                                                                                                                                                                                                                                                                                                                                                                                                                                                                                                                                                                                                                                                                                                                                                                                                                                                                     \n",
       "[1,] 2016-01-16T11:51:30+0000                                                                                                                                                                                                                                                                                                                                                                                                                                                                                                                                                                                                                                                                                                                                                                                                                                                                                                                                                                                                                                                                                                                                                                                                                                                                                                                                                                                                                                                                                                                                                                                                                                                                                                                                                                                                                                                                                                                                                                                                                                                                                                                                                                                                                                                                                                                                                                                                                                                                                                                                                                                                                                                                                                                                                                                                                                                                                                                                                                                                                                                                                                                                                                                                                                                                                                                                                                                                                                 \n",
       "[2,] 對不起，朱立倫讓各位失望了！我們敗選了，國民黨敗選了，我們努力不夠，我們辜負了選民的期望，我們辜負了對國家的責任!\\n\\n身為黨主席，身為黨的總統參選人，責無旁貸，要負起最大的責任，我即刻辭去黨主席的職務，徹底自我檢討，自我反省，但我不會放棄我對國民黨的信心，對國家對社會對選民的信心。\\n\\n恭賀蔡英文主席，恭賀民進黨贏得選舉。這是台灣人民的選擇，也是台灣人民對蔡主席、對民進黨的責任的託付，我深切的祝福蔡主席與民進黨，能在勝選之後，帶領中華民國，帶領台灣，走向更幸福，更美好的未來。\\n\\n更要恭賀所有選民，選民才是最大贏家，是選民讓我們朝野政黨，知道了民意的依歸，民意的動向。\\n\\n我們國民黨，必定會記取這次大選，我們所遭到的嚴重挫敗。除了深切的反躬自省，傾聽選票所透露出的民意訊息外，國民黨也必當扮演好，反對黨的角色，監督的力量。\\n\\n國民黨敗選了，但做為在野的反對黨，做為政治上的監督者，我們也必當在未來扮演好反對的聲音，監督的力量，但請大家放心，我們會做忠誠的反對黨，我們會做體察民意，反映民意的監督者。一切發乎善意，一切出自真誠的愛台灣之心！\\n\\n台灣，只有一個，我在選前這樣相信，我在選後依舊這樣相信。\\n\\n選舉的時候，政黨依據不同的理念，不同的價值，可以激烈競爭，但選後，只有一個執政黨，只有一個政府，我們要尊重選民的抉擇，我們要相信民主的機制，選後，台灣依舊只有一個，做為在野的反對黨，國民黨必須誠懇的反省，何以人民做了這樣的選擇 ! 何以我們執政了近八年，會再度成為在野黨？\\n\\n如果我們反省的方向不對，如果我們反省的深度不夠，那四年後，國民黨依舊沒有資格說 : 我們可以再起 ! 我們還有機會 ! \\n\\n我知道，此刻，所有支持我們的民眾，內心是悲痛的，情感是受創的，但我要告訴各位，我們沒有遲疑、悲觀的權利。從現在起，我們就要開始認真的思索：為什麼？怎麼做？往哪裡去？\\n\\n過去幾年，為什麼民意有了巨大的轉變？為什麼，國民黨對民意的體察，有那麼大的落差？我們的政策主張，我們的用人方式，我們與社會溝通連結的語言和姿態，是不是都出現了大問題？為什麼我們的反省檢討，不能徹底，不能落實？\\n\\n失去中央執政，再失去國會多數，這是國民黨史無前例的巨變。其實從前年底的九合一選舉，國民黨失去多數的地方執政，就已經顯露了我們所面臨的巨大危機。如果此時此刻，是質問我們該怎麼做的最好時機，那我必須說，從地方開始扎根，從地方基層開始徹底培養人才，透過一次次的選舉，讓我們的未來人才、未來領袖，從基層開始培養起，進入國會，進入政府，才是『浴火重生』的唯一出路！也是我們國民黨爭取民意認同的，從根做起的唯一機會！\\n\\n民進黨執政，我們誠懇祝福。不過，政黨政治，就是不同政策，不同理念的競爭。我們國民黨，對中華民國，對台灣的發展藍圖，確實有跟民進黨不一樣的區隔。\\n\\n雖然這次選舉我們輸了，然而，對國家未來發展的大方向，我們依舊有責任，對新政府，對執政黨表達我們的關切，以及我們的憂心。這是一個負責任的在野政黨，必須要做的。台灣往哪裡走？不止是一個政黨的事，而是二千三百萬台灣人共同的事！國民黨雖然輸了選舉，但不會輸掉我們對台灣的愛，對中華民國的愛！\\n\\n這是我可以對所有選民做出的承諾。\\n\\n我感恩最後關頭，仍對國民黨不棄不離的選民朋友，是你們支撐了我們奮戰的勇氣！對於始終沉默不語的選民朋友，是你們激勵了我們不斷的反省不斷的自我批判。對於沒有投票給我們的選民朋友，是你們激發了我們必須徹頭徹尾的檢討，是你們給了我們繼續改革，繼續求變，爭取四年後重新再起的動力！\\n\\n選舉結束了。今晚以後，勝選的要扛起責任，敗選的要衷心祝福，自我惕勵。\\n台灣的民主，是華人社會的驕傲，我很珍惜這次的參選，我再次的感謝大家，共同完成一次台灣民主史上的壯舉。\\n\\n選舉有輸贏，台灣的未來，則不能輸，必須贏。\\n\\n國民黨要在谷底扎根，要能浴火重生，要在每一張選票的託付與指責中，重新改變我們的體質，這是我們必須要做的承諾，也是我們的責任。\\n\\n我們要在谷底仰望天空，思索未來，努力進前。祝福大家。\n",
       "[3,] 10150145806225128_10156542710795128                                                                                                                                                                                                                                                                                                                                                                                                                                                                                                                                                                                                                                                                                                                                                                                                                                                                                                                                                                                                                                                                                                                                                                                                                                                                                                                                                                                                                                                                                                                                                                                                                                                                                                                                                                                                                                                                                                                                                                                                                                                                                                                                                                                                                                                                                                                                                                                                                                                                                                                                                                                                                                                                                                                                                                                                                                                                                                                                                                                                                                                                                                                                                                                                                                                                                                                                                                                                                      "
      ]
     },
     "metadata": {},
     "output_type": "display_data"
    }
   ],
   "source": [
    "groups"
   ]
  },
  {
   "cell_type": "code",
   "execution_count": 415,
   "metadata": {},
   "outputs": [],
   "source": [
    "count <- 1\n",
    "filename <- paste0(\"data/\", count, \".txt\")\n",
    "write.table(groups, filename)"
   ]
  },
  {
   "cell_type": "code",
   "execution_count": 416,
   "metadata": {},
   "outputs": [],
   "source": [
    "next_page = posts$paging$cursors$after"
   ]
  },
  {
   "cell_type": "code",
   "execution_count": 417,
   "metadata": {},
   "outputs": [
    {
     "data": {
      "text/html": [
       "'Q2c4U1pXNTBYM0YxWlhKNVgzTjBiM0o1WDJsa0R5VXhNREUxTURFME5UZA3dOakl5TlRFeU9Eb3pORFUyTmpZAek16ZAzNNRGsxTnpVNU5EazFEd3hoY0dsZAmMzUnZAjbmxmYVdRUEl6RXdNVFV3TVRRMU9EQTJNakkxTVRJNFh6RXdNVFUyTlRReU56RXdOemsxTVRJNER3UjBhVzFsQmxhYUxzSUIZD'"
      ],
      "text/latex": [
       "'Q2c4U1pXNTBYM0YxWlhKNVgzTjBiM0o1WDJsa0R5VXhNREUxTURFME5UZA3dOakl5TlRFeU9Eb3pORFUyTmpZAek16ZAzNNRGsxTnpVNU5EazFEd3hoY0dsZAmMzUnZAjbmxmYVdRUEl6RXdNVFV3TVRRMU9EQTJNakkxTVRJNFh6RXdNVFUyTlRReU56RXdOemsxTVRJNER3UjBhVzFsQmxhYUxzSUIZD'"
      ],
      "text/markdown": [
       "'Q2c4U1pXNTBYM0YxWlhKNVgzTjBiM0o1WDJsa0R5VXhNREUxTURFME5UZA3dOakl5TlRFeU9Eb3pORFUyTmpZAek16ZAzNNRGsxTnpVNU5EazFEd3hoY0dsZAmMzUnZAjbmxmYVdRUEl6RXdNVFV3TVRRMU9EQTJNakkxTVRJNFh6RXdNVFUyTlRReU56RXdOemsxTVRJNER3UjBhVzFsQmxhYUxzSUIZD'"
      ],
      "text/plain": [
       "[1] \"Q2c4U1pXNTBYM0YxWlhKNVgzTjBiM0o1WDJsa0R5VXhNREUxTURFME5UZA3dOakl5TlRFeU9Eb3pORFUyTmpZAek16ZAzNNRGsxTnpVNU5EazFEd3hoY0dsZAmMzUnZAjbmxmYVdRUEl6RXdNVFV3TVRRMU9EQTJNakkxTVRJNFh6RXdNVFUyTlRReU56RXdOemsxTVRJNER3UjBhVzFsQmxhYUxzSUIZD\""
      ]
     },
     "metadata": {},
     "output_type": "display_data"
    }
   ],
   "source": [
    "next_page"
   ]
  },
  {
   "cell_type": "code",
   "execution_count": 418,
   "metadata": {},
   "outputs": [],
   "source": [
    "next_flg <- posts$paging$`next`"
   ]
  },
  {
   "cell_type": "code",
   "execution_count": 419,
   "metadata": {},
   "outputs": [
    {
     "data": {
      "text/html": [
       "'https://graph.facebook.com/v2.12/10150145806225128/posts?access_token=EAACEdEose0cBAP29G74zpR497rG3dxRqZCMvWMh9R4QKgW3s0M2MjneBpHu2ibg5WmhWEZA90qTJNirjZBZBpus9NP3F0CUfO4VSinJJkBjqCiuM56DQVeTxezlRlMeF4fBbhAE2zMOrua06qJshw6UfiB78yVJZCAY8mXPNftrJz6FVYlRyKdHhMu92SJ25T7yZAIMcYZCTwZDZD&amp;since=2015-11-01&amp;until=2016-1-17&amp;limit=1&amp;after=Q2c4U1pXNTBYM0YxWlhKNVgzTjBiM0o1WDJsa0R5VXhNREUxTURFME5UZA3dOakl5TlRFeU9Eb3pORFUyTmpZAek16ZAzNNRGsxTnpVNU5EazFEd3hoY0dsZAmMzUnZAjbmxmYVdRUEl6RXdNVFV3TVRRMU9EQTJNakkxTVRJNFh6RXdNVFUyTlRReU56RXdOemsxTVRJNER3UjBhVzFsQmxhYUxzSUIZD'"
      ],
      "text/latex": [
       "'https://graph.facebook.com/v2.12/10150145806225128/posts?access\\_token=EAACEdEose0cBAP29G74zpR497rG3dxRqZCMvWMh9R4QKgW3s0M2MjneBpHu2ibg5WmhWEZA90qTJNirjZBZBpus9NP3F0CUfO4VSinJJkBjqCiuM56DQVeTxezlRlMeF4fBbhAE2zMOrua06qJshw6UfiB78yVJZCAY8mXPNftrJz6FVYlRyKdHhMu92SJ25T7yZAIMcYZCTwZDZD\\&since=2015-11-01\\&until=2016-1-17\\&limit=1\\&after=Q2c4U1pXNTBYM0YxWlhKNVgzTjBiM0o1WDJsa0R5VXhNREUxTURFME5UZA3dOakl5TlRFeU9Eb3pORFUyTmpZAek16ZAzNNRGsxTnpVNU5EazFEd3hoY0dsZAmMzUnZAjbmxmYVdRUEl6RXdNVFV3TVRRMU9EQTJNakkxTVRJNFh6RXdNVFUyTlRReU56RXdOemsxTVRJNER3UjBhVzFsQmxhYUxzSUIZD'"
      ],
      "text/markdown": [
       "'https://graph.facebook.com/v2.12/10150145806225128/posts?access_token=EAACEdEose0cBAP29G74zpR497rG3dxRqZCMvWMh9R4QKgW3s0M2MjneBpHu2ibg5WmhWEZA90qTJNirjZBZBpus9NP3F0CUfO4VSinJJkBjqCiuM56DQVeTxezlRlMeF4fBbhAE2zMOrua06qJshw6UfiB78yVJZCAY8mXPNftrJz6FVYlRyKdHhMu92SJ25T7yZAIMcYZCTwZDZD&amp;since=2015-11-01&amp;until=2016-1-17&amp;limit=1&amp;after=Q2c4U1pXNTBYM0YxWlhKNVgzTjBiM0o1WDJsa0R5VXhNREUxTURFME5UZA3dOakl5TlRFeU9Eb3pORFUyTmpZAek16ZAzNNRGsxTnpVNU5EazFEd3hoY0dsZAmMzUnZAjbmxmYVdRUEl6RXdNVFV3TVRRMU9EQTJNakkxTVRJNFh6RXdNVFUyTlRReU56RXdOemsxTVRJNER3UjBhVzFsQmxhYUxzSUIZD'"
      ],
      "text/plain": [
       "[1] \"https://graph.facebook.com/v2.12/10150145806225128/posts?access_token=EAACEdEose0cBAP29G74zpR497rG3dxRqZCMvWMh9R4QKgW3s0M2MjneBpHu2ibg5WmhWEZA90qTJNirjZBZBpus9NP3F0CUfO4VSinJJkBjqCiuM56DQVeTxezlRlMeF4fBbhAE2zMOrua06qJshw6UfiB78yVJZCAY8mXPNftrJz6FVYlRyKdHhMu92SJ25T7yZAIMcYZCTwZDZD&since=2015-11-01&until=2016-1-17&limit=1&after=Q2c4U1pXNTBYM0YxWlhKNVgzTjBiM0o1WDJsa0R5VXhNREUxTURFME5UZA3dOakl5TlRFeU9Eb3pORFUyTmpZAek16ZAzNNRGsxTnpVNU5EazFEd3hoY0dsZAmMzUnZAjbmxmYVdRUEl6RXdNVFV3TVRRMU9EQTJNakkxTVRJNFh6RXdNVFUyTlRReU56RXdOemsxTVRJNER3UjBhVzFsQmxhYUxzSUIZD\""
      ]
     },
     "metadata": {},
     "output_type": "display_data"
    }
   ],
   "source": [
    "next_flg"
   ]
  },
  {
   "cell_type": "code",
   "execution_count": 420,
   "metadata": {},
   "outputs": [
    {
     "ename": "ERROR",
     "evalue": "Error in while (next_flg != \"NULL\") {: 引數長度為零\n",
     "output_type": "error",
     "traceback": [
      "Error in while (next_flg != \"NULL\") {: 引數長度為零\nTraceback:\n"
     ]
    }
   ],
   "source": [
    "while(next_flg != 'NULL'){\n",
    "#     token <<- \"EAACEdEose0cBAP29G74zpR497rG3dxRqZCMvWMh9R4QKgW3s0M2MjneBpHu2ibg5WmhWEZA90qTJNirjZBZBpus9NP3F0CUfO4VSinJJkBjqCiuM56DQVeTxezlRlMeF4fBbhAE2zMOrua06qJshw6UfiB78yVJZCAY8mXPNftrJz6FVYlRyKdHhMu92SJ25T7yZAIMcYZCTwZDZD\"\n",
    "    url <- paste0(\"https://graph.facebook.com/v2.12/10150145806225128/posts?limit=1&until=2016-1-17&since=2015-11-01&after=\", next_page, \"&access_token=\", token)\n",
    "    # Get the response of the url (ex. posts)\n",
    "    res <- httr::GET(url)\n",
    "    # Get the content of the url\n",
    "    posts <- httr::content(res)\n",
    "    count <- count + 1\n",
    "    next_page_data <- matrix(unlist(posts$data))\n",
    "    next_page <- posts$paging$cursors$after\n",
    "    next_flg <- posts$paging$`next`\n",
    "    filename <- paste0(\"data/\", count, \".txt\")\n",
    "    write.table(next_page_data, filename)\n",
    "}"
   ]
  },
  {
   "cell_type": "code",
   "execution_count": 394,
   "metadata": {},
   "outputs": [],
   "source": [
    "library(NLP)\n",
    "library(tm)\n",
    "library(jiebaRD)\n",
    "library(jiebaR)\n",
    "library(RColorBrewer)\n",
    "library(wordcloud)"
   ]
  },
  {
   "cell_type": "code",
   "execution_count": 395,
   "metadata": {},
   "outputs": [],
   "source": [
    "par(family='STKaiti')#讓文字顯示成中文\n",
    "filenames <- list.files(getwd(), pattern=\"*.txt\")\n",
    "files <- lapply(filenames, readLines)\n",
    "docs <- Corpus(VectorSource(files))"
   ]
  },
  {
   "cell_type": "code",
   "execution_count": 397,
   "metadata": {},
   "outputs": [
    {
     "ename": "ERROR",
     "evalue": "Error in parse(text = x, srcfile = src): <text>:4:0: unexpected end of input\n2:   return (gsub(pattern, \" \", x))\n3: }\n  ^\n",
     "output_type": "error",
     "traceback": [
      "Error in parse(text = x, srcfile = src): <text>:4:0: unexpected end of input\n2:   return (gsub(pattern, \" \", x))\n3: }\n  ^\nTraceback:\n"
     ]
    }
   ],
   "source": [
    "toSpace <- content_transformer(function(x, pattern) {\n",
    "  return (gsub(pattern, \" \", x))\n",
    "}"
   ]
  },
  {
   "cell_type": "code",
   "execution_count": null,
   "metadata": {},
   "outputs": [],
   "source": []
  }
 ],
 "metadata": {
  "kernelspec": {
   "display_name": "R",
   "language": "R",
   "name": "ir"
  },
  "language_info": {
   "codemirror_mode": "r",
   "file_extension": ".r",
   "mimetype": "text/x-r-source",
   "name": "R",
   "pygments_lexer": "r",
   "version": "3.4.3"
  }
 },
 "nbformat": 4,
 "nbformat_minor": 2
}
