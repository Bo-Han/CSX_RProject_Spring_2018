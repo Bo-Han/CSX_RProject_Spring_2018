{
 "cells": [
  {
   "cell_type": "markdown",
   "metadata": {},
   "source": [
    "# Facebook API practice"
   ]
  },
  {
   "cell_type": "code",
   "execution_count": 1,
   "metadata": {},
   "outputs": [
    {
     "name": "stderr",
     "output_type": "stream",
     "text": [
      "\n",
      "Attaching package: ‘Rfacebook’\n",
      "\n",
      "The following object is masked from ‘package:methods’:\n",
      "\n",
      "    getGroup\n",
      "\n"
     ]
    }
   ],
   "source": [
    "#先把需要的package執行看存不存在\n",
    "library(httr)\n",
    "library(rjson)\n",
    "library(httpuv)\n",
    "library(Rfacebook)"
   ]
  },
  {
   "cell_type": "code",
   "execution_count": 7,
   "metadata": {},
   "outputs": [
    {
     "name": "stderr",
     "output_type": "stream",
     "text": [
      "\n",
      "Attaching package: ‘nlr’\n",
      "\n",
      "The following object is masked from ‘package:base’:\n",
      "\n",
      "    transform\n",
      "\n"
     ]
    }
   ],
   "source": [
    "library(plyr)\n",
    "library(nlr)"
   ]
  },
  {
   "cell_type": "code",
   "execution_count": 106,
   "metadata": {},
   "outputs": [],
   "source": [
    "token  = \"EAACEdEose0cBAAk4jXUN3ihZBF3Lk46be2EskuNMDAZAQJ3Gj7ksVeMya2b5B9XWQjWwDlMUZArZBLgg7ux2JIYCL32ZAAnePtZAyLGww41pVeqBi6lbyOv3jxpQ4To4qkSV4h4PNDmG601GMYVIrhpGSow7vAJreBwikM2REGLw1pn2ulx0EbsPgAjuDdmZCszdNORiKHwZBwZDZD\"\n",
    "prefex_post = \"https://graph.facebook.com/v2.12/me/?fields=posts&access_token=\"\n",
    "url    = paste0(prefex_post, token)\n",
    "# Get the response of the url (ex. posts)\n",
    "res    = httr::GET(url)\n",
    "# Get the content of the url\n",
    "posts  = content(res)"
   ]
  },
  {
   "cell_type": "code",
   "execution_count": 101,
   "metadata": {},
   "outputs": [
    {
     "data": {
      "text/plain": [
       "Response [https://graph.facebook.com/v2.12/me/?fields=posts&access_token=EAACEdEose0cBAAk4jXUN3ihZBF3Lk46be2EskuNMDAZAQJ3Gj7ksVeMya2b5B9XWQjWwDlMUZArZBLgg7ux2JIYCL32ZAAnePtZAyLGww41pVeqBi6lbyOv3jxpQ4To4qkSV4h4PNDmG601GMYVIrhpGSow7vAJreBwikM2REGLw1pn2ulx0EbsPgAjuDdmZCszdNORiKHwZBwZDZD]\n",
       "  Date: 2018-03-22 03:10\n",
       "  Status: 200\n",
       "  Content-Type: application/json; charset=UTF-8\n",
       "  Size: 6.02 kB\n"
      ]
     },
     "metadata": {},
     "output_type": "display_data"
    }
   ],
   "source": [
    "res"
   ]
  },
  {
   "cell_type": "markdown",
   "metadata": {},
   "source": [
    "### Get the History Post"
   ]
  },
  {
   "cell_type": "code",
   "execution_count": 102,
   "metadata": {},
   "outputs": [
    {
     "name": "stdout",
     "output_type": "stream",
     "text": [
      "[1] \"太久沒換惹\\U0001f602\\n一張去年聖誕節的燦笑\\U0001f602\\U0001f602\"\n",
      "[1] \"#電機之夜 #大一舞 #hiphop #帥一波\"\n",
      "[1] \"第二年的電夜 林承德我會幫你好好上課\"\n",
      "NULL\n",
      "NULL\n",
      "[1] \"翻翻手機照片開始懷疑我到底是不是建中的ＸＤ\\n建中生是多麼不喜歡穿制服\\n好不容易找到的一張制服照片ＸＤ\"\n",
      "[1] \"笑爛\"\n",
      "[1] \"#小福廣場\\n#10月16到10月20號\\n#2017台大電機週frEEstyle\"\n",
      "NULL\n",
      "[1] \"超級罩的永松和承德\\nJack Chuang不用修簡報課就超電\\U0001f64f\\U0001f64f\\n之後黑客松再衝一波\\U0001f4aa\\U0001f3fc\\n\\n#2017wcit #smartbell\"\n",
      "[1] \"歡迎大家來探班\\n聽說入場費20000元\\n值班囉\\n#2017WCIT\"\n",
      "[1] \"https://www.youtube.com/watch?v=55aEVvITNJ0\"\n",
      "NULL\n",
      "[1] \"一年過了\\n也許這一年很多事變了\\n但聚在一起那種熟悉懷念的感覺依舊\\n會讓人想起高中三年的種種\\n各種肆無忌憚因為預繳錢的亂吃\\n各種秀下限沒有極限的ㄎㄧㄤˉ\\n各種感情上的審問大公開、逼供桌\\n各種把妹小技巧的共筆\\n各種南部人北部人的互嘴、種田騎山豬\\n各種深夜吵雜的談心佐酒\\n\\n開始想念起指考前那段打球玩肚子衝刺的日子\\n開始想念起高中下課打各種小遊戲的耍廢時間\\n開始想念起穿著那身制服的感覺\\n\\n第一年 沒變的還是這些熟悉溫暖的幹話\\n好像又回到了326\\n歐不已經是426了\\n#第一年 #326 #高中同學會\"\n",
      "NULL\n",
      "NULL\n"
     ]
    }
   ],
   "source": [
    "for( x in 1:16){\n",
    "    print(posts$posts$data[[x]]$message)\n",
    "}"
   ]
  },
  {
   "cell_type": "markdown",
   "metadata": {},
   "source": [
    "## Get my name"
   ]
  },
  {
   "cell_type": "code",
   "execution_count": 119,
   "metadata": {},
   "outputs": [
    {
     "data": {
      "text/html": [
       "'Howard Chao'"
      ],
      "text/latex": [
       "'Howard Chao'"
      ],
      "text/markdown": [
       "'Howard Chao'"
      ],
      "text/plain": [
       "[1] \"Howard Chao\""
      ]
     },
     "metadata": {},
     "output_type": "display_data"
    }
   ],
   "source": [
    "me <- getUsers(\"me\", token, private_info = TRUE)\n",
    "me$name"
   ]
  },
  {
   "cell_type": "markdown",
   "metadata": {},
   "source": [
    "## Get the page I liked"
   ]
  },
  {
   "cell_type": "code",
   "execution_count": 263,
   "metadata": {},
   "outputs": [],
   "source": [
    "prefex_me = \"https://graph.facebook.com/v2.12/dXNlcl9jb250ZAXh0OgGQNe5zws7pL4orKZAUj0IozaP2PZBPencXCNLENCnWXnhavvE0BZBI7yRH8keorFJRghjVfeePOzljewhIqICEeD1byr9snTuZAmGuqtj93DzuJ9AZD/mutual_likes?pretty=0&limit=25&after=MTM5MDU4NTE5NDU3NDAxNwZDZD&access_token=\"\n",
    "url_me    = paste0(prefex_me, token)\n",
    "# Get the response of the url (ex. posts)\n",
    "res_me    = httr::GET(url_me)\n",
    "# Get the content of the url\n",
    "posts_me  = content(res_me)"
   ]
  },
  {
   "cell_type": "code",
   "execution_count": 270,
   "metadata": {},
   "outputs": [],
   "source": [
    "data_list <- vector()"
   ]
  },
  {
   "cell_type": "code",
   "execution_count": 271,
   "metadata": {},
   "outputs": [],
   "source": [
    "for(x in 1:25){\n",
    "    data_list <- c(data_list, posts_me$data[[x]]$name)\n",
    "}\n",
    "a <- data.frame(data_list)\n",
    "colnames(a) <- c(\"Liked paged\")\n",
    "url_next = posts_me$paging$`next`\n",
    "res_next = httr::GET(url_next)\n",
    "posts_me = content(res_next)"
   ]
  },
  {
   "cell_type": "code",
   "execution_count": 272,
   "metadata": {},
   "outputs": [
    {
     "data": {
      "text/html": [
       "<table>\n",
       "<thead><tr><th scope=col>Liked paged</th></tr></thead>\n",
       "<tbody>\n",
       "\t<tr><td>SOGA Studio                                           </td></tr>\n",
       "\t<tr><td>從零開始學 React                                      </td></tr>\n",
       "\t<tr><td>Android Studio                                        </td></tr>\n",
       "\t<tr><td>Android Developers                                    </td></tr>\n",
       "\t<tr><td>Java Developer Community                              </td></tr>\n",
       "\t<tr><td>Android Weekly                                        </td></tr>\n",
       "\t<tr><td>Coding Alpaca 寫扣の羊駝                              </td></tr>\n",
       "\t<tr><td>HappyCoder 自學程式好好玩                             </td></tr>\n",
       "\t<tr><td>李錫錕 Power錕                                        </td></tr>\n",
       "\t<tr><td>簡報．簡單報 EasyPresentation Studio                  </td></tr>\n",
       "\t<tr><td>TGDF台北遊戲開發者論壇（Taipei Game Developers Forum）</td></tr>\n",
       "\t<tr><td>臺大證券研究社 NTU Securities Research Society        </td></tr>\n",
       "\t<tr><td>KKTIX                                                 </td></tr>\n",
       "\t<tr><td>Michael's 星級料理廚房                                </td></tr>\n",
       "\t<tr><td>曹神降臨                                              </td></tr>\n",
       "\t<tr><td>NASA 黑客松-台灣                                      </td></tr>\n",
       "\t<tr><td>美麗日報 Beauties of Life                             </td></tr>\n",
       "\t<tr><td>阿中                                                  </td></tr>\n",
       "\t<tr><td>區塊客 blockcast.it                                   </td></tr>\n",
       "\t<tr><td>LGBTQ@Facebook                                        </td></tr>\n",
       "\t<tr><td>2017 法律之夜 忙著生忙著死                            </td></tr>\n",
       "\t<tr><td>臺大黑客松 - HackNTU                                  </td></tr>\n",
       "\t<tr><td>Colaz酷樂網 at 椰林大道                               </td></tr>\n",
       "\t<tr><td>桃子汽水Peach                                         </td></tr>\n",
       "\t<tr><td>熊仔                                                  </td></tr>\n",
       "</tbody>\n",
       "</table>\n"
      ],
      "text/latex": [
       "\\begin{tabular}{r|l}\n",
       " Liked paged\\\\\n",
       "\\hline\n",
       "\t SOGA Studio                                           \\\\\n",
       "\t 從零開始學 React                                      \\\\\n",
       "\t Android Studio                                        \\\\\n",
       "\t Android Developers                                    \\\\\n",
       "\t Java Developer Community                              \\\\\n",
       "\t Android Weekly                                        \\\\\n",
       "\t Coding Alpaca 寫扣の羊駝                              \\\\\n",
       "\t HappyCoder 自學程式好好玩                             \\\\\n",
       "\t 李錫錕 Power錕                                        \\\\\n",
       "\t 簡報．簡單報 EasyPresentation Studio                  \\\\\n",
       "\t TGDF台北遊戲開發者論壇（Taipei Game Developers Forum）\\\\\n",
       "\t 臺大證券研究社 NTU Securities Research Society        \\\\\n",
       "\t KKTIX                                                 \\\\\n",
       "\t Michael's 星級料理廚房                                \\\\\n",
       "\t 曹神降臨                                              \\\\\n",
       "\t NASA 黑客松-台灣                                      \\\\\n",
       "\t 美麗日報 Beauties of Life                             \\\\\n",
       "\t 阿中                                                  \\\\\n",
       "\t 區塊客 blockcast.it                                   \\\\\n",
       "\t LGBTQ@Facebook                                        \\\\\n",
       "\t 2017 法律之夜 忙著生忙著死                            \\\\\n",
       "\t 臺大黑客松 - HackNTU                                  \\\\\n",
       "\t Colaz酷樂網 at 椰林大道                               \\\\\n",
       "\t 桃子汽水Peach                                         \\\\\n",
       "\t 熊仔                                                  \\\\\n",
       "\\end{tabular}\n"
      ],
      "text/markdown": [
       "\n",
       "Liked paged | \n",
       "|---|---|---|---|---|---|---|---|---|---|---|---|---|---|---|---|---|---|---|---|---|---|---|---|---|\n",
       "| SOGA Studio                                            | \n",
       "| 從零開始學 React                                       | \n",
       "| Android Studio                                         | \n",
       "| Android Developers                                     | \n",
       "| Java Developer Community                               | \n",
       "| Android Weekly                                         | \n",
       "| Coding Alpaca 寫扣の羊駝                               | \n",
       "| HappyCoder 自學程式好好玩                              | \n",
       "| 李錫錕 Power錕                                         | \n",
       "| 簡報．簡單報 EasyPresentation Studio                   | \n",
       "| TGDF台北遊戲開發者論壇（Taipei Game Developers Forum） | \n",
       "| 臺大證券研究社 NTU Securities Research Society         | \n",
       "| KKTIX                                                  | \n",
       "| Michael's 星級料理廚房                                 | \n",
       "| 曹神降臨                                               | \n",
       "| NASA 黑客松-台灣                                       | \n",
       "| 美麗日報 Beauties of Life                              | \n",
       "| 阿中                                                   | \n",
       "| 區塊客 blockcast.it                                    | \n",
       "| LGBTQ@Facebook                                         | \n",
       "| 2017 法律之夜 忙著生忙著死                             | \n",
       "| 臺大黑客松 - HackNTU                                   | \n",
       "| Colaz酷樂網 at 椰林大道                                | \n",
       "| 桃子汽水Peach                                          | \n",
       "| 熊仔                                                   | \n",
       "\n",
       "\n"
      ],
      "text/plain": [
       "   Liked paged                                           \n",
       "1  SOGA Studio                                           \n",
       "2  從零開始學 React                                      \n",
       "3  Android Studio                                        \n",
       "4  Android Developers                                    \n",
       "5  Java Developer Community                              \n",
       "6  Android Weekly                                        \n",
       "7  Coding Alpaca 寫扣の羊駝                              \n",
       "8  HappyCoder 自學程式好好玩                             \n",
       "9  李錫錕 Power錕                                        \n",
       "10 簡報．簡單報 EasyPresentation Studio                  \n",
       "11 TGDF台北遊戲開發者論壇（Taipei Game Developers Forum）\n",
       "12 臺大證券研究社 NTU Securities Research Society        \n",
       "13 KKTIX                                                 \n",
       "14 Michael's 星級料理廚房                                \n",
       "15 曹神降臨                                              \n",
       "16 NASA 黑客松-台灣                                      \n",
       "17 美麗日報 Beauties of Life                             \n",
       "18 阿中                                                  \n",
       "19 區塊客 blockcast.it                                   \n",
       "20 LGBTQ@Facebook                                        \n",
       "21 2017 法律之夜 忙著生忙著死                            \n",
       "22 臺大黑客松 - HackNTU                                  \n",
       "23 Colaz酷樂網 at 椰林大道                               \n",
       "24 桃子汽水Peach                                         \n",
       "25 熊仔                                                  "
      ]
     },
     "metadata": {},
     "output_type": "display_data"
    }
   ],
   "source": [
    "a"
   ]
  },
  {
   "cell_type": "markdown",
   "metadata": {},
   "source": [
    "## Get 朱立倫's page"
   ]
  },
  {
   "cell_type": "code",
   "execution_count": 280,
   "metadata": {},
   "outputs": [],
   "source": [
    "token  = \"EAACEdEose0cBAJG5uEz3T0sZCzKEA74nCFRt9IFZBVuKmLorVkfjKVzJmeHi65RCJPZCQMaa6ytLy8yRT8O8syqptZCHvbQZCNNG2CoB4nVogVRLQiOpMDoshShnRZC4Pl9wGMR5yJz8iZCov7avXngrKYWiZBR0QvX6jbyMFoZCAl1EprpcyGMidroCsD3pIkdTML9z6zavIDPWJ3WTSnK9ZBkHIs2ZBaNN6UeFZAOPuPPapgZDZD\"\n",
    "prefex_post = \"https://graph.facebook.com/v2.12/10150145806225128&access_token=\"\n",
    "url = paste0(prefex_post, token)\n",
    "# Get the response of the url (ex. posts)\n",
    "res = httr::GET(url)\n",
    "# Get the content of the url\n",
    "posts = content(res)"
   ]
  },
  {
   "cell_type": "code",
   "execution_count": 282,
   "metadata": {},
   "outputs": [
    {
     "data": {
      "text/html": [
       "'https://graph.facebook.com/v2.12/10150145806225128&amp;access_token=EAACEdEose0cBAJG5uEz3T0sZCzKEA74nCFRt9IFZBVuKmLorVkfjKVzJmeHi65RCJPZCQMaa6ytLy8yRT8O8syqptZCHvbQZCNNG2CoB4nVogVRLQiOpMDoshShnRZC4Pl9wGMR5yJz8iZCov7avXngrKYWiZBR0QvX6jbyMFoZCAl1EprpcyGMidroCsD3pIkdTML9z6zavIDPWJ3WTSnK9ZBkHIs2ZBaNN6UeFZAOPuPPapgZDZD'"
      ],
      "text/latex": [
       "'https://graph.facebook.com/v2.12/10150145806225128\\&access\\_token=EAACEdEose0cBAJG5uEz3T0sZCzKEA74nCFRt9IFZBVuKmLorVkfjKVzJmeHi65RCJPZCQMaa6ytLy8yRT8O8syqptZCHvbQZCNNG2CoB4nVogVRLQiOpMDoshShnRZC4Pl9wGMR5yJz8iZCov7avXngrKYWiZBR0QvX6jbyMFoZCAl1EprpcyGMidroCsD3pIkdTML9z6zavIDPWJ3WTSnK9ZBkHIs2ZBaNN6UeFZAOPuPPapgZDZD'"
      ],
      "text/markdown": [
       "'https://graph.facebook.com/v2.12/10150145806225128&amp;access_token=EAACEdEose0cBAJG5uEz3T0sZCzKEA74nCFRt9IFZBVuKmLorVkfjKVzJmeHi65RCJPZCQMaa6ytLy8yRT8O8syqptZCHvbQZCNNG2CoB4nVogVRLQiOpMDoshShnRZC4Pl9wGMR5yJz8iZCov7avXngrKYWiZBR0QvX6jbyMFoZCAl1EprpcyGMidroCsD3pIkdTML9z6zavIDPWJ3WTSnK9ZBkHIs2ZBaNN6UeFZAOPuPPapgZDZD'"
      ],
      "text/plain": [
       "[1] \"https://graph.facebook.com/v2.12/10150145806225128&access_token=EAACEdEose0cBAJG5uEz3T0sZCzKEA74nCFRt9IFZBVuKmLorVkfjKVzJmeHi65RCJPZCQMaa6ytLy8yRT8O8syqptZCHvbQZCNNG2CoB4nVogVRLQiOpMDoshShnRZC4Pl9wGMR5yJz8iZCov7avXngrKYWiZBR0QvX6jbyMFoZCAl1EprpcyGMidroCsD3pIkdTML9z6zavIDPWJ3WTSnK9ZBkHIs2ZBaNN6UeFZAOPuPPapgZDZD\""
      ]
     },
     "metadata": {},
     "output_type": "display_data"
    }
   ],
   "source": [
    "url"
   ]
  },
  {
   "cell_type": "code",
   "execution_count": null,
   "metadata": {},
   "outputs": [],
   "source": []
  }
 ],
 "metadata": {
  "kernelspec": {
   "display_name": "R",
   "language": "R",
   "name": "ir"
  },
  "language_info": {
   "codemirror_mode": "r",
   "file_extension": ".r",
   "mimetype": "text/x-r-source",
   "name": "R",
   "pygments_lexer": "r",
   "version": "3.4.3"
  }
 },
 "nbformat": 4,
 "nbformat_minor": 2
}
