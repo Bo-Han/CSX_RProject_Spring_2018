{
 "cells": [
  {
   "cell_type": "markdown",
   "metadata": {},
   "source": [
    "# Project 3 titanic survival prediction"
   ]
  },
  {
   "cell_type": "markdown",
   "metadata": {},
   "source": [
    "### Import library"
   ]
  },
  {
   "cell_type": "code",
   "execution_count": 531,
   "metadata": {},
   "outputs": [],
   "source": [
    "library(tidyverse)\n",
    "library(magrittr)\n",
    "library(stringr)\n",
    "library(\"e1071\")\n",
    "library(CatEncoders)\n",
    "library(onehot)"
   ]
  },
  {
   "cell_type": "markdown",
   "metadata": {},
   "source": [
    "### 1. 處理 'boat' 欄"
   ]
  },
  {
   "cell_type": "code",
   "execution_count": 543,
   "metadata": {},
   "outputs": [
    {
     "name": "stderr",
     "output_type": "stream",
     "text": [
      "Parsed with column specification:\n",
      "cols(\n",
      "  pclass = col_integer(),\n",
      "  survived = col_integer(),\n",
      "  name = col_character(),\n",
      "  sex = col_character(),\n",
      "  age = col_double(),\n",
      "  sibsp = col_integer(),\n",
      "  parch = col_integer(),\n",
      "  ticket = col_character(),\n",
      "  fare = col_double(),\n",
      "  cabin = col_character(),\n",
      "  embarked = col_character(),\n",
      "  boat = col_character(),\n",
      "  body = col_integer(),\n",
      "  home.dest = col_character()\n",
      ")\n"
     ]
    }
   ],
   "source": [
    "# read data and filter out those 'survived' are NA\n",
    "titanicTrain = read_csv(\"titanicTrain.csv\")\n",
    "titanicTrain.surv.nona <- filter(titanicTrain, !is.na(survived))\n",
    "titanicTrain.surv.withna <- titanicTrain"
   ]
  },
  {
   "cell_type": "code",
   "execution_count": 534,
   "metadata": {},
   "outputs": [
    {
     "data": {
      "text/html": [
       "<table>\n",
       "<thead><tr><th scope=col>is.boat</th><th scope=col>survived</th><th scope=col>m</th><th scope=col>ratio</th></tr></thead>\n",
       "<tbody>\n",
       "\t<tr><td>FALSE</td><td>0    </td><td>569  </td><td>56.9%</td></tr>\n",
       "\t<tr><td>FALSE</td><td>1    </td><td> 14  </td><td>1.4% </td></tr>\n",
       "\t<tr><td> TRUE</td><td>0    </td><td>  8  </td><td>0.8% </td></tr>\n",
       "\t<tr><td> TRUE</td><td>1    </td><td>409  </td><td>40.9%</td></tr>\n",
       "</tbody>\n",
       "</table>\n"
      ],
      "text/latex": [
       "\\begin{tabular}{r|llll}\n",
       " is.boat & survived & m & ratio\\\\\n",
       "\\hline\n",
       "\t FALSE   & 0       & 569     & 56.9\\%\\\\\n",
       "\t FALSE   & 1       &  14     & 1.4\\% \\\\\n",
       "\t  TRUE   & 0       &   8     & 0.8\\% \\\\\n",
       "\t  TRUE   & 1       & 409     & 40.9\\%\\\\\n",
       "\\end{tabular}\n"
      ],
      "text/markdown": [
       "\n",
       "is.boat | survived | m | ratio | \n",
       "|---|---|---|---|\n",
       "| FALSE | 0     | 569   | 56.9% | \n",
       "| FALSE | 1     |  14   | 1.4%  | \n",
       "|  TRUE | 0     |   8   | 0.8%  | \n",
       "|  TRUE | 1     | 409   | 40.9% | \n",
       "\n",
       "\n"
      ],
      "text/plain": [
       "  is.boat survived m   ratio\n",
       "1 FALSE   0        569 56.9%\n",
       "2 FALSE   1         14 1.4% \n",
       "3  TRUE   0          8 0.8% \n",
       "4  TRUE   1        409 40.9%"
      ]
     },
     "metadata": {},
     "output_type": "display_data"
    }
   ],
   "source": [
    "# is.boat is powerful!\n",
    "titanicTrain.surv.nona %>% mutate(is.boat = !is.na(boat)) %>% \n",
    "  group_by(is.boat,survived) %<>% summarise(m=n())%>% mutate(ratio = paste0(round(m/(569+14+8+409)*100, 2), \"%\"))"
   ]
  },
  {
   "cell_type": "code",
   "execution_count": 535,
   "metadata": {},
   "outputs": [
    {
     "data": {
      "text/html": [
       "<table>\n",
       "<thead><tr><th scope=col>is.boat</th><th scope=col>survived</th><th scope=col>m</th><th scope=col>ratio</th></tr></thead>\n",
       "<tbody>\n",
       "\t<tr><td>FALSE </td><td> 0    </td><td>569   </td><td>43.44%</td></tr>\n",
       "\t<tr><td>FALSE </td><td> 1    </td><td> 14   </td><td>1.07% </td></tr>\n",
       "\t<tr><td>FALSE </td><td>NA    </td><td>310   </td><td>23.66%</td></tr>\n",
       "\t<tr><td> TRUE </td><td> 0    </td><td>  8   </td><td>0.61% </td></tr>\n",
       "\t<tr><td> TRUE </td><td> 1    </td><td>409   </td><td>31.22%</td></tr>\n",
       "</tbody>\n",
       "</table>\n"
      ],
      "text/latex": [
       "\\begin{tabular}{r|llll}\n",
       " is.boat & survived & m & ratio\\\\\n",
       "\\hline\n",
       "\t FALSE    &  0       & 569      & 43.44\\%\\\\\n",
       "\t FALSE    &  1       &  14      & 1.07\\% \\\\\n",
       "\t FALSE    & NA       & 310      & 23.66\\%\\\\\n",
       "\t  TRUE    &  0       &   8      & 0.61\\% \\\\\n",
       "\t  TRUE    &  1       & 409      & 31.22\\%\\\\\n",
       "\\end{tabular}\n"
      ],
      "text/markdown": [
       "\n",
       "is.boat | survived | m | ratio | \n",
       "|---|---|---|---|---|\n",
       "| FALSE  |  0     | 569    | 43.44% | \n",
       "| FALSE  |  1     |  14    | 1.07%  | \n",
       "| FALSE  | NA     | 310    | 23.66% | \n",
       "|  TRUE  |  0     |   8    | 0.61%  | \n",
       "|  TRUE  |  1     | 409    | 31.22% | \n",
       "\n",
       "\n"
      ],
      "text/plain": [
       "  is.boat survived m   ratio \n",
       "1 FALSE    0       569 43.44%\n",
       "2 FALSE    1        14 1.07% \n",
       "3 FALSE   NA       310 23.66%\n",
       "4  TRUE    0         8 0.61% \n",
       "5  TRUE    1       409 31.22%"
      ]
     },
     "metadata": {},
     "output_type": "display_data"
    }
   ],
   "source": [
    "titanicTrain.surv.withna %>% mutate(is.boat = !is.na(boat)) %>% \n",
    "  group_by(is.boat,survived) %<>% summarise(m=n()) %>% mutate(ratio = paste0(round(m/(569+14+310+8+409)*100, 2), \"%\"))"
   ]
  },
  {
   "cell_type": "code",
   "execution_count": 536,
   "metadata": {},
   "outputs": [
    {
     "data": {},
     "metadata": {},
     "output_type": "display_data"
    },
    {
     "data": {
      "image/png": "[encoded data removed]",
      "text/plain": [
       "plot without title"
      ]
     },
     "metadata": {},
     "output_type": "display_data"
    }
   ],
   "source": [
    "# whether is on the boat is a dominant factor.\n",
    "titanicTrain.surv.nona %>% mutate(is.boat = !is.na(boat)) %>% \n",
    "  group_by(is.boat,survived) %>% summarise(m=n()) %>% \n",
    "  ggplot(mapping = aes(interaction(is.boat,survived),m)) + geom_col()"
   ]
  },
  {
   "cell_type": "markdown",
   "metadata": {},
   "source": [
    "由上述結果可以看出是否上救生艇與是否生存具有決定性的影響因素。以是否上船為基準來預測是否生存（去除survived缺乏資料者），可發現預測錯誤率僅為 2.2%，準確率極高，基本上可以直接以使否上船來做為是否生存的預測模型。"
   ]
  },
  {
   "cell_type": "markdown",
   "metadata": {},
   "source": [
    "此外我們發現，沒有上船的，有310個人的survived 缺乏資料，或許是因為失蹤。不過單就「**預測上船者是存活的**」而言，預測的正確率為98.1%"
   ]
  },
  {
   "cell_type": "markdown",
   "metadata": {},
   "source": [
    "### 2.處理 'sex' ＊ 'pclass'"
   ]
  },
  {
   "cell_type": "code",
   "execution_count": 537,
   "metadata": {},
   "outputs": [
    {
     "ename": "ERROR",
     "evalue": "Error in (function (classes, fdef, mtable) : unable to find an inherited method for function ‘transform’ for signature ‘\"tbl_df\"’\n",
     "output_type": "error",
     "traceback": [
      "Error in (function (classes, fdef, mtable) : unable to find an inherited method for function ‘transform’ for signature ‘\"tbl_df\"’\nTraceback:\n",
      "1. titanicTrain.surv.withna %>% transform(survived = as.factor(survived)) %>% \n .     group_by(pclass, sex, survived) %>% ggplot(mapping = aes(interaction(pclass, \n .     sex), fill = survived))",
      "2. withVisible(eval(quote(`_fseq`(`_lhs`)), env, env))",
      "3. eval(quote(`_fseq`(`_lhs`)), env, env)",
      "4. eval(quote(`_fseq`(`_lhs`)), env, env)",
      "5. `_fseq`(`_lhs`)",
      "6. freduce(value, `_function_list`)",
      "7. function_list[[i]](value)",
      "8. transform(., survived = as.factor(survived))",
      "9. (function (classes, fdef, mtable) \n . {\n .     methods <- .findInheritedMethods(classes, fdef, mtable)\n .     if (length(methods) == 1L) \n .         return(methods[[1L]])\n .     else if (length(methods) == 0L) {\n .         cnames <- paste0(\"\\\"\", vapply(classes, as.character, \n .             \"\"), \"\\\"\", collapse = \", \")\n .         stop(gettextf(\"unable to find an inherited method for function %s for signature %s\", \n .             sQuote(fdef@generic), sQuote(cnames)), domain = NA)\n .     }\n .     else stop(\"Internal error in finding inherited methods; didn't return a unique method\", \n .         domain = NA)\n . })(list(\"tbl_df\"), structure(function (enc, ...) \n . {\n .     standardGeneric(\"transform\")\n . }, generic = structure(\"transform\", package = \"CatEncoders\"), package = \"CatEncoders\", group = list(), valueClass = character(0), signature = \"enc\", default = `\\001NULL\\001`, skeleton = (function (enc, \n .     ...) \n . stop(\"invalid call in method dispatch to 'transform' (no default method)\", \n .     domain = NA))(enc, ...), class = structure(\"nonstandardGenericFunction\", package = \"methods\")), \n .     <environment>)",
      "10. stop(gettextf(\"unable to find an inherited method for function %s for signature %s\", \n  .     sQuote(fdef@generic), sQuote(cnames)), domain = NA)"
     ]
    }
   ],
   "source": [
    "# sex * pclass is powerful too \n",
    "titanicTrain.surv.withna %>% transform(survived = as.factor(survived)) %>% \n",
    "  group_by(pclass,sex,survived) %>% \n",
    "  ggplot(mapping = aes(interaction(pclass,sex),fill = survived)) + geom_bar()"
   ]
  },
  {
   "cell_type": "code",
   "execution_count": 538,
   "metadata": {},
   "outputs": [
    {
     "name": "stderr",
     "output_type": "stream",
     "text": [
      "Warning message:\n",
      "“Removed 1 rows containing missing values (position_stack).”"
     ]
    },
    {
     "data": {},
     "metadata": {},
     "output_type": "display_data"
    },
    {
     "data": {
      "image/png": "[encoded data removed]",
      "text/plain": [
       "plot without title"
      ]
     },
     "metadata": {},
     "output_type": "display_data"
    }
   ],
   "source": [
    "titanicTrain.surv.withna %>% \n",
    "  group_by(pclass,sex) %>% summarise(m = sum(survived)/length(survived)) %>% \n",
    "  ggplot(mapping = aes(interaction(pclass,sex),m)) + geom_col()"
   ]
  },
  {
   "cell_type": "markdown",
   "metadata": {},
   "source": [
    "如果以性別以及艙等來預測是否生存，我們可以發現，女性頭等艙的預測準確率最高，隨著艙等的下降，期預測率開始下降。男性則是預測準確度皆低於37.5%"
   ]
  },
  {
   "cell_type": "markdown",
   "metadata": {},
   "source": [
    "### 3. nGroup"
   ]
  },
  {
   "cell_type": "code",
   "execution_count": 539,
   "metadata": {},
   "outputs": [
    {
     "name": "stderr",
     "output_type": "stream",
     "text": [
      "Joining, by = \"ticket\"\n"
     ]
    }
   ],
   "source": [
    "# considering ticket\n",
    "ticket.group = titanicTrain %>% group_by(ticket) %>% summarise(ticket.group=n())\n",
    "titanicTrain %<>% left_join(ticket.group)"
   ]
  },
  {
   "cell_type": "code",
   "execution_count": 544,
   "metadata": {},
   "outputs": [
    {
     "ename": "ERROR",
     "evalue": "Error in grouped_df_impl(data, unname(vars), drop): Column `name.first` is unknown\n",
     "output_type": "error",
     "traceback": [
      "Error in grouped_df_impl(data, unname(vars), drop): Column `name.first` is unknown\nTraceback:\n",
      "1. titanicTrain %>% group_by(name.first) %>% summarise(name.group = n())",
      "2. withVisible(eval(quote(`_fseq`(`_lhs`)), env, env))",
      "3. eval(quote(`_fseq`(`_lhs`)), env, env)",
      "4. eval(quote(`_fseq`(`_lhs`)), env, env)",
      "5. `_fseq`(`_lhs`)",
      "6. freduce(value, `_function_list`)",
      "7. function_list[[i]](value)",
      "8. group_by(., name.first)",
      "9. group_by.data.frame(., name.first)",
      "10. grouped_df(groups$data, groups$group_names)",
      "11. grouped_df_impl(data, unname(vars), drop)"
     ]
    }
   ],
   "source": [
    "# considering first name\n",
    "name.group = titanicTrain %>% group_by(name.first) %>% summarise(name.group=n())\n",
    "titanicTrain %<>% left_join(name.group)"
   ]
  },
  {
   "cell_type": "code",
   "execution_count": 547,
   "metadata": {},
   "outputs": [
    {
     "ename": "ERROR",
     "evalue": "Error in filter_impl(.data, quo): Evaluation error: ‘!=’ only defined for equally-sized data frames.\n",
     "output_type": "error",
     "traceback": [
      "Error in filter_impl(.data, quo): Evaluation error: ‘!=’ only defined for equally-sized data frames.\nTraceback:\n",
      "1. titanicTrain %>% filter((ticket.group != 1) & (ticket.group != \n .     name.group)) %>% group_by(ticket, home.dest) %>% summarise(home.group = n())",
      "2. withVisible(eval(quote(`_fseq`(`_lhs`)), env, env))",
      "3. eval(quote(`_fseq`(`_lhs`)), env, env)",
      "4. eval(quote(`_fseq`(`_lhs`)), env, env)",
      "5. `_fseq`(`_lhs`)",
      "6. freduce(value, `_function_list`)",
      "7. function_list[[i]](value)",
      "8. filter(., (ticket.group != 1) & (ticket.group != name.group))",
      "9. filter.tbl_df(., (ticket.group != 1) & (ticket.group != name.group))",
      "10. filter_impl(.data, quo)"
     ]
    }
   ],
   "source": [
    "# considering \n",
    "home.group = titanicTrain %>% filter((ticket.group != 1)&(ticket.group != name.group)) %>% \n",
    "  group_by(ticket,home.dest) %>% summarise(home.group=n())\n",
    "titanicTrain %<>% left_join(home.group)"
   ]
  },
  {
   "cell_type": "code",
   "execution_count": 548,
   "metadata": {},
   "outputs": [
    {
     "ename": "ERROR",
     "evalue": "Error in filter_impl(.data, quo): Evaluation error: ‘==’ only defined for equally-sized data frames.\n",
     "output_type": "error",
     "traceback": [
      "Error in filter_impl(.data, quo): Evaluation error: ‘==’ only defined for equally-sized data frames.\nTraceback:\n",
      "1. titanicTrain %>% filter(ticket.group == name.group) %>% mutate(ngroup = ticket.group) %>% \n .     select(index, ngroup)",
      "2. withVisible(eval(quote(`_fseq`(`_lhs`)), env, env))",
      "3. eval(quote(`_fseq`(`_lhs`)), env, env)",
      "4. eval(quote(`_fseq`(`_lhs`)), env, env)",
      "5. `_fseq`(`_lhs`)",
      "6. freduce(value, `_function_list`)",
      "7. function_list[[i]](value)",
      "8. filter(., ticket.group == name.group)",
      "9. filter.tbl_df(., ticket.group == name.group)",
      "10. filter_impl(.data, quo)"
     ]
    }
   ],
   "source": [
    "# generate ngroup\n",
    "titanicTrain$index = 1:nrow(titanicTrain)\n",
    "df1 = titanicTrain %>% filter(ticket.group == name.group) %>% \n",
    "  mutate(ngroup = ticket.group) %>% select(index,ngroup)\n",
    "\n",
    "df2 = titanicTrain %>% filter(ticket.group == home.group) %>% \n",
    "  mutate(ngroup = ticket.group) %>% select(index,ngroup)\n",
    "\n",
    "df3 = titanicTrain %>% filter((ticket.group != home.group)&(name.group == home.group)) %>% \n",
    "  mutate(ngroup = name.group) %>% select(index,ngroup)\n",
    "\n",
    "df4 = df1 %>% full_join(df2) %>% full_join(df3)\n",
    " \n",
    "titanicTrain %<>% left_join(df4)\n",
    "titanicTrain %>% View"
   ]
  },
  {
   "cell_type": "code",
   "execution_count": 549,
   "metadata": {},
   "outputs": [
    {
     "ename": "ERROR",
     "evalue": "Error in filter_impl(.data, quo): Evaluation error: 找不到物件 'ngroup'.\n",
     "output_type": "error",
     "traceback": [
      "Error in filter_impl(.data, quo): Evaluation error: 找不到物件 'ngroup'.\nTraceback:\n",
      "1. titanicTrain %>% filter(!is.na(ngroup)) %>% group_by(ngroup, \n .     survived) %>% summarise(m = n()) %>% ggplot(mapping = aes(ngroup, \n .     m, fill = survived))",
      "2. withVisible(eval(quote(`_fseq`(`_lhs`)), env, env))",
      "3. eval(quote(`_fseq`(`_lhs`)), env, env)",
      "4. eval(quote(`_fseq`(`_lhs`)), env, env)",
      "5. `_fseq`(`_lhs`)",
      "6. freduce(value, `_function_list`)",
      "7. function_list[[i]](value)",
      "8. filter(., !is.na(ngroup))",
      "9. filter.tbl_df(., !is.na(ngroup))",
      "10. filter_impl(.data, quo)"
     ]
    }
   ],
   "source": [
    "# test ngroup\n",
    "titanicTrain %>% filter(!is.na(ngroup)) %>% \n",
    "  group_by(ngroup,survived) %>% summarise(m=n()) %>% \n",
    "  ggplot(mapping = aes(ngroup,m,fill = survived)) + geom_col()\n",
    "\n",
    "titanicTrain %>% filter(!is.na(ngroup)) %>% \n",
    "  group_by(ngroup) %>% summarise(m=sum(survived)/length(ngroup)) %>% \n",
    "  ggplot(mapping = aes(ngroup,m)) + geom_col()"
   ]
  },
  {
   "cell_type": "markdown",
   "metadata": {},
   "source": [
    "# Explore ML model"
   ]
  },
  {
   "cell_type": "markdown",
   "metadata": {},
   "source": [
    "### 首先先整理資料"
   ]
  },
  {
   "cell_type": "code",
   "execution_count": 550,
   "metadata": {},
   "outputs": [],
   "source": [
    "# drop rows that is all nan\n",
    "titanicTrain.row.no.na <- titanicTrain.surv.withna[rowSums(is.na(titanicTrain.surv.withna)) != ncol(titanicTrain.surv.withna),]"
   ]
  },
  {
   "cell_type": "code",
   "execution_count": 551,
   "metadata": {},
   "outputs": [],
   "source": [
    "# add a column with first_name\n",
    "titanicTrain.row.no.na[\"first_name\"] <- str_split_fixed(titanicTrain.row.no.na$name, ',', 3)[,1]"
   ]
  },
  {
   "cell_type": "code",
   "execution_count": 552,
   "metadata": {},
   "outputs": [],
   "source": [
    "# fill nan with default values\n",
    "titanicTrain.row.no.na$age[is.na(titanicTrain.row.no.na$age)] <- '0'\n",
    "titanicTrain.row.no.na$cabin[is.na(titanicTrain.row.no.na$cabin)]  <- 'nan'\n",
    "titanicTrain.row.no.na$embarked[is.na(titanicTrain.row.no.na$embarked)]  <- 'nan'\n",
    "titanicTrain.row.no.na$boat[is.na(titanicTrain.row.no.na$boat)]  <- 'nan'\n",
    "titanicTrain.row.no.na$body[is.na(titanicTrain.row.no.na$body)]  <- '0'"
   ]
  },
  {
   "cell_type": "code",
   "execution_count": 553,
   "metadata": {},
   "outputs": [],
   "source": [
    "titanicTrain.final <- titanicTrain.row.no.na[,c(\"pclass\", \"survived\", \"first_name\", \"sex\", \"age\", \"sibsp\", \"parch\", \"ticket\", \"fare\", \"cabin\", \"embarked\", \"boat\", \"body\")]"
   ]
  },
  {
   "cell_type": "code",
   "execution_count": 554,
   "metadata": {},
   "outputs": [
    {
     "data": {
      "text/html": [
       "<table>\n",
       "<thead><tr><th scope=col>pclass</th><th scope=col>survived</th><th scope=col>first_name</th><th scope=col>sex</th><th scope=col>age</th><th scope=col>sibsp</th><th scope=col>parch</th><th scope=col>ticket</th><th scope=col>fare</th><th scope=col>cabin</th><th scope=col>embarked</th><th scope=col>boat</th><th scope=col>body</th></tr></thead>\n",
       "<tbody>\n",
       "\t<tr><td>1           </td><td>1           </td><td>Allen       </td><td>female      </td><td>29          </td><td>0           </td><td>0           </td><td>24160       </td><td>211.3375    </td><td>B5          </td><td>S           </td><td>2           </td><td>0           </td></tr>\n",
       "\t<tr><td>1           </td><td>1           </td><td>Allison     </td><td>male        </td><td>0.9167      </td><td>1           </td><td>2           </td><td>113781      </td><td>151.5500    </td><td>C22 C26     </td><td>S           </td><td>11          </td><td>0           </td></tr>\n",
       "\t<tr><td>1           </td><td>0           </td><td>Allison     </td><td>female      </td><td>2           </td><td>1           </td><td>2           </td><td>113781      </td><td>151.5500    </td><td>C22 C26     </td><td>S           </td><td>nan         </td><td>0           </td></tr>\n",
       "\t<tr><td>1           </td><td>0           </td><td>Allison     </td><td>male        </td><td>30          </td><td>1           </td><td>2           </td><td>113781      </td><td>151.5500    </td><td>C22 C26     </td><td>S           </td><td>nan         </td><td>135         </td></tr>\n",
       "\t<tr><td>1           </td><td>0           </td><td>Allison     </td><td>female      </td><td>25          </td><td>1           </td><td>2           </td><td>113781      </td><td>151.5500    </td><td>C22 C26     </td><td>S           </td><td>nan         </td><td>0           </td></tr>\n",
       "\t<tr><td>1           </td><td>1           </td><td>Anderson    </td><td>male        </td><td>48          </td><td>0           </td><td>0           </td><td>19952       </td><td> 26.5500    </td><td>E12         </td><td>S           </td><td>3           </td><td>0           </td></tr>\n",
       "\t<tr><td>1           </td><td>1           </td><td>Andrews     </td><td>female      </td><td>63          </td><td>1           </td><td>0           </td><td>13502       </td><td> 77.9583    </td><td>D7          </td><td>S           </td><td>10          </td><td>0           </td></tr>\n",
       "\t<tr><td>1           </td><td>0           </td><td>Andrews     </td><td>male        </td><td>39          </td><td>0           </td><td>0           </td><td>112050      </td><td>  0.0000    </td><td>A36         </td><td>S           </td><td>nan         </td><td>0           </td></tr>\n",
       "\t<tr><td>1           </td><td>1           </td><td>Appleton    </td><td>female      </td><td>53          </td><td>2           </td><td>0           </td><td>11769       </td><td> 51.4792    </td><td>C101        </td><td>S           </td><td>D           </td><td>0           </td></tr>\n",
       "\t<tr><td>1           </td><td>0           </td><td>Artagaveytia</td><td>male        </td><td>71          </td><td>0           </td><td>0           </td><td>PC 17609    </td><td> 49.5042    </td><td>nan         </td><td>C           </td><td>nan         </td><td>22          </td></tr>\n",
       "</tbody>\n",
       "</table>\n"
      ],
      "text/latex": [
       "\\begin{tabular}{r|lllllllllllll}\n",
       " pclass & survived & first\\_name & sex & age & sibsp & parch & ticket & fare & cabin & embarked & boat & body\\\\\n",
       "\\hline\n",
       "\t 1            & 1            & Allen        & female       & 29           & 0            & 0            & 24160        & 211.3375     & B5           & S            & 2            & 0           \\\\\n",
       "\t 1            & 1            & Allison      & male         & 0.9167       & 1            & 2            & 113781       & 151.5500     & C22 C26      & S            & 11           & 0           \\\\\n",
       "\t 1            & 0            & Allison      & female       & 2            & 1            & 2            & 113781       & 151.5500     & C22 C26      & S            & nan          & 0           \\\\\n",
       "\t 1            & 0            & Allison      & male         & 30           & 1            & 2            & 113781       & 151.5500     & C22 C26      & S            & nan          & 135         \\\\\n",
       "\t 1            & 0            & Allison      & female       & 25           & 1            & 2            & 113781       & 151.5500     & C22 C26      & S            & nan          & 0           \\\\\n",
       "\t 1            & 1            & Anderson     & male         & 48           & 0            & 0            & 19952        &  26.5500     & E12          & S            & 3            & 0           \\\\\n",
       "\t 1            & 1            & Andrews      & female       & 63           & 1            & 0            & 13502        &  77.9583     & D7           & S            & 10           & 0           \\\\\n",
       "\t 1            & 0            & Andrews      & male         & 39           & 0            & 0            & 112050       &   0.0000     & A36          & S            & nan          & 0           \\\\\n",
       "\t 1            & 1            & Appleton     & female       & 53           & 2            & 0            & 11769        &  51.4792     & C101         & S            & D            & 0           \\\\\n",
       "\t 1            & 0            & Artagaveytia & male         & 71           & 0            & 0            & PC 17609     &  49.5042     & nan          & C            & nan          & 22          \\\\\n",
       "\\end{tabular}\n"
      ],
      "text/markdown": [
       "\n",
       "pclass | survived | first_name | sex | age | sibsp | parch | ticket | fare | cabin | embarked | boat | body | \n",
       "|---|---|---|---|---|---|---|---|---|---|\n",
       "| 1            | 1            | Allen        | female       | 29           | 0            | 0            | 24160        | 211.3375     | B5           | S            | 2            | 0            | \n",
       "| 1            | 1            | Allison      | male         | 0.9167       | 1            | 2            | 113781       | 151.5500     | C22 C26      | S            | 11           | 0            | \n",
       "| 1            | 0            | Allison      | female       | 2            | 1            | 2            | 113781       | 151.5500     | C22 C26      | S            | nan          | 0            | \n",
       "| 1            | 0            | Allison      | male         | 30           | 1            | 2            | 113781       | 151.5500     | C22 C26      | S            | nan          | 135          | \n",
       "| 1            | 0            | Allison      | female       | 25           | 1            | 2            | 113781       | 151.5500     | C22 C26      | S            | nan          | 0            | \n",
       "| 1            | 1            | Anderson     | male         | 48           | 0            | 0            | 19952        |  26.5500     | E12          | S            | 3            | 0            | \n",
       "| 1            | 1            | Andrews      | female       | 63           | 1            | 0            | 13502        |  77.9583     | D7           | S            | 10           | 0            | \n",
       "| 1            | 0            | Andrews      | male         | 39           | 0            | 0            | 112050       |   0.0000     | A36          | S            | nan          | 0            | \n",
       "| 1            | 1            | Appleton     | female       | 53           | 2            | 0            | 11769        |  51.4792     | C101         | S            | D            | 0            | \n",
       "| 1            | 0            | Artagaveytia | male         | 71           | 0            | 0            | PC 17609     |  49.5042     | nan          | C            | nan          | 22           | \n",
       "\n",
       "\n"
      ],
      "text/plain": [
       "   pclass survived first_name   sex    age    sibsp parch ticket   fare    \n",
       "1  1      1        Allen        female 29     0     0     24160    211.3375\n",
       "2  1      1        Allison      male   0.9167 1     2     113781   151.5500\n",
       "3  1      0        Allison      female 2      1     2     113781   151.5500\n",
       "4  1      0        Allison      male   30     1     2     113781   151.5500\n",
       "5  1      0        Allison      female 25     1     2     113781   151.5500\n",
       "6  1      1        Anderson     male   48     0     0     19952     26.5500\n",
       "7  1      1        Andrews      female 63     1     0     13502     77.9583\n",
       "8  1      0        Andrews      male   39     0     0     112050     0.0000\n",
       "9  1      1        Appleton     female 53     2     0     11769     51.4792\n",
       "10 1      0        Artagaveytia male   71     0     0     PC 17609  49.5042\n",
       "   cabin   embarked boat body\n",
       "1  B5      S        2    0   \n",
       "2  C22 C26 S        11   0   \n",
       "3  C22 C26 S        nan  0   \n",
       "4  C22 C26 S        nan  135 \n",
       "5  C22 C26 S        nan  0   \n",
       "6  E12     S        3    0   \n",
       "7  D7      S        10   0   \n",
       "8  A36     S        nan  0   \n",
       "9  C101    S        D    0   \n",
       "10 nan     C        nan  22  "
      ]
     },
     "metadata": {},
     "output_type": "display_data"
    }
   ],
   "source": [
    "head(titanicTrain.final,10)"
   ]
  },
  {
   "cell_type": "code",
   "execution_count": 555,
   "metadata": {},
   "outputs": [
    {
     "name": "stderr",
     "output_type": "stream",
     "text": [
      "Parsed with column specification:\n",
      "cols(\n",
      "  pclass = col_integer(),\n",
      "  survived = col_character(),\n",
      "  name = col_character(),\n",
      "  sex = col_character(),\n",
      "  age = col_double(),\n",
      "  sibsp = col_integer(),\n",
      "  parch = col_integer(),\n",
      "  ticket = col_character(),\n",
      "  fare = col_double(),\n",
      "  cabin = col_character(),\n",
      "  embarked = col_character(),\n",
      "  boat = col_character(),\n",
      "  body = col_integer(),\n",
      "  home.dest = col_character()\n",
      ")\n"
     ]
    }
   ],
   "source": [
    "titanicQestion <- read_csv(\"titanicQuestion.csv\")\n",
    "\n",
    "# drop rows that is all nan\n",
    "titanicQestion <- titanicQestion[rowSums(is.na(titanicQestion)) != ncol(titanicQestion),]\n",
    "\n",
    "# add a column with first_name\n",
    "titanicQestion[\"first_name\"] <- str_split_fixed(titanicQestion$name, ',', 3)[,1]\n",
    "# fill nan with default values\n",
    "titanicQestion$age[is.na(titanicQestion$age)] <- '0'\n",
    "titanicQestion$cabin[is.na(titanicQestion$cabin)]  <- 'nan'\n",
    "titanicQestion$embarked[is.na(titanicQestion$embarked)]  <- 'nan'\n",
    "titanicQestion$boat[is.na(titanicQestion$boat)]  <- 'nan'\n",
    "titanicQestion$body[is.na(titanicQestion$body)]  <- '0'\n",
    "\n",
    "titanicQestion.final <- titanicQestion[,c(\"pclass\", \"survived\", \"first_name\", \"sex\", \"age\", \"sibsp\", \"parch\", \"ticket\", \"fare\", \"cabin\", \"embarked\", \"boat\", \"body\")]"
   ]
  },
  {
   "cell_type": "code",
   "execution_count": 556,
   "metadata": {},
   "outputs": [
    {
     "data": {
      "text/html": [
       "<table>\n",
       "<thead><tr><th scope=col>pclass</th><th scope=col>survived</th><th scope=col>first_name</th><th scope=col>sex</th><th scope=col>age</th><th scope=col>sibsp</th><th scope=col>parch</th><th scope=col>ticket</th><th scope=col>fare</th><th scope=col>cabin</th><th scope=col>embarked</th><th scope=col>boat</th><th scope=col>body</th></tr></thead>\n",
       "<tbody>\n",
       "\t<tr><td>3        </td><td>NA       </td><td>McCormack</td><td>male     </td><td>0        </td><td>0        </td><td>0        </td><td>367228   </td><td> 7.7500  </td><td>nan      </td><td>Q        </td><td>nan      </td><td>0        </td></tr>\n",
       "\t<tr><td>3        </td><td>NA       </td><td>McCoy    </td><td>female   </td><td>0        </td><td>2        </td><td>0        </td><td>367226   </td><td>23.2500  </td><td>nan      </td><td>Q        </td><td>16       </td><td>0        </td></tr>\n",
       "\t<tr><td>3        </td><td>NA       </td><td>McCoy    </td><td>female   </td><td>0        </td><td>2        </td><td>0        </td><td>367226   </td><td>23.2500  </td><td>nan      </td><td>Q        </td><td>16       </td><td>0        </td></tr>\n",
       "\t<tr><td>3        </td><td>NA       </td><td>McCoy    </td><td>male     </td><td>0        </td><td>2        </td><td>0        </td><td>367226   </td><td>23.2500  </td><td>nan      </td><td>Q        </td><td>16       </td><td>0        </td></tr>\n",
       "\t<tr><td>3        </td><td>NA       </td><td>McDermott</td><td>female   </td><td>0        </td><td>0        </td><td>0        </td><td>330932   </td><td> 7.7875  </td><td>nan      </td><td>Q        </td><td>13       </td><td>0        </td></tr>\n",
       "\t<tr><td>3        </td><td>NA       </td><td>McEvoy   </td><td>male     </td><td>0        </td><td>0        </td><td>0        </td><td>36568    </td><td>15.5000  </td><td>nan      </td><td>Q        </td><td>nan      </td><td>0        </td></tr>\n",
       "\t<tr><td>3        </td><td>NA       </td><td>McGovern </td><td>female   </td><td>0        </td><td>0        </td><td>0        </td><td>330931   </td><td> 7.8792  </td><td>nan      </td><td>Q        </td><td>13       </td><td>0        </td></tr>\n",
       "\t<tr><td>3        </td><td>NA       </td><td>McGowan  </td><td>female   </td><td>15       </td><td>0        </td><td>0        </td><td>330923   </td><td> 8.0292  </td><td>nan      </td><td>Q        </td><td>nan      </td><td>0        </td></tr>\n",
       "\t<tr><td>3        </td><td>NA       </td><td>McGowan  </td><td>female   </td><td>35       </td><td>0        </td><td>0        </td><td>9232     </td><td> 7.7500  </td><td>nan      </td><td>Q        </td><td>nan      </td><td>0        </td></tr>\n",
       "\t<tr><td>3        </td><td>NA       </td><td>McMahon  </td><td>male     </td><td>0        </td><td>0        </td><td>0        </td><td>370372   </td><td> 7.7500  </td><td>nan      </td><td>Q        </td><td>nan      </td><td>0        </td></tr>\n",
       "</tbody>\n",
       "</table>\n"
      ],
      "text/latex": [
       "\\begin{tabular}{r|lllllllllllll}\n",
       " pclass & survived & first\\_name & sex & age & sibsp & parch & ticket & fare & cabin & embarked & boat & body\\\\\n",
       "\\hline\n",
       "\t 3         & NA        & McCormack & male      & 0         & 0         & 0         & 367228    &  7.7500   & nan       & Q         & nan       & 0        \\\\\n",
       "\t 3         & NA        & McCoy     & female    & 0         & 2         & 0         & 367226    & 23.2500   & nan       & Q         & 16        & 0        \\\\\n",
       "\t 3         & NA        & McCoy     & female    & 0         & 2         & 0         & 367226    & 23.2500   & nan       & Q         & 16        & 0        \\\\\n",
       "\t 3         & NA        & McCoy     & male      & 0         & 2         & 0         & 367226    & 23.2500   & nan       & Q         & 16        & 0        \\\\\n",
       "\t 3         & NA        & McDermott & female    & 0         & 0         & 0         & 330932    &  7.7875   & nan       & Q         & 13        & 0        \\\\\n",
       "\t 3         & NA        & McEvoy    & male      & 0         & 0         & 0         & 36568     & 15.5000   & nan       & Q         & nan       & 0        \\\\\n",
       "\t 3         & NA        & McGovern  & female    & 0         & 0         & 0         & 330931    &  7.8792   & nan       & Q         & 13        & 0        \\\\\n",
       "\t 3         & NA        & McGowan   & female    & 15        & 0         & 0         & 330923    &  8.0292   & nan       & Q         & nan       & 0        \\\\\n",
       "\t 3         & NA        & McGowan   & female    & 35        & 0         & 0         & 9232      &  7.7500   & nan       & Q         & nan       & 0        \\\\\n",
       "\t 3         & NA        & McMahon   & male      & 0         & 0         & 0         & 370372    &  7.7500   & nan       & Q         & nan       & 0        \\\\\n",
       "\\end{tabular}\n"
      ],
      "text/markdown": [
       "\n",
       "pclass | survived | first_name | sex | age | sibsp | parch | ticket | fare | cabin | embarked | boat | body | \n",
       "|---|---|---|---|---|---|---|---|---|---|\n",
       "| 3         | NA        | McCormack | male      | 0         | 0         | 0         | 367228    |  7.7500   | nan       | Q         | nan       | 0         | \n",
       "| 3         | NA        | McCoy     | female    | 0         | 2         | 0         | 367226    | 23.2500   | nan       | Q         | 16        | 0         | \n",
       "| 3         | NA        | McCoy     | female    | 0         | 2         | 0         | 367226    | 23.2500   | nan       | Q         | 16        | 0         | \n",
       "| 3         | NA        | McCoy     | male      | 0         | 2         | 0         | 367226    | 23.2500   | nan       | Q         | 16        | 0         | \n",
       "| 3         | NA        | McDermott | female    | 0         | 0         | 0         | 330932    |  7.7875   | nan       | Q         | 13        | 0         | \n",
       "| 3         | NA        | McEvoy    | male      | 0         | 0         | 0         | 36568     | 15.5000   | nan       | Q         | nan       | 0         | \n",
       "| 3         | NA        | McGovern  | female    | 0         | 0         | 0         | 330931    |  7.8792   | nan       | Q         | 13        | 0         | \n",
       "| 3         | NA        | McGowan   | female    | 15        | 0         | 0         | 330923    |  8.0292   | nan       | Q         | nan       | 0         | \n",
       "| 3         | NA        | McGowan   | female    | 35        | 0         | 0         | 9232      |  7.7500   | nan       | Q         | nan       | 0         | \n",
       "| 3         | NA        | McMahon   | male      | 0         | 0         | 0         | 370372    |  7.7500   | nan       | Q         | nan       | 0         | \n",
       "\n",
       "\n"
      ],
      "text/plain": [
       "   pclass survived first_name sex    age sibsp parch ticket fare    cabin\n",
       "1  3      NA       McCormack  male   0   0     0     367228  7.7500 nan  \n",
       "2  3      NA       McCoy      female 0   2     0     367226 23.2500 nan  \n",
       "3  3      NA       McCoy      female 0   2     0     367226 23.2500 nan  \n",
       "4  3      NA       McCoy      male   0   2     0     367226 23.2500 nan  \n",
       "5  3      NA       McDermott  female 0   0     0     330932  7.7875 nan  \n",
       "6  3      NA       McEvoy     male   0   0     0     36568  15.5000 nan  \n",
       "7  3      NA       McGovern   female 0   0     0     330931  7.8792 nan  \n",
       "8  3      NA       McGowan    female 15  0     0     330923  8.0292 nan  \n",
       "9  3      NA       McGowan    female 35  0     0     9232    7.7500 nan  \n",
       "10 3      NA       McMahon    male   0   0     0     370372  7.7500 nan  \n",
       "   embarked boat body\n",
       "1  Q        nan  0   \n",
       "2  Q        16   0   \n",
       "3  Q        16   0   \n",
       "4  Q        16   0   \n",
       "5  Q        13   0   \n",
       "6  Q        nan  0   \n",
       "7  Q        13   0   \n",
       "8  Q        nan  0   \n",
       "9  Q        nan  0   \n",
       "10 Q        nan  0   "
      ]
     },
     "metadata": {},
     "output_type": "display_data"
    }
   ],
   "source": [
    "head(titanicQestion.final, 10)"
   ]
  },
  {
   "cell_type": "code",
   "execution_count": 557,
   "metadata": {},
   "outputs": [],
   "source": [
    "# answer (Y in training set)\n",
    "Y <- titanicTrain.final$survived"
   ]
  },
  {
   "cell_type": "code",
   "execution_count": 558,
   "metadata": {},
   "outputs": [],
   "source": [
    "# drop survived\n",
    "data <- titanicTrain.final[,!(names(titanicTrain.final) %in% c(\"survived\"))]\n",
    "test_data <- titanicQestion.final[,!(names(titanicQestion.final) %in% c(\"survived\"))]"
   ]
  },
  {
   "cell_type": "code",
   "execution_count": 559,
   "metadata": {},
   "outputs": [],
   "source": [
    "# data encoding\n",
    "data$first_name <- as.integer(as.factor(data$first_name))\n",
    "data$sex <- as.integer(as.factor(data$sex))\n",
    "data$ticket <- as.integer(as.factor(data$ticket))\n",
    "data$cabin <- as.integer(as.factor(data$cabin))\n",
    "data$embarked <- as.integer(as.factor(data$embarked))\n",
    "data$boat <- as.integer(as.factor(data$boat))\n",
    "data$body <- as.integer(as.factor(data$body))"
   ]
  },
  {
   "cell_type": "code",
   "execution_count": 560,
   "metadata": {},
   "outputs": [],
   "source": [
    "# test_data encoding\n",
    "test_data$first_name <- as.integer(as.factor(test_data$first_name))\n",
    "test_data$sex <- as.integer(as.factor(test_data$sex))\n",
    "test_data$ticket <- as.integer(as.factor(test_data$ticket))\n",
    "test_data$cabin <- as.integer(as.factor(test_data$cabin))\n",
    "test_data$embarked <- as.integer(as.factor(test_data$embarked))\n",
    "test_data$boat <- as.integer(as.factor(test_data$boat))\n",
    "test_data$body <- as.integer(as.factor(test_data$body))"
   ]
  },
  {
   "cell_type": "code",
   "execution_count": null,
   "metadata": {},
   "outputs": [],
   "source": []
  },
  {
   "cell_type": "code",
   "execution_count": null,
   "metadata": {},
   "outputs": [],
   "source": []
  }
 ],
 "metadata": {
  "kernelspec": {
   "display_name": "R",
   "language": "R",
   "name": "ir"
  },
  "language_info": {
   "codemirror_mode": "r",
   "file_extension": ".r",
   "mimetype": "text/x-r-source",
   "name": "R",
   "pygments_lexer": "r",
   "version": "3.4.3"
  }
 },
 "nbformat": 4,
 "nbformat_minor": 2
}
