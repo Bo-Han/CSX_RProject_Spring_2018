{
 "cells": [
  {
   "cell_type": "markdown",
   "metadata": {},
   "source": [
    "# R rvest Self Document"
   ]
  },
  {
   "cell_type": "markdown",
   "metadata": {},
   "source": [
    "`read_html` create an html document from a url"
   ]
  },
  {
   "cell_type": "markdown",
   "metadata": {},
   "source": [
    "`html_nodes(doc, \"table td\")` select parts of a document (css selecter)"
   ]
  },
  {
   "cell_type": "markdown",
   "metadata": {},
   "source": [
    "`html_nodes(doc, xpath=\"//table/td\")`"
   ]
  },
  {
   "cell_type": "markdown",
   "metadata": {},
   "source": [
    "`html_tag()` ex. img\n",
    "\n",
    "`html_text()` the word of content\n",
    "\n",
    "`html_attr()` `html_attrs()` the attribute ex. html_attr(\"src\")\n",
    "\n",
    "  extract components"
   ]
  },
  {
   "cell_type": "markdown",
   "metadata": {},
   "source": [
    "`xml_node()` `xml_attr()` `xml_attrs()` `xml_text()` `xml_tag()` xtract components "
   ]
  },
  {
   "cell_type": "markdown",
   "metadata": {},
   "source": [
    "`html_table()` parse tables into data frames "
   ]
  },
  {
   "cell_type": "markdown",
   "metadata": {},
   "source": [
    "`html_form()` : [Parse forms in a page](https://www.rdocumentation.org/packages/rvest/versions/0.3.2/topics/html_form)\n",
    "\n",
    "`set_value()` : [Set values in a form.](https://www.rdocumentation.org/packages/rvest/versions/0.3.2/topics/set_values)\n",
    "\n",
    "`submit_form()` extract, modify and submit forms"
   ]
  },
  {
   "cell_type": "markdown",
   "metadata": {},
   "source": [
    "`guess_encoding()` `repair_encoding()` detect and repair encoding problems"
   ]
  },
  {
   "cell_type": "markdown",
   "metadata": {},
   "source": [
    "`html_session()` : [Simulate a session in an html browser.](https://www.rdocumentation.org/packages/rvest/versions/0.3.2/topics/html_session) (is.session( ) : to check)\n",
    "\n",
    "`session_history` : [History navigation tools](https://www.rdocumentation.org/packages/rvest/versions/0.3.2/topics/session_history)\n",
    "\n",
    "`jump_to()` : jump_to() takes a url (either relative or absolute); follow_link [jump_to(x, url, ...)](https://www.rdocumentation.org/packages/rvest/versions/0.3.2/topics/jump_to)\n",
    "\n",
    "`follow_link()`  : takes an expression that refers to a link (an  tag) on the current page. [follow_link(x, i, css, xpath, ...)](https://www.rdocumentation.org/packages/rvest/versions/0.3.2/topics/jump_to)\n",
    "\n",
    "`back()` `forward()` \n",
    "`submit_form()` : [Submit a form back to the server.](https://www.rdocumentation.org/packages/rvest/versions/0.3.2/topics/submit_form) \n",
    "\n",
    "navigate around a website "
   ]
  },
  {
   "cell_type": "markdown",
   "metadata": {},
   "source": [
    "# Basic usage"
   ]
  },
  {
   "cell_type": "code",
   "execution_count": 195,
   "metadata": {},
   "outputs": [
    {
     "name": "stderr",
     "output_type": "stream",
     "text": [
      "starting httpd help server ... done\n"
     ]
    },
    {
     "data": {},
     "metadata": {},
     "output_type": "display_data"
    }
   ],
   "source": [
    "vignette(\"selectorgadget\")"
   ]
  },
  {
   "cell_type": "code",
   "execution_count": 196,
   "metadata": {},
   "outputs": [],
   "source": [
    "library(rvest)\n",
    "library(magrittr)"
   ]
  },
  {
   "cell_type": "code",
   "execution_count": 197,
   "metadata": {},
   "outputs": [],
   "source": [
    "lego_movie <- read_html(\"http://www.imdb.com/title/tt1490017/\")"
   ]
  },
  {
   "cell_type": "code",
   "execution_count": 198,
   "metadata": {},
   "outputs": [
    {
     "data": {
      "text/plain": [
       "{xml_document}\n",
       "<html xmlns:og=\"http://ogp.me/ns#\" xmlns:fb=\"http://www.facebook.com/2008/fbml\">\n",
       "[1] <head>\\n<meta http-equiv=\"Content-Type\" content=\"text/html; charset=UTF-8 ...\n",
       "[2] <body id=\"styleguide-v2\" class=\"fixed\">\\n            <img height=\"1\" widt ..."
      ]
     },
     "metadata": {},
     "output_type": "display_data"
    }
   ],
   "source": [
    "lego_movie"
   ]
  },
  {
   "cell_type": "code",
   "execution_count": 199,
   "metadata": {},
   "outputs": [
    {
     "data": {
      "text/plain": [
       "{xml_nodeset (1)}\n",
       "[1] <span itemprop=\"ratingValue\">7.8</span>"
      ]
     },
     "metadata": {},
     "output_type": "display_data"
    }
   ],
   "source": [
    "##%>% is defined by package magrittr(CRAN). Heavily used by dplyr(CRAN)\n",
    "rating <- lego_movie %>%\n",
    "  html_nodes(\"strong span\")\n",
    "rating"
   ]
  },
  {
   "cell_type": "code",
   "execution_count": 200,
   "metadata": {},
   "outputs": [
    {
     "data": {
      "text/html": [
       "<ol class=list-inline>\n",
       "\t<li>'Will Arnett'</li>\n",
       "\t<li>'Elizabeth Banks'</li>\n",
       "\t<li>'Craig Berry'</li>\n",
       "\t<li>'Alison Brie'</li>\n",
       "\t<li>'David Burrows'</li>\n",
       "\t<li>'Anthony Daniels'</li>\n",
       "\t<li>'Charlie Day'</li>\n",
       "\t<li>'Amanda Farinos'</li>\n",
       "\t<li>'Keith Ferguson'</li>\n",
       "\t<li>'Will Ferrell'</li>\n",
       "\t<li>'Will Forte'</li>\n",
       "\t<li>'Dave Franco'</li>\n",
       "\t<li>'Morgan Freeman'</li>\n",
       "\t<li>'Todd Hansen'</li>\n",
       "\t<li>'Jonah Hill'</li>\n",
       "</ol>\n"
      ],
      "text/latex": [
       "\\begin{enumerate*}\n",
       "\\item 'Will Arnett'\n",
       "\\item 'Elizabeth Banks'\n",
       "\\item 'Craig Berry'\n",
       "\\item 'Alison Brie'\n",
       "\\item 'David Burrows'\n",
       "\\item 'Anthony Daniels'\n",
       "\\item 'Charlie Day'\n",
       "\\item 'Amanda Farinos'\n",
       "\\item 'Keith Ferguson'\n",
       "\\item 'Will Ferrell'\n",
       "\\item 'Will Forte'\n",
       "\\item 'Dave Franco'\n",
       "\\item 'Morgan Freeman'\n",
       "\\item 'Todd Hansen'\n",
       "\\item 'Jonah Hill'\n",
       "\\end{enumerate*}\n"
      ],
      "text/markdown": [
       "1. 'Will Arnett'\n",
       "2. 'Elizabeth Banks'\n",
       "3. 'Craig Berry'\n",
       "4. 'Alison Brie'\n",
       "5. 'David Burrows'\n",
       "6. 'Anthony Daniels'\n",
       "7. 'Charlie Day'\n",
       "8. 'Amanda Farinos'\n",
       "9. 'Keith Ferguson'\n",
       "10. 'Will Ferrell'\n",
       "11. 'Will Forte'\n",
       "12. 'Dave Franco'\n",
       "13. 'Morgan Freeman'\n",
       "14. 'Todd Hansen'\n",
       "15. 'Jonah Hill'\n",
       "\n",
       "\n"
      ],
      "text/plain": [
       " [1] \"Will Arnett\"     \"Elizabeth Banks\" \"Craig Berry\"     \"Alison Brie\"    \n",
       " [5] \"David Burrows\"   \"Anthony Daniels\" \"Charlie Day\"     \"Amanda Farinos\" \n",
       " [9] \"Keith Ferguson\"  \"Will Ferrell\"    \"Will Forte\"      \"Dave Franco\"    \n",
       "[13] \"Morgan Freeman\"  \"Todd Hansen\"     \"Jonah Hill\"     "
      ]
     },
     "metadata": {},
     "output_type": "display_data"
    }
   ],
   "source": [
    "cast <- lego_movie %>%\n",
    "  html_nodes(\"#titleCast .itemprop span\") %>%\n",
    "  html_text()\n",
    "cast"
   ]
  },
  {
   "cell_type": "code",
   "execution_count": 201,
   "metadata": {},
   "outputs": [
    {
     "data": {
      "text/html": [
       "'https://images-na.ssl-images-amazon.com/images/M/MV5BMTg4MDk1ODExN15BMl5BanBnXkFtZTgwNzIyNjg3MDE@._V1_UX182_CR0,0,182,268_AL_.jpg'"
      ],
      "text/latex": [
       "'https://images-na.ssl-images-amazon.com/images/M/MV5BMTg4MDk1ODExN15BMl5BanBnXkFtZTgwNzIyNjg3MDE@.\\_V1\\_UX182\\_CR0,0,182,268\\_AL\\_.jpg'"
      ],
      "text/markdown": [
       "'https://images-na.ssl-images-amazon.com/images/M/MV5BMTg4MDk1ODExN15BMl5BanBnXkFtZTgwNzIyNjg3MDE@._V1_UX182_CR0,0,182,268_AL_.jpg'"
      ],
      "text/plain": [
       "[1] \"https://images-na.ssl-images-amazon.com/images/M/MV5BMTg4MDk1ODExN15BMl5BanBnXkFtZTgwNzIyNjg3MDE@._V1_UX182_CR0,0,182,268_AL_.jpg\""
      ]
     },
     "metadata": {},
     "output_type": "display_data"
    }
   ],
   "source": [
    "poster <- lego_movie %>%\n",
    "  html_nodes(\".poster img\") %>%\n",
    "  html_attr(\"src\")\n",
    "poster"
   ]
  },
  {
   "cell_type": "code",
   "execution_count": 202,
   "metadata": {},
   "outputs": [],
   "source": [
    "#titleImageStrip .loadlate\n",
    "Photos <- lego_movie %>% \n",
    "  html_nodes(\"#titleImageStrip .loadlate\") %>%\n",
    "  html_attr(\"loadlate\")"
   ]
  },
  {
   "cell_type": "code",
   "execution_count": 203,
   "metadata": {},
   "outputs": [
    {
     "data": {
      "text/html": [
       "<ol class=list-inline>\n",
       "\t<li>'https://images-na.ssl-images-amazon.com/images/M/MV5BMTA0MTkzMzYxNzReQTJeQWpwZ15BbWU4MDAyOTA0MDEx._V1_UY99_CR68,0,99,99_AL_.jpg'</li>\n",
       "\t<li>'https://images-na.ssl-images-amazon.com/images/M/MV5BMTQzODYxMzA4M15BMl5BanBnXkFtZTgwMTE5MDQwMTE@._V1_UY99_CR68,0,99,99_AL_.jpg'</li>\n",
       "\t<li>'https://images-na.ssl-images-amazon.com/images/M/MV5BNTU4MDI1MTg2M15BMl5BanBnXkFtZTgwODE5MDQwMTE@._V1_UY99_CR68,0,99,99_AL_.jpg'</li>\n",
       "\t<li>'https://images-na.ssl-images-amazon.com/images/M/MV5BMTYxODQzNzUwMV5BMl5BanBnXkFtZTgwMzE5MDQwMTE@._V1_UY99_CR69,0,99,99_AL_.jpg'</li>\n",
       "\t<li>'https://images-na.ssl-images-amazon.com/images/M/MV5BMjM4MTg1MzM0Ml5BMl5BanBnXkFtZTgwNzE5MDQwMTE@._V1_UY99_CR68,0,99,99_AL_.jpg'</li>\n",
       "\t<li>'https://images-na.ssl-images-amazon.com/images/M/MV5BMTEzMTkzOTkzNzVeQTJeQWpwZ15BbWU4MDEyOTA0MDEx._V1_UY99_CR68,0,99,99_AL_.jpg'</li>\n",
       "</ol>\n"
      ],
      "text/latex": [
       "\\begin{enumerate*}\n",
       "\\item 'https://images-na.ssl-images-amazon.com/images/M/MV5BMTA0MTkzMzYxNzReQTJeQWpwZ15BbWU4MDAyOTA0MDEx.\\_V1\\_UY99\\_CR68,0,99,99\\_AL\\_.jpg'\n",
       "\\item 'https://images-na.ssl-images-amazon.com/images/M/MV5BMTQzODYxMzA4M15BMl5BanBnXkFtZTgwMTE5MDQwMTE@.\\_V1\\_UY99\\_CR68,0,99,99\\_AL\\_.jpg'\n",
       "\\item 'https://images-na.ssl-images-amazon.com/images/M/MV5BNTU4MDI1MTg2M15BMl5BanBnXkFtZTgwODE5MDQwMTE@.\\_V1\\_UY99\\_CR68,0,99,99\\_AL\\_.jpg'\n",
       "\\item 'https://images-na.ssl-images-amazon.com/images/M/MV5BMTYxODQzNzUwMV5BMl5BanBnXkFtZTgwMzE5MDQwMTE@.\\_V1\\_UY99\\_CR69,0,99,99\\_AL\\_.jpg'\n",
       "\\item 'https://images-na.ssl-images-amazon.com/images/M/MV5BMjM4MTg1MzM0Ml5BMl5BanBnXkFtZTgwNzE5MDQwMTE@.\\_V1\\_UY99\\_CR68,0,99,99\\_AL\\_.jpg'\n",
       "\\item 'https://images-na.ssl-images-amazon.com/images/M/MV5BMTEzMTkzOTkzNzVeQTJeQWpwZ15BbWU4MDEyOTA0MDEx.\\_V1\\_UY99\\_CR68,0,99,99\\_AL\\_.jpg'\n",
       "\\end{enumerate*}\n"
      ],
      "text/markdown": [
       "1. 'https://images-na.ssl-images-amazon.com/images/M/MV5BMTA0MTkzMzYxNzReQTJeQWpwZ15BbWU4MDAyOTA0MDEx._V1_UY99_CR68,0,99,99_AL_.jpg'\n",
       "2. 'https://images-na.ssl-images-amazon.com/images/M/MV5BMTQzODYxMzA4M15BMl5BanBnXkFtZTgwMTE5MDQwMTE@._V1_UY99_CR68,0,99,99_AL_.jpg'\n",
       "3. 'https://images-na.ssl-images-amazon.com/images/M/MV5BNTU4MDI1MTg2M15BMl5BanBnXkFtZTgwODE5MDQwMTE@._V1_UY99_CR68,0,99,99_AL_.jpg'\n",
       "4. 'https://images-na.ssl-images-amazon.com/images/M/MV5BMTYxODQzNzUwMV5BMl5BanBnXkFtZTgwMzE5MDQwMTE@._V1_UY99_CR69,0,99,99_AL_.jpg'\n",
       "5. 'https://images-na.ssl-images-amazon.com/images/M/MV5BMjM4MTg1MzM0Ml5BMl5BanBnXkFtZTgwNzE5MDQwMTE@._V1_UY99_CR68,0,99,99_AL_.jpg'\n",
       "6. 'https://images-na.ssl-images-amazon.com/images/M/MV5BMTEzMTkzOTkzNzVeQTJeQWpwZ15BbWU4MDEyOTA0MDEx._V1_UY99_CR68,0,99,99_AL_.jpg'\n",
       "\n",
       "\n"
      ],
      "text/plain": [
       "[1] \"https://images-na.ssl-images-amazon.com/images/M/MV5BMTA0MTkzMzYxNzReQTJeQWpwZ15BbWU4MDAyOTA0MDEx._V1_UY99_CR68,0,99,99_AL_.jpg\"\n",
       "[2] \"https://images-na.ssl-images-amazon.com/images/M/MV5BMTQzODYxMzA4M15BMl5BanBnXkFtZTgwMTE5MDQwMTE@._V1_UY99_CR68,0,99,99_AL_.jpg\"\n",
       "[3] \"https://images-na.ssl-images-amazon.com/images/M/MV5BNTU4MDI1MTg2M15BMl5BanBnXkFtZTgwODE5MDQwMTE@._V1_UY99_CR68,0,99,99_AL_.jpg\"\n",
       "[4] \"https://images-na.ssl-images-amazon.com/images/M/MV5BMTYxODQzNzUwMV5BMl5BanBnXkFtZTgwMzE5MDQwMTE@._V1_UY99_CR69,0,99,99_AL_.jpg\"\n",
       "[5] \"https://images-na.ssl-images-amazon.com/images/M/MV5BMjM4MTg1MzM0Ml5BMl5BanBnXkFtZTgwNzE5MDQwMTE@._V1_UY99_CR68,0,99,99_AL_.jpg\"\n",
       "[6] \"https://images-na.ssl-images-amazon.com/images/M/MV5BMTEzMTkzOTkzNzVeQTJeQWpwZ15BbWU4MDEyOTA0MDEx._V1_UY99_CR68,0,99,99_AL_.jpg\""
      ]
     },
     "metadata": {},
     "output_type": "display_data"
    }
   ],
   "source": [
    "Photos"
   ]
  },
  {
   "cell_type": "markdown",
   "metadata": {},
   "source": [
    "# Web navigation"
   ]
  },
  {
   "cell_type": "code",
   "execution_count": 204,
   "metadata": {},
   "outputs": [
    {
     "data": {
      "text/plain": [
       "  http://hadley.nz/\n",
       "  http://hadley.nz/hadley-wickham.jpg\n",
       "- http://hadley.nz/"
      ]
     },
     "metadata": {},
     "output_type": "display_data"
    },
    {
     "data": {
      "text/plain": [
       "- http://hadley.nz/\n",
       "  http://hadley.nz/hadley-wickham.jpg"
      ]
     },
     "metadata": {},
     "output_type": "display_data"
    },
    {
     "name": "stderr",
     "output_type": "stream",
     "text": [
      "Navigating to https://www.stat.auckland.ac.nz\n"
     ]
    },
    {
     "data": {
      "text/plain": [
       "<session> https://www.stat.auckland.ac.nz/en.html\n",
       "  Status: 200\n",
       "  Type:   text/html; charset=UTF-8\n",
       "  Size:   89893"
      ]
     },
     "metadata": {},
     "output_type": "display_data"
    }
   ],
   "source": [
    "# http://stackoverflow.com/questions/15853204\n",
    "s <- html_session(\"http://hadley.nz\")\n",
    "s %>% jump_to(\"hadley-wickham.jpg\") %>% jump_to(\"/\") %>% session_history()\n",
    "s %>% jump_to(\"hadley-wickham.jpg\") %>% back() %>% session_history()\n",
    "s %>% follow_link(css = \"#about a:nth-child(2)\")"
   ]
  },
  {
   "cell_type": "code",
   "execution_count": 205,
   "metadata": {},
   "outputs": [],
   "source": [
    "a <- html_session(\"https://zh.wikipedia.org/wiki/ONE_PIECE%E6%B5%B7%E8%B3%8A%E5%88%97%E8%A1%A8\")"
   ]
  },
  {
   "cell_type": "code",
   "execution_count": 206,
   "metadata": {},
   "outputs": [
    {
     "data": {
      "text/plain": [
       "- https://zh.wikipedia.org/wiki/ONE_PIECE%E6%B5%B7%E8%B3%8A%E5%88%97%E8%A1%A8\n",
       "  https://zh.wikipedia.org/wiki/%E8%92%99%E5%85%B6%C2%B7D%C2%B7%E9%AD%AF%E5%A4%AB"
      ]
     },
     "metadata": {},
     "output_type": "display_data"
    }
   ],
   "source": [
    "a %>% jump_to(\"https://zh.wikipedia.org/wiki/%E8%92%99%E5%85%B6%C2%B7D%C2%B7%E9%AD%AF%E5%A4%AB\") %>% back() %>% session_history()"
   ]
  },
  {
   "cell_type": "code",
   "execution_count": 175,
   "metadata": {},
   "outputs": [
    {
     "name": "stderr",
     "output_type": "stream",
     "text": [
      "Navigating to /wiki/%E8%92%99%E5%85%B6%C2%B7D%C2%B7%E9%AD%AF%E5%A4%AB\n"
     ]
    },
    {
     "data": {
      "text/plain": [
       "<session> https://zh.wikipedia.org/wiki/%E8%92%99%E5%85%B6%C2%B7D%C2%B7%E9%AD%AF%E5%A4%AB\n",
       "  Status: 200\n",
       "  Type:   text/html; charset=UTF-8\n",
       "  Size:   109525"
      ]
     },
     "metadata": {},
     "output_type": "display_data"
    }
   ],
   "source": [
    "a %>% follow_link(css = \"dt a\")"
   ]
  },
  {
   "cell_type": "code",
   "execution_count": 185,
   "metadata": {},
   "outputs": [],
   "source": [
    "onepiece.main.url <- read_html(\"https://zh.wikipedia.org/wiki/ONE_PIECE%E6%B5%B7%E8%B3%8A%E5%88%97%E8%A1%A8#%E8%8D%89%E5%B8%BD%E5%A4%A7%E8%88%B9%E5%9C%98\")"
   ]
  },
  {
   "cell_type": "code",
   "execution_count": 192,
   "metadata": {},
   "outputs": [],
   "source": [
    "onepiece.chracters.url <- onepiece.main.url %>% html_nodes(\"dt a\") %>% html_attr(\"href\")\n",
    "onepiece.charaters.txt <- onepiece.main.url %>% html_nodes(\"dt a\") %>% html_text()"
   ]
  },
  {
   "cell_type": "code",
   "execution_count": 194,
   "metadata": {},
   "outputs": [
    {
     "data": {
      "text/html": [
       "<ol class=list-inline>\n",
       "\t<li>'/wiki/%E8%92%99%E5%85%B6%C2%B7D%C2%B7%E9%AD%AF%E5%A4%AB'</li>\n",
       "\t<li>'/wiki/%E7%BE%85%E7%BE%85%E4%BA%9E%C2%B7%E7%B4%A2%E9%9A%86'</li>\n",
       "\t<li>'/wiki/%E5%A8%9C%E7%BE%8E'</li>\n",
       "\t<li>'/wiki/%E9%A8%99%E4%BA%BA%E5%B8%83'</li>\n",
       "\t<li>'/wiki/%E8%B3%93%E4%BB%80%E8%8E%AB%E5%85%8B%C2%B7%E9%A6%99%E5%90%89%E5%A3%AB'</li>\n",
       "\t<li>'/wiki/%E5%A4%9A%E5%B0%BC%E5%A4%9A%E5%B0%BC%C2%B7%E5%96%AC%E5%B7%B4'</li>\n",
       "\t<li>'/wiki/%E5%A6%AE%E5%8F%AF%C2%B7%E7%BE%85%E8%B3%93'</li>\n",
       "\t<li>'/wiki/%E4%BD%9B%E6%9C%97%E5%9F%BA'</li>\n",
       "\t<li>'/wiki/%E5%B8%83%E9%AD%AF%E5%85%8B_(ONE_PIECE)'</li>\n",
       "\t<li>'/wiki/%E5%90%89%E8%B2%9D%E7%88%BE'</li>\n",
       "\t<li>'/wiki/%E5%89%8D%E9%80%B2%E6%A2%85%E5%88%A9%E8%99%9F'</li>\n",
       "\t<li>'/wiki/%E5%8D%83%E9%99%BD%E8%99%9F'</li>\n",
       "\t<li>'/wiki/%E5%A8%9C%E8%8F%B2%E9%B2%81%E5%A1%94%E5%88%A9%C2%B7%E8%96%87%E8%96%87'</li>\n",
       "\t<li>'/wiki/%E6%89%98%E6%8B%89%E6%B3%95%E7%88%BE%E5%8A%A0%C2%B7D%C2%B7%E7%93%A6%E7%89%B9%E7%88%BE%C2%B7%E7%BE%85'</li>\n",
       "\t<li>'/wiki/%E5%93%A5%E7%88%BE%C2%B7D%C2%B7%E7%BE%85%E5%82%91'</li>\n",
       "\t<li>'/wiki/%E5%82%91%E5%85%8B_(One_Piece)'</li>\n",
       "\t<li>'/wiki/%E5%B7%B4%E5%85%B6_(ONE_PIECE)'</li>\n",
       "\t<li>'#多雷古'</li>\n",
       "\t<li>'#亞普'</li>\n",
       "\t<li>'/wiki/%E5%BA%AB%E5%B1%B1'</li>\n",
       "\t<li>'/wiki/%E5%B7%B4%E5%85%B6_(ONE_PIECE)'</li>\n",
       "\t<li>'/wiki/%E5%90%89%E8%B2%9D%E7%88%BE'</li>\n",
       "\t<li>'/wiki/%E5%B8%83%E9%AD%AF%E5%85%8B_(ONE_PIECE)'</li>\n",
       "</ol>\n"
      ],
      "text/latex": [
       "\\begin{enumerate*}\n",
       "\\item '/wiki/\\%E8\\%92\\%99\\%E5\\%85\\%B6\\%C2\\%B7D\\%C2\\%B7\\%E9\\%AD\\%AF\\%E5\\%A4\\%AB'\n",
       "\\item '/wiki/\\%E7\\%BE\\%85\\%E7\\%BE\\%85\\%E4\\%BA\\%9E\\%C2\\%B7\\%E7\\%B4\\%A2\\%E9\\%9A\\%86'\n",
       "\\item '/wiki/\\%E5\\%A8\\%9C\\%E7\\%BE\\%8E'\n",
       "\\item '/wiki/\\%E9\\%A8\\%99\\%E4\\%BA\\%BA\\%E5\\%B8\\%83'\n",
       "\\item '/wiki/\\%E8\\%B3\\%93\\%E4\\%BB\\%80\\%E8\\%8E\\%AB\\%E5\\%85\\%8B\\%C2\\%B7\\%E9\\%A6\\%99\\%E5\\%90\\%89\\%E5\\%A3\\%AB'\n",
       "\\item '/wiki/\\%E5\\%A4\\%9A\\%E5\\%B0\\%BC\\%E5\\%A4\\%9A\\%E5\\%B0\\%BC\\%C2\\%B7\\%E5\\%96\\%AC\\%E5\\%B7\\%B4'\n",
       "\\item '/wiki/\\%E5\\%A6\\%AE\\%E5\\%8F\\%AF\\%C2\\%B7\\%E7\\%BE\\%85\\%E8\\%B3\\%93'\n",
       "\\item '/wiki/\\%E4\\%BD\\%9B\\%E6\\%9C\\%97\\%E5\\%9F\\%BA'\n",
       "\\item '/wiki/\\%E5\\%B8\\%83\\%E9\\%AD\\%AF\\%E5\\%85\\%8B\\_(ONE\\_PIECE)'\n",
       "\\item '/wiki/\\%E5\\%90\\%89\\%E8\\%B2\\%9D\\%E7\\%88\\%BE'\n",
       "\\item '/wiki/\\%E5\\%89\\%8D\\%E9\\%80\\%B2\\%E6\\%A2\\%85\\%E5\\%88\\%A9\\%E8\\%99\\%9F'\n",
       "\\item '/wiki/\\%E5\\%8D\\%83\\%E9\\%99\\%BD\\%E8\\%99\\%9F'\n",
       "\\item '/wiki/\\%E5\\%A8\\%9C\\%E8\\%8F\\%B2\\%E9\\%B2\\%81\\%E5\\%A1\\%94\\%E5\\%88\\%A9\\%C2\\%B7\\%E8\\%96\\%87\\%E8\\%96\\%87'\n",
       "\\item '/wiki/\\%E6\\%89\\%98\\%E6\\%8B\\%89\\%E6\\%B3\\%95\\%E7\\%88\\%BE\\%E5\\%8A\\%A0\\%C2\\%B7D\\%C2\\%B7\\%E7\\%93\\%A6\\%E7\\%89\\%B9\\%E7\\%88\\%BE\\%C2\\%B7\\%E7\\%BE\\%85'\n",
       "\\item '/wiki/\\%E5\\%93\\%A5\\%E7\\%88\\%BE\\%C2\\%B7D\\%C2\\%B7\\%E7\\%BE\\%85\\%E5\\%82\\%91'\n",
       "\\item '/wiki/\\%E5\\%82\\%91\\%E5\\%85\\%8B\\_(One\\_Piece)'\n",
       "\\item '/wiki/\\%E5\\%B7\\%B4\\%E5\\%85\\%B6\\_(ONE\\_PIECE)'\n",
       "\\item '\\#多雷古'\n",
       "\\item '\\#亞普'\n",
       "\\item '/wiki/\\%E5\\%BA\\%AB\\%E5\\%B1\\%B1'\n",
       "\\item '/wiki/\\%E5\\%B7\\%B4\\%E5\\%85\\%B6\\_(ONE\\_PIECE)'\n",
       "\\item '/wiki/\\%E5\\%90\\%89\\%E8\\%B2\\%9D\\%E7\\%88\\%BE'\n",
       "\\item '/wiki/\\%E5\\%B8\\%83\\%E9\\%AD\\%AF\\%E5\\%85\\%8B\\_(ONE\\_PIECE)'\n",
       "\\end{enumerate*}\n"
      ],
      "text/markdown": [
       "1. '/wiki/%E8%92%99%E5%85%B6%C2%B7D%C2%B7%E9%AD%AF%E5%A4%AB'\n",
       "2. '/wiki/%E7%BE%85%E7%BE%85%E4%BA%9E%C2%B7%E7%B4%A2%E9%9A%86'\n",
       "3. '/wiki/%E5%A8%9C%E7%BE%8E'\n",
       "4. '/wiki/%E9%A8%99%E4%BA%BA%E5%B8%83'\n",
       "5. '/wiki/%E8%B3%93%E4%BB%80%E8%8E%AB%E5%85%8B%C2%B7%E9%A6%99%E5%90%89%E5%A3%AB'\n",
       "6. '/wiki/%E5%A4%9A%E5%B0%BC%E5%A4%9A%E5%B0%BC%C2%B7%E5%96%AC%E5%B7%B4'\n",
       "7. '/wiki/%E5%A6%AE%E5%8F%AF%C2%B7%E7%BE%85%E8%B3%93'\n",
       "8. '/wiki/%E4%BD%9B%E6%9C%97%E5%9F%BA'\n",
       "9. '/wiki/%E5%B8%83%E9%AD%AF%E5%85%8B_(ONE_PIECE)'\n",
       "10. '/wiki/%E5%90%89%E8%B2%9D%E7%88%BE'\n",
       "11. '/wiki/%E5%89%8D%E9%80%B2%E6%A2%85%E5%88%A9%E8%99%9F'\n",
       "12. '/wiki/%E5%8D%83%E9%99%BD%E8%99%9F'\n",
       "13. '/wiki/%E5%A8%9C%E8%8F%B2%E9%B2%81%E5%A1%94%E5%88%A9%C2%B7%E8%96%87%E8%96%87'\n",
       "14. '/wiki/%E6%89%98%E6%8B%89%E6%B3%95%E7%88%BE%E5%8A%A0%C2%B7D%C2%B7%E7%93%A6%E7%89%B9%E7%88%BE%C2%B7%E7%BE%85'\n",
       "15. '/wiki/%E5%93%A5%E7%88%BE%C2%B7D%C2%B7%E7%BE%85%E5%82%91'\n",
       "16. '/wiki/%E5%82%91%E5%85%8B_(One_Piece)'\n",
       "17. '/wiki/%E5%B7%B4%E5%85%B6_(ONE_PIECE)'\n",
       "18. '#多雷古'\n",
       "19. '#亞普'\n",
       "20. '/wiki/%E5%BA%AB%E5%B1%B1'\n",
       "21. '/wiki/%E5%B7%B4%E5%85%B6_(ONE_PIECE)'\n",
       "22. '/wiki/%E5%90%89%E8%B2%9D%E7%88%BE'\n",
       "23. '/wiki/%E5%B8%83%E9%AD%AF%E5%85%8B_(ONE_PIECE)'\n",
       "\n",
       "\n"
      ],
      "text/plain": [
       " [1] \"/wiki/%E8%92%99%E5%85%B6%C2%B7D%C2%B7%E9%AD%AF%E5%A4%AB\"                                                   \n",
       " [2] \"/wiki/%E7%BE%85%E7%BE%85%E4%BA%9E%C2%B7%E7%B4%A2%E9%9A%86\"                                                 \n",
       " [3] \"/wiki/%E5%A8%9C%E7%BE%8E\"                                                                                  \n",
       " [4] \"/wiki/%E9%A8%99%E4%BA%BA%E5%B8%83\"                                                                         \n",
       " [5] \"/wiki/%E8%B3%93%E4%BB%80%E8%8E%AB%E5%85%8B%C2%B7%E9%A6%99%E5%90%89%E5%A3%AB\"                               \n",
       " [6] \"/wiki/%E5%A4%9A%E5%B0%BC%E5%A4%9A%E5%B0%BC%C2%B7%E5%96%AC%E5%B7%B4\"                                        \n",
       " [7] \"/wiki/%E5%A6%AE%E5%8F%AF%C2%B7%E7%BE%85%E8%B3%93\"                                                          \n",
       " [8] \"/wiki/%E4%BD%9B%E6%9C%97%E5%9F%BA\"                                                                         \n",
       " [9] \"/wiki/%E5%B8%83%E9%AD%AF%E5%85%8B_(ONE_PIECE)\"                                                             \n",
       "[10] \"/wiki/%E5%90%89%E8%B2%9D%E7%88%BE\"                                                                         \n",
       "[11] \"/wiki/%E5%89%8D%E9%80%B2%E6%A2%85%E5%88%A9%E8%99%9F\"                                                       \n",
       "[12] \"/wiki/%E5%8D%83%E9%99%BD%E8%99%9F\"                                                                         \n",
       "[13] \"/wiki/%E5%A8%9C%E8%8F%B2%E9%B2%81%E5%A1%94%E5%88%A9%C2%B7%E8%96%87%E8%96%87\"                               \n",
       "[14] \"/wiki/%E6%89%98%E6%8B%89%E6%B3%95%E7%88%BE%E5%8A%A0%C2%B7D%C2%B7%E7%93%A6%E7%89%B9%E7%88%BE%C2%B7%E7%BE%85\"\n",
       "[15] \"/wiki/%E5%93%A5%E7%88%BE%C2%B7D%C2%B7%E7%BE%85%E5%82%91\"                                                   \n",
       "[16] \"/wiki/%E5%82%91%E5%85%8B_(One_Piece)\"                                                                      \n",
       "[17] \"/wiki/%E5%B7%B4%E5%85%B6_(ONE_PIECE)\"                                                                      \n",
       "[18] \"#多雷古\"                                                                                                   \n",
       "[19] \"#亞普\"                                                                                                     \n",
       "[20] \"/wiki/%E5%BA%AB%E5%B1%B1\"                                                                                  \n",
       "[21] \"/wiki/%E5%B7%B4%E5%85%B6_(ONE_PIECE)\"                                                                      \n",
       "[22] \"/wiki/%E5%90%89%E8%B2%9D%E7%88%BE\"                                                                         \n",
       "[23] \"/wiki/%E5%B8%83%E9%AD%AF%E5%85%8B_(ONE_PIECE)\"                                                             "
      ]
     },
     "metadata": {},
     "output_type": "display_data"
    }
   ],
   "source": [
    "onepiece.chracters.url"
   ]
  },
  {
   "cell_type": "code",
   "execution_count": 193,
   "metadata": {},
   "outputs": [
    {
     "data": {
      "text/html": [
       "<ol class=list-inline>\n",
       "\t<li>'蒙其·D·魯夫'</li>\n",
       "\t<li>'羅羅亞·索隆'</li>\n",
       "\t<li>'娜美'</li>\n",
       "\t<li>'騙人布'</li>\n",
       "\t<li>'賓什莫克·香吉士'</li>\n",
       "\t<li>'多尼多尼·喬巴'</li>\n",
       "\t<li>'妮可·羅賓'</li>\n",
       "\t<li>'佛朗基'</li>\n",
       "\t<li>'布魯克'</li>\n",
       "\t<li>'吉貝爾'</li>\n",
       "\t<li>'前進梅利號'</li>\n",
       "\t<li>'千陽號'</li>\n",
       "\t<li>'娜菲魯塔利·薇薇'</li>\n",
       "\t<li>'托拉法爾加·D·瓦特爾·羅'</li>\n",
       "\t<li>'哥爾·D·羅傑'</li>\n",
       "\t<li>'「紅髮」傑克'</li>\n",
       "\t<li>'「小丑」巴其'</li>\n",
       "\t<li>'多雷古'</li>\n",
       "\t<li>'亞普'</li>\n",
       "\t<li>'「青雉」庫山'</li>\n",
       "\t<li>'巴其'</li>\n",
       "\t<li>'吉貝爾'</li>\n",
       "\t<li>'布魯克'</li>\n",
       "</ol>\n"
      ],
      "text/latex": [
       "\\begin{enumerate*}\n",
       "\\item '蒙其·D·魯夫'\n",
       "\\item '羅羅亞·索隆'\n",
       "\\item '娜美'\n",
       "\\item '騙人布'\n",
       "\\item '賓什莫克·香吉士'\n",
       "\\item '多尼多尼·喬巴'\n",
       "\\item '妮可·羅賓'\n",
       "\\item '佛朗基'\n",
       "\\item '布魯克'\n",
       "\\item '吉貝爾'\n",
       "\\item '前進梅利號'\n",
       "\\item '千陽號'\n",
       "\\item '娜菲魯塔利·薇薇'\n",
       "\\item '托拉法爾加·D·瓦特爾·羅'\n",
       "\\item '哥爾·D·羅傑'\n",
       "\\item '「紅髮」傑克'\n",
       "\\item '「小丑」巴其'\n",
       "\\item '多雷古'\n",
       "\\item '亞普'\n",
       "\\item '「青雉」庫山'\n",
       "\\item '巴其'\n",
       "\\item '吉貝爾'\n",
       "\\item '布魯克'\n",
       "\\end{enumerate*}\n"
      ],
      "text/markdown": [
       "1. '蒙其·D·魯夫'\n",
       "2. '羅羅亞·索隆'\n",
       "3. '娜美'\n",
       "4. '騙人布'\n",
       "5. '賓什莫克·香吉士'\n",
       "6. '多尼多尼·喬巴'\n",
       "7. '妮可·羅賓'\n",
       "8. '佛朗基'\n",
       "9. '布魯克'\n",
       "10. '吉貝爾'\n",
       "11. '前進梅利號'\n",
       "12. '千陽號'\n",
       "13. '娜菲魯塔利·薇薇'\n",
       "14. '托拉法爾加·D·瓦特爾·羅'\n",
       "15. '哥爾·D·羅傑'\n",
       "16. '「紅髮」傑克'\n",
       "17. '「小丑」巴其'\n",
       "18. '多雷古'\n",
       "19. '亞普'\n",
       "20. '「青雉」庫山'\n",
       "21. '巴其'\n",
       "22. '吉貝爾'\n",
       "23. '布魯克'\n",
       "\n",
       "\n"
      ],
      "text/plain": [
       " [1] \"蒙其·D·魯夫\"             \"羅羅亞·索隆\"             \n",
       " [3] \"娜美\"                      \"騙人布\"                   \n",
       " [5] \"賓什莫克·香吉士\"          \"多尼多尼·喬巴\"           \n",
       " [7] \"妮可·羅賓\"                \"佛朗基\"                   \n",
       " [9] \"布魯克\"                    \"吉貝爾\"                   \n",
       "[11] \"前進梅利號\"                \"千陽號\"                   \n",
       "[13] \"娜菲魯塔利·薇薇\"          \"托拉法爾加·D·瓦特爾·羅\"\n",
       "[15] \"哥爾·D·羅傑\"             \"「紅髮」傑克\"             \n",
       "[17] \"「小丑」巴其\"              \"多雷古\"                   \n",
       "[19] \"亞普\"                      \"「青雉」庫山\"             \n",
       "[21] \"巴其\"                      \"吉貝爾\"                   \n",
       "[23] \"布魯克\"                   "
      ]
     },
     "metadata": {},
     "output_type": "display_data"
    }
   ],
   "source": [
    "onepiece.charaters.txt"
   ]
  },
  {
   "cell_type": "markdown",
   "metadata": {},
   "source": [
    "# Set value (form)"
   ]
  },
  {
   "cell_type": "code",
   "execution_count": 259,
   "metadata": {},
   "outputs": [],
   "source": [
    "# create target_website_form :\n",
    "search <- html_form(read_html(\"http://www.google.com\"))[[1]]\n",
    "# create target_website_session\n",
    "google_session <- html_session(\"http://www.google.com\")\n",
    "a <- set_values(search, q = \"My little pony\")\n",
    "# set_values(search, hl = \"fr\")\n",
    "## Not run: set_values(search, btnI = \"blah\")"
   ]
  },
  {
   "cell_type": "code",
   "execution_count": 264,
   "metadata": {},
   "outputs": [
    {
     "data": {
      "text/plain": [
       "<form> 'f' (GET /search)\n",
       "  <input hidden> 'ie': Big5\n",
       "  <input hidden> 'hl': zh-TW\n",
       "  <input hidden> 'source': hp\n",
       "  <input hidden> 'biw': \n",
       "  <input hidden> 'bih': \n",
       "  <input text> 'q': \n",
       "  <input submit> 'btnG': Google ·j´M\n",
       "  <input submit> 'btnI': ¦n¤â®ð\n",
       "  <input hidden> 'gbv': 1"
      ]
     },
     "metadata": {},
     "output_type": "display_data"
    }
   ],
   "source": [
    "search"
   ]
  },
  {
   "cell_type": "code",
   "execution_count": 261,
   "metadata": {},
   "outputs": [
    {
     "name": "stderr",
     "output_type": "stream",
     "text": [
      "Submitting with 'btnG'\n"
     ]
    }
   ],
   "source": [
    "result_session = submit_form(session = google_session, form = a)"
   ]
  },
  {
   "cell_type": "code",
   "execution_count": 263,
   "metadata": {},
   "outputs": [
    {
     "data": {
      "text/plain": [
       "<session> http://www.google.com.tw/search?ie=Big5&hl=zh-TW&source=hp&q=My%20little%20pony&btnG=Google%20%C2%B7j%C2%B4M&gbv=1\n",
       "  Status: 200\n",
       "  Type:   text/html; charset=Big5\n",
       "  Size:   82952"
      ]
     },
     "metadata": {},
     "output_type": "display_data"
    }
   ],
   "source": [
    "result_session"
   ]
  }
 ],
 "metadata": {
  "kernelspec": {
   "display_name": "R",
   "language": "R",
   "name": "ir"
  },
  "language_info": {
   "codemirror_mode": "r",
   "file_extension": ".r",
   "mimetype": "text/x-r-source",
   "name": "R",
   "pygments_lexer": "r",
   "version": "3.4.3"
  }
 },
 "nbformat": 4,
 "nbformat_minor": 2
}
