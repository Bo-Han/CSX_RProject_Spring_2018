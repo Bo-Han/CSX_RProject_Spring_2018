{
 "cells": [
  {
   "cell_type": "markdown",
   "metadata": {},
   "source": [
    "# Httr"
   ]
  },
  {
   "cell_type": "markdown",
   "metadata": {},
   "source": [
    "## Key features"
   ]
  },
  {
   "cell_type": "markdown",
   "metadata": {},
   "source": [
    "### Verbs\n",
    "* GET( ) :  [GET(url = NULL, config = list(), ..., handle = NULL)](https://www.rdocumentation.org/packages/httr/versions/0.1.1/topics/GET)\n",
    "* HEAD( ) : [HEAD(url = NULL, config = list(), ..., handle = NULL)](https://www.rdocumentation.org/packages/httr/versions/0.1.1/topics/HEAD)\n",
    "* PATCH( ) : [PATCH(url = NULL, config = list(), body = NULL,\n",
    "    multipart = TRUE, ..., handle = NULL)](https://www.rdocumentation.org/packages/httr/versions/0.1.1/topics/PATCH)\n",
    "* POST( ) : [POST(url = NULL, config = list(), body = NULL,\n",
    "    multipart = TRUE, ..., handle = NULL)](https://www.rdocumentation.org/packages/httr/versions/0.1.1/topics/POST)\n",
    "* DELETE( ) : [DELETE(url = NULL, config = list(), ..., handle = NULL)](https://www.rdocumentation.org/packages/httr/versions/0.1.1/topics/DELETE)\n",
    "* PUT( ) : [PUT(url = NULL, config = list(), body = NULL,\n",
    "    multipart = TRUE, ..., handle = NULL)](https://www.rdocumentation.org/packages/httr/versions/0.1.1/topics/PUT)"
   ]
  },
  {
   "cell_type": "markdown",
   "metadata": {},
   "source": [
    "* BROWSE( ) : [open a specific Url in Browser](https://www.rdocumentation.org/packages/httr/versions/0.1.1/topics/BROWSE)"
   ]
  },
  {
   "cell_type": "markdown",
   "metadata": {},
   "source": [
    "* new_bin( ) : [Returns the url pointing to a newly created request bin. Can check that you're sending what you think you're sending.](https://www.rdocumentation.org/packages/httr/versions/0.1.1/topics/new_bin\n",
    ")\n",
    "* config( ) : [Set Only Curl Options.](https://www.rdocumentation.org/packages/httr/versions/0.1.1/topics/config)\n",
    "* handle( url, cookies = TRUE ) : [Create A Handle Tied To A Particular Host.](https://www.rdocumentation.org/packages/httr/versions/0.1.1/topics/handle)"
   ]
  },
  {
   "cell_type": "markdown",
   "metadata": {},
   "source": [
    "* request return a standard response object \n",
    "* capture the **http status, lines, headers, body**\n",
    "* `content(x)` : as a raw object\n",
    "* `text_context(x)` : as a character vector\n",
    "* `parsed_context(x)` : as parsed into an R object where possible"
   ]
  },
  {
   "cell_type": "markdown",
   "metadata": {},
   "source": [
    "**config functions**\n",
    "\n",
    "`set_cookies()`  `add_headers()`   `authenticate()`  `use_proxy()`   `verbose()`   `timeout()`   `content_type()`  `accept()`  `progress()`"
   ]
  },
  {
   "cell_type": "markdown",
   "metadata": {},
   "source": [
    "**Support for OAuth 1.0**  `oauth1.0_token()`, `oauth2.0_token()`\n",
    "\n",
    "The **demo directory** has eight OAuth demos: four for 1.0 (twitter, vimeo, withings and yahoo) and four for 2.0 (facebook, github, google, linkedin). OAuth credentials are automatically cached within a project."
   ]
  },
  {
   "cell_type": "code",
   "execution_count": 4,
   "metadata": {},
   "outputs": [],
   "source": [
    "library(httr)"
   ]
  },
  {
   "cell_type": "code",
   "execution_count": 5,
   "metadata": {},
   "outputs": [],
   "source": [
    "url <- \"https://github.com/HowardChao/CSX_RProject_Spring_2018\""
   ]
  },
  {
   "cell_type": "code",
   "execution_count": 6,
   "metadata": {},
   "outputs": [],
   "source": [
    "response = GET(url)"
   ]
  },
  {
   "cell_type": "code",
   "execution_count": 7,
   "metadata": {},
   "outputs": [],
   "source": [
    "content = content(response)"
   ]
  },
  {
   "cell_type": "code",
   "execution_count": 14,
   "metadata": {},
   "outputs": [
    {
     "name": "stdout",
     "output_type": "stream",
     "text": [
      " [1] \"{xml_document}\"                                                                         \n",
      " [2] \"<html lang=\\\"en\\\">\"                                                                     \n",
      " [3] \"[1] <head>\\\\n<meta http-equiv=\\\"Content-Type\\\" content=\\\"text/html; charset=UTF-8 ...\"  \n",
      " [4] \"[2] <body class=\\\"logged-out env-production\\\">\\\\n    \\\\n\\\\n  <div class=\\\"position- ...\"\n",
      " [5] NA                                                                                       \n",
      " [6] NA                                                                                       \n",
      " [7] NA                                                                                       \n",
      " [8] NA                                                                                       \n",
      " [9] NA                                                                                       \n",
      "[10] NA                                                                                       \n"
     ]
    }
   ],
   "source": [
    "print(capture.output(content)[1:10])# Capture first 10 lines of output"
   ]
  },
  {
   "cell_type": "code",
   "execution_count": 23,
   "metadata": {},
   "outputs": [
    {
     "name": "stderr",
     "output_type": "stream",
     "text": [
      "Warning message:\n",
      "“'plotly_POST' is deprecated.\n",
      "Use 'api_create' instead.\n",
      "See help(\"Deprecated\")”Warning message:\n",
      "“You need a plotly username. See help(signup, package = 'plotly')”Warning message:\n",
      "“Couldn't find username”Warning message:\n",
      "“You need an api_key. See help(signup, package = 'plotly')”Warning message:\n",
      "“Couldn't find api_key”Warning message:\n",
      "“You need a plotly username. See help(signup, package = 'plotly')”Warning message:\n",
      "“Couldn't find username”Warning message:\n",
      "“You need an api_key. See help(signup, package = 'plotly')”Warning message:\n",
      "“Couldn't find api_key”Warning message:\n",
      "“You need a plotly username. See help(signup, package = 'plotly')”Warning message:\n",
      "“Couldn't find username”Warning message:\n",
      "“You need an api_key. See help(signup, package = 'plotly')”Warning message:\n",
      "“Couldn't find api_key”"
     ]
    },
    {
     "ename": "ERROR",
     "evalue": "Error: Client error: (401) Unauthorized\n\tNo such user\n",
     "output_type": "error",
     "traceback": [
      "Error: Client error: (401) Unauthorized\n\tNo such user\nTraceback:\n",
      "1. plotly_POST(p, filename = \"choropleth/ag\")",
      "2. api_create(x, filename = filename, sharing = sharing, fileopt = fileopt, \n .     ...)",
      "3. api_create.plotly(x, filename = filename, sharing = sharing, \n .     fileopt = fileopt, ...)",
      "4. api_pave_path(plotname)",
      "5. api(\"folders\", \"POST\", list(path = parent))",
      "6. structure(process(resp), class = \"api\")",
      "7. process(resp)",
      "8. process.default(resp)",
      "9. json_content(relay_error(resp))",
      "10. relay_error(resp)",
      "11. stop(httr::http_status(resp)[[\"message\"]], \"\\n\\t\", paste(msgs, \n  .     collapse = \"\\n\\t\"), call. = FALSE)"
     ]
    }
   ],
   "source": [
    "library(plotly)\n",
    "df <- read.csv(\"https://raw.githubusercontent.com/plotly/datasets/master/2011_us_ag_exports.csv\")\n",
    "df$hover <- with(df, paste(state, '<br>', \"Beef\", beef, \"Dairy\", dairy, \"<br>\",\n",
    "                           \"Fruits\", total.fruits, \"Veggies\", total.veggies,\n",
    "                           \"<br>\", \"Wheat\", wheat, \"Corn\", corn))\n",
    "# give state boundaries a white border\n",
    "l <- list(color = toRGB(\"white\"), width = 2)\n",
    "# specify some map projection/options\n",
    "g <- list(\n",
    "  scope = 'usa',\n",
    "  projection = list(type = 'albers usa'),\n",
    "  showlakes = TRUE,\n",
    "  lakecolor = toRGB('white')\n",
    ")\n",
    "\n",
    "p <- plot_geo(df, locationmode = 'USA-states') %>%\n",
    "  add_trace(\n",
    "    z = ~total.exports, text = ~hover, locations = ~code,\n",
    "    color = ~total.exports, colors = 'Purples'\n",
    "  ) %>%\n",
    "  colorbar(title = \"Millions USD\") %>%\n",
    "  layout(\n",
    "    title = '2011 US Agriculture Exports by State<br>(Hover for breakdown)',\n",
    "    geo = g\n",
    "  )\n",
    "\n",
    "# Create a shareable link to your chart\n",
    "# Set up API credentials: https://plot.ly/r/getting-started\n",
    "chart_link = plotly_POST(p, filename=\"choropleth/ag\")\n",
    "chart_link"
   ]
  },
  {
   "cell_type": "code",
   "execution_count": null,
   "metadata": {},
   "outputs": [],
   "source": []
  }
 ],
 "metadata": {
  "kernelspec": {
   "display_name": "R",
   "language": "R",
   "name": "ir"
  },
  "language_info": {
   "codemirror_mode": "r",
   "file_extension": ".r",
   "mimetype": "text/x-r-source",
   "name": "R",
   "pygments_lexer": "r",
   "version": "3.4.3"
  }
 },
 "nbformat": 4,
 "nbformat_minor": 2
}
