{
 "cells": [
  {
   "cell_type": "markdown",
   "metadata": {},
   "source": [
    "# Httr"
   ]
  },
  {
   "cell_type": "markdown",
   "metadata": {},
   "source": [
    "## Key features"
   ]
  },
  {
   "cell_type": "markdown",
   "metadata": {},
   "source": [
    "### Verbs\n",
    "* GET( )\n",
    "* HEAD( )\n",
    "* PATCH( )\n",
    "* PUT( )\n",
    "* DELETE( )\n",
    "* POST( )"
   ]
  },
  {
   "cell_type": "markdown",
   "metadata": {},
   "source": [
    "* request return a standard response object \n",
    "* capture the **http status, lines, headers, body**\n",
    "* `content()` to get the responsed content \n",
    "    (raw vector ==> **as = \"raw\"**; character vector ==> **as = \"text\"**; R object ==> **as = \"parsed\"**(fro html, xml, json, png, jpeg))"
   ]
  },
  {
   "cell_type": "markdown",
   "metadata": {},
   "source": [
    "**config functions**\n",
    "\n",
    "`set_cookies()`  `add_headers()`   `authenticate()`  `use_proxy()`   `verbose()`   `timeout()`   `content_type()`  `accept()`  `progress()`"
   ]
  },
  {
   "cell_type": "markdown",
   "metadata": {},
   "source": [
    "**Support for OAuth 1.0**  `oauth1.0_token()`, `oauth2.0_token()`\n",
    "\n",
    "The **demo directory** has eight OAuth demos: four for 1.0 (twitter, vimeo, withings and yahoo) and four for 2.0 (facebook, github, google, linkedin). OAuth credentials are automatically cached within a project."
   ]
  },
  {
   "cell_type": "code",
   "execution_count": 4,
   "metadata": {},
   "outputs": [],
   "source": [
    "library(httr)"
   ]
  },
  {
   "cell_type": "code",
   "execution_count": 5,
   "metadata": {},
   "outputs": [],
   "source": [
    "url <- \"https://github.com/HowardChao/CSX_RProject_Spring_2018\""
   ]
  },
  {
   "cell_type": "code",
   "execution_count": 6,
   "metadata": {},
   "outputs": [],
   "source": [
    "response = GET(url)"
   ]
  },
  {
   "cell_type": "code",
   "execution_count": 7,
   "metadata": {},
   "outputs": [],
   "source": [
    "content = content(response)"
   ]
  },
  {
   "cell_type": "code",
   "execution_count": 14,
   "metadata": {},
   "outputs": [
    {
     "name": "stdout",
     "output_type": "stream",
     "text": [
      " [1] \"{xml_document}\"                                                                         \n",
      " [2] \"<html lang=\\\"en\\\">\"                                                                     \n",
      " [3] \"[1] <head>\\\\n<meta http-equiv=\\\"Content-Type\\\" content=\\\"text/html; charset=UTF-8 ...\"  \n",
      " [4] \"[2] <body class=\\\"logged-out env-production\\\">\\\\n    \\\\n\\\\n  <div class=\\\"position- ...\"\n",
      " [5] NA                                                                                       \n",
      " [6] NA                                                                                       \n",
      " [7] NA                                                                                       \n",
      " [8] NA                                                                                       \n",
      " [9] NA                                                                                       \n",
      "[10] NA                                                                                       \n"
     ]
    }
   ],
   "source": [
    "print(capture.output(content)[1:10])# Capture first 10 lines of output"
   ]
  },
  {
   "cell_type": "code",
   "execution_count": null,
   "metadata": {},
   "outputs": [],
   "source": []
  }
 ],
 "metadata": {
  "kernelspec": {
   "display_name": "R",
   "language": "R",
   "name": "ir"
  },
  "language_info": {
   "codemirror_mode": "r",
   "file_extension": ".r",
   "mimetype": "text/x-r-source",
   "name": "R",
   "pygments_lexer": "r",
   "version": "3.4.3"
  }
 },
 "nbformat": 4,
 "nbformat_minor": 2
}
