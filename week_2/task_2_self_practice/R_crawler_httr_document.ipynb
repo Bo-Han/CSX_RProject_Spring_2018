{
 "cells": [
  {
   "cell_type": "markdown",
   "metadata": {},
   "source": [
    "# Httr"
   ]
  },
  {
   "cell_type": "markdown",
   "metadata": {},
   "source": [
    "## Key features"
   ]
  },
  {
   "cell_type": "markdown",
   "metadata": {},
   "source": [
    "### Verbs\n",
    "* GET( ) :  [GET(url = NULL, config = list(), ..., handle = NULL)](https://www.rdocumentation.org/packages/httr/versions/0.1.1/topics/GET)\n",
    "* HEAD( ) : [HEAD(url = NULL, config = list(), ..., handle = NULL)](https://www.rdocumentation.org/packages/httr/versions/0.1.1/topics/HEAD)\n",
    "* PATCH( ) : [PATCH(url = NULL, config = list(), body = NULL,\n",
    "    multipart = TRUE, ..., handle = NULL)](https://www.rdocumentation.org/packages/httr/versions/0.1.1/topics/PATCH)\n",
    "* POST( ) : [POST(url = NULL, config = list(), body = NULL,\n",
    "    multipart = TRUE, ..., handle = NULL)](https://www.rdocumentation.org/packages/httr/versions/0.1.1/topics/POST)\n",
    "* DELETE( ) : [DELETE(url = NULL, config = list(), ..., handle = NULL)](https://www.rdocumentation.org/packages/httr/versions/0.1.1/topics/DELETE)\n",
    "* PUT( ) : [PUT(url = NULL, config = list(), body = NULL,\n",
    "    multipart = TRUE, ..., handle = NULL)](https://www.rdocumentation.org/packages/httr/versions/0.1.1/topics/PUT)"
   ]
  },
  {
   "cell_type": "markdown",
   "metadata": {},
   "source": [
    "* BROWSE( ) : [open a specific Url in Browser](https://www.rdocumentation.org/packages/httr/versions/0.1.1/topics/BROWSE)"
   ]
  },
  {
   "cell_type": "markdown",
   "metadata": {},
   "source": [
    "* new_bin( ) : [Returns the url pointing to a newly created request bin. Can check that you're sending what you think you're sending.](https://www.rdocumentation.org/packages/httr/versions/0.1.1/topics/new_bin\n",
    ")\n",
    "* config( ) : [Set Only Curl Options.](https://www.rdocumentation.org/packages/httr/versions/0.1.1/topics/config)\n",
    "* handle( url, cookies = TRUE ) : [Create A Handle Tied To A Particular Host.](https://www.rdocumentation.org/packages/httr/versions/0.1.1/topics/handle)"
   ]
  },
  {
   "cell_type": "markdown",
   "metadata": {},
   "source": [
    "* request return a standard response object \n",
    "* capture the **http status, lines, headers, body**\n",
    "* `content(x)` : as a raw object\n",
    "* `text_context(x)` : as a character vector\n",
    "* `parsed_context(x)` : as parsed into an R object where possible"
   ]
  },
  {
   "cell_type": "markdown",
   "metadata": {},
   "source": [
    "**config functions**\n",
    "\n",
    "`set_cookies()`  `add_headers()`   `authenticate()`  `use_proxy()`   `verbose()`   `timeout()`   `content_type()`  `accept()`  `progress()`"
   ]
  },
  {
   "cell_type": "markdown",
   "metadata": {},
   "source": [
    "**Support for OAuth 1.0**  `oauth1.0_token()`, `oauth2.0_token()`\n",
    "\n",
    "The **demo directory** has eight OAuth demos: four for 1.0 (twitter, vimeo, withings and yahoo) and four for 2.0 (facebook, github, google, linkedin). OAuth credentials are automatically cached within a project."
   ]
  },
  {
   "cell_type": "code",
   "execution_count": 4,
   "metadata": {},
   "outputs": [],
   "source": [
    "library(httr)"
   ]
  },
  {
   "cell_type": "code",
   "execution_count": 5,
   "metadata": {},
   "outputs": [],
   "source": [
    "url <- \"https://github.com/HowardChao/CSX_RProject_Spring_2018\""
   ]
  },
  {
   "cell_type": "code",
   "execution_count": 6,
   "metadata": {},
   "outputs": [],
   "source": [
    "response = GET(url)"
   ]
  },
  {
   "cell_type": "code",
   "execution_count": 7,
   "metadata": {},
   "outputs": [],
   "source": [
    "content = content(response)"
   ]
  },
  {
   "cell_type": "code",
   "execution_count": 14,
   "metadata": {},
   "outputs": [
    {
     "name": "stdout",
     "output_type": "stream",
     "text": [
      " [1] \"{xml_document}\"                                                                         \n",
      " [2] \"<html lang=\\\"en\\\">\"                                                                     \n",
      " [3] \"[1] <head>\\\\n<meta http-equiv=\\\"Content-Type\\\" content=\\\"text/html; charset=UTF-8 ...\"  \n",
      " [4] \"[2] <body class=\\\"logged-out env-production\\\">\\\\n    \\\\n\\\\n  <div class=\\\"position- ...\"\n",
      " [5] NA                                                                                       \n",
      " [6] NA                                                                                       \n",
      " [7] NA                                                                                       \n",
      " [8] NA                                                                                       \n",
      " [9] NA                                                                                       \n",
      "[10] NA                                                                                       \n"
     ]
    }
   ],
   "source": [
    "print(capture.output(content)[1:10])# Capture first 10 lines of output"
   ]
  },
  {
   "cell_type": "code",
   "execution_count": 11,
   "metadata": {},
   "outputs": [],
   "source": [
    "# Connector\n",
    "library(httr)\n",
    "library(XML)\n",
    "\n",
    "url = \"https://zh.wikipedia.org/wiki/ONE_PIECE\"\n",
    "res <- GET(url)"
   ]
  },
  {
   "cell_type": "code",
   "execution_count": 12,
   "metadata": {},
   "outputs": [],
   "source": [
    "html <- htmlParse(content(res, \"text\", encoding = \"utf8\"), encoding = \"utf8\")"
   ]
  },
  {
   "cell_type": "code",
   "execution_count": null,
   "metadata": {},
   "outputs": [],
   "source": [
    "# Parser\n",
    "# library(stringr)\n",
    "tables <- readHTMLTable(html)"
   ]
  },
  {
   "cell_type": "code",
   "execution_count": null,
   "metadata": {},
   "outputs": [],
   "source": [
    "\n",
    "# try: which table has data?\n",
    "View(tables[[8]])\n",
    "View(tables[[9]])\n",
    "View(tables[[10]])\n",
    "\n",
    "sapply(tables,NCOL)\n",
    "sapply(tables,NROW)\n",
    "\n",
    "# figure out filtering condition ... \n",
    "filter_condition <- (sapply(tables,NCOL)==8)&(sapply(tables,NROW) <= 15)\n",
    "data_table <- tables[filter_condition][[1]]\n",
    "\n",
    "\n",
    "# double chech !\n",
    "View(data_table)\n",
    "\n",
    "# extract date info\n",
    "DataString_source = content(res, \"text\", encoding = \"big5\")\n",
    "# DataString_regexp <- \"([[:digit:]]{3}) /([[:digit:]]{2}) /([[:digit:]]{2})\"\n",
    "# DataString_Location = str_locate_all(DataString_source,DataString_regexp)[[1]]\n",
    "# DataString = str_sub(DataString_source, DataString_Location[1],DataString_Location[2])\n",
    "DateString = regmatches(DataString_source,regexpr(\"([0-9]+) /([0-9]+) /([0-9]+)\",DataString_source))\n",
    "DateVector = as.numeric(unlist(strsplit(DateString,split = \" /\")))\n",
    "DateVector[1] = DateVector[1] + 1911\n",
    "DataDate = as.Date(paste(DateVector,collapse = \"-\"))\n",
    "\n",
    "# change the data type of each column\n",
    "Data_Table = data_table\n",
    "Data_Table[,1] = as.factor(Data_Table[,1])\n",
    "Data_Table[,2] = as.integer(as.character(Data_Table[,2]))\n",
    "Data_Table[,3] = as.integer(as.character(Data_Table[,3]))\n",
    "Data_Table[,4] = as.integer(as.character(Data_Table[,4]))\n",
    "Data_Table[,5] = as.factor(Data_Table[,5])\n",
    "Data_Table[,6] = as.integer(as.character(Data_Table[,6]))\n",
    "Data_Table[,7] = as.integer(as.character(Data_Table[,7]))\n",
    "Data_Table[,8] = as.integer(as.character(Data_Table[,8]))\n",
    "\n",
    "View(Data_Table)\n",
    "\n",
    "\n",
    "# Convert data to table in db\n",
    "\n",
    "rbind(Data_Table[,1:3],Data_Table[,5:7])\n",
    "\n",
    "names(Data_Table)[c(1,5)] <- \"Broker\"\n",
    "Data_Table <- rbind(Data_Table[,1:3],Data_Table[,5:7])\n",
    "\n",
    "names(Data_Table)\n",
    "names(Data_Table)[2:3]<-c(\"Buy\",\"Sell\")\n",
    "\n",
    "stockId = \"2451\"\n",
    "Data_Table = data.frame(StockId=stockId,Date=DataDate,Data_Table)\n",
    "\n",
    "View(Data_Table)"
   ]
  }
 ],
 "metadata": {
  "kernelspec": {
   "display_name": "R",
   "language": "R",
   "name": "ir"
  },
  "language_info": {
   "codemirror_mode": "r",
   "file_extension": ".r",
   "mimetype": "text/x-r-source",
   "name": "R",
   "pygments_lexer": "r",
   "version": "3.4.3"
  }
 },
 "nbformat": 4,
 "nbformat_minor": 2
}
