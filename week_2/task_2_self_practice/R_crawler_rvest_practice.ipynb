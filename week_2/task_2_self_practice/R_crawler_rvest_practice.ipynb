{
 "cells": [
  {
   "cell_type": "markdown",
   "metadata": {},
   "source": [
    "# R Crawler rvest practice:  "
   ]
  },
  {
   "cell_type": "markdown",
   "metadata": {},
   "source": [
    "## Satisfaction Rate of Movies in IMDb"
   ]
  },
  {
   "cell_type": "code",
   "execution_count": 2,
   "metadata": {},
   "outputs": [],
   "source": [
    "# install showtext\n",
    "library(rvest)\n",
    "library(xml2)\n",
    "library(igraph)\n",
    "library(ggplot2)\n",
    "library(showtext)"
   ]
  },
  {
   "cell_type": "code",
   "execution_count": 178,
   "metadata": {},
   "outputs": [],
   "source": [
    "IMDb_movie_url <- read_html(\"http://www.imdb.com/list/ls058982125/?sort=user_rating,desc&st_dt=&mode=detail&page=1\")"
   ]
  },
  {
   "cell_type": "code",
   "execution_count": 179,
   "metadata": {},
   "outputs": [],
   "source": [
    "movie_name_list <- IMDb_movie_url %>%\n",
    "  html_nodes(\".lister-item-header a\") %>%\n",
    "  html_text()"
   ]
  },
  {
   "cell_type": "code",
   "execution_count": 180,
   "metadata": {},
   "outputs": [
    {
     "data": {
      "text/html": [
       "100"
      ],
      "text/latex": [
       "100"
      ],
      "text/markdown": [
       "100"
      ],
      "text/plain": [
       "[1] 100"
      ]
     },
     "metadata": {},
     "output_type": "display_data"
    }
   ],
   "source": [
    "length(movie_name_list)"
   ]
  },
  {
   "cell_type": "code",
   "execution_count": 181,
   "metadata": {},
   "outputs": [],
   "source": [
    "movie_rate_list <- IMDb_movie_url %>% \n",
    "  html_nodes(\".ratings-imdb-rating strong\") %>%\n",
    "  html_text() %>%\n",
    "  as.numeric()"
   ]
  },
  {
   "cell_type": "code",
   "execution_count": 182,
   "metadata": {},
   "outputs": [
    {
     "data": {
      "text/html": [
       "100"
      ],
      "text/latex": [
       "100"
      ],
      "text/markdown": [
       "100"
      ],
      "text/plain": [
       "[1] 100"
      ]
     },
     "metadata": {},
     "output_type": "display_data"
    }
   ],
   "source": [
    "length(movie_rate_list)"
   ]
  },
  {
   "cell_type": "code",
   "execution_count": 221,
   "metadata": {},
   "outputs": [
    {
     "data": {
      "text/html": [],
      "text/latex": [],
      "text/markdown": [],
      "text/plain": [
       "numeric(0)"
      ]
     },
     "metadata": {},
     "output_type": "display_data"
    }
   ],
   "source": [
    "movie_vote_list <- IMDb_movie_url %>%\n",
    "  html_nodes(\".text-muted+ span:nth-child(2)\") %>%\n",
    "  html_text() \n",
    "  as.numeric()"
   ]
  },
  {
   "cell_type": "code",
   "execution_count": 222,
   "metadata": {},
   "outputs": [],
   "source": [
    "movie_vote_list_revise <- movie_vote_list[4:103]"
   ]
  },
  {
   "cell_type": "code",
   "execution_count": 240,
   "metadata": {},
   "outputs": [
    {
     "data": {
      "text/html": [
       "100"
      ],
      "text/latex": [
       "100"
      ],
      "text/markdown": [
       "100"
      ],
      "text/plain": [
       "[1] 100"
      ]
     },
     "metadata": {},
     "output_type": "display_data"
    }
   ],
   "source": [
    "length(movie_vote_list_revise)"
   ]
  },
  {
   "cell_type": "code",
   "execution_count": 243,
   "metadata": {},
   "outputs": [],
   "source": [
    "movie_time_list <- IMDb_movie_url %>% \n",
    "  html_nodes(\".runtime\") %>%\n",
    "  html_text()"
   ]
  },
  {
   "cell_type": "code",
   "execution_count": 247,
   "metadata": {},
   "outputs": [
    {
     "data": {
      "text/html": [
       "100"
      ],
      "text/latex": [
       "100"
      ],
      "text/markdown": [
       "100"
      ],
      "text/plain": [
       "[1] 100"
      ]
     },
     "metadata": {},
     "output_type": "display_data"
    }
   ],
   "source": [
    "length(movie_time_list)"
   ]
  },
  {
   "cell_type": "code",
   "execution_count": 250,
   "metadata": {},
   "outputs": [],
   "source": [
    "df_movie = data.frame(movie_name_list, movie_rate_list, movie_vote_list_revise, movie_time_list)"
   ]
  },
  {
   "cell_type": "code",
   "execution_count": 251,
   "metadata": {
    "scrolled": true
   },
   "outputs": [
    {
     "data": {
      "text/html": [
       "<table>\n",
       "<thead><tr><th scope=col>movie_name_list</th><th scope=col>movie_rate_list</th><th scope=col>movie_vote_list_revise</th><th scope=col>movie_time_list</th></tr></thead>\n",
       "<tbody>\n",
       "\t<tr><td>Coco                                   </td><td>8.5                                    </td><td>127,025                                </td><td>105 min                                </td></tr>\n",
       "\t<tr><td>Blade Runner 2049                      </td><td>8.2                                    </td><td>261,103                                </td><td>164 min                                </td></tr>\n",
       "\t<tr><td>Logan                                  </td><td>8.1                                    </td><td>459,249                                </td><td>137 min                                </td></tr>\n",
       "\t<tr><td>Paddington 2                           </td><td>8.1                                    </td><td>16,462                                 </td><td>104 min                                </td></tr>\n",
       "\t<tr><td>Thor: Ragnarok                         </td><td>8.0                                    </td><td>266,975                                </td><td>130 min                                </td></tr>\n",
       "\t<tr><td>Dunkirk                                </td><td>8.0                                    </td><td>364,019                                </td><td>106 min                                </td></tr>\n",
       "\t<tr><td>Wind River                             </td><td>7.8                                    </td><td>107,296                                </td><td>107 min                                </td></tr>\n",
       "\t<tr><td>Get Out                                </td><td>7.7                                    </td><td>276,621                                </td><td>104 min                                </td></tr>\n",
       "\t<tr><td>Guardians of the Galaxy Vol. 2         </td><td>7.7                                    </td><td>349,625                                </td><td>136 min                                </td></tr>\n",
       "\t<tr><td>Baby Driver                            </td><td>7.7                                    </td><td>277,051                                </td><td>112 min                                </td></tr>\n",
       "\t<tr><td>I, Tonya                               </td><td>7.6                                    </td><td>57,260                                 </td><td>120 min                                </td></tr>\n",
       "\t<tr><td>The Disaster Artist                    </td><td>7.6                                    </td><td>60,246                                 </td><td>104 min                                </td></tr>\n",
       "\t<tr><td>It                                     </td><td>7.5                                    </td><td>255,003                                </td><td>135 min                                </td></tr>\n",
       "\t<tr><td>Wonder Woman                           </td><td>7.5                                    </td><td>385,727                                </td><td>141 min                                </td></tr>\n",
       "\t<tr><td>Spider-Man: Homecoming                 </td><td>7.5                                    </td><td>290,015                                </td><td>133 min                                </td></tr>\n",
       "\t<tr><td>Molly's Game                           </td><td>7.5                                    </td><td>35,513                                 </td><td>140 min                                </td></tr>\n",
       "\t<tr><td>War for the Planet of the Apes         </td><td>7.5                                    </td><td>160,239                                </td><td>140 min                                </td></tr>\n",
       "\t<tr><td>John Wick: Chapter 2                   </td><td>7.5                                    </td><td>218,836                                </td><td>122 min                                </td></tr>\n",
       "\t<tr><td>Star Wars: Episode VIII - The Last Jedi</td><td>7.4                                    </td><td>325,857                                </td><td>152 min                                </td></tr>\n",
       "\t<tr><td>Shot Caller                            </td><td>7.4                                    </td><td>41,988                                 </td><td>121 min                                </td></tr>\n",
       "\t<tr><td>Beauty and the Beast                   </td><td>7.3                                    </td><td>200,891                                </td><td>129 min                                </td></tr>\n",
       "\t<tr><td>Good Time                              </td><td>7.3                                    </td><td>32,710                                 </td><td>101 min                                </td></tr>\n",
       "\t<tr><td>The LEGO Batman Movie                  </td><td>7.3                                    </td><td>95,833                                 </td><td>104 min                                </td></tr>\n",
       "\t<tr><td>American Made                          </td><td>7.2                                    </td><td>88,919                                 </td><td>115 min                                </td></tr>\n",
       "\t<tr><td>Marshall                               </td><td>7.2                                    </td><td>7,673                                  </td><td>118 min                                </td></tr>\n",
       "\t<tr><td>Jumanji: Welcome to the Jungle         </td><td>7.1                                    </td><td>94,534                                 </td><td>119 min                                </td></tr>\n",
       "\t<tr><td>Logan Lucky                            </td><td>7.1                                    </td><td>72,223                                 </td><td>118 min                                </td></tr>\n",
       "\t<tr><td>All the Money in the World             </td><td>7.1                                    </td><td>16,497                                 </td><td>132 min                                </td></tr>\n",
       "\t<tr><td>The Foreigner                          </td><td>7.1                                    </td><td>55,143                                 </td><td>113 min                                </td></tr>\n",
       "\t<tr><td>Goodbye Christopher Robin              </td><td>7.1                                    </td><td>8,796                                  </td><td>107 min                                </td></tr>\n",
       "\t<tr><td>⋮</td><td>⋮</td><td>⋮</td><td>⋮</td></tr>\n",
       "\t<tr><td>The LEGO Ninjago Movie        </td><td>6.0                           </td><td>11,913                        </td><td>101 min                       </td></tr>\n",
       "\t<tr><td>Jigsaw                        </td><td>5.9                           </td><td>38,211                        </td><td>92 min                        </td></tr>\n",
       "\t<tr><td>Smurfs: The Lost Village      </td><td>5.9                           </td><td>12,518                        </td><td>90 min                        </td></tr>\n",
       "\t<tr><td>Maze                          </td><td>5.9                           </td><td>1,264                         </td><td>92 min                        </td></tr>\n",
       "\t<tr><td>All Eyez on Me                </td><td>5.8                           </td><td>14,413                        </td><td>139 min                       </td></tr>\n",
       "\t<tr><td>Downsizing                    </td><td>5.7                           </td><td>28,401                        </td><td>135 min                       </td></tr>\n",
       "\t<tr><td>The Dark Tower                </td><td>5.7                           </td><td>83,020                        </td><td>95 min                        </td></tr>\n",
       "\t<tr><td>47 Meters Down                </td><td>5.7                           </td><td>28,237                        </td><td>89 min                        </td></tr>\n",
       "\t<tr><td>2:22                          </td><td>5.7                           </td><td>11,933                        </td><td>98 min                        </td></tr>\n",
       "\t<tr><td>Baywatch                      </td><td>5.6                           </td><td>95,486                        </td><td>116 min                       </td></tr>\n",
       "\t<tr><td>Fist Fight                    </td><td>5.6                           </td><td>28,025                        </td><td>91 min                        </td></tr>\n",
       "\t<tr><td>The Mummy                     </td><td>5.5                           </td><td>126,125                       </td><td>110 min                       </td></tr>\n",
       "\t<tr><td>A Bad Moms Christmas          </td><td>5.5                           </td><td>18,499                        </td><td>104 min                       </td></tr>\n",
       "\t<tr><td>Geostorm                      </td><td>5.4                           </td><td>51,647                        </td><td>109 min                       </td></tr>\n",
       "\t<tr><td>The Circle                    </td><td>5.3                           </td><td>57,751                        </td><td>110 min                       </td></tr>\n",
       "\t<tr><td>The Nut Job 2: Nutty by Nature</td><td>5.3                           </td><td>3,181                         </td><td>91 min                        </td></tr>\n",
       "\t<tr><td>xXx: Return of Xander Cage    </td><td>5.2                           </td><td>67,638                        </td><td>107 min                       </td></tr>\n",
       "\t<tr><td>Transformers: The Last Knight </td><td>5.2                           </td><td>92,131                        </td><td>154 min                       </td></tr>\n",
       "\t<tr><td>Rough Night                   </td><td>5.2                           </td><td>29,146                        </td><td>101 min                       </td></tr>\n",
       "\t<tr><td>Flatliners                    </td><td>5.2                           </td><td>21,593                        </td><td>109 min                       </td></tr>\n",
       "\t<tr><td>Once Upon a Time in Venice    </td><td>5.2                           </td><td>10,598                        </td><td>94 min                        </td></tr>\n",
       "\t<tr><td>November Criminals            </td><td>5.2                           </td><td>4,168                         </td><td>85 min                        </td></tr>\n",
       "\t<tr><td>Bullet Head                   </td><td>5.2                           </td><td>2,750                         </td><td>93 min                        </td></tr>\n",
       "\t<tr><td>The Snowman                   </td><td>5.1                           </td><td>31,405                        </td><td>119 min                       </td></tr>\n",
       "\t<tr><td>Unforgettable                 </td><td>5.0                           </td><td>8,467                         </td><td>100 min                       </td></tr>\n",
       "\t<tr><td>Father Figures                </td><td>4.9                           </td><td>2,187                         </td><td>113 min                       </td></tr>\n",
       "\t<tr><td>The Vault                     </td><td>4.8                           </td><td>6,626                         </td><td>91 min                        </td></tr>\n",
       "\t<tr><td>Surf's Up 2: WaveMania        </td><td>4.7                           </td><td>1,007                         </td><td>84 min                        </td></tr>\n",
       "\t<tr><td>Fifty Shades Darker           </td><td>4.6                           </td><td>68,824                        </td><td>118 min                       </td></tr>\n",
       "\t<tr><td>Rings                         </td><td>4.5                           </td><td>28,822                        </td><td>102 min                       </td></tr>\n",
       "</tbody>\n",
       "</table>\n"
      ],
      "text/latex": [
       "\\begin{tabular}{r|llll}\n",
       " movie\\_name\\_list & movie\\_rate\\_list & movie\\_vote\\_list\\_revise & movie\\_time\\_list\\\\\n",
       "\\hline\n",
       "\t Coco                                    & 8.5                                     & 127,025                                 & 105 min                                \\\\\n",
       "\t Blade Runner 2049                       & 8.2                                     & 261,103                                 & 164 min                                \\\\\n",
       "\t Logan                                   & 8.1                                     & 459,249                                 & 137 min                                \\\\\n",
       "\t Paddington 2                            & 8.1                                     & 16,462                                  & 104 min                                \\\\\n",
       "\t Thor: Ragnarok                          & 8.0                                     & 266,975                                 & 130 min                                \\\\\n",
       "\t Dunkirk                                 & 8.0                                     & 364,019                                 & 106 min                                \\\\\n",
       "\t Wind River                              & 7.8                                     & 107,296                                 & 107 min                                \\\\\n",
       "\t Get Out                                 & 7.7                                     & 276,621                                 & 104 min                                \\\\\n",
       "\t Guardians of the Galaxy Vol. 2          & 7.7                                     & 349,625                                 & 136 min                                \\\\\n",
       "\t Baby Driver                             & 7.7                                     & 277,051                                 & 112 min                                \\\\\n",
       "\t I, Tonya                                & 7.6                                     & 57,260                                  & 120 min                                \\\\\n",
       "\t The Disaster Artist                     & 7.6                                     & 60,246                                  & 104 min                                \\\\\n",
       "\t It                                      & 7.5                                     & 255,003                                 & 135 min                                \\\\\n",
       "\t Wonder Woman                            & 7.5                                     & 385,727                                 & 141 min                                \\\\\n",
       "\t Spider-Man: Homecoming                  & 7.5                                     & 290,015                                 & 133 min                                \\\\\n",
       "\t Molly's Game                            & 7.5                                     & 35,513                                  & 140 min                                \\\\\n",
       "\t War for the Planet of the Apes          & 7.5                                     & 160,239                                 & 140 min                                \\\\\n",
       "\t John Wick: Chapter 2                    & 7.5                                     & 218,836                                 & 122 min                                \\\\\n",
       "\t Star Wars: Episode VIII - The Last Jedi & 7.4                                     & 325,857                                 & 152 min                                \\\\\n",
       "\t Shot Caller                             & 7.4                                     & 41,988                                  & 121 min                                \\\\\n",
       "\t Beauty and the Beast                    & 7.3                                     & 200,891                                 & 129 min                                \\\\\n",
       "\t Good Time                               & 7.3                                     & 32,710                                  & 101 min                                \\\\\n",
       "\t The LEGO Batman Movie                   & 7.3                                     & 95,833                                  & 104 min                                \\\\\n",
       "\t American Made                           & 7.2                                     & 88,919                                  & 115 min                                \\\\\n",
       "\t Marshall                                & 7.2                                     & 7,673                                   & 118 min                                \\\\\n",
       "\t Jumanji: Welcome to the Jungle          & 7.1                                     & 94,534                                  & 119 min                                \\\\\n",
       "\t Logan Lucky                             & 7.1                                     & 72,223                                  & 118 min                                \\\\\n",
       "\t All the Money in the World              & 7.1                                     & 16,497                                  & 132 min                                \\\\\n",
       "\t The Foreigner                           & 7.1                                     & 55,143                                  & 113 min                                \\\\\n",
       "\t Goodbye Christopher Robin               & 7.1                                     & 8,796                                   & 107 min                                \\\\\n",
       "\t ⋮ & ⋮ & ⋮ & ⋮\\\\\n",
       "\t The LEGO Ninjago Movie         & 6.0                            & 11,913                         & 101 min                       \\\\\n",
       "\t Jigsaw                         & 5.9                            & 38,211                         & 92 min                        \\\\\n",
       "\t Smurfs: The Lost Village       & 5.9                            & 12,518                         & 90 min                        \\\\\n",
       "\t Maze                           & 5.9                            & 1,264                          & 92 min                        \\\\\n",
       "\t All Eyez on Me                 & 5.8                            & 14,413                         & 139 min                       \\\\\n",
       "\t Downsizing                     & 5.7                            & 28,401                         & 135 min                       \\\\\n",
       "\t The Dark Tower                 & 5.7                            & 83,020                         & 95 min                        \\\\\n",
       "\t 47 Meters Down                 & 5.7                            & 28,237                         & 89 min                        \\\\\n",
       "\t 2:22                           & 5.7                            & 11,933                         & 98 min                        \\\\\n",
       "\t Baywatch                       & 5.6                            & 95,486                         & 116 min                       \\\\\n",
       "\t Fist Fight                     & 5.6                            & 28,025                         & 91 min                        \\\\\n",
       "\t The Mummy                      & 5.5                            & 126,125                        & 110 min                       \\\\\n",
       "\t A Bad Moms Christmas           & 5.5                            & 18,499                         & 104 min                       \\\\\n",
       "\t Geostorm                       & 5.4                            & 51,647                         & 109 min                       \\\\\n",
       "\t The Circle                     & 5.3                            & 57,751                         & 110 min                       \\\\\n",
       "\t The Nut Job 2: Nutty by Nature & 5.3                            & 3,181                          & 91 min                        \\\\\n",
       "\t xXx: Return of Xander Cage     & 5.2                            & 67,638                         & 107 min                       \\\\\n",
       "\t Transformers: The Last Knight  & 5.2                            & 92,131                         & 154 min                       \\\\\n",
       "\t Rough Night                    & 5.2                            & 29,146                         & 101 min                       \\\\\n",
       "\t Flatliners                     & 5.2                            & 21,593                         & 109 min                       \\\\\n",
       "\t Once Upon a Time in Venice     & 5.2                            & 10,598                         & 94 min                        \\\\\n",
       "\t November Criminals             & 5.2                            & 4,168                          & 85 min                        \\\\\n",
       "\t Bullet Head                    & 5.2                            & 2,750                          & 93 min                        \\\\\n",
       "\t The Snowman                    & 5.1                            & 31,405                         & 119 min                       \\\\\n",
       "\t Unforgettable                  & 5.0                            & 8,467                          & 100 min                       \\\\\n",
       "\t Father Figures                 & 4.9                            & 2,187                          & 113 min                       \\\\\n",
       "\t The Vault                      & 4.8                            & 6,626                          & 91 min                        \\\\\n",
       "\t Surf's Up 2: WaveMania         & 4.7                            & 1,007                          & 84 min                        \\\\\n",
       "\t Fifty Shades Darker            & 4.6                            & 68,824                         & 118 min                       \\\\\n",
       "\t Rings                          & 4.5                            & 28,822                         & 102 min                       \\\\\n",
       "\\end{tabular}\n"
      ],
      "text/markdown": [
       "\n",
       "movie_name_list | movie_rate_list | movie_vote_list_revise | movie_time_list | \n",
       "|---|---|---|---|---|---|---|---|---|---|---|---|---|---|---|---|---|---|---|---|---|---|---|---|---|---|---|---|---|---|---|---|---|---|---|---|---|---|---|---|---|---|---|---|---|---|---|---|---|---|---|---|---|---|---|---|---|---|---|---|---|\n",
       "| Coco                                    | 8.5                                     | 127,025                                 | 105 min                                 | \n",
       "| Blade Runner 2049                       | 8.2                                     | 261,103                                 | 164 min                                 | \n",
       "| Logan                                   | 8.1                                     | 459,249                                 | 137 min                                 | \n",
       "| Paddington 2                            | 8.1                                     | 16,462                                  | 104 min                                 | \n",
       "| Thor: Ragnarok                          | 8.0                                     | 266,975                                 | 130 min                                 | \n",
       "| Dunkirk                                 | 8.0                                     | 364,019                                 | 106 min                                 | \n",
       "| Wind River                              | 7.8                                     | 107,296                                 | 107 min                                 | \n",
       "| Get Out                                 | 7.7                                     | 276,621                                 | 104 min                                 | \n",
       "| Guardians of the Galaxy Vol. 2          | 7.7                                     | 349,625                                 | 136 min                                 | \n",
       "| Baby Driver                             | 7.7                                     | 277,051                                 | 112 min                                 | \n",
       "| I, Tonya                                | 7.6                                     | 57,260                                  | 120 min                                 | \n",
       "| The Disaster Artist                     | 7.6                                     | 60,246                                  | 104 min                                 | \n",
       "| It                                      | 7.5                                     | 255,003                                 | 135 min                                 | \n",
       "| Wonder Woman                            | 7.5                                     | 385,727                                 | 141 min                                 | \n",
       "| Spider-Man: Homecoming                  | 7.5                                     | 290,015                                 | 133 min                                 | \n",
       "| Molly's Game                            | 7.5                                     | 35,513                                  | 140 min                                 | \n",
       "| War for the Planet of the Apes          | 7.5                                     | 160,239                                 | 140 min                                 | \n",
       "| John Wick: Chapter 2                    | 7.5                                     | 218,836                                 | 122 min                                 | \n",
       "| Star Wars: Episode VIII - The Last Jedi | 7.4                                     | 325,857                                 | 152 min                                 | \n",
       "| Shot Caller                             | 7.4                                     | 41,988                                  | 121 min                                 | \n",
       "| Beauty and the Beast                    | 7.3                                     | 200,891                                 | 129 min                                 | \n",
       "| Good Time                               | 7.3                                     | 32,710                                  | 101 min                                 | \n",
       "| The LEGO Batman Movie                   | 7.3                                     | 95,833                                  | 104 min                                 | \n",
       "| American Made                           | 7.2                                     | 88,919                                  | 115 min                                 | \n",
       "| Marshall                                | 7.2                                     | 7,673                                   | 118 min                                 | \n",
       "| Jumanji: Welcome to the Jungle          | 7.1                                     | 94,534                                  | 119 min                                 | \n",
       "| Logan Lucky                             | 7.1                                     | 72,223                                  | 118 min                                 | \n",
       "| All the Money in the World              | 7.1                                     | 16,497                                  | 132 min                                 | \n",
       "| The Foreigner                           | 7.1                                     | 55,143                                  | 113 min                                 | \n",
       "| Goodbye Christopher Robin               | 7.1                                     | 8,796                                   | 107 min                                 | \n",
       "| ⋮ | ⋮ | ⋮ | ⋮ | \n",
       "| The LEGO Ninjago Movie         | 6.0                            | 11,913                         | 101 min                        | \n",
       "| Jigsaw                         | 5.9                            | 38,211                         | 92 min                         | \n",
       "| Smurfs: The Lost Village       | 5.9                            | 12,518                         | 90 min                         | \n",
       "| Maze                           | 5.9                            | 1,264                          | 92 min                         | \n",
       "| All Eyez on Me                 | 5.8                            | 14,413                         | 139 min                        | \n",
       "| Downsizing                     | 5.7                            | 28,401                         | 135 min                        | \n",
       "| The Dark Tower                 | 5.7                            | 83,020                         | 95 min                         | \n",
       "| 47 Meters Down                 | 5.7                            | 28,237                         | 89 min                         | \n",
       "| 2:22                           | 5.7                            | 11,933                         | 98 min                         | \n",
       "| Baywatch                       | 5.6                            | 95,486                         | 116 min                        | \n",
       "| Fist Fight                     | 5.6                            | 28,025                         | 91 min                         | \n",
       "| The Mummy                      | 5.5                            | 126,125                        | 110 min                        | \n",
       "| A Bad Moms Christmas           | 5.5                            | 18,499                         | 104 min                        | \n",
       "| Geostorm                       | 5.4                            | 51,647                         | 109 min                        | \n",
       "| The Circle                     | 5.3                            | 57,751                         | 110 min                        | \n",
       "| The Nut Job 2: Nutty by Nature | 5.3                            | 3,181                          | 91 min                         | \n",
       "| xXx: Return of Xander Cage     | 5.2                            | 67,638                         | 107 min                        | \n",
       "| Transformers: The Last Knight  | 5.2                            | 92,131                         | 154 min                        | \n",
       "| Rough Night                    | 5.2                            | 29,146                         | 101 min                        | \n",
       "| Flatliners                     | 5.2                            | 21,593                         | 109 min                        | \n",
       "| Once Upon a Time in Venice     | 5.2                            | 10,598                         | 94 min                         | \n",
       "| November Criminals             | 5.2                            | 4,168                          | 85 min                         | \n",
       "| Bullet Head                    | 5.2                            | 2,750                          | 93 min                         | \n",
       "| The Snowman                    | 5.1                            | 31,405                         | 119 min                        | \n",
       "| Unforgettable                  | 5.0                            | 8,467                          | 100 min                        | \n",
       "| Father Figures                 | 4.9                            | 2,187                          | 113 min                        | \n",
       "| The Vault                      | 4.8                            | 6,626                          | 91 min                         | \n",
       "| Surf's Up 2: WaveMania         | 4.7                            | 1,007                          | 84 min                         | \n",
       "| Fifty Shades Darker            | 4.6                            | 68,824                         | 118 min                        | \n",
       "| Rings                          | 4.5                            | 28,822                         | 102 min                        | \n",
       "\n",
       "\n"
      ],
      "text/plain": [
       "    movie_name_list                         movie_rate_list\n",
       "1   Coco                                    8.5            \n",
       "2   Blade Runner 2049                       8.2            \n",
       "3   Logan                                   8.1            \n",
       "4   Paddington 2                            8.1            \n",
       "5   Thor: Ragnarok                          8.0            \n",
       "6   Dunkirk                                 8.0            \n",
       "7   Wind River                              7.8            \n",
       "8   Get Out                                 7.7            \n",
       "9   Guardians of the Galaxy Vol. 2          7.7            \n",
       "10  Baby Driver                             7.7            \n",
       "11  I, Tonya                                7.6            \n",
       "12  The Disaster Artist                     7.6            \n",
       "13  It                                      7.5            \n",
       "14  Wonder Woman                            7.5            \n",
       "15  Spider-Man: Homecoming                  7.5            \n",
       "16  Molly's Game                            7.5            \n",
       "17  War for the Planet of the Apes          7.5            \n",
       "18  John Wick: Chapter 2                    7.5            \n",
       "19  Star Wars: Episode VIII - The Last Jedi 7.4            \n",
       "20  Shot Caller                             7.4            \n",
       "21  Beauty and the Beast                    7.3            \n",
       "22  Good Time                               7.3            \n",
       "23  The LEGO Batman Movie                   7.3            \n",
       "24  American Made                           7.2            \n",
       "25  Marshall                                7.2            \n",
       "26  Jumanji: Welcome to the Jungle          7.1            \n",
       "27  Logan Lucky                             7.1            \n",
       "28  All the Money in the World              7.1            \n",
       "29  The Foreigner                           7.1            \n",
       "30  Goodbye Christopher Robin               7.1            \n",
       "⋮   ⋮                                       ⋮              \n",
       "71  The LEGO Ninjago Movie                  6.0            \n",
       "72  Jigsaw                                  5.9            \n",
       "73  Smurfs: The Lost Village                5.9            \n",
       "74  Maze                                    5.9            \n",
       "75  All Eyez on Me                          5.8            \n",
       "76  Downsizing                              5.7            \n",
       "77  The Dark Tower                          5.7            \n",
       "78  47 Meters Down                          5.7            \n",
       "79  2:22                                    5.7            \n",
       "80  Baywatch                                5.6            \n",
       "81  Fist Fight                              5.6            \n",
       "82  The Mummy                               5.5            \n",
       "83  A Bad Moms Christmas                    5.5            \n",
       "84  Geostorm                                5.4            \n",
       "85  The Circle                              5.3            \n",
       "86  The Nut Job 2: Nutty by Nature          5.3            \n",
       "87  xXx: Return of Xander Cage              5.2            \n",
       "88  Transformers: The Last Knight           5.2            \n",
       "89  Rough Night                             5.2            \n",
       "90  Flatliners                              5.2            \n",
       "91  Once Upon a Time in Venice              5.2            \n",
       "92  November Criminals                      5.2            \n",
       "93  Bullet Head                             5.2            \n",
       "94  The Snowman                             5.1            \n",
       "95  Unforgettable                           5.0            \n",
       "96  Father Figures                          4.9            \n",
       "97  The Vault                               4.8            \n",
       "98  Surf's Up 2: WaveMania                  4.7            \n",
       "99  Fifty Shades Darker                     4.6            \n",
       "100 Rings                                   4.5            \n",
       "    movie_vote_list_revise movie_time_list\n",
       "1   127,025                105 min        \n",
       "2   261,103                164 min        \n",
       "3   459,249                137 min        \n",
       "4   16,462                 104 min        \n",
       "5   266,975                130 min        \n",
       "6   364,019                106 min        \n",
       "7   107,296                107 min        \n",
       "8   276,621                104 min        \n",
       "9   349,625                136 min        \n",
       "10  277,051                112 min        \n",
       "11  57,260                 120 min        \n",
       "12  60,246                 104 min        \n",
       "13  255,003                135 min        \n",
       "14  385,727                141 min        \n",
       "15  290,015                133 min        \n",
       "16  35,513                 140 min        \n",
       "17  160,239                140 min        \n",
       "18  218,836                122 min        \n",
       "19  325,857                152 min        \n",
       "20  41,988                 121 min        \n",
       "21  200,891                129 min        \n",
       "22  32,710                 101 min        \n",
       "23  95,833                 104 min        \n",
       "24  88,919                 115 min        \n",
       "25  7,673                  118 min        \n",
       "26  94,534                 119 min        \n",
       "27  72,223                 118 min        \n",
       "28  16,497                 132 min        \n",
       "29  55,143                 113 min        \n",
       "30  8,796                  107 min        \n",
       "⋮   ⋮                      ⋮              \n",
       "71  11,913                 101 min        \n",
       "72  38,211                 92 min         \n",
       "73  12,518                 90 min         \n",
       "74  1,264                  92 min         \n",
       "75  14,413                 139 min        \n",
       "76  28,401                 135 min        \n",
       "77  83,020                 95 min         \n",
       "78  28,237                 89 min         \n",
       "79  11,933                 98 min         \n",
       "80  95,486                 116 min        \n",
       "81  28,025                 91 min         \n",
       "82  126,125                110 min        \n",
       "83  18,499                 104 min        \n",
       "84  51,647                 109 min        \n",
       "85  57,751                 110 min        \n",
       "86  3,181                  91 min         \n",
       "87  67,638                 107 min        \n",
       "88  92,131                 154 min        \n",
       "89  29,146                 101 min        \n",
       "90  21,593                 109 min        \n",
       "91  10,598                 94 min         \n",
       "92  4,168                  85 min         \n",
       "93  2,750                  93 min         \n",
       "94  31,405                 119 min        \n",
       "95  8,467                  100 min        \n",
       "96  2,187                  113 min        \n",
       "97  6,626                  91 min         \n",
       "98  1,007                  84 min         \n",
       "99  68,824                 118 min        \n",
       "100 28,822                 102 min        "
      ]
     },
     "metadata": {},
     "output_type": "display_data"
    }
   ],
   "source": [
    "df_movie_vote"
   ]
  },
  {
   "cell_type": "code",
   "execution_count": 252,
   "metadata": {},
   "outputs": [],
   "source": [
    "df_rate_only = data.frame(movie_name_list, movie_rate_list)"
   ]
  },
  {
   "cell_type": "code",
   "execution_count": 253,
   "metadata": {},
   "outputs": [],
   "source": [
    "df_rate_select = df_rate_only[df_rate_only[\"movie_rate_list\"] > 7.8, ]"
   ]
  },
  {
   "cell_type": "code",
   "execution_count": 254,
   "metadata": {},
   "outputs": [
    {
     "data": {
      "text/html": [
       "<table>\n",
       "<thead><tr><th scope=col>movie_name_list</th><th scope=col>movie_rate_list</th></tr></thead>\n",
       "<tbody>\n",
       "\t<tr><td>Coco             </td><td>8.5              </td></tr>\n",
       "\t<tr><td>Blade Runner 2049</td><td>8.2              </td></tr>\n",
       "\t<tr><td>Logan            </td><td>8.1              </td></tr>\n",
       "\t<tr><td>Paddington 2     </td><td>8.1              </td></tr>\n",
       "\t<tr><td>Thor: Ragnarok   </td><td>8.0              </td></tr>\n",
       "\t<tr><td>Dunkirk          </td><td>8.0              </td></tr>\n",
       "</tbody>\n",
       "</table>\n"
      ],
      "text/latex": [
       "\\begin{tabular}{r|ll}\n",
       " movie\\_name\\_list & movie\\_rate\\_list\\\\\n",
       "\\hline\n",
       "\t Coco              & 8.5              \\\\\n",
       "\t Blade Runner 2049 & 8.2              \\\\\n",
       "\t Logan             & 8.1              \\\\\n",
       "\t Paddington 2      & 8.1              \\\\\n",
       "\t Thor: Ragnarok    & 8.0              \\\\\n",
       "\t Dunkirk           & 8.0              \\\\\n",
       "\\end{tabular}\n"
      ],
      "text/markdown": [
       "\n",
       "movie_name_list | movie_rate_list | \n",
       "|---|---|---|---|---|---|\n",
       "| Coco              | 8.5               | \n",
       "| Blade Runner 2049 | 8.2               | \n",
       "| Logan             | 8.1               | \n",
       "| Paddington 2      | 8.1               | \n",
       "| Thor: Ragnarok    | 8.0               | \n",
       "| Dunkirk           | 8.0               | \n",
       "\n",
       "\n"
      ],
      "text/plain": [
       "  movie_name_list   movie_rate_list\n",
       "1 Coco              8.5            \n",
       "2 Blade Runner 2049 8.2            \n",
       "3 Logan             8.1            \n",
       "4 Paddington 2      8.1            \n",
       "5 Thor: Ragnarok    8.0            \n",
       "6 Dunkirk           8.0            "
      ]
     },
     "metadata": {},
     "output_type": "display_data"
    }
   ],
   "source": [
    "df_rate_select"
   ]
  },
  {
   "cell_type": "code",
   "execution_count": 255,
   "metadata": {},
   "outputs": [
    {
     "data": {},
     "metadata": {},
     "output_type": "display_data"
    },
    {
     "data": {
      "image/png": "[encoded data removed]",
      "text/plain": [
       "plot without title"
      ]
     },
     "metadata": {},
     "output_type": "display_data"
    }
   ],
   "source": [
    "p <-ggplot(df_rate_select, aes(movie_name_list, movie_rate_list))\n",
    "p +geom_bar(stat = \"identity\")"
   ]
  },
  {
   "cell_type": "markdown",
   "metadata": {},
   "source": [
    "## Online example PTT \n",
    "#### Naming matters!! ==> readability"
   ]
  },
  {
   "cell_type": "code",
   "execution_count": 3,
   "metadata": {},
   "outputs": [],
   "source": [
    "## normal usage\n",
    "url.main <- 'https://www.ptt.cc/bbs/studyabroad/index.html'\n",
    "href.title <- html_nodes(read_html(url.main), \".title a\")\n",
    "# store title urls for further searching\n",
    "R.hrefs <- html_attr(href.title, 'href')\n",
    "# store the title\n",
    "R.title.txt <- html_text(href.title)\n",
    "\n",
    "## using pipes\n",
    "# url.main <- 'https://www.ptt.cc/bbs/studyabroad/index.html'\n",
    "# R.hrefs <- url.main %>% read_html() %>% html_nodes(\".title a\") %>% html_attr('href')"
   ]
  },
  {
   "cell_type": "code",
   "execution_count": 4,
   "metadata": {},
   "outputs": [
    {
     "name": "stdout",
     "output_type": "stream",
     "text": [
      "[1] \"[問題] uni-ass 文件影本認證及其它\"\n",
      "[1] \"[情報] UCSD 2018新生情報\"\n",
      "[1] \"Fw: [情報] 徵博士後研究員 歐洲IMEC 生醫電子相關\"\n",
      "[1] \"[尋人] UC Berkeley Meng \"\n",
      "[1] \"[問題] 固態領域適合出國讀PhD嗎\"\n",
      "[1] \"[問題] 關於代辦\"\n",
      "[1] \"[問題] 澳洲留學人數大增?\"\n",
      "[1] \"[尋人] Duke University MQM MMS MBA\"\n",
      "[1] \"[租屋] UCDavis 2018Fall客廳徵女室友\"\n",
      "[1] \"[尋人] 北市圖留學資料中心徵求輔導老師\"\n",
      "[1] \"[問題] 關於SCAD的 film program和名聲\"\n",
      "[1] \"Re: [問題] 關於出國抉擇\"\n",
      "[1] \"[選校] UVA Meng CE / Rutgers MS CS 要求3/16前決定\"\n",
      "[1] \"[尋人] UChigo MPCS\"\n",
      "[1] \"[問題] 推薦llm的自學書籍\"\n",
      "[1] \"[情報] HKU MBA Admission Consultation(Taipei)\"\n",
      "[1] \"[公告] 買賣書籍/禮券/團報/課程  請統一推文\"\n",
      "[1] \"[公告] 留學板板規v2.2 (2015.07.26修改)\"\n",
      "[1] \"[公告] 新手常見Q&A (不定時補完)\"\n",
      "[1] \"Re: [情報] 留學版全文搜尋工具(持續更新)\"\n",
      "[1] \"Re: [公告] 開放admission, rejection推文\"\n"
     ]
    }
   ],
   "source": [
    "for( i in R.title.txt){\n",
    "    print(i)\n",
    "}"
   ]
  },
  {
   "cell_type": "code",
   "execution_count": 5,
   "metadata": {},
   "outputs": [],
   "source": [
    "# form a empty vector\n",
    "R.article.data <- c()\n",
    "\n",
    "for(i in 1:length(R.hrefs)){\n",
    "    # paste0() ==> without any white space\n",
    "    article.url <- paste0('https://www.ptt.cc', R.hrefs[i])\n",
    "    article <- html_nodes(read_html(article.url), \"#main-content\")\n",
    "    article.content <- html_text(article)\n",
    "    #  to convert a character vector between encodings: the ‘i’ stands for ‘internationalization’.\n",
    "    article.utf8 <- iconv(article.content, 'utf8')\n",
    "    # vector start counting from 1!!\n",
    "    R.article.data <- c(R.article.data, article.utf8)\n",
    "    # Suspend execution of R expressions for a specified time interval.\n",
    "    # Sys.sleep(sample(3:5, 1))\n",
    "}"
   ]
  },
  {
   "cell_type": "code",
   "execution_count": 6,
   "metadata": {},
   "outputs": [
    {
     "data": {
      "text/html": [
       "'作者vivian2534 (棋子)看板studyabroad標題[問題] uni-ass 文件影本認證及其它時間Tue Mar 13 15:06:57 2018\\n各位大大好，因為最近要開始申請德國的碩士，可是uni-ass複雜到我怕了很多文還是有\\n一些點不清楚，希望有經驗的人可以幫幫我！\\n\\n1.因為我要申請的學校有些需要透過uni-ass,但是有的4/1截止，有的4/30，還有6/1號的\\n，請我我付錢的時候是要先一次付完，還是可以分開付？\\n如果分開付，這樣還有第一間75歐，之後第二次付只要15歐*學校數量嗎？\\n\\n如果ㄧ次付的話，那我比較後面申請的學校的動機信是不是可以晚一點再上傳跟郵寄呢？\\n\\n2.其實我爬很多文，有的人說只要繳交需要認證的文件即可，動機信、CV那些可以不用交\\n，可是大部分申請的人還是統統繳了，我看uni-ass的流程也是寫把上述的全部文件寄給\\n他們？這部分有人有經驗嗎？\\n\\n3.語言證明的認證\\n我知道uni-ass可以接受雅思跟testdaf的成績不用認證，但是我剛好是考歌德的德文考試\\n，而且學校要我們再申請時就提出B2的證書，請問我也得將B2證書彩色影印拿去德國在台\\n協會影本認證嗎？\\n\\n4.網路上說公證都是去德國在台協會，但不知道為什麼，我今天早上準備好所有文件時，\\n再double check價錢時，卻發現Daad taiwan的臉書出現這個：\\nhttps://i.imgur.com/kMg1fER.jpg\\n所以現在還可以去德國在台協會辦理嗎？\\n\\n5.最後一個是，因為我是要申請碩士學位，可是我在臺灣也有讀碩士，不過還沒畢業，今\\n年6月才會畢業，不過我也申請了碩士的成績單跟在學證明，但我有請學校彌封，請問這\\n樣我還是要影本認證這兩份文件嗎？ 因為碩士成績Gpa很高，希望放上去可以增加錄取的\\n機率\\n\\n抱歉問題很多，再麻煩知道的人可以跟我說，我也同時寫信去問Uni-ass跟申請的學校等\\n等..\\n\\n先跟撥冗讀我貼文的人說謝謝！！！\\n\\n--\\n※ 發信站: 批踢踢實業坊(ptt.cc), 來自: 101.14.50.54\\n※ 文章網址: https://www.ptt.cc/bbs/studyabroad/M.1520924820.A.CA3.html\\n推 a4839500: 1.可以一次付完，但請注意，第二間開始費用漲成30歐了 03/13 20:34\\n推 a4839500: 2.我個人是繳交需要簽名、證書等。履歷和動機信不太需要 03/13 20:39\\n→ a4839500: ，請放心，這種不用認證的文件可以另外補（email） 03/13 20:39\\n推 a4839500: 3.這個問題我建議問學校 03/13 20:41\\n→ a4839500: 4.他們會希望你先嘗試其他管道，我個人是採用民間公證人 03/13 20:43\\n→ a4839500: 的方式，但是德協成績他們應該無法辦理，因為不是臺灣境 03/13 20:43\\n→ a4839500: 內相關機構主辦的 03/13 20:43\\n→ a4839500: 5. 認證歸認證，彌封歸彌封，如果學校有要求就要做！ 03/13 20:46\\n→ vivian2534: 太感謝a大了 03/13 21:38\\n'"
      ],
      "text/latex": [
       "'作者vivian2534 (棋子)看板studyabroad標題{[}問題{]} uni-ass 文件影本認證及其它時間Tue Mar 13 15:06:57 2018\\textbackslash{}n各位大大好，因為最近要開始申請德國的碩士，可是uni-ass複雜到我怕了很多文還是有\\textbackslash{}n一些點不清楚，希望有經驗的人可以幫幫我！\\textbackslash{}n\\textbackslash{}n1.因為我要申請的學校有些需要透過uni-ass,但是有的4/1截止，有的4/30，還有6/1號的\\textbackslash{}n，請我我付錢的時候是要先一次付完，還是可以分開付？\\textbackslash{}n如果分開付，這樣還有第一間75歐，之後第二次付只要15歐*學校數量嗎？\\textbackslash{}n\\textbackslash{}n如果ㄧ次付的話，那我比較後面申請的學校的動機信是不是可以晚一點再上傳跟郵寄呢？\\textbackslash{}n\\textbackslash{}n2.其實我爬很多文，有的人說只要繳交需要認證的文件即可，動機信、CV那些可以不用交\\textbackslash{}n，可是大部分申請的人還是統統繳了，我看uni-ass的流程也是寫把上述的全部文件寄給\\textbackslash{}n他們？這部分有人有經驗嗎？\\textbackslash{}n\\textbackslash{}n3.語言證明的認證\\textbackslash{}n我知道uni-ass可以接受雅思跟testdaf的成績不用認證，但是我剛好是考歌德的德文考試\\textbackslash{}n，而且學校要我們再申請時就提出B2的證書，請問我也得將B2證書彩色影印拿去德國在台\\textbackslash{}n協會影本認證嗎？\\textbackslash{}n\\textbackslash{}n4.網路上說公證都是去德國在台協會，但不知道為什麼，我今天早上準備好所有文件時，\\textbackslash{}n再double check價錢時，卻發現Daad taiwan的臉書出現這個：\\textbackslash{}nhttps://i.imgur.com/kMg1fER.jpg\\textbackslash{}n所以現在還可以去德國在台協會辦理嗎？\\textbackslash{}n\\textbackslash{}n5.最後一個是，因為我是要申請碩士學位，可是我在臺灣也有讀碩士，不過還沒畢業，今\\textbackslash{}n年6月才會畢業，不過我也申請了碩士的成績單跟在學證明，但我有請學校彌封，請問這\\textbackslash{}n樣我還是要影本認證這兩份文件嗎？ 因為碩士成績Gpa很高，希望放上去可以增加錄取的\\textbackslash{}n機率\\textbackslash{}n\\textbackslash{}n抱歉問題很多，再麻煩知道的人可以跟我說，我也同時寫信去問Uni-ass跟申請的學校等\\textbackslash{}n等..\\textbackslash{}n\\textbackslash{}n先跟撥冗讀我貼文的人說謝謝！！！\\textbackslash{}n\\textbackslash{}n--\\textbackslash{}n※ 發信站: 批踢踢實業坊(ptt.cc), 來自: 101.14.50.54\\textbackslash{}n※ 文章網址: https://www.ptt.cc/bbs/studyabroad/M.1520924820.A.CA3.html\\textbackslash{}n推 a4839500: 1.可以一次付完，但請注意，第二間開始費用漲成30歐了 03/13 20:34\\textbackslash{}n推 a4839500: 2.我個人是繳交需要簽名、證書等。履歷和動機信不太需要 03/13 20:39\\textbackslash{}n→ a4839500: ，請放心，這種不用認證的文件可以另外補（email） 03/13 20:39\\textbackslash{}n推 a4839500: 3.這個問題我建議問學校 03/13 20:41\\textbackslash{}n→ a4839500: 4.他們會希望你先嘗試其他管道，我個人是採用民間公證人 03/13 20:43\\textbackslash{}n→ a4839500: 的方式，但是德協成績他們應該無法辦理，因為不是臺灣境 03/13 20:43\\textbackslash{}n→ a4839500: 內相關機構主辦的 03/13 20:43\\textbackslash{}n→ a4839500: 5. 認證歸認證，彌封歸彌封，如果學校有要求就要做！ 03/13 20:46\\textbackslash{}n→ vivian2534: 太感謝a大了 03/13 21:38\\textbackslash{}n'"
      ],
      "text/markdown": [
       "'作者vivian2534 (棋子)看板studyabroad標題[問題] uni-ass 文件影本認證及其它時間Tue Mar 13 15:06:57 2018\\n各位大大好，因為最近要開始申請德國的碩士，可是uni-ass複雜到我怕了很多文還是有\\n一些點不清楚，希望有經驗的人可以幫幫我！\\n\\n1.因為我要申請的學校有些需要透過uni-ass,但是有的4/1截止，有的4/30，還有6/1號的\\n，請我我付錢的時候是要先一次付完，還是可以分開付？\\n如果分開付，這樣還有第一間75歐，之後第二次付只要15歐*學校數量嗎？\\n\\n如果ㄧ次付的話，那我比較後面申請的學校的動機信是不是可以晚一點再上傳跟郵寄呢？\\n\\n2.其實我爬很多文，有的人說只要繳交需要認證的文件即可，動機信、CV那些可以不用交\\n，可是大部分申請的人還是統統繳了，我看uni-ass的流程也是寫把上述的全部文件寄給\\n他們？這部分有人有經驗嗎？\\n\\n3.語言證明的認證\\n我知道uni-ass可以接受雅思跟testdaf的成績不用認證，但是我剛好是考歌德的德文考試\\n，而且學校要我們再申請時就提出B2的證書，請問我也得將B2證書彩色影印拿去德國在台\\n協會影本認證嗎？\\n\\n4.網路上說公證都是去德國在台協會，但不知道為什麼，我今天早上準備好所有文件時，\\n再double check價錢時，卻發現Daad taiwan的臉書出現這個：\\nhttps://i.imgur.com/kMg1fER.jpg\\n所以現在還可以去德國在台協會辦理嗎？\\n\\n5.最後一個是，因為我是要申請碩士學位，可是我在臺灣也有讀碩士，不過還沒畢業，今\\n年6月才會畢業，不過我也申請了碩士的成績單跟在學證明，但我有請學校彌封，請問這\\n樣我還是要影本認證這兩份文件嗎？ 因為碩士成績Gpa很高，希望放上去可以增加錄取的\\n機率\\n\\n抱歉問題很多，再麻煩知道的人可以跟我說，我也同時寫信去問Uni-ass跟申請的學校等\\n等..\\n\\n先跟撥冗讀我貼文的人說謝謝！！！\\n\\n--\\n※ 發信站: 批踢踢實業坊(ptt.cc), 來自: 101.14.50.54\\n※ 文章網址: https://www.ptt.cc/bbs/studyabroad/M.1520924820.A.CA3.html\\n推 a4839500: 1.可以一次付完，但請注意，第二間開始費用漲成30歐了 03/13 20:34\\n推 a4839500: 2.我個人是繳交需要簽名、證書等。履歷和動機信不太需要 03/13 20:39\\n→ a4839500: ，請放心，這種不用認證的文件可以另外補（email） 03/13 20:39\\n推 a4839500: 3.這個問題我建議問學校 03/13 20:41\\n→ a4839500: 4.他們會希望你先嘗試其他管道，我個人是採用民間公證人 03/13 20:43\\n→ a4839500: 的方式，但是德協成績他們應該無法辦理，因為不是臺灣境 03/13 20:43\\n→ a4839500: 內相關機構主辦的 03/13 20:43\\n→ a4839500: 5. 認證歸認證，彌封歸彌封，如果學校有要求就要做！ 03/13 20:46\\n→ vivian2534: 太感謝a大了 03/13 21:38\\n'"
      ],
      "text/plain": [
       "[1] \"作者vivian2534 (棋子)看板studyabroad標題[問題] uni-ass 文件影本認證及其它時間Tue Mar 13 15:06:57 2018\\n各位大大好，因為最近要開始申請德國的碩士，可是uni-ass複雜到我怕了很多文還是有\\n一些點不清楚，希望有經驗的人可以幫幫我！\\n\\n1.因為我要申請的學校有些需要透過uni-ass,但是有的4/1截止，有的4/30，還有6/1號的\\n，請我我付錢的時候是要先一次付完，還是可以分開付？\\n如果分開付，這樣還有第一間75歐，之後第二次付只要15歐*學校數量嗎？\\n\\n如果ㄧ次付的話，那我比較後面申請的學校的動機信是不是可以晚一點再上傳跟郵寄呢？\\n\\n2.其實我爬很多文，有的人說只要繳交需要認證的文件即可，動機信、CV那些可以不用交\\n，可是大部分申請的人還是統統繳了，我看uni-ass的流程也是寫把上述的全部文件寄給\\n他們？這部分有人有經驗嗎？\\n\\n3.語言證明的認證\\n我知道uni-ass可以接受雅思跟testdaf的成績不用認證，但是我剛好是考歌德的德文考試\\n，而且學校要我們再申請時就提出B2的證書，請問我也得將B2證書彩色影印拿去德國在台\\n協會影本認證嗎？\\n\\n4.網路上說公證都是去德國在台協會，但不知道為什麼，我今天早上準備好所有文件時，\\n再double check價錢時，卻發現Daad taiwan的臉書出現這個：\\nhttps://i.imgur.com/kMg1fER.jpg\\n所以現在還可以去德國在台協會辦理嗎？\\n\\n5.最後一個是，因為我是要申請碩士學位，可是我在臺灣也有讀碩士，不過還沒畢業，今\\n年6月才會畢業，不過我也申請了碩士的成績單跟在學證明，但我有請學校彌封，請問這\\n樣我還是要影本認證這兩份文件嗎？ 因為碩士成績Gpa很高，希望放上去可以增加錄取的\\n機率\\n\\n抱歉問題很多，再麻煩知道的人可以跟我說，我也同時寫信去問Uni-ass跟申請的學校等\\n等..\\n\\n先跟撥冗讀我貼文的人說謝謝！！！\\n\\n--\\n※ 發信站: 批踢踢實業坊(ptt.cc), 來自: 101.14.50.54\\n※ 文章網址: https://www.ptt.cc/bbs/studyabroad/M.1520924820.A.CA3.html\\n推 a4839500: 1.可以一次付完，但請注意，第二間開始費用漲成30歐了 03/13 20:34\\n推 a4839500: 2.我個人是繳交需要簽名、證書等。履歷和動機信不太需要 03/13 20:39\\n→ a4839500: ，請放心，這種不用認證的文件可以另外補（email） 03/13 20:39\\n推 a4839500: 3.這個問題我建議問學校 03/13 20:41\\n→ a4839500: 4.他們會希望你先嘗試其他管道，我個人是採用民間公證人 03/13 20:43\\n→ a4839500: 的方式，但是德協成績他們應該無法辦理，因為不是臺灣境 03/13 20:43\\n→ a4839500: 內相關機構主辦的 03/13 20:43\\n→ a4839500: 5. 認證歸認證，彌封歸彌封，如果學校有要求就要做！ 03/13 20:46\\n→ vivian2534: 太感謝a大了 03/13 21:38\\n\""
      ]
     },
     "metadata": {},
     "output_type": "display_data"
    }
   ],
   "source": [
    "R.article.data[1]"
   ]
  },
  {
   "cell_type": "markdown",
   "metadata": {},
   "source": [
    "## Login to Gmail (problem)"
   ]
  },
  {
   "cell_type": "code",
   "execution_count": 193,
   "metadata": {},
   "outputs": [],
   "source": [
    "# create a session\n",
    "gmail.url <- \"https://accounts.google.com/signin/v2/identifier?hl=zh-TW&passive=true&continue=https%3A%2F%2Fwww.google.com.tw%2F%3Fgfe_rd%3Dcr%26dcr%3D0%26ei%3DC1upWvaXF8WiX7G7q9gD%26gws_rd%3Dssl&flowName=GlifWebSignIn&flowEntry=ServiceLogin\"\n",
    "gmail.session <- html_session(gmail.url)"
   ]
  },
  {
   "cell_type": "code",
   "execution_count": 194,
   "metadata": {},
   "outputs": [
    {
     "data": {
      "text/plain": [
       "<session> https://accounts.google.com/ServiceLogin?hl=zh-TW&passive=true&continue=https%3A%2F%2Fwww.google.com.tw%2F%3Fgfe_rd%3Dcr%26dcr%3D0%26ei%3DC1upWvaXF8WiX7G7q9gD%26gws_rd%3Dssl&flowName=GlifWebSignIn&flowEntry=ServiceLogin\n",
       "  Status: 200\n",
       "  Type:   text/html; charset=UTF-8\n",
       "  Size:   73126"
      ]
     },
     "metadata": {},
     "output_type": "display_data"
    }
   ],
   "source": [
    "gmail.session"
   ]
  },
  {
   "cell_type": "code",
   "execution_count": 195,
   "metadata": {},
   "outputs": [],
   "source": [
    "gmail.form <- html_form(gmail.session)[[1]]"
   ]
  },
  {
   "cell_type": "code",
   "execution_count": 196,
   "metadata": {},
   "outputs": [
    {
     "data": {
      "text/plain": [
       "<form> 'gaia_loginform' (POST https://accounts.google.com/signin/v1/lookup)\n",
       "  <input hidden> 'Page': PasswordSeparationSignIn\n",
       "  <input hidden> '': \n",
       "  <input hidden> 'gxf': AFoagUVukvFnZYIEQeAyWcZss41CXYdNHA:1521051143949\n",
       "  <input hidden> 'continue': https://www.google.com.tw/?gfe_rd=cr&dcr=0&ei=C1upWvaXF8WiX7G7q9gD&gws_rd=ssl\n",
       "  <input hidden> 'hl': zh-TW\n",
       "  <input hidden> 'flowName': GlifWebSignIn\n",
       "  <input hidden> 'flowEntry': ServiceLogin\n",
       "  <input hidden> 'ProfileInformation': \n",
       "  <input hidden> 'SessionState': AEThLlwpITG7y4Z6_siiQLgNJTRk7SBrU0P82ebygaeqKrDqBsTd3sBGHdpH3WRBa--DWueBpXI7fS4enpHqf2RVBo3Lc8nEq8LpusKDGAh7ZJjEkxDg6qf0yhy60y2f7DnTMEpkRHLizhKbhOn5WQUAQ9AzbyWhrg\n",
       "  <input hidden> '_utf8': ☃\n",
       "  <input hidden> 'bgresponse': js_disabled\n",
       "  <input email> 'Email': \n",
       "  <input password> '': \n",
       "  <input submit> 'signIn': 下一步"
      ]
     },
     "metadata": {},
     "output_type": "display_data"
    }
   ],
   "source": [
    "gmail.form"
   ]
  },
  {
   "cell_type": "code",
   "execution_count": 197,
   "metadata": {},
   "outputs": [],
   "source": [
    "filled_form <- set_values(gmail.form, Email = \"ntueeb05howard@gmail.com\")"
   ]
  },
  {
   "cell_type": "code",
   "execution_count": 198,
   "metadata": {
    "scrolled": true
   },
   "outputs": [
    {
     "data": {
      "text/plain": [
       "<form> 'gaia_loginform' (POST https://accounts.google.com/signin/v1/lookup)\n",
       "  <input hidden> 'Page': PasswordSeparationSignIn\n",
       "  <input hidden> '': \n",
       "  <input hidden> 'gxf': AFoagUVukvFnZYIEQeAyWcZss41CXYdNHA:1521051143949\n",
       "  <input hidden> 'continue': https://www.google.com.tw/?gfe_rd=cr&dcr=0&ei=C1upWvaXF8WiX7G7q9gD&gws_rd=ssl\n",
       "  <input hidden> 'hl': zh-TW\n",
       "  <input hidden> 'flowName': GlifWebSignIn\n",
       "  <input hidden> 'flowEntry': ServiceLogin\n",
       "  <input hidden> 'ProfileInformation': \n",
       "  <input hidden> 'SessionState': AEThLlwpITG7y4Z6_siiQLgNJTRk7SBrU0P82ebygaeqKrDqBsTd3sBGHdpH3WRBa--DWueBpXI7fS4enpHqf2RVBo3Lc8nEq8LpusKDGAh7ZJjEkxDg6qf0yhy60y2f7DnTMEpkRHLizhKbhOn5WQUAQ9AzbyWhrg\n",
       "  <input hidden> '_utf8': ☃\n",
       "  <input hidden> 'bgresponse': js_disabled\n",
       "  <input email> 'Email': ntueeb05howard@gmail.com\n",
       "  <input password> '': \n",
       "  <input submit> 'signIn': 下一步"
      ]
     },
     "metadata": {},
     "output_type": "display_data"
    }
   ],
   "source": [
    "filled_form"
   ]
  },
  {
   "cell_type": "code",
   "execution_count": 231,
   "metadata": {},
   "outputs": [],
   "source": [
    "# subnit form !!\n",
    "submit_email_gmail <- submit_form(session = gmail.session, form = filled_form, submit='signIn')"
   ]
  },
  {
   "cell_type": "code",
   "execution_count": 232,
   "metadata": {},
   "outputs": [
    {
     "data": {
      "text/plain": [
       "<session> https://accounts.google.com/signin/v1/lookup\n",
       "  Status: 200\n",
       "  Type:   text/html; charset=UTF-8\n",
       "  Size:   73514"
      ]
     },
     "metadata": {},
     "output_type": "display_data"
    }
   ],
   "source": [
    "submit_email_gmail"
   ]
  },
  {
   "cell_type": "markdown",
   "metadata": {},
   "source": [
    "## Login to Github (problem)"
   ]
  },
  {
   "cell_type": "code",
   "execution_count": 217,
   "metadata": {},
   "outputs": [],
   "source": [
    "github.url <- \"https://github.com/login\"\n",
    "github.session <- read_html(github.url)"
   ]
  },
  {
   "cell_type": "code",
   "execution_count": 218,
   "metadata": {},
   "outputs": [],
   "source": [
    "github.form <- html_form(github.session)[[1]]"
   ]
  },
  {
   "cell_type": "code",
   "execution_count": 219,
   "metadata": {},
   "outputs": [
    {
     "data": {
      "text/plain": [
       "<form> '<unnamed>' (POST /session)\n",
       "  <input hidden> 'utf8': ✓\n",
       "  <input hidden> 'authenticity_token': hQ9JWGsk7ExPispb7kfvMo7q//Yx8+xed64gKfoRnoacfe6YQbtO65x2sjktnfzfe9nEf6SJgZn2dy03lE8Lmw==\n",
       "  <input text> 'login': \n",
       "  <input password> 'password': \n",
       "  <input submit> 'commit': Sign in"
      ]
     },
     "metadata": {},
     "output_type": "display_data"
    }
   ],
   "source": [
    "github.form"
   ]
  },
  {
   "cell_type": "code",
   "execution_count": 220,
   "metadata": {},
   "outputs": [],
   "source": [
    "github_filled_form <- set_values(github.form, login = \"ck1021051@gmail.com\", password = \"WhateverHoward123\")"
   ]
  },
  {
   "cell_type": "code",
   "execution_count": 221,
   "metadata": {},
   "outputs": [
    {
     "data": {
      "text/plain": [
       "<form> '<unnamed>' (POST /session)\n",
       "  <input hidden> 'utf8': ✓\n",
       "  <input hidden> 'authenticity_token': hQ9JWGsk7ExPispb7kfvMo7q//Yx8+xed64gKfoRnoacfe6YQbtO65x2sjktnfzfe9nEf6SJgZn2dy03lE8Lmw==\n",
       "  <input text> 'login': ck1021051@gmail.com\n",
       "  <input password> 'password': *****************\n",
       "  <input submit> 'commit': Sign in"
      ]
     },
     "metadata": {},
     "output_type": "display_data"
    }
   ],
   "source": [
    "github_filled_form"
   ]
  },
  {
   "cell_type": "code",
   "execution_count": 228,
   "metadata": {},
   "outputs": [
    {
     "name": "stderr",
     "output_type": "stream",
     "text": [
      "Submitting with 'commit'\n"
     ]
    }
   ],
   "source": [
    "github.session$url = \"https://github.com/login\"\n",
    "github_filled_form$url = \"\"\n",
    "submit_github <- suppressWarnings(submit_form(session = github.session, form = github_filled_form))"
   ]
  }
 ],
 "metadata": {
  "kernelspec": {
   "display_name": "R",
   "language": "R",
   "name": "ir"
  },
  "language_info": {
   "codemirror_mode": "r",
   "file_extension": ".r",
   "mimetype": "text/x-r-source",
   "name": "R",
   "pygments_lexer": "r",
   "version": "3.4.3"
  }
 },
 "nbformat": 4,
 "nbformat_minor": 2
}
