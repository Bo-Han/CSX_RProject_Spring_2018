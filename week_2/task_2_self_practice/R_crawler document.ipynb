{
 "cells": [
  {
   "cell_type": "markdown",
   "metadata": {},
   "source": [
    "# R package rvest"
   ]
  },
  {
   "cell_type": "markdown",
   "metadata": {},
   "source": [
    "`read_html` create an html document from a url"
   ]
  },
  {
   "cell_type": "markdown",
   "metadata": {},
   "source": [
    "`html_nodes(doc, \"table td\")` select parts of a document (css selecter)"
   ]
  },
  {
   "cell_type": "markdown",
   "metadata": {},
   "source": [
    "`html_nodes(doc, xpath=\"//table/td\")`"
   ]
  },
  {
   "cell_type": "markdown",
   "metadata": {},
   "source": [
    "`html_tag()` ex. img\n",
    "\n",
    "`html_text()` the word of content\n",
    "\n",
    "`html_attr()` `html_attrs()` the attribute ex. html_attr(\"src\")\n",
    "\n",
    "  extract components"
   ]
  },
  {
   "cell_type": "markdown",
   "metadata": {},
   "source": [
    "`xml_node()` `xml_attr()` `xml_attrs()` `xml_text()` `xml_tag()` xtract components "
   ]
  },
  {
   "cell_type": "markdown",
   "metadata": {},
   "source": [
    "`html_table()` parse tables into data frames "
   ]
  },
  {
   "cell_type": "markdown",
   "metadata": {},
   "source": [
    "`html_form()` `set_value()` `submit_form()` extract, modify and submit forms"
   ]
  },
  {
   "cell_type": "markdown",
   "metadata": {},
   "source": [
    "`guess_encoding()` `repair_encoding()` detect and repair encoding problems"
   ]
  },
  {
   "cell_type": "markdown",
   "metadata": {},
   "source": [
    "`html_session()` : [Simulate a session in an html browser.](https://www.rdocumentation.org/packages/rvest/versions/0.3.2/topics/html_session) (is.session( ) : to check)\n",
    "\n",
    "`jump_to()` : jump_to() takes a url (either relative or absolute); follow_link [jump_to(x, url, ...)](https://www.rdocumentation.org/packages/rvest/versions/0.3.2/topics/jump_to)\n",
    "\n",
    "`follow_link()`  : takes an expression that refers to a link (an  tag) on the current page. [follow_link(x, i, css, xpath, ...)](https://www.rdocumentation.org/packages/rvest/versions/0.3.2/topics/jump_to)\n",
    "\n",
    "`back()` `forward()` `submit_form()` navigate around a website "
   ]
  },
  {
   "cell_type": "code",
   "execution_count": 2,
   "metadata": {},
   "outputs": [
    {
     "name": "stderr",
     "output_type": "stream",
     "text": [
      "starting httpd help server ... done\n"
     ]
    },
    {
     "data": {},
     "metadata": {},
     "output_type": "display_data"
    }
   ],
   "source": [
    "vignette(\"selectorgadget\")"
   ]
  },
  {
   "cell_type": "code",
   "execution_count": 3,
   "metadata": {},
   "outputs": [
    {
     "name": "stderr",
     "output_type": "stream",
     "text": [
      "Loading required package: xml2\n"
     ]
    }
   ],
   "source": [
    "library(rvest)\n",
    "library(magrittr)"
   ]
  },
  {
   "cell_type": "code",
   "execution_count": 4,
   "metadata": {},
   "outputs": [],
   "source": [
    "lego_movie <- read_html(\"http://www.imdb.com/title/tt1490017/\")"
   ]
  },
  {
   "cell_type": "code",
   "execution_count": 5,
   "metadata": {},
   "outputs": [
    {
     "data": {
      "text/plain": [
       "{xml_nodeset (1)}\n",
       "[1] <span itemprop=\"ratingValue\">7.8</span>"
      ]
     },
     "metadata": {},
     "output_type": "display_data"
    }
   ],
   "source": [
    "##%>% is defined by package magrittr(CRAN). Heavily used by dplyr(CRAN)\n",
    "rating <- lego_movie %>%\n",
    "  html_nodes(\"strong span\")\n",
    "rating"
   ]
  },
  {
   "cell_type": "code",
   "execution_count": 6,
   "metadata": {},
   "outputs": [
    {
     "data": {
      "text/html": [
       "<ol class=list-inline>\n",
       "\t<li>'Will Arnett'</li>\n",
       "\t<li>'Elizabeth Banks'</li>\n",
       "\t<li>'Craig Berry'</li>\n",
       "\t<li>'Alison Brie'</li>\n",
       "\t<li>'David Burrows'</li>\n",
       "\t<li>'Anthony Daniels'</li>\n",
       "\t<li>'Charlie Day'</li>\n",
       "\t<li>'Amanda Farinos'</li>\n",
       "\t<li>'Keith Ferguson'</li>\n",
       "\t<li>'Will Ferrell'</li>\n",
       "\t<li>'Will Forte'</li>\n",
       "\t<li>'Dave Franco'</li>\n",
       "\t<li>'Morgan Freeman'</li>\n",
       "\t<li>'Todd Hansen'</li>\n",
       "\t<li>'Jonah Hill'</li>\n",
       "</ol>\n"
      ],
      "text/latex": [
       "\\begin{enumerate*}\n",
       "\\item 'Will Arnett'\n",
       "\\item 'Elizabeth Banks'\n",
       "\\item 'Craig Berry'\n",
       "\\item 'Alison Brie'\n",
       "\\item 'David Burrows'\n",
       "\\item 'Anthony Daniels'\n",
       "\\item 'Charlie Day'\n",
       "\\item 'Amanda Farinos'\n",
       "\\item 'Keith Ferguson'\n",
       "\\item 'Will Ferrell'\n",
       "\\item 'Will Forte'\n",
       "\\item 'Dave Franco'\n",
       "\\item 'Morgan Freeman'\n",
       "\\item 'Todd Hansen'\n",
       "\\item 'Jonah Hill'\n",
       "\\end{enumerate*}\n"
      ],
      "text/markdown": [
       "1. 'Will Arnett'\n",
       "2. 'Elizabeth Banks'\n",
       "3. 'Craig Berry'\n",
       "4. 'Alison Brie'\n",
       "5. 'David Burrows'\n",
       "6. 'Anthony Daniels'\n",
       "7. 'Charlie Day'\n",
       "8. 'Amanda Farinos'\n",
       "9. 'Keith Ferguson'\n",
       "10. 'Will Ferrell'\n",
       "11. 'Will Forte'\n",
       "12. 'Dave Franco'\n",
       "13. 'Morgan Freeman'\n",
       "14. 'Todd Hansen'\n",
       "15. 'Jonah Hill'\n",
       "\n",
       "\n"
      ],
      "text/plain": [
       " [1] \"Will Arnett\"     \"Elizabeth Banks\" \"Craig Berry\"     \"Alison Brie\"    \n",
       " [5] \"David Burrows\"   \"Anthony Daniels\" \"Charlie Day\"     \"Amanda Farinos\" \n",
       " [9] \"Keith Ferguson\"  \"Will Ferrell\"    \"Will Forte\"      \"Dave Franco\"    \n",
       "[13] \"Morgan Freeman\"  \"Todd Hansen\"     \"Jonah Hill\"     "
      ]
     },
     "metadata": {},
     "output_type": "display_data"
    }
   ],
   "source": [
    "cast <- lego_movie %>%\n",
    "  html_nodes(\"#titleCast .itemprop span\") %>%\n",
    "  html_text()\n",
    "cast"
   ]
  },
  {
   "cell_type": "code",
   "execution_count": 7,
   "metadata": {},
   "outputs": [
    {
     "data": {
      "text/html": [
       "'https://images-na.ssl-images-amazon.com/images/M/MV5BMTg4MDk1ODExN15BMl5BanBnXkFtZTgwNzIyNjg3MDE@._V1_UX182_CR0,0,182,268_AL_.jpg'"
      ],
      "text/latex": [
       "'https://images-na.ssl-images-amazon.com/images/M/MV5BMTg4MDk1ODExN15BMl5BanBnXkFtZTgwNzIyNjg3MDE@.\\_V1\\_UX182\\_CR0,0,182,268\\_AL\\_.jpg'"
      ],
      "text/markdown": [
       "'https://images-na.ssl-images-amazon.com/images/M/MV5BMTg4MDk1ODExN15BMl5BanBnXkFtZTgwNzIyNjg3MDE@._V1_UX182_CR0,0,182,268_AL_.jpg'"
      ],
      "text/plain": [
       "[1] \"https://images-na.ssl-images-amazon.com/images/M/MV5BMTg4MDk1ODExN15BMl5BanBnXkFtZTgwNzIyNjg3MDE@._V1_UX182_CR0,0,182,268_AL_.jpg\""
      ]
     },
     "metadata": {},
     "output_type": "display_data"
    }
   ],
   "source": [
    "poster <- lego_movie %>%\n",
    "  html_nodes(\".poster img\") %>%\n",
    "  html_attr(\"src\")\n",
    "poster"
   ]
  },
  {
   "cell_type": "code",
   "execution_count": 8,
   "metadata": {},
   "outputs": [],
   "source": [
    "#titleImageStrip .loadlate\n",
    "Photos <- lego_movie %>% \n",
    "  html_nodes(\"#titleImageStrip .loadlate\") %>%\n",
    "  html_attr(\"loadlate\")"
   ]
  },
  {
   "cell_type": "code",
   "execution_count": 9,
   "metadata": {},
   "outputs": [
    {
     "data": {
      "text/html": [
       "<ol class=list-inline>\n",
       "\t<li>'https://images-na.ssl-images-amazon.com/images/M/MV5BMTYxODQzNzUwMV5BMl5BanBnXkFtZTgwMzE5MDQwMTE@._V1_UY99_CR69,0,99,99_AL_.jpg'</li>\n",
       "\t<li>'https://images-na.ssl-images-amazon.com/images/M/MV5BMTQzODYxMzA4M15BMl5BanBnXkFtZTgwMTE5MDQwMTE@._V1_UY99_CR68,0,99,99_AL_.jpg'</li>\n",
       "\t<li>'https://images-na.ssl-images-amazon.com/images/M/MV5BMjM4MTg1MzM0Ml5BMl5BanBnXkFtZTgwNzE5MDQwMTE@._V1_UY99_CR68,0,99,99_AL_.jpg'</li>\n",
       "\t<li>'https://images-na.ssl-images-amazon.com/images/M/MV5BMTEzMTkzOTkzNzVeQTJeQWpwZ15BbWU4MDEyOTA0MDEx._V1_UY99_CR68,0,99,99_AL_.jpg'</li>\n",
       "\t<li>'https://images-na.ssl-images-amazon.com/images/M/MV5BMTA0MTkzMzYxNzReQTJeQWpwZ15BbWU4MDAyOTA0MDEx._V1_UY99_CR68,0,99,99_AL_.jpg'</li>\n",
       "\t<li>'https://images-na.ssl-images-amazon.com/images/M/MV5BNTU4MDI1MTg2M15BMl5BanBnXkFtZTgwODE5MDQwMTE@._V1_UY99_CR68,0,99,99_AL_.jpg'</li>\n",
       "</ol>\n"
      ],
      "text/latex": [
       "\\begin{enumerate*}\n",
       "\\item 'https://images-na.ssl-images-amazon.com/images/M/MV5BMTYxODQzNzUwMV5BMl5BanBnXkFtZTgwMzE5MDQwMTE@.\\_V1\\_UY99\\_CR69,0,99,99\\_AL\\_.jpg'\n",
       "\\item 'https://images-na.ssl-images-amazon.com/images/M/MV5BMTQzODYxMzA4M15BMl5BanBnXkFtZTgwMTE5MDQwMTE@.\\_V1\\_UY99\\_CR68,0,99,99\\_AL\\_.jpg'\n",
       "\\item 'https://images-na.ssl-images-amazon.com/images/M/MV5BMjM4MTg1MzM0Ml5BMl5BanBnXkFtZTgwNzE5MDQwMTE@.\\_V1\\_UY99\\_CR68,0,99,99\\_AL\\_.jpg'\n",
       "\\item 'https://images-na.ssl-images-amazon.com/images/M/MV5BMTEzMTkzOTkzNzVeQTJeQWpwZ15BbWU4MDEyOTA0MDEx.\\_V1\\_UY99\\_CR68,0,99,99\\_AL\\_.jpg'\n",
       "\\item 'https://images-na.ssl-images-amazon.com/images/M/MV5BMTA0MTkzMzYxNzReQTJeQWpwZ15BbWU4MDAyOTA0MDEx.\\_V1\\_UY99\\_CR68,0,99,99\\_AL\\_.jpg'\n",
       "\\item 'https://images-na.ssl-images-amazon.com/images/M/MV5BNTU4MDI1MTg2M15BMl5BanBnXkFtZTgwODE5MDQwMTE@.\\_V1\\_UY99\\_CR68,0,99,99\\_AL\\_.jpg'\n",
       "\\end{enumerate*}\n"
      ],
      "text/markdown": [
       "1. 'https://images-na.ssl-images-amazon.com/images/M/MV5BMTYxODQzNzUwMV5BMl5BanBnXkFtZTgwMzE5MDQwMTE@._V1_UY99_CR69,0,99,99_AL_.jpg'\n",
       "2. 'https://images-na.ssl-images-amazon.com/images/M/MV5BMTQzODYxMzA4M15BMl5BanBnXkFtZTgwMTE5MDQwMTE@._V1_UY99_CR68,0,99,99_AL_.jpg'\n",
       "3. 'https://images-na.ssl-images-amazon.com/images/M/MV5BMjM4MTg1MzM0Ml5BMl5BanBnXkFtZTgwNzE5MDQwMTE@._V1_UY99_CR68,0,99,99_AL_.jpg'\n",
       "4. 'https://images-na.ssl-images-amazon.com/images/M/MV5BMTEzMTkzOTkzNzVeQTJeQWpwZ15BbWU4MDEyOTA0MDEx._V1_UY99_CR68,0,99,99_AL_.jpg'\n",
       "5. 'https://images-na.ssl-images-amazon.com/images/M/MV5BMTA0MTkzMzYxNzReQTJeQWpwZ15BbWU4MDAyOTA0MDEx._V1_UY99_CR68,0,99,99_AL_.jpg'\n",
       "6. 'https://images-na.ssl-images-amazon.com/images/M/MV5BNTU4MDI1MTg2M15BMl5BanBnXkFtZTgwODE5MDQwMTE@._V1_UY99_CR68,0,99,99_AL_.jpg'\n",
       "\n",
       "\n"
      ],
      "text/plain": [
       "[1] \"https://images-na.ssl-images-amazon.com/images/M/MV5BMTYxODQzNzUwMV5BMl5BanBnXkFtZTgwMzE5MDQwMTE@._V1_UY99_CR69,0,99,99_AL_.jpg\"\n",
       "[2] \"https://images-na.ssl-images-amazon.com/images/M/MV5BMTQzODYxMzA4M15BMl5BanBnXkFtZTgwMTE5MDQwMTE@._V1_UY99_CR68,0,99,99_AL_.jpg\"\n",
       "[3] \"https://images-na.ssl-images-amazon.com/images/M/MV5BMjM4MTg1MzM0Ml5BMl5BanBnXkFtZTgwNzE5MDQwMTE@._V1_UY99_CR68,0,99,99_AL_.jpg\"\n",
       "[4] \"https://images-na.ssl-images-amazon.com/images/M/MV5BMTEzMTkzOTkzNzVeQTJeQWpwZ15BbWU4MDEyOTA0MDEx._V1_UY99_CR68,0,99,99_AL_.jpg\"\n",
       "[5] \"https://images-na.ssl-images-amazon.com/images/M/MV5BMTA0MTkzMzYxNzReQTJeQWpwZ15BbWU4MDAyOTA0MDEx._V1_UY99_CR68,0,99,99_AL_.jpg\"\n",
       "[6] \"https://images-na.ssl-images-amazon.com/images/M/MV5BNTU4MDI1MTg2M15BMl5BanBnXkFtZTgwODE5MDQwMTE@._V1_UY99_CR68,0,99,99_AL_.jpg\""
      ]
     },
     "metadata": {},
     "output_type": "display_data"
    }
   ],
   "source": [
    "Photos"
   ]
  },
  {
   "cell_type": "code",
   "execution_count": 12,
   "metadata": {},
   "outputs": [
    {
     "data": {
      "text/plain": [
       "  http://hadley.nz/\n",
       "  http://hadley.nz/hadley-wickham.jpg\n",
       "- http://hadley.nz/"
      ]
     },
     "metadata": {},
     "output_type": "display_data"
    },
    {
     "data": {
      "text/plain": [
       "- http://hadley.nz/\n",
       "  http://hadley.nz/hadley-wickham.jpg"
      ]
     },
     "metadata": {},
     "output_type": "display_data"
    },
    {
     "name": "stderr",
     "output_type": "stream",
     "text": [
      "Navigating to http://rstudio.com\n"
     ]
    },
    {
     "data": {
      "text/plain": [
       "<session> https://www.rstudio.com/\n",
       "  Status: 200\n",
       "  Type:   text/html; charset=UTF-8\n",
       "  Size:   651876"
      ]
     },
     "metadata": {},
     "output_type": "display_data"
    }
   ],
   "source": [
    "# http://stackoverflow.com/questions/15853204\n",
    "\n",
    "s <- html_session(\"http://hadley.nz\")\n",
    "s %>% jump_to(\"hadley-wickham.jpg\") %>% jump_to(\"/\") %>% session_history()\n",
    "s %>% jump_to(\"hadley-wickham.jpg\") %>% back() %>% session_history()\n",
    "\n",
    "s %>% follow_link(css = \"p a\")\n"
   ]
  },
  {
   "cell_type": "code",
   "execution_count": null,
   "metadata": {},
   "outputs": [],
   "source": []
  },
  {
   "cell_type": "code",
   "execution_count": null,
   "metadata": {},
   "outputs": [],
   "source": []
  }
 ],
 "metadata": {
  "kernelspec": {
   "display_name": "R",
   "language": "R",
   "name": "ir"
  },
  "language_info": {
   "codemirror_mode": "r",
   "file_extension": ".r",
   "mimetype": "text/x-r-source",
   "name": "R",
   "pygments_lexer": "r",
   "version": "3.4.3"
  }
 },
 "nbformat": 4,
 "nbformat_minor": 2
}
