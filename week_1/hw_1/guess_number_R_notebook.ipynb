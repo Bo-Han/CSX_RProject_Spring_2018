{
 "cells": [
  {
   "cell_type": "markdown",
   "metadata": {},
   "source": [
    "## Guess numbers!!"
   ]
  },
  {
   "cell_type": "markdown",
   "metadata": {},
   "source": [
    "**My assumptions:**\n",
    "1. four numbers can't repeat\n",
    "2. users are smart and they won't do \"wrong guess\" (no error detection)"
   ]
  },
  {
   "cell_type": "code",
   "execution_count": 10,
   "metadata": {
    "collapsed": true
   },
   "outputs": [],
   "source": [
    "counter <- 0\n",
    "input_number_string <- ''\n",
    "input_number <- 0\n",
    "a_count <- 0\n",
    "b_count <- 0\n",
    "\n",
    "random_number <- sample(0:9, 4)\n",
    "\n",
    "# To print the random_number for checking~\n",
    "#for(a in random_number){\n",
    "#  print(a)\n",
    "#}"
   ]
  },
  {
   "cell_type": "code",
   "execution_count": 11,
   "metadata": {
    "collapsed": true
   },
   "outputs": [],
   "source": [
    "readInput <- function(){\n",
    "  n <- readline(prompt = \"請輸入猜測數字：\")\n",
    "  counter <<- counter + 1\n",
    "  input_number <<- n\n",
    "  return(input_number)\n",
    "}"
   ]
  },
  {
   "cell_type": "code",
   "execution_count": 15,
   "metadata": {},
   "outputs": [
    {
     "name": "stdout",
     "output_type": "stream",
     "text": [
      "請輸入猜測數字：exit\n",
      "[1] \"再見～下次再接再厲！\"\n"
     ]
    }
   ],
   "source": [
    "flag <- TRUE\n",
    "while(flag){\n",
    "  # First for user input\n",
    "  readInput()\n",
    "  # Type \"exit\" to leav the game\n",
    "  if(input_number == \"exit\"){\n",
    "      print(\"再見～下次再接再厲！\")\n",
    "      break\n",
    "  }\n",
    "  # Seperate the number into four part\n",
    "  input_number_1 <- strtoi(substr(input_number, start = 1, stop = 1))\n",
    "  input_number_2 <- strtoi(substr(input_number, start = 2, stop = 2))\n",
    "  input_number_3 <- strtoi(substr(input_number, start = 3, stop = 3))\n",
    "  input_number_4 <- strtoi(substr(input_number, start = 4, stop = 4))\n",
    "  user_input_list <- c(input_number_1, input_number_2, input_number_3, input_number_4) \n",
    "\n",
    "  # For checking\n",
    "  #user_input_list\n",
    "    \n",
    "  #first find how many a then b\n",
    "  for(a in 1:4){\n",
    "    if(random_number[a] == user_input_list[a]){\n",
    "      a_count <- a_count + 1\n",
    "    }\n",
    "    for(b in 1:4){\n",
    "      if(a == b){\n",
    "        next\n",
    "      }\n",
    "      if(user_input_list[a] == random_number[b]){\n",
    "        b_count <- b_count + 1\n",
    "      }\n",
    "    }\n",
    "  }\n",
    "  print_data = paste(a_count, 'A, ', b_count, 'B')\n",
    "  print(print_data)\n",
    "\n",
    "  if(a_count == 4 && b_count == 0){\n",
    "    flag <<- FALSE \n",
    "  }\n",
    "  a_count <<- 0\n",
    "  b_count <<- 0\n",
    "}"
   ]
  },
  {
   "cell_type": "code",
   "execution_count": 17,
   "metadata": {},
   "outputs": [
    {
     "name": "stdout",
     "output_type": "stream",
     "text": [
      "[1] \"你總共輸入了:  6 次\"\n"
     ]
    }
   ],
   "source": [
    "print(paste(\"你總共輸入了: \", counter, '次'))\n",
    "counter <- 0"
   ]
  },
  {
   "cell_type": "code",
   "execution_count": null,
   "metadata": {
    "collapsed": true
   },
   "outputs": [],
   "source": []
  }
 ],
 "metadata": {
  "kernelspec": {
   "display_name": "R",
   "language": "R",
   "name": "ir"
  },
  "language_info": {
   "codemirror_mode": "r",
   "file_extension": ".r",
   "mimetype": "text/x-r-source",
   "name": "R",
   "pygments_lexer": "r",
   "version": "3.4.3"
  }
 },
 "nbformat": 4,
 "nbformat_minor": 2
}
