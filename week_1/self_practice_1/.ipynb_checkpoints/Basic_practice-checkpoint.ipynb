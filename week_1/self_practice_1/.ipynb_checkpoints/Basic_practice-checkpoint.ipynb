{
 "cells": [
  {
   "cell_type": "markdown",
   "metadata": {},
   "source": [
    "## types"
   ]
  },
  {
   "cell_type": "code",
   "execution_count": 27,
   "metadata": {},
   "outputs": [],
   "source": [
    "x <- c(0.5, 0.6)       ## this is numeric"
   ]
  },
  {
   "cell_type": "code",
   "execution_count": 46,
   "metadata": {},
   "outputs": [
    {
     "data": {
      "text/html": [
       "TRUE"
      ],
      "text/latex": [
       "TRUE"
      ],
      "text/markdown": [
       "TRUE"
      ],
      "text/plain": [
       "[1] TRUE"
      ]
     },
     "metadata": {},
     "output_type": "display_data"
    }
   ],
   "source": [
    "is.numeric(x)  # \"numeric\", 實數型, 含\"integer\", 整數向量(有時需特別指定), 與\"double\", 倍精確度型"
   ]
  },
  {
   "cell_type": "code",
   "execution_count": 47,
   "metadata": {},
   "outputs": [
    {
     "data": {
      "text/html": [
       "'double'"
      ],
      "text/latex": [
       "'double'"
      ],
      "text/markdown": [
       "'double'"
      ],
      "text/plain": [
       "[1] \"double\""
      ]
     },
     "metadata": {},
     "output_type": "display_data"
    }
   ],
   "source": [
    "typeof(x)"
   ]
  },
  {
   "cell_type": "code",
   "execution_count": 22,
   "metadata": {},
   "outputs": [],
   "source": [
    "y <- c(TRUE, FALSE)    ## this is logical"
   ]
  },
  {
   "cell_type": "code",
   "execution_count": 38,
   "metadata": {},
   "outputs": [
    {
     "data": {
      "text/html": [
       "'logical'"
      ],
      "text/latex": [
       "'logical'"
      ],
      "text/markdown": [
       "'logical'"
      ],
      "text/plain": [
       "[1] \"logical\""
      ]
     },
     "metadata": {},
     "output_type": "display_data"
    }
   ],
   "source": [
    "typeof(y)"
   ]
  },
  {
   "cell_type": "code",
   "execution_count": 28,
   "metadata": {},
   "outputs": [],
   "source": [
    "z <- c(T, F)           ## this is logical"
   ]
  },
  {
   "cell_type": "code",
   "execution_count": 39,
   "metadata": {},
   "outputs": [
    {
     "data": {
      "text/html": [
       "'logical'"
      ],
      "text/latex": [
       "'logical'"
      ],
      "text/markdown": [
       "'logical'"
      ],
      "text/plain": [
       "[1] \"logical\""
      ]
     },
     "metadata": {},
     "output_type": "display_data"
    }
   ],
   "source": [
    "typeof(z)"
   ]
  },
  {
   "cell_type": "code",
   "execution_count": 33,
   "metadata": {},
   "outputs": [],
   "source": [
    "a <- c(\"a\", \"b\", \"c\")  ## this is character"
   ]
  },
  {
   "cell_type": "code",
   "execution_count": 41,
   "metadata": {},
   "outputs": [
    {
     "data": {
      "text/html": [
       "'character'"
      ],
      "text/latex": [
       "'character'"
      ],
      "text/markdown": [
       "'character'"
      ],
      "text/plain": [
       "[1] \"character\""
      ]
     },
     "metadata": {},
     "output_type": "display_data"
    }
   ],
   "source": [
    "typeof(a)"
   ]
  },
  {
   "cell_type": "code",
   "execution_count": 35,
   "metadata": {
    "collapsed": true
   },
   "outputs": [],
   "source": [
    "b <- 1:10              ## this is integer"
   ]
  },
  {
   "cell_type": "code",
   "execution_count": 42,
   "metadata": {},
   "outputs": [
    {
     "data": {
      "text/html": [
       "'integer'"
      ],
      "text/latex": [
       "'integer'"
      ],
      "text/markdown": [
       "'integer'"
      ],
      "text/plain": [
       "[1] \"integer\""
      ]
     },
     "metadata": {},
     "output_type": "display_data"
    }
   ],
   "source": [
    "typeof(b)"
   ]
  },
  {
   "cell_type": "code",
   "execution_count": 36,
   "metadata": {
    "collapsed": true
   },
   "outputs": [],
   "source": [
    "c <- c(1+0i, 2+6i)     ## this is complex"
   ]
  },
  {
   "cell_type": "code",
   "execution_count": 43,
   "metadata": {},
   "outputs": [
    {
     "data": {
      "text/html": [
       "'complex'"
      ],
      "text/latex": [
       "'complex'"
      ],
      "text/markdown": [
       "'complex'"
      ],
      "text/plain": [
       "[1] \"complex\""
      ]
     },
     "metadata": {},
     "output_type": "display_data"
    }
   ],
   "source": [
    "typeof(c)"
   ]
  },
  {
   "cell_type": "markdown",
   "metadata": {},
   "source": [
    "## Explicit Coercion"
   ]
  },
  {
   "cell_type": "code",
   "execution_count": 62,
   "metadata": {
    "collapsed": true
   },
   "outputs": [],
   "source": [
    "x <- 0:6"
   ]
  },
  {
   "cell_type": "code",
   "execution_count": 63,
   "metadata": {},
   "outputs": [
    {
     "data": {
      "text/html": [
       "'integer'"
      ],
      "text/latex": [
       "'integer'"
      ],
      "text/markdown": [
       "'integer'"
      ],
      "text/plain": [
       "[1] \"integer\""
      ]
     },
     "metadata": {},
     "output_type": "display_data"
    }
   ],
   "source": [
    "class(x)"
   ]
  },
  {
   "cell_type": "code",
   "execution_count": 64,
   "metadata": {},
   "outputs": [
    {
     "data": {
      "text/html": [
       "<ol class=list-inline>\n",
       "\t<li>0</li>\n",
       "\t<li>1</li>\n",
       "\t<li>2</li>\n",
       "\t<li>3</li>\n",
       "\t<li>4</li>\n",
       "\t<li>5</li>\n",
       "\t<li>6</li>\n",
       "</ol>\n"
      ],
      "text/latex": [
       "\\begin{enumerate*}\n",
       "\\item 0\n",
       "\\item 1\n",
       "\\item 2\n",
       "\\item 3\n",
       "\\item 4\n",
       "\\item 5\n",
       "\\item 6\n",
       "\\end{enumerate*}\n"
      ],
      "text/markdown": [
       "1. 0\n",
       "2. 1\n",
       "3. 2\n",
       "4. 3\n",
       "5. 4\n",
       "6. 5\n",
       "7. 6\n",
       "\n",
       "\n"
      ],
      "text/plain": [
       "[1] 0 1 2 3 4 5 6"
      ]
     },
     "metadata": {},
     "output_type": "display_data"
    }
   ],
   "source": [
    "as.numeric(x)"
   ]
  },
  {
   "cell_type": "code",
   "execution_count": 66,
   "metadata": {},
   "outputs": [
    {
     "data": {
      "text/html": [
       "<ol class=list-inline>\n",
       "\t<li>FALSE</li>\n",
       "\t<li>TRUE</li>\n",
       "\t<li>TRUE</li>\n",
       "\t<li>TRUE</li>\n",
       "\t<li>TRUE</li>\n",
       "\t<li>TRUE</li>\n",
       "\t<li>TRUE</li>\n",
       "</ol>\n"
      ],
      "text/latex": [
       "\\begin{enumerate*}\n",
       "\\item FALSE\n",
       "\\item TRUE\n",
       "\\item TRUE\n",
       "\\item TRUE\n",
       "\\item TRUE\n",
       "\\item TRUE\n",
       "\\item TRUE\n",
       "\\end{enumerate*}\n"
      ],
      "text/markdown": [
       "1. FALSE\n",
       "2. TRUE\n",
       "3. TRUE\n",
       "4. TRUE\n",
       "5. TRUE\n",
       "6. TRUE\n",
       "7. TRUE\n",
       "\n",
       "\n"
      ],
      "text/plain": [
       "[1] FALSE  TRUE  TRUE  TRUE  TRUE  TRUE  TRUE"
      ]
     },
     "metadata": {},
     "output_type": "display_data"
    }
   ],
   "source": [
    "as.logical(x)"
   ]
  },
  {
   "cell_type": "code",
   "execution_count": 69,
   "metadata": {},
   "outputs": [
    {
     "data": {
      "text/html": [
       "<ol class=list-inline>\n",
       "\t<li>'0'</li>\n",
       "\t<li>'1'</li>\n",
       "\t<li>'2'</li>\n",
       "\t<li>'3'</li>\n",
       "\t<li>'4'</li>\n",
       "\t<li>'5'</li>\n",
       "\t<li>'6'</li>\n",
       "</ol>\n"
      ],
      "text/latex": [
       "\\begin{enumerate*}\n",
       "\\item '0'\n",
       "\\item '1'\n",
       "\\item '2'\n",
       "\\item '3'\n",
       "\\item '4'\n",
       "\\item '5'\n",
       "\\item '6'\n",
       "\\end{enumerate*}\n"
      ],
      "text/markdown": [
       "1. '0'\n",
       "2. '1'\n",
       "3. '2'\n",
       "4. '3'\n",
       "5. '4'\n",
       "6. '5'\n",
       "7. '6'\n",
       "\n",
       "\n"
      ],
      "text/plain": [
       "[1] \"0\" \"1\" \"2\" \"3\" \"4\" \"5\" \"6\""
      ]
     },
     "metadata": {},
     "output_type": "display_data"
    }
   ],
   "source": [
    "as.character(x)"
   ]
  },
  {
   "cell_type": "code",
   "execution_count": 75,
   "metadata": {
    "collapsed": true
   },
   "outputs": [],
   "source": [
    "y <- c(\"a\", \"b\", \"c\")"
   ]
  },
  {
   "cell_type": "code",
   "execution_count": 76,
   "metadata": {},
   "outputs": [
    {
     "name": "stderr",
     "output_type": "stream",
     "text": [
      "Warning message in eval(expr, envir, enclos):\n",
      "“強制變更過程中產生了 NA”"
     ]
    },
    {
     "data": {
      "text/html": [
       "<ol class=list-inline>\n",
       "\t<li>&lt;NA&gt;</li>\n",
       "\t<li>&lt;NA&gt;</li>\n",
       "\t<li>&lt;NA&gt;</li>\n",
       "</ol>\n"
      ],
      "text/latex": [
       "\\begin{enumerate*}\n",
       "\\item <NA>\n",
       "\\item <NA>\n",
       "\\item <NA>\n",
       "\\end{enumerate*}\n"
      ],
      "text/markdown": [
       "1. &lt;NA&gt;\n",
       "2. &lt;NA&gt;\n",
       "3. &lt;NA&gt;\n",
       "\n",
       "\n"
      ],
      "text/plain": [
       "[1] NA NA NA"
      ]
     },
     "metadata": {},
     "output_type": "display_data"
    }
   ],
   "source": [
    "as.numeric(y)    ## can't match and produce <NA>"
   ]
  },
  {
   "cell_type": "code",
   "execution_count": 77,
   "metadata": {},
   "outputs": [
    {
     "data": {
      "text/html": [
       "<ol class=list-inline>\n",
       "\t<li>&lt;NA&gt;</li>\n",
       "\t<li>&lt;NA&gt;</li>\n",
       "\t<li>&lt;NA&gt;</li>\n",
       "</ol>\n"
      ],
      "text/latex": [
       "\\begin{enumerate*}\n",
       "\\item <NA>\n",
       "\\item <NA>\n",
       "\\item <NA>\n",
       "\\end{enumerate*}\n"
      ],
      "text/markdown": [
       "1. &lt;NA&gt;\n",
       "2. &lt;NA&gt;\n",
       "3. &lt;NA&gt;\n",
       "\n",
       "\n"
      ],
      "text/plain": [
       "[1] NA NA NA"
      ]
     },
     "metadata": {},
     "output_type": "display_data"
    }
   ],
   "source": [
    "as.logical(y)"
   ]
  },
  {
   "cell_type": "code",
   "execution_count": 78,
   "metadata": {},
   "outputs": [
    {
     "name": "stderr",
     "output_type": "stream",
     "text": [
      "Warning message in eval(expr, envir, enclos):\n",
      "“強制變更過程中產生了 NA”"
     ]
    },
    {
     "data": {
      "text/html": [
       "<ol class=list-inline>\n",
       "\t<li>&lt;NA&gt;</li>\n",
       "\t<li>&lt;NA&gt;</li>\n",
       "\t<li>&lt;NA&gt;</li>\n",
       "</ol>\n"
      ],
      "text/latex": [
       "\\begin{enumerate*}\n",
       "\\item <NA>\n",
       "\\item <NA>\n",
       "\\item <NA>\n",
       "\\end{enumerate*}\n"
      ],
      "text/markdown": [
       "1. &lt;NA&gt;\n",
       "2. &lt;NA&gt;\n",
       "3. &lt;NA&gt;\n",
       "\n",
       "\n"
      ],
      "text/plain": [
       "[1] NA NA NA"
      ]
     },
     "metadata": {},
     "output_type": "display_data"
    }
   ],
   "source": [
    "as.complex(y)"
   ]
  },
  {
   "cell_type": "markdown",
   "metadata": {},
   "source": [
    "## Vector"
   ]
  },
  {
   "cell_type": "code",
   "execution_count": 48,
   "metadata": {
    "collapsed": true
   },
   "outputs": [],
   "source": [
    "x <- vector(\"numeric\", length = 10)"
   ]
  },
  {
   "cell_type": "code",
   "execution_count": 49,
   "metadata": {},
   "outputs": [
    {
     "data": {
      "text/html": [
       "<ol class=list-inline>\n",
       "\t<li>0</li>\n",
       "\t<li>0</li>\n",
       "\t<li>0</li>\n",
       "\t<li>0</li>\n",
       "\t<li>0</li>\n",
       "\t<li>0</li>\n",
       "\t<li>0</li>\n",
       "\t<li>0</li>\n",
       "\t<li>0</li>\n",
       "\t<li>0</li>\n",
       "</ol>\n"
      ],
      "text/latex": [
       "\\begin{enumerate*}\n",
       "\\item 0\n",
       "\\item 0\n",
       "\\item 0\n",
       "\\item 0\n",
       "\\item 0\n",
       "\\item 0\n",
       "\\item 0\n",
       "\\item 0\n",
       "\\item 0\n",
       "\\item 0\n",
       "\\end{enumerate*}\n"
      ],
      "text/markdown": [
       "1. 0\n",
       "2. 0\n",
       "3. 0\n",
       "4. 0\n",
       "5. 0\n",
       "6. 0\n",
       "7. 0\n",
       "8. 0\n",
       "9. 0\n",
       "10. 0\n",
       "\n",
       "\n"
      ],
      "text/plain": [
       " [1] 0 0 0 0 0 0 0 0 0 0"
      ]
     },
     "metadata": {},
     "output_type": "display_data"
    }
   ],
   "source": [
    "x"
   ]
  },
  {
   "cell_type": "markdown",
   "metadata": {},
   "source": [
    "## List"
   ]
  },
  {
   "cell_type": "code",
   "execution_count": 82,
   "metadata": {},
   "outputs": [],
   "source": [
    "x <- list(1,\"a\", TRUE, 1+4i)"
   ]
  },
  {
   "cell_type": "code",
   "execution_count": 83,
   "metadata": {},
   "outputs": [
    {
     "data": {
      "text/html": [
       "<ol>\n",
       "\t<li>1</li>\n",
       "\t<li>'a'</li>\n",
       "\t<li>TRUE</li>\n",
       "\t<li>1+4i</li>\n",
       "</ol>\n"
      ],
      "text/latex": [
       "\\begin{enumerate}\n",
       "\\item 1\n",
       "\\item 'a'\n",
       "\\item TRUE\n",
       "\\item 1+4i\n",
       "\\end{enumerate}\n"
      ],
      "text/markdown": [
       "1. 1\n",
       "2. 'a'\n",
       "3. TRUE\n",
       "4. 1+4i\n",
       "\n",
       "\n"
      ],
      "text/plain": [
       "[[1]]\n",
       "[1] 1\n",
       "\n",
       "[[2]]\n",
       "[1] \"a\"\n",
       "\n",
       "[[3]]\n",
       "[1] TRUE\n",
       "\n",
       "[[4]]\n",
       "[1] 1+4i\n"
      ]
     },
     "metadata": {},
     "output_type": "display_data"
    }
   ],
   "source": [
    "x"
   ]
  },
  {
   "cell_type": "markdown",
   "metadata": {},
   "source": [
    "## Matrix"
   ]
  },
  {
   "cell_type": "code",
   "execution_count": 84,
   "metadata": {
    "collapsed": true
   },
   "outputs": [],
   "source": [
    "m <- matrix(nrow = 2, ncol = 3)"
   ]
  },
  {
   "cell_type": "code",
   "execution_count": 86,
   "metadata": {},
   "outputs": [
    {
     "data": {
      "text/html": [
       "<table>\n",
       "<tbody>\n",
       "\t<tr><td>NA</td><td>NA</td><td>NA</td></tr>\n",
       "\t<tr><td>NA</td><td>NA</td><td>NA</td></tr>\n",
       "</tbody>\n",
       "</table>\n"
      ],
      "text/latex": [
       "\\begin{tabular}{lll}\n",
       "\t NA & NA & NA\\\\\n",
       "\t NA & NA & NA\\\\\n",
       "\\end{tabular}\n"
      ],
      "text/markdown": [
       "\n",
       "| NA | NA | NA | \n",
       "| NA | NA | NA | \n",
       "\n",
       "\n"
      ],
      "text/plain": [
       "     [,1] [,2] [,3]\n",
       "[1,] NA   NA   NA  \n",
       "[2,] NA   NA   NA  "
      ]
     },
     "metadata": {},
     "output_type": "display_data"
    }
   ],
   "source": [
    "m     ## NA matrix"
   ]
  },
  {
   "cell_type": "code",
   "execution_count": 88,
   "metadata": {},
   "outputs": [
    {
     "data": {
      "text/html": [
       "<ol class=list-inline>\n",
       "\t<li>2</li>\n",
       "\t<li>3</li>\n",
       "</ol>\n"
      ],
      "text/latex": [
       "\\begin{enumerate*}\n",
       "\\item 2\n",
       "\\item 3\n",
       "\\end{enumerate*}\n"
      ],
      "text/markdown": [
       "1. 2\n",
       "2. 3\n",
       "\n",
       "\n"
      ],
      "text/plain": [
       "[1] 2 3"
      ]
     },
     "metadata": {},
     "output_type": "display_data"
    }
   ],
   "source": [
    "dim(m)  ## give the dimension (nrow, ncol)"
   ]
  },
  {
   "cell_type": "code",
   "execution_count": 89,
   "metadata": {},
   "outputs": [
    {
     "data": {
      "text/html": [
       "<strong>$dim</strong> = <ol class=list-inline>\n",
       "\t<li>2</li>\n",
       "\t<li>3</li>\n",
       "</ol>\n"
      ],
      "text/latex": [
       "\\textbf{\\$dim} = \\begin{enumerate*}\n",
       "\\item 2\n",
       "\\item 3\n",
       "\\end{enumerate*}\n"
      ],
      "text/markdown": [
       "**$dim** = 1. 2\n",
       "2. 3\n",
       "\n",
       "\n"
      ],
      "text/plain": [
       "$dim\n",
       "[1] 2 3\n"
      ]
     },
     "metadata": {},
     "output_type": "display_data"
    }
   ],
   "source": [
    "attributes(m)"
   ]
  },
  {
   "cell_type": "markdown",
   "metadata": {},
   "source": [
    "1. create the matrix directly"
   ]
  },
  {
   "cell_type": "code",
   "execution_count": 90,
   "metadata": {
    "collapsed": true
   },
   "outputs": [],
   "source": [
    "m <- matrix(1:6, nrow = 2, ncol = 3)"
   ]
  },
  {
   "cell_type": "code",
   "execution_count": 91,
   "metadata": {},
   "outputs": [
    {
     "data": {
      "text/html": [
       "<table>\n",
       "<tbody>\n",
       "\t<tr><td>1</td><td>3</td><td>5</td></tr>\n",
       "\t<tr><td>2</td><td>4</td><td>6</td></tr>\n",
       "</tbody>\n",
       "</table>\n"
      ],
      "text/latex": [
       "\\begin{tabular}{lll}\n",
       "\t 1 & 3 & 5\\\\\n",
       "\t 2 & 4 & 6\\\\\n",
       "\\end{tabular}\n"
      ],
      "text/markdown": [
       "\n",
       "| 1 | 3 | 5 | \n",
       "| 2 | 4 | 6 | \n",
       "\n",
       "\n"
      ],
      "text/plain": [
       "     [,1] [,2] [,3]\n",
       "[1,] 1    3    5   \n",
       "[2,] 2    4    6   "
      ]
     },
     "metadata": {},
     "output_type": "display_data"
    }
   ],
   "source": [
    "m"
   ]
  },
  {
   "cell_type": "markdown",
   "metadata": {},
   "source": [
    "2. create the matrix through dimension"
   ]
  },
  {
   "cell_type": "code",
   "execution_count": 92,
   "metadata": {
    "collapsed": true
   },
   "outputs": [],
   "source": [
    "m <- 1:10"
   ]
  },
  {
   "cell_type": "code",
   "execution_count": null,
   "metadata": {
    "collapsed": true
   },
   "outputs": [],
   "source": [
    "dim(m) <- c(2,5)"
   ]
  },
  {
   "cell_type": "code",
   "execution_count": 93,
   "metadata": {},
   "outputs": [
    {
     "data": {
      "text/html": [
       "<ol class=list-inline>\n",
       "\t<li>1</li>\n",
       "\t<li>2</li>\n",
       "\t<li>3</li>\n",
       "\t<li>4</li>\n",
       "\t<li>5</li>\n",
       "\t<li>6</li>\n",
       "\t<li>7</li>\n",
       "\t<li>8</li>\n",
       "\t<li>9</li>\n",
       "\t<li>10</li>\n",
       "</ol>\n"
      ],
      "text/latex": [
       "\\begin{enumerate*}\n",
       "\\item 1\n",
       "\\item 2\n",
       "\\item 3\n",
       "\\item 4\n",
       "\\item 5\n",
       "\\item 6\n",
       "\\item 7\n",
       "\\item 8\n",
       "\\item 9\n",
       "\\item 10\n",
       "\\end{enumerate*}\n"
      ],
      "text/markdown": [
       "1. 1\n",
       "2. 2\n",
       "3. 3\n",
       "4. 4\n",
       "5. 5\n",
       "6. 6\n",
       "7. 7\n",
       "8. 8\n",
       "9. 9\n",
       "10. 10\n",
       "\n",
       "\n"
      ],
      "text/plain": [
       " [1]  1  2  3  4  5  6  7  8  9 10"
      ]
     },
     "metadata": {},
     "output_type": "display_data"
    }
   ],
   "source": [
    "m"
   ]
  },
  {
   "cell_type": "markdown",
   "metadata": {},
   "source": [
    "3. create the matrix through column or row binding"
   ]
  },
  {
   "cell_type": "code",
   "execution_count": 97,
   "metadata": {
    "collapsed": true
   },
   "outputs": [],
   "source": [
    "c <- 1:3"
   ]
  },
  {
   "cell_type": "code",
   "execution_count": 98,
   "metadata": {
    "collapsed": true
   },
   "outputs": [],
   "source": [
    "b <- 10:12"
   ]
  },
  {
   "cell_type": "code",
   "execution_count": 99,
   "metadata": {},
   "outputs": [
    {
     "data": {
      "text/html": [
       "<table>\n",
       "<thead><tr><th scope=col>c</th><th scope=col>b</th></tr></thead>\n",
       "<tbody>\n",
       "\t<tr><td>1 </td><td>10</td></tr>\n",
       "\t<tr><td>2 </td><td>11</td></tr>\n",
       "\t<tr><td>3 </td><td>12</td></tr>\n",
       "</tbody>\n",
       "</table>\n"
      ],
      "text/latex": [
       "\\begin{tabular}{ll}\n",
       " c & b\\\\\n",
       "\\hline\n",
       "\t 1  & 10\\\\\n",
       "\t 2  & 11\\\\\n",
       "\t 3  & 12\\\\\n",
       "\\end{tabular}\n"
      ],
      "text/markdown": [
       "\n",
       "c | b | \n",
       "|---|---|---|\n",
       "| 1  | 10 | \n",
       "| 2  | 11 | \n",
       "| 3  | 12 | \n",
       "\n",
       "\n"
      ],
      "text/plain": [
       "     c b \n",
       "[1,] 1 10\n",
       "[2,] 2 11\n",
       "[3,] 3 12"
      ]
     },
     "metadata": {},
     "output_type": "display_data"
    }
   ],
   "source": [
    "cbind(c, b)"
   ]
  },
  {
   "cell_type": "code",
   "execution_count": 100,
   "metadata": {},
   "outputs": [
    {
     "data": {
      "text/html": [
       "<table>\n",
       "<tbody>\n",
       "\t<tr><th scope=row>c</th><td> 1</td><td> 2</td><td> 3</td></tr>\n",
       "\t<tr><th scope=row>b</th><td>10</td><td>11</td><td>12</td></tr>\n",
       "</tbody>\n",
       "</table>\n"
      ],
      "text/latex": [
       "\\begin{tabular}{r|lll}\n",
       "\tc &  1 &  2 &  3\\\\\n",
       "\tb & 10 & 11 & 12\\\\\n",
       "\\end{tabular}\n"
      ],
      "text/markdown": [
       "\n",
       "| c |  1 |  2 |  3 | \n",
       "| b | 10 | 11 | 12 | \n",
       "\n",
       "\n"
      ],
      "text/plain": [
       "  [,1] [,2] [,3]\n",
       "c  1    2    3  \n",
       "b 10   11   12  "
      ]
     },
     "metadata": {},
     "output_type": "display_data"
    }
   ],
   "source": [
    "rbind(c,b)"
   ]
  },
  {
   "cell_type": "markdown",
   "metadata": {},
   "source": [
    "## Factors (special type of vectors)"
   ]
  },
  {
   "cell_type": "code",
   "execution_count": 101,
   "metadata": {
    "collapsed": true
   },
   "outputs": [],
   "source": [
    "x <- factor(c(\"yes\", \"yes\", \"no\", \"yes\", \"no\"))"
   ]
  },
  {
   "cell_type": "code",
   "execution_count": 104,
   "metadata": {},
   "outputs": [
    {
     "data": {
      "text/html": [
       "<ol class=list-inline>\n",
       "\t<li>yes</li>\n",
       "\t<li>yes</li>\n",
       "\t<li>no</li>\n",
       "\t<li>yes</li>\n",
       "\t<li>no</li>\n",
       "</ol>\n"
      ],
      "text/latex": [
       "\\begin{enumerate*}\n",
       "\\item yes\n",
       "\\item yes\n",
       "\\item no\n",
       "\\item yes\n",
       "\\item no\n",
       "\\end{enumerate*}\n"
      ],
      "text/markdown": [
       "1. yes\n",
       "2. yes\n",
       "3. no\n",
       "4. yes\n",
       "5. no\n",
       "\n",
       "\n"
      ],
      "text/plain": [
       "[1] yes yes no  yes no \n",
       "Levels: no yes"
      ]
     },
     "metadata": {},
     "output_type": "display_data"
    }
   ],
   "source": [
    "x"
   ]
  },
  {
   "cell_type": "code",
   "execution_count": 105,
   "metadata": {},
   "outputs": [
    {
     "data": {
      "text/plain": [
       "x\n",
       " no yes \n",
       "  2   3 "
      ]
     },
     "metadata": {},
     "output_type": "display_data"
    }
   ],
   "source": [
    "table(x)"
   ]
  },
  {
   "cell_type": "code",
   "execution_count": 106,
   "metadata": {},
   "outputs": [
    {
     "data": {
      "text/html": [
       "<ol class=list-inline>\n",
       "\t<li>2</li>\n",
       "\t<li>2</li>\n",
       "\t<li>1</li>\n",
       "\t<li>2</li>\n",
       "\t<li>1</li>\n",
       "</ol>\n"
      ],
      "text/latex": [
       "\\begin{enumerate*}\n",
       "\\item 2\n",
       "\\item 2\n",
       "\\item 1\n",
       "\\item 2\n",
       "\\item 1\n",
       "\\end{enumerate*}\n"
      ],
      "text/markdown": [
       "1. 2\n",
       "2. 2\n",
       "3. 1\n",
       "4. 2\n",
       "5. 1\n",
       "\n",
       "\n"
      ],
      "text/plain": [
       "[1] 2 2 1 2 1\n",
       "attr(,\"levels\")\n",
       "[1] \"no\"  \"yes\""
      ]
     },
     "metadata": {},
     "output_type": "display_data"
    }
   ],
   "source": [
    "unclass(x)"
   ]
  },
  {
   "cell_type": "markdown",
   "metadata": {},
   "source": [
    "1. set the level of the factors"
   ]
  },
  {
   "cell_type": "code",
   "execution_count": 108,
   "metadata": {
    "collapsed": true
   },
   "outputs": [],
   "source": [
    "x <- factor(c(\"yes\", \"yes\", \"no\", \"yes\", \"no\"), \n",
    "           levels = c(\"yes\", \"no\"))"
   ]
  },
  {
   "cell_type": "code",
   "execution_count": 109,
   "metadata": {},
   "outputs": [
    {
     "data": {
      "text/html": [
       "<ol class=list-inline>\n",
       "\t<li>yes</li>\n",
       "\t<li>yes</li>\n",
       "\t<li>no</li>\n",
       "\t<li>yes</li>\n",
       "\t<li>no</li>\n",
       "</ol>\n"
      ],
      "text/latex": [
       "\\begin{enumerate*}\n",
       "\\item yes\n",
       "\\item yes\n",
       "\\item no\n",
       "\\item yes\n",
       "\\item no\n",
       "\\end{enumerate*}\n"
      ],
      "text/markdown": [
       "1. yes\n",
       "2. yes\n",
       "3. no\n",
       "4. yes\n",
       "5. no\n",
       "\n",
       "\n"
      ],
      "text/plain": [
       "[1] yes yes no  yes no \n",
       "Levels: yes no"
      ]
     },
     "metadata": {},
     "output_type": "display_data"
    }
   ],
   "source": [
    "x"
   ]
  },
  {
   "cell_type": "markdown",
   "metadata": {},
   "source": [
    "## Dataframe"
   ]
  },
  {
   "cell_type": "code",
   "execution_count": 110,
   "metadata": {
    "collapsed": true
   },
   "outputs": [],
   "source": [
    "x <- data.frame(foo = 1:4, bar = c(T, T, F, F))"
   ]
  },
  {
   "cell_type": "code",
   "execution_count": 111,
   "metadata": {},
   "outputs": [
    {
     "data": {
      "text/html": [
       "<table>\n",
       "<thead><tr><th scope=col>foo</th><th scope=col>bar</th></tr></thead>\n",
       "<tbody>\n",
       "\t<tr><td>1    </td><td> TRUE</td></tr>\n",
       "\t<tr><td>2    </td><td> TRUE</td></tr>\n",
       "\t<tr><td>3    </td><td>FALSE</td></tr>\n",
       "\t<tr><td>4    </td><td>FALSE</td></tr>\n",
       "</tbody>\n",
       "</table>\n"
      ],
      "text/latex": [
       "\\begin{tabular}{r|ll}\n",
       " foo & bar\\\\\n",
       "\\hline\n",
       "\t 1     &  TRUE\\\\\n",
       "\t 2     &  TRUE\\\\\n",
       "\t 3     & FALSE\\\\\n",
       "\t 4     & FALSE\\\\\n",
       "\\end{tabular}\n"
      ],
      "text/markdown": [
       "\n",
       "foo | bar | \n",
       "|---|---|---|---|\n",
       "| 1     |  TRUE | \n",
       "| 2     |  TRUE | \n",
       "| 3     | FALSE | \n",
       "| 4     | FALSE | \n",
       "\n",
       "\n"
      ],
      "text/plain": [
       "  foo bar  \n",
       "1 1    TRUE\n",
       "2 2    TRUE\n",
       "3 3   FALSE\n",
       "4 4   FALSE"
      ]
     },
     "metadata": {},
     "output_type": "display_data"
    }
   ],
   "source": [
    "x"
   ]
  },
  {
   "cell_type": "code",
   "execution_count": 112,
   "metadata": {},
   "outputs": [
    {
     "data": {
      "text/html": [
       "4"
      ],
      "text/latex": [
       "4"
      ],
      "text/markdown": [
       "4"
      ],
      "text/plain": [
       "[1] 4"
      ]
     },
     "metadata": {},
     "output_type": "display_data"
    }
   ],
   "source": [
    "nrow(x)"
   ]
  },
  {
   "cell_type": "code",
   "execution_count": 114,
   "metadata": {},
   "outputs": [
    {
     "data": {
      "text/html": [
       "2"
      ],
      "text/latex": [
       "2"
      ],
      "text/markdown": [
       "2"
      ],
      "text/plain": [
       "[1] 2"
      ]
     },
     "metadata": {},
     "output_type": "display_data"
    }
   ],
   "source": [
    "ncol(x)"
   ]
  },
  {
   "cell_type": "markdown",
   "metadata": {},
   "source": [
    "## Names"
   ]
  },
  {
   "cell_type": "code",
   "execution_count": 115,
   "metadata": {
    "collapsed": true
   },
   "outputs": [],
   "source": [
    "x <- 1:3"
   ]
  },
  {
   "cell_type": "code",
   "execution_count": 116,
   "metadata": {},
   "outputs": [
    {
     "data": {
      "text/html": [
       "<ol class=list-inline>\n",
       "\t<li>1</li>\n",
       "\t<li>2</li>\n",
       "\t<li>3</li>\n",
       "</ol>\n"
      ],
      "text/latex": [
       "\\begin{enumerate*}\n",
       "\\item 1\n",
       "\\item 2\n",
       "\\item 3\n",
       "\\end{enumerate*}\n"
      ],
      "text/markdown": [
       "1. 1\n",
       "2. 2\n",
       "3. 3\n",
       "\n",
       "\n"
      ],
      "text/plain": [
       "[1] 1 2 3"
      ]
     },
     "metadata": {},
     "output_type": "display_data"
    }
   ],
   "source": [
    "x"
   ]
  },
  {
   "cell_type": "code",
   "execution_count": 117,
   "metadata": {},
   "outputs": [
    {
     "data": {
      "text/plain": [
       "NULL"
      ]
     },
     "metadata": {},
     "output_type": "display_data"
    }
   ],
   "source": [
    "names(x)"
   ]
  },
  {
   "cell_type": "code",
   "execution_count": 121,
   "metadata": {
    "collapsed": true
   },
   "outputs": [],
   "source": [
    "names(x) <- c(\"foo\", \"bar\", \"norf\")"
   ]
  },
  {
   "cell_type": "code",
   "execution_count": 122,
   "metadata": {},
   "outputs": [
    {
     "data": {
      "text/html": [
       "<dl class=dl-horizontal>\n",
       "\t<dt>foo</dt>\n",
       "\t\t<dd>1</dd>\n",
       "\t<dt>bar</dt>\n",
       "\t\t<dd>2</dd>\n",
       "\t<dt>norf</dt>\n",
       "\t\t<dd>3</dd>\n",
       "</dl>\n"
      ],
      "text/latex": [
       "\\begin{description*}\n",
       "\\item[foo] 1\n",
       "\\item[bar] 2\n",
       "\\item[norf] 3\n",
       "\\end{description*}\n"
      ],
      "text/markdown": [
       "foo\n",
       ":   1bar\n",
       ":   2norf\n",
       ":   3\n",
       "\n"
      ],
      "text/plain": [
       " foo  bar norf \n",
       "   1    2    3 "
      ]
     },
     "metadata": {},
     "output_type": "display_data"
    }
   ],
   "source": [
    "x"
   ]
  },
  {
   "cell_type": "code",
   "execution_count": 123,
   "metadata": {},
   "outputs": [
    {
     "data": {
      "text/html": [
       "<ol class=list-inline>\n",
       "\t<li>'foo'</li>\n",
       "\t<li>'bar'</li>\n",
       "\t<li>'norf'</li>\n",
       "</ol>\n"
      ],
      "text/latex": [
       "\\begin{enumerate*}\n",
       "\\item 'foo'\n",
       "\\item 'bar'\n",
       "\\item 'norf'\n",
       "\\end{enumerate*}\n"
      ],
      "text/markdown": [
       "1. 'foo'\n",
       "2. 'bar'\n",
       "3. 'norf'\n",
       "\n",
       "\n"
      ],
      "text/plain": [
       "[1] \"foo\"  \"bar\"  \"norf\""
      ]
     },
     "metadata": {},
     "output_type": "display_data"
    }
   ],
   "source": [
    "names(x)"
   ]
  },
  {
   "cell_type": "code",
   "execution_count": 124,
   "metadata": {
    "collapsed": true
   },
   "outputs": [],
   "source": [
    "x <- list(a = 1, b = 2, c = 3)"
   ]
  },
  {
   "cell_type": "code",
   "execution_count": 125,
   "metadata": {},
   "outputs": [
    {
     "data": {
      "text/html": [
       "<dl>\n",
       "\t<dt>$a</dt>\n",
       "\t\t<dd>1</dd>\n",
       "\t<dt>$b</dt>\n",
       "\t\t<dd>2</dd>\n",
       "\t<dt>$c</dt>\n",
       "\t\t<dd>3</dd>\n",
       "</dl>\n"
      ],
      "text/latex": [
       "\\begin{description}\n",
       "\\item[\\$a] 1\n",
       "\\item[\\$b] 2\n",
       "\\item[\\$c] 3\n",
       "\\end{description}\n"
      ],
      "text/markdown": [
       "$a\n",
       ":   1\n",
       "$b\n",
       ":   2\n",
       "$c\n",
       ":   3\n",
       "\n",
       "\n"
      ],
      "text/plain": [
       "$a\n",
       "[1] 1\n",
       "\n",
       "$b\n",
       "[1] 2\n",
       "\n",
       "$c\n",
       "[1] 3\n"
      ]
     },
     "metadata": {},
     "output_type": "display_data"
    }
   ],
   "source": [
    "x"
   ]
  },
  {
   "cell_type": "code",
   "execution_count": 126,
   "metadata": {
    "collapsed": true
   },
   "outputs": [],
   "source": [
    "m <- matrix(1:4, nrow = 2, ncol = 2)"
   ]
  },
  {
   "cell_type": "code",
   "execution_count": 128,
   "metadata": {},
   "outputs": [],
   "source": [
    "dimnames(m) <- list(c(\"a\", \"b\"), c(\"c\", \"d\"))"
   ]
  },
  {
   "cell_type": "code",
   "execution_count": 129,
   "metadata": {},
   "outputs": [
    {
     "data": {
      "text/html": [
       "<table>\n",
       "<thead><tr><th></th><th scope=col>c</th><th scope=col>d</th></tr></thead>\n",
       "<tbody>\n",
       "\t<tr><th scope=row>a</th><td>1</td><td>3</td></tr>\n",
       "\t<tr><th scope=row>b</th><td>2</td><td>4</td></tr>\n",
       "</tbody>\n",
       "</table>\n"
      ],
      "text/latex": [
       "\\begin{tabular}{r|ll}\n",
       "  & c & d\\\\\n",
       "\\hline\n",
       "\ta & 1 & 3\\\\\n",
       "\tb & 2 & 4\\\\\n",
       "\\end{tabular}\n"
      ],
      "text/markdown": [
       "\n",
       "| <!--/--> | c | d | \n",
       "|---|---|\n",
       "| a | 1 | 3 | \n",
       "| b | 2 | 4 | \n",
       "\n",
       "\n"
      ],
      "text/plain": [
       "  c d\n",
       "a 1 3\n",
       "b 2 4"
      ]
     },
     "metadata": {},
     "output_type": "display_data"
    }
   ],
   "source": [
    "m"
   ]
  },
  {
   "cell_type": "markdown",
   "metadata": {},
   "source": [
    "## Mixing Objects ==> type convert"
   ]
  },
  {
   "cell_type": "code",
   "execution_count": 50,
   "metadata": {
    "collapsed": true
   },
   "outputs": [],
   "source": [
    "a <- c(1.7, \"a\")      ## character"
   ]
  },
  {
   "cell_type": "code",
   "execution_count": 55,
   "metadata": {},
   "outputs": [
    {
     "data": {
      "text/html": [
       "'character'"
      ],
      "text/latex": [
       "'character'"
      ],
      "text/markdown": [
       "'character'"
      ],
      "text/plain": [
       "[1] \"character\""
      ]
     },
     "metadata": {},
     "output_type": "display_data"
    }
   ],
   "source": [
    "typeof(a)"
   ]
  },
  {
   "cell_type": "code",
   "execution_count": 57,
   "metadata": {},
   "outputs": [],
   "source": [
    "b <- c(TRUE, 2)     ## numeric"
   ]
  },
  {
   "cell_type": "code",
   "execution_count": 58,
   "metadata": {},
   "outputs": [
    {
     "data": {
      "text/html": [
       "'double'"
      ],
      "text/latex": [
       "'double'"
      ],
      "text/markdown": [
       "'double'"
      ],
      "text/plain": [
       "[1] \"double\""
      ]
     },
     "metadata": {},
     "output_type": "display_data"
    }
   ],
   "source": [
    "typeof(b)"
   ]
  },
  {
   "cell_type": "code",
   "execution_count": 59,
   "metadata": {
    "collapsed": true
   },
   "outputs": [],
   "source": [
    "c <- c(\"a\", TRUE)  ## character"
   ]
  },
  {
   "cell_type": "code",
   "execution_count": 61,
   "metadata": {},
   "outputs": [
    {
     "data": {
      "text/html": [
       "'character'"
      ],
      "text/latex": [
       "'character'"
      ],
      "text/markdown": [
       "'character'"
      ],
      "text/plain": [
       "[1] \"character\""
      ]
     },
     "metadata": {},
     "output_type": "display_data"
    }
   ],
   "source": [
    "typeof(c)"
   ]
  },
  {
   "cell_type": "markdown",
   "metadata": {},
   "source": [
    "## dput-ting R Objects"
   ]
  },
  {
   "cell_type": "code",
   "execution_count": 1,
   "metadata": {
    "collapsed": true
   },
   "outputs": [],
   "source": [
    "y <- data.frame(a = 1, b = \"a\")"
   ]
  },
  {
   "cell_type": "code",
   "execution_count": 2,
   "metadata": {},
   "outputs": [
    {
     "name": "stdout",
     "output_type": "stream",
     "text": [
      "structure(list(a = 1, b = structure(1L, .Label = \"a\", class = \"factor\")), .Names = c(\"a\", \n",
      "\"b\"), row.names = c(NA, -1L), class = \"data.frame\")\n"
     ]
    }
   ],
   "source": [
    "dput(y)"
   ]
  },
  {
   "cell_type": "code",
   "execution_count": 7,
   "metadata": {},
   "outputs": [
    {
     "data": {
      "text/html": [
       "<table>\n",
       "<thead><tr><th scope=col>a</th><th scope=col>b</th></tr></thead>\n",
       "<tbody>\n",
       "\t<tr><td>1</td><td>a</td></tr>\n",
       "</tbody>\n",
       "</table>\n"
      ],
      "text/latex": [
       "\\begin{tabular}{r|ll}\n",
       " a & b\\\\\n",
       "\\hline\n",
       "\t 1 & a\\\\\n",
       "\\end{tabular}\n"
      ],
      "text/markdown": [
       "\n",
       "a | b | \n",
       "|---|\n",
       "| 1 | a | \n",
       "\n",
       "\n"
      ],
      "text/plain": [
       "  a b\n",
       "1 1 a"
      ]
     },
     "metadata": {},
     "output_type": "display_data"
    }
   ],
   "source": [
    "structure(list(a = 1, \n",
    "               b = structure(1L, .Label = \"a\", \n",
    "                             class = \"factor\")), \n",
    "          .Name = c(\"a\", \"b\"), \n",
    "          row.names = c(NA, -1L), \n",
    "          class = \"data.frame\")"
   ]
  },
  {
   "cell_type": "code",
   "execution_count": 8,
   "metadata": {
    "collapsed": true
   },
   "outputs": [],
   "source": [
    "# Write the file to the current directory\n",
    "dput(y, file = \"y.R\")"
   ]
  },
  {
   "cell_type": "code",
   "execution_count": 9,
   "metadata": {
    "collapsed": true
   },
   "outputs": [],
   "source": [
    "new.y <- dget(\"y.R\")"
   ]
  },
  {
   "cell_type": "code",
   "execution_count": 10,
   "metadata": {},
   "outputs": [
    {
     "data": {
      "text/html": [
       "<table>\n",
       "<thead><tr><th scope=col>a</th><th scope=col>b</th></tr></thead>\n",
       "<tbody>\n",
       "\t<tr><td>1</td><td>a</td></tr>\n",
       "</tbody>\n",
       "</table>\n"
      ],
      "text/latex": [
       "\\begin{tabular}{r|ll}\n",
       " a & b\\\\\n",
       "\\hline\n",
       "\t 1 & a\\\\\n",
       "\\end{tabular}\n"
      ],
      "text/markdown": [
       "\n",
       "a | b | \n",
       "|---|\n",
       "| 1 | a | \n",
       "\n",
       "\n"
      ],
      "text/plain": [
       "  a b\n",
       "1 1 a"
      ]
     },
     "metadata": {},
     "output_type": "display_data"
    }
   ],
   "source": [
    "new.y"
   ]
  },
  {
   "cell_type": "markdown",
   "metadata": {},
   "source": [
    "## Dumping R Objects"
   ]
  },
  {
   "cell_type": "code",
   "execution_count": 11,
   "metadata": {
    "collapsed": true
   },
   "outputs": [],
   "source": [
    "x <- \"foo\""
   ]
  },
  {
   "cell_type": "code",
   "execution_count": 12,
   "metadata": {
    "collapsed": true
   },
   "outputs": [],
   "source": [
    "y <- data.frame(a = 1, b = \"a\")"
   ]
  },
  {
   "cell_type": "code",
   "execution_count": 13,
   "metadata": {
    "collapsed": true
   },
   "outputs": [],
   "source": [
    "dump(c(\"x\", \"y\"), file = \"data.R\")"
   ]
  },
  {
   "cell_type": "code",
   "execution_count": 14,
   "metadata": {
    "collapsed": true
   },
   "outputs": [],
   "source": [
    "rm(x, y)"
   ]
  },
  {
   "cell_type": "code",
   "execution_count": 16,
   "metadata": {},
   "outputs": [],
   "source": [
    "source(\"data.R\")"
   ]
  },
  {
   "cell_type": "code",
   "execution_count": 17,
   "metadata": {},
   "outputs": [
    {
     "data": {
      "text/html": [
       "<table>\n",
       "<thead><tr><th scope=col>a</th><th scope=col>b</th></tr></thead>\n",
       "<tbody>\n",
       "\t<tr><td>1</td><td>a</td></tr>\n",
       "</tbody>\n",
       "</table>\n"
      ],
      "text/latex": [
       "\\begin{tabular}{r|ll}\n",
       " a & b\\\\\n",
       "\\hline\n",
       "\t 1 & a\\\\\n",
       "\\end{tabular}\n"
      ],
      "text/markdown": [
       "\n",
       "a | b | \n",
       "|---|\n",
       "| 1 | a | \n",
       "\n",
       "\n"
      ],
      "text/plain": [
       "  a b\n",
       "1 1 a"
      ]
     },
     "metadata": {},
     "output_type": "display_data"
    }
   ],
   "source": [
    "y"
   ]
  },
  {
   "cell_type": "code",
   "execution_count": 18,
   "metadata": {},
   "outputs": [
    {
     "data": {
      "text/html": [
       "'foo'"
      ],
      "text/latex": [
       "'foo'"
      ],
      "text/markdown": [
       "'foo'"
      ],
      "text/plain": [
       "[1] \"foo\""
      ]
     },
     "metadata": {},
     "output_type": "display_data"
    }
   ],
   "source": [
    "x"
   ]
  },
  {
   "cell_type": "markdown",
   "metadata": {},
   "source": [
    "## Interface to the Outside World"
   ]
  },
  {
   "cell_type": "markdown",
   "metadata": {},
   "source": [
    " 1. file => open a file\n",
    " 2. gzfile => opens a connection to a file compressed with gzip\n",
    " 3. bzfile => opens a connection to a file conpressed with bzip2\n",
    " 4. url => opens a connection to a webpage"
   ]
  },
  {
   "cell_type": "markdown",
   "metadata": {},
   "source": [
    "```con <- file(\"foo.txt\", \"r\")\n",
    "data <- read.csv(con)\n",
    "close(con)```   \n",
    "**to complicated!! ==> instead**\n",
    "\n",
    "`data <- read.csv(\"foo.txt\")`"
   ]
  },
  {
   "cell_type": "markdown",
   "metadata": {},
   "source": [
    "5. read certain lines ==> `x <- readLines(con, 10)`"
   ]
  },
  {
   "cell_type": "code",
   "execution_count": 139,
   "metadata": {},
   "outputs": [
    {
     "name": "stderr",
     "output_type": "stream",
     "text": [
      "Warning message in readLines(con):\n",
      "“於 'https://www.google.com.tw' 找到不完整的最後一列”"
     ]
    }
   ],
   "source": [
    "## Url!!\n",
    "con <- url(\"https://www.google.com.tw\")\n",
    "x <- readLines(con)"
   ]
  },
  {
   "cell_type": "code",
   "execution_count": 140,
   "metadata": {},
   "outputs": [
    {
     "data": {
      "text/html": [
       "<ol class=list-inline>\n",
       "\t<li>'&lt;!doctype html&gt;&lt;html itemscope=\"\" itemtype=\"http://schema.org/WebPage\" lang=\"zh-TW\"&gt;&lt;head&gt;&lt;meta content=\"text/html; charset=UTF-8\" http-equiv=\"Content-Type\"&gt;&lt;meta content=\"/logos/doodles/2018/international-womens-day-2018-4678767631925248.3-l.png\" itemprop=\"image\"&gt;&lt;meta content=\"2018 \\xb0\\xea\\xbbڰ\\xfc\\xa4k\\xb8`\" property=\"twitter:title\"&gt;&lt;meta content=\"2018 \\xb0\\xea\\xbbڰ\\xfc\\xa4k\\xb8`\\xa7ּ֡I\\xb2{\\xa6b\\xb4N\\xb3z\\xb9L\\xa4\\xb5\\xa4Ѫ\\xba #GoogleDoodle\\xa1A\\xb1\\xb4\\xaf\\xc1\\xa5@\\xacɦU\\xa6a\\xaa\\xba\\xa4k\\xa9ʴ\\xa3\\xa8Ѫ\\xba\\xba\\xeb\\xb1m\\xacG\\xa8Ƨa\\xa1I#HerStoryOurStory\" property=\"twitter:description\"&gt;&lt;meta content=\"2018 \\xb0\\xea\\xbbڰ\\xfc\\xa4k\\xb8`\\xa7ּ֡I\\xb2{\\xa6b\\xb4N\\xb3z\\xb9L\\xa4\\xb5\\xa4Ѫ\\xba #GoogleDoodle\\xa1A\\xb1\\xb4\\xaf\\xc1\\xa5@\\xacɦU\\xa6a\\xaa\\xba\\xa4k\\xa9ʴ\\xa3\\xa8Ѫ\\xba\\xba\\xeb\\xb1m\\xacG\\xa8Ƨa\\xa1I#HerStoryOurStory\" property=\"og:description\"&gt;&lt;meta content=\"summary_large_image\" property=\"twitter:card\"&gt;&lt;meta content=\"@GoogleDoodles\" property=\"twitter:site\"&gt;&lt;meta content=\"https://www.google.com/logos/doodles/2018/international-womens-day-2018-4678767631925248.2-2xa.gif\" property=\"twitter:image\"&gt;&lt;meta content=\"https://www.google.com/logos/doodles/2018/international-womens-day-2018-4678767631925248.2-2xa.gif\" property=\"og:image\"&gt;&lt;meta content=\"1046\" property=\"og:image:width\"&gt;&lt;meta content=\"460\" property=\"og:image:height\"&gt;&lt;meta content=\"https://www.google.com/logos/doodles/2018/international-womens-day-2018-4678767631925248.2-2xa.gif\" property=\"og:url\"&gt;&lt;meta content=\"video.other\" property=\"og:type\"&gt;&lt;title&gt;Google&lt;/title&gt;&lt;script nonce=\"fR+MgW+wEUi6LxzWEYeokg==\"&gt;(function(){window.google={kEI:\\'tyWgWqXbDoy80gTU4rLoCQ\\',kEXPI:\\'1353810,1354277,1354915,1355675,1355761,1355892,1356179,1356779,1356853,1357219,1358111,3700279,3700440,3700521,4029815,4031109,4043492,4045841,4048347,4071783,4081038,4084263,4096834,4097153,4097470,4097922,4097929,4098721,4098728,4104658,4109316,4109490,4116279,4116926,4116935,4118307,4118798,4120660,4122511,4124850,4125837,4126203,4126754,4126869,4127086,4127418,4127744,4128586,4129520,4129633,4130783,4131247,4131834,4135025,4136073,4136137,4137467,4137597,4137646,4138755,4140855,4141049,4141304,4142071,4142328,4142557,4142559,4142573,4142834,4143037,4143278,4143629,4144233,4144442,4144528,4144530,4144803,4145088,4145461,4145485,4145772,4145836,4146147,4146875,4147004,4147031,4147900,4147943,4148013,4148268,4148279,4148304,4148571,4148608,4149017,4149271,4150005,4150017,4150429,4151407,4152220,4152640,4153062,4153222,4153247,4153321,4153421,4153545,4153952,4154017,4154043,4154081,4154187,4154374,4154506,4154871,4155569,4155658,4156008,4156137,4156634,4156656,4156697,4156877,4157691,4157760,4157802,4157888,4157890,4158064,4158215,4159171,6513271,10200084,16200027,19000288,19000423,19000427,19001999,19002548,19002880,19003321,19003323,19003325,19003326,19003328,19003329,19003330,19003407,19003408,19003409,19004309,19004516,19004517,19004518,19004519,19004520,19004521,19004892,19004901,19005038,19005161,19005197,19005198,19005228,19005230\\',authuser:0,kscs:\\'c9c918f0_tyWgWqXbDoy80gTU4rLoCQ\\',u:\\'c9c918f0\\',kGL:\\'TW\\'};google.kHL=\\'zh-TW\\';})();(function(){google.lc=[];google.li=0;google.getEI=function(a){for(var b;a&amp;&amp;(!a.getAttribute||!(b=a.getAttribute(\"eid\")));)a=a.parentNode;return b||google.kEI};google.getLEI=function(a){for(var b=null;a&amp;&amp;(!a.getAttribute||!(b=a.getAttribute(\"leid\")));)a=a.parentNode;return b};google.https=function(){return\"https:\"==window.location.protocol};google.ml=function(){return null};google.wl=function(a,b){try{google.ml(Error(a),!1,b)}catch(d){}};google.time=function(){return(new Date).getTime()};google.log=function(a,b,d,c,g){if(a=google.logUrl(a,b,d,c,g)){b=new Image;var e=google.lc,f=google.li;e[f]=b;b.onerror=b.onload=b.onabort=function(){delete e[f]};google.vel&amp;&amp;google.vel.lu&amp;&amp;google.vel.lu(a);b.src=a;google.li=f+1}};google.logUrl=function(a,b,d,c,g){var e=\"\",f=google.ls||\"\";d||-1!=b.search(\"&amp;ei=\")||(e=\"&amp;ei=\"+google.getEI(c),-1==b.search(\"&amp;lei=\")&amp;&amp;(c=google.getLEI(c))&amp;&amp;(e+=\"&amp;lei=\"+c));c=\"\";!d&amp;&amp;google.cshid&amp;&amp;-1==b.search(\"&amp;cshid=\")&amp;&amp;(c=\"&amp;cshid=\"+google.cshid);a=d||\"/\"+(g||\"gen_204\")+\"?atyp=i&amp;ct=\"+a+\"&amp;cad=\"+b+e+f+\"&amp;zx=\"+google.time()+c;/^http:/i.test(a)&amp;&amp;google.https()&amp;&amp;(google.ml(Error(\"a\"),!1,{src:a,glmm:1}),a=\"\");return a};}).call(this);(function(){google.y={};google.x=function(a,b){if(a)var c=a.id;else{do c=Math.random();while(google.y[c])}google.y[c]=[a,b];return!1};google.lm=[];google.plm=function(a){google.lm.push.apply(google.lm,a)};google.lq=[];google.load=function(a,b,c){google.lq.push([[a],b,c])};google.loadAll=function(a,b){google.lq.push([a,b])};}).call(this);google.f={};var a=window.location,b=a.href.indexOf(\"#\");if(0&lt;=b){var c=a.href.substring(b+1);/(^|&amp;)q=/.test(c)&amp;&amp;-1==c.indexOf(\"#\")&amp;&amp;a.replace(\"/search?\"+c.replace(/(^|&amp;)fp=[^&amp;]*/g,\"\")+\"&amp;cad=h\")};&lt;/script&gt;&lt;style&gt;#gbar,#guser{font-size:13px;padding-top:1px !important;}#gbar{height:22px}#guser{padding-bottom:7px !important;text-align:right}.gbh,.gbd{border-top:1px solid #c9d7f1;font-size:1px}.gbh{height:0;position:absolute;top:24px;width:100%}@media all{.gb1{height:22px;margin-right:.5em;vertical-align:top}#gbar{float:left}}a.gb1,a.gb4{text-decoration:underline !important}a.gb1,a.gb4{color:#00c !important}.gbi .gb4{color:#dd8e27 !important}.gbf .gb4{color:#900 !important}'</li>\n",
       "\t<li>'&lt;/style&gt;&lt;style&gt;body,td,a,p,.h{font-family:arial,sans-serif}body{margin:0;overflow-y:scroll}#gog{padding:3px 8px 0}td{line-height:.8em}.gac_m td{line-height:17px}form{margin-bottom:20px}.h{color:#36c}.q{color:#00c}.ts td{padding:0}.ts{border-collapse:collapse}em{color:#c03;font-style:normal;font-weight:normal}a em{text-decoration:underline}.lst{height:25px;width:496px}.gsfi,.lst{font:18px arial,sans-serif}.gsfs{font:17px arial,sans-serif}.ds{display:inline-box;display:inline-block;margin:3px 0 4px;margin-left:4px}input{font-family:inherit}a.gb1,a.gb2,a.gb3,a.gb4{color:#11c !important}body{background:#fff;color:black}a{color:#11c;text-decoration:none}a:hover,a:active{text-decoration:underline}.fl a{color:#36c}a:visited{color:#551a8b}a.gb1,a.gb4{text-decoration:underline}a.gb3:hover{text-decoration:none}#ghead a.gb2:hover{color:#fff !important}.sblc{padding-top:5px}.sblc a{display:block;margin:2px 0;margin-left:13px;font-size:11px}.lsbb{background:#eee;border:solid 1px;border-color:#ccc #999 #999 #ccc;height:30px}.lsbb{display:block}.ftl,#fll a{display:inline-block;margin:0 12px}.lsb{background:url(/images/nav_logo229.png) 0 -261px repeat-x;border:none;color:#000;cursor:pointer;height:30px;margin:0;outline:0;font:15px arial,sans-serif;vertical-align:top}.lsb:active{background:#ccc}.lst:focus{outline:none}&lt;/style&gt;&lt;script nonce=\"fR+MgW+wEUi6LxzWEYeokg==\"&gt;&lt;/script&gt;&lt;link href=\"/images/branding/product/ico/googleg_lodp.ico\" rel=\"shortcut icon\"&gt;&lt;/head&gt;&lt;body bgcolor=\"#fff\"&gt;&lt;script nonce=\"fR+MgW+wEUi6LxzWEYeokg==\"&gt;(function(){var src=\\'/images/nav_logo229.png\\';var iesg=false;document.body.onload = function(){window.n &amp;&amp; window.n();if (document.images){new Image().src=src;}'</li>\n",
       "\t<li>'if (!iesg){document.f&amp;&amp;document.f.q.focus();document.gbqf&amp;&amp;document.gbqf.q.focus();}'</li>\n",
       "\t<li>'}'</li>\n",
       "\t<li><span style=white-space:pre-wrap>'})();&lt;/script&gt;&lt;div id=\"mngb\"&gt; &lt;div id=gbar&gt;&lt;nobr&gt;&lt;b class=gb1&gt;\\xb7j\\xb4M&lt;/b&gt; &lt;a class=gb1 href=\"https://www.google.com.tw/imghp?hl=zh-TW&amp;tab=wi\"&gt;\\xb9Ϥ\\xf9&lt;/a&gt; &lt;a class=gb1 href=\"https://maps.google.com.tw/maps?hl=zh-TW&amp;tab=wl\"&gt;\\xa6a\\xb9\\xcf&lt;/a&gt; &lt;a class=gb1 href=\"https://play.google.com/?hl=zh-TW&amp;tab=w8\"&gt;Play&lt;/a&gt; &lt;a class=gb1 href=\"https://www.youtube.com/?gl=TW&amp;tab=w1\"&gt;YouTube&lt;/a&gt; &lt;a class=gb1 href=\"https://news.google.com.tw/nwshp?hl=zh-TW&amp;tab=wn\"&gt;\\xb7s\\xbbD&lt;/a&gt; &lt;a class=gb1 href=\"https://mail.google.com/mail/?tab=wm\"&gt;Gmail&lt;/a&gt; &lt;a class=gb1 href=\"https://drive.google.com/?tab=wo\"&gt;\\xb6\\xb3\\xba\\u0775w\\xba\\xd0&lt;/a&gt; &lt;a class=gb1 style=\"text-decoration:none\" href=\"https://www.google.com.tw/intl/zh-TW/options/\"&gt;&lt;u&gt;\\xa7\\xf3\\xa6h&lt;/u&gt; &amp;raquo;&lt;/a&gt;&lt;/nobr&gt;&lt;/div&gt;&lt;div id=guser width=100%&gt;&lt;nobr&gt;&lt;span id=gbn class=gbi&gt;&lt;/span&gt;&lt;span id=gbf class=gbf&gt;&lt;/span&gt;&lt;span id=gbe&gt;&lt;/span&gt;&lt;a href=\"http://www.google.com.tw/history/optout?hl=zh-TW\" class=gb4&gt;\\xba\\xf4\\xad\\xb6\\xac\\xf6\\xbf\\xfd&lt;/a&gt; | &lt;a  href=\"/preferences?hl=zh-TW\" class=gb4&gt;\\xb3]\\xa9w&lt;/a&gt; | &lt;a target=_top id=gb_70 href=\"https://accounts.google.com/ServiceLogin?hl=zh-TW&amp;passive=true&amp;continue=https://www.google.com.tw/\" class=gb4&gt;\\xb5n\\xa4J&lt;/a&gt;&lt;/nobr&gt;&lt;/div&gt;&lt;div class=gbh style=left:0&gt;&lt;/div&gt;&lt;div class=gbh style=right:0&gt;&lt;/div&gt; &lt;/div&gt;&lt;center&gt;&lt;br clear=\"all\" id=\"lgpd\"&gt;&lt;div id=\"lga\"&gt;&lt;a href=\"/search?site=&amp;amp;ie=UTF-8&amp;amp;q=%E5%9C%8B%E9%9A%9B%E5%A9%A6%E5%A5%B3%E7%AF%80&amp;amp;oi=ddle&amp;amp;ct=international-womens-day-2018-4678767631925248&amp;amp;hl=zh-TW&amp;amp;kgmid=/m/01pp4_&amp;amp;sa=X&amp;amp;ved=0ahUKEwjlkv274trZAhUMnpQKHVSxDJ0QPQgD\"&gt;&lt;img alt=\"2018 \\xb0\\xea\\xbbڰ\\xfc\\xa4k\\xb8`\" border=\"0\" height=\"220\" src=\"/logos/doodles/2018/international-womens-day-2018-4678767631925248.3-l.png\" title=\"2018 \\xb0\\xea\\xbbڰ\\xfc\\xa4k\\xb8`\" width=\"550\" id=\"hplogo\" onload=\"window.lol&amp;&amp;lol()\"&gt;&lt;br&gt;&lt;/a&gt;&lt;br&gt;&lt;/div&gt;&lt;form action=\"/search\" name=\"f\"&gt;&lt;table cellpadding=\"0\" cellspacing=\"0\"&gt;&lt;tr valign=\"top\"&gt;&lt;td width=\"25%\"&gt;&amp;nbsp;&lt;/td&gt;&lt;td align=\"center\" nowrap=\"\"&gt;&lt;input name=\"ie\" value=\"Big5\" type=\"hidden\"&gt;&lt;input value=\"zh-TW\" name=\"hl\" type=\"hidden\"&gt;&lt;input name=\"source\" type=\"hidden\" value=\"hp\"&gt;&lt;input name=\"biw\" type=\"hidden\"&gt;&lt;input name=\"bih\" type=\"hidden\"&gt;&lt;div class=\"ds\" style=\"height:32px;margin:4px 0\"&gt;&lt;input style=\"color:#000;margin:0;padding:5px 8px 0 6px;vertical-align:top\" autocomplete=\"off\" class=\"lst\" value=\"\" title=\"Google \\xb7j\\xb4M\" maxlength=\"2048\" name=\"q\" size=\"57\"&gt;&lt;/div&gt;&lt;br style=\"line-height:0\"&gt;&lt;span class=\"ds\"&gt;&lt;span class=\"lsbb\"&gt;&lt;input class=\"lsb\" value=\"Google \\xb7j\\xb4M\" name=\"btnG\" type=\"submit\"&gt;&lt;/span&gt;&lt;/span&gt;&lt;span class=\"ds\"&gt;&lt;span class=\"lsbb\"&gt;&lt;input class=\"lsb\" value=\"\\xa6n\\xa4\\xe2\\xae\\xf0\" name=\"btnI\" onclick=\"if(this.form.q.value)this.checked=1; else top.location=\\'/doodles/\\'\" type=\"submit\"&gt;&lt;/span&gt;&lt;/span&gt;&lt;/td&gt;&lt;td class=\"fl sblc\" align=\"left\" nowrap=\"\" width=\"25%\"&gt;&lt;a href=\"/advanced_search?hl=zh-TW&amp;amp;authuser=0\"&gt;\\xb6i\\xb6\\xa5\\xb7j\\xb4M&lt;/a&gt;&lt;a href=\"/language_tools?hl=zh-TW&amp;amp;authuser=0\"&gt;\\xbby\\xa8\\xa5\\xa4u\\xa8\\xe3&lt;/a&gt;&lt;/td&gt;&lt;/tr&gt;&lt;/table&gt;&lt;input id=\"gbv\" name=\"gbv\" type=\"hidden\" value=\"1\"&gt;&lt;/form&gt;&lt;div id=\"gac_scont\"&gt;&lt;/div&gt;&lt;div style=\"font-size:83%;min-height:3.5em\"&gt;&lt;br&gt;&lt;div id=\"prm\"&gt;&lt;style&gt;.szppmdbYutt__middle-slot-promo{font-size:small;margin-bottom:32px}.szppmdbYutt__middle-slot-promo a._uFi{display:inline-block;text-decoration:none}.szppmdbYutt__middle-slot-promo img{border:none;margin-right:5px;vertical-align:middle}&lt;/style&gt;&lt;div class=\"szppmdbYutt__middle-slot-promo\" data-ved=\"0ahUKEwjlkv274trZAhUMnpQKHVSxDJ0QnIcBCAQ\"&gt;&lt;a class=\"_XIi\" href=\"https://www.google.com/url?q=https://www.youtube.com/watch%3Fv%3DlkfpqGWzHCE%26&amp;amp;source=hpp&amp;amp;id=19005198&amp;amp;ct=3&amp;amp;usg=AFQjCNHSEugVqahVqCOM_DiqF-cCQhA3yQ&amp;amp;sa=X&amp;amp;ved=0ahUKEwjlkv274trZAhUMnpQKHVSxDJ0Q8IcBCAU\" rel=\"nofollow\"&gt;\\xbcy\\xaf\\xac\\xb0\\xea\\xbbڰ\\xfc\\xa4k\\xb8`&lt;/a&gt;&lt;/div&gt;&lt;/div&gt;&lt;/div&gt;&lt;span id=\"footer\"&gt;&lt;div style=\"font-size:10pt\"&gt;&lt;div style=\"margin:19px auto;text-align:center\" id=\"fll\"&gt;&lt;a href=\"/intl/zh-TW/ads/\"&gt;\\xbcs\\xa7i\\xaaA\\xb0\\xc8&lt;/a&gt;&lt;a href=\"http://www.google.com.tw/intl/zh-TW/services/\"&gt;\\xb0\\u04f7~\\xb8ѨM\\xa4\\xe8\\xae\\xd7&lt;/a&gt;&lt;a href=\"/intl/zh-TW/about.html\"&gt;Google \\xa7\\xb9\\xa5\\xfe\\xa4\\xe2\\xa5U&lt;/a&gt;&lt;a href=\"https://www.google.com.tw/setprefdomain?prefdom=US&amp;amp;sig=__1TwbSvWQzCLkMDzFlhHDKJ4kZw8%3D\" id=\"fehl\"&gt;Google.com&lt;/a&gt;&lt;/div&gt;&lt;/div&gt;&lt;p style=\"color:#767676;font-size:8pt\"&gt;&amp;copy; 2018 - &lt;a href=\"/intl/zh-TW/policies/privacy/\"&gt;\\xc1\\xf4\\xa8p\\xc5v&lt;/a&gt; - &lt;a href=\"/intl/zh-TW/policies/terms/\"&gt;\\xaaA\\xb0ȱ\\xf8\\xb4\\xda&lt;/a&gt;&lt;/p&gt;&lt;/span&gt;&lt;/center&gt;&lt;script nonce=\"fR+MgW+wEUi6LxzWEYeokg==\"&gt;(function(){window.google.cdo={height:0,width:0};(function(){var a=window.innerWidth,b=window.innerHeight;if(!a||!b){var c=window.document,d=\"CSS1Compat\"==c.compatMode?c.documentElement:c.body;a=d.clientWidth;b=d.clientHeight}a&amp;&amp;b&amp;&amp;(a!=google.cdo.width||b!=google.cdo.height)&amp;&amp;google.log(\"\",\"\",\"/client_204?&amp;atyp=i&amp;biw=\"+a+\"&amp;bih=\"+b+\"&amp;ei=\"+google.kEI);}).call(this);})();&lt;/script&gt;&lt;div id=\"xjsd\"&gt;&lt;/div&gt;&lt;div id=\"xjsi\"&gt;&lt;script nonce=\"fR+MgW+wEUi6LxzWEYeokg==\"&gt;(function(){function c(b){window.setTimeout(function(){var a=document.createElement(\"script\");a.src=b;google.timers&amp;&amp;google.timers.load.t&amp;&amp;google.tick(\"load\",{gen204:\"xjsls\",clearcut:31});document.getElementById(\"xjsd\").appendChild(a)},0)}google.dljp=function(b,a){google.xjsu=b;c(a)};google.dlj=c;}).call(this);if(!google.xjs){window._=window._||{};window._DumpException=window._._DumpException=function(e){throw e};google.dljp(\\'/xjs/_/js/k\\\\x3dxjs.hp.en.4RyKi7eW2jE.O/m\\\\x3dsb_he,d/am\\\\x3dKIA/rt\\\\x3dj/d\\\\x3d1/t\\\\x3dzcms/rs\\\\x3dACT90oHqMdUqVfXk6auw0vsuirOcvS4V6A\\',\\'/xjs/_/js/k\\\\x3dxjs.hp.en.4RyKi7eW2jE.O/m\\\\x3dsb_he,d/am\\\\x3dKIA/rt\\\\x3dj/d\\\\x3d1/t\\\\x3dzcms/rs\\\\x3dACT90oHqMdUqVfXk6auw0vsuirOcvS4V6A\\');google.xjs=1;}google.pmc={\"sb_he\":{\"agen\":true,\"cgen\":true,\"client\":\"heirloom-hp\",\"dh\":true,\"dhqt\":true,\"ds\":\"\",\"fl\":true,\"host\":\"google.com.tw\",\"isbh\":28,\"jsonp\":true,\"msgs\":{\"cibl\":\"\\xb2M\\xb0\\xa3\\xb7j\\xb4M\",\"dym\":\"\\xb1z\\xacO\\xa4\\xa3\\xacO\\xadn\\xacd\\xa1G\",\"lcky\":\"\\xa6n\\xa4\\xe2\\xae\\xf0\",\"lml\":\"\\xc1A\\xb8ѸԱ\\xa1\",\"oskt\":\"\\xbf\\xe9\\xa4J\\xa4u\\xa8\\xe3\",\"psrc\":\"\\xa4w\\xb1q\\xb1z\\xaa\\xba\\xa1u\\\\u003Ca href=\\\\\"/history\\\\\"\\\\u003E\\xba\\xf4\\xad\\xb6\\xac\\xf6\\xbf\\xfd\\\\u003C/a\\\\u003E\\xa1v\\xa4\\xa4\\xb2\\xbe\\xb0\\xa3\\xb3o\\xb5\\xa7\\xb7j\\xb4M\\xac\\xf6\\xbf\\xfd\",\"psrl\":\"\\xb2\\xbe\\xb0\\xa3\",\"sbit\":\"\\xa5H\\xb9\\u03f7j\\xb4M\",\"srch\":\"Google \\xb7j\\xb4M\"},\"nds\":true,\"ovr\":{},\"pq\":\"\",\"refpd\":true,\"refspre\":true,\"rfs\":[],\"sbpl\":24,\"sbpr\":24,\"scd\":10,\"sce\":5,\"stok\":\"bS80D0Twi4Tk3_Lqyb0bWT-5LYM\"},\"d\":{},\"ZI/YVQ\":{},\"YFCs/g\":{}};google.x(null,function(){});(function(){var r=[];google.plm(r);})();(function(){var ctx=[]'</span></li>\n",
       "\t<li>';google.jsc &amp;&amp; google.jsc.x(ctx);})();&lt;/script&gt;&lt;/div&gt;&lt;/body&gt;&lt;/html&gt;'</li>\n",
       "</ol>\n"
      ],
      "text/latex": [
       "\\begin{enumerate*}\n",
       "\\item '<!doctype html><html itemscope=\"\" itemtype=\"http://schema.org/WebPage\" lang=\"zh-TW\"><head><meta content=\"text/html; charset=UTF-8\" http-equiv=\"Content-Type\"><meta content=\"/logos/doodles/2018/international-womens-day-2018-4678767631925248.3-l.png\" itemprop=\"image\"><meta content=\"2018 \\textbackslash{}xb0\\textbackslash{}xea\\textbackslash{}xbbڰ\\textbackslash{}xfc\\textbackslash{}xa4k\\textbackslash{}xb8`\" property=\"twitter:title\"><meta content=\"2018 \\textbackslash{}xb0\\textbackslash{}xea\\textbackslash{}xbbڰ\\textbackslash{}xfc\\textbackslash{}xa4k\\textbackslash{}xb8`\\textbackslash{}xa7ּ֡I\\textbackslash{}xb2\\{\\textbackslash{}xa6b\\textbackslash{}xb4N\\textbackslash{}xb3z\\textbackslash{}xb9L\\textbackslash{}xa4\\textbackslash{}xb5\\textbackslash{}xa4Ѫ\\textbackslash{}xba \\#GoogleDoodle\\textbackslash{}xa1A\\textbackslash{}xb1\\textbackslash{}xb4\\textbackslash{}xaf\\textbackslash{}xc1\\textbackslash{}xa5@\\textbackslash{}xacɦU\\textbackslash{}xa6a\\textbackslash{}xaa\\textbackslash{}xba\\textbackslash{}xa4k\\textbackslash{}xa9ʴ\\textbackslash{}xa3\\textbackslash{}xa8Ѫ\\textbackslash{}xba\\textbackslash{}xba\\textbackslash{}xeb\\textbackslash{}xb1m\\textbackslash{}xacG\\textbackslash{}xa8Ƨa\\textbackslash{}xa1I\\#HerStoryOurStory\" property=\"twitter:description\"><meta content=\"2018 \\textbackslash{}xb0\\textbackslash{}xea\\textbackslash{}xbbڰ\\textbackslash{}xfc\\textbackslash{}xa4k\\textbackslash{}xb8`\\textbackslash{}xa7ּ֡I\\textbackslash{}xb2\\{\\textbackslash{}xa6b\\textbackslash{}xb4N\\textbackslash{}xb3z\\textbackslash{}xb9L\\textbackslash{}xa4\\textbackslash{}xb5\\textbackslash{}xa4Ѫ\\textbackslash{}xba \\#GoogleDoodle\\textbackslash{}xa1A\\textbackslash{}xb1\\textbackslash{}xb4\\textbackslash{}xaf\\textbackslash{}xc1\\textbackslash{}xa5@\\textbackslash{}xacɦU\\textbackslash{}xa6a\\textbackslash{}xaa\\textbackslash{}xba\\textbackslash{}xa4k\\textbackslash{}xa9ʴ\\textbackslash{}xa3\\textbackslash{}xa8Ѫ\\textbackslash{}xba\\textbackslash{}xba\\textbackslash{}xeb\\textbackslash{}xb1m\\textbackslash{}xacG\\textbackslash{}xa8Ƨa\\textbackslash{}xa1I\\#HerStoryOurStory\" property=\"og:description\"><meta content=\"summary\\_large\\_image\" property=\"twitter:card\"><meta content=\"@GoogleDoodles\" property=\"twitter:site\"><meta content=\"https://www.google.com/logos/doodles/2018/international-womens-day-2018-4678767631925248.2-2xa.gif\" property=\"twitter:image\"><meta content=\"https://www.google.com/logos/doodles/2018/international-womens-day-2018-4678767631925248.2-2xa.gif\" property=\"og:image\"><meta content=\"1046\" property=\"og:image:width\"><meta content=\"460\" property=\"og:image:height\"><meta content=\"https://www.google.com/logos/doodles/2018/international-womens-day-2018-4678767631925248.2-2xa.gif\" property=\"og:url\"><meta content=\"video.other\" property=\"og:type\"><title>Google</title><script nonce=\"fR+MgW+wEUi6LxzWEYeokg==\">(function()\\{window.google=\\{kEI:\\textbackslash{}'tyWgWqXbDoy80gTU4rLoCQ\\textbackslash{}',kEXPI:\\textbackslash{}'1353810,1354277,1354915,1355675,1355761,1355892,1356179,1356779,1356853,1357219,1358111,3700279,3700440,3700521,4029815,4031109,4043492,4045841,4048347,4071783,4081038,4084263,4096834,4097153,4097470,4097922,4097929,4098721,4098728,4104658,4109316,4109490,4116279,4116926,4116935,4118307,4118798,4120660,4122511,4124850,4125837,4126203,4126754,4126869,4127086,4127418,4127744,4128586,4129520,4129633,4130783,4131247,4131834,4135025,4136073,4136137,4137467,4137597,4137646,4138755,4140855,4141049,4141304,4142071,4142328,4142557,4142559,4142573,4142834,4143037,4143278,4143629,4144233,4144442,4144528,4144530,4144803,4145088,4145461,4145485,4145772,4145836,4146147,4146875,4147004,4147031,4147900,4147943,4148013,4148268,4148279,4148304,4148571,4148608,4149017,4149271,4150005,4150017,4150429,4151407,4152220,4152640,4153062,4153222,4153247,4153321,4153421,4153545,4153952,4154017,4154043,4154081,4154187,4154374,4154506,4154871,4155569,4155658,4156008,4156137,4156634,4156656,4156697,4156877,4157691,4157760,4157802,4157888,4157890,4158064,4158215,4159171,6513271,10200084,16200027,19000288,19000423,19000427,19001999,19002548,19002880,19003321,19003323,19003325,19003326,19003328,19003329,19003330,19003407,19003408,19003409,19004309,19004516,19004517,19004518,19004519,19004520,19004521,19004892,19004901,19005038,19005161,19005197,19005198,19005228,19005230\\textbackslash{}',authuser:0,kscs:\\textbackslash{}'c9c918f0\\_tyWgWqXbDoy80gTU4rLoCQ\\textbackslash{}',u:\\textbackslash{}'c9c918f0\\textbackslash{}',kGL:\\textbackslash{}'TW\\textbackslash{}'\\};google.kHL=\\textbackslash{}'zh-TW\\textbackslash{}';\\})();(function()\\{google.lc={[}{]};google.li=0;google.getEI=function(a)\\{for(var b;a\\&\\&(!a.getAttribute\\textbar{}\\textbar{}!(b=a.getAttribute(\"eid\")));)a=a.parentNode;return b\\textbar{}\\textbar{}google.kEI\\};google.getLEI=function(a)\\{for(var b=null;a\\&\\&(!a.getAttribute\\textbar{}\\textbar{}!(b=a.getAttribute(\"leid\")));)a=a.parentNode;return b\\};google.https=function()\\{return\"https:\"==window.location.protocol\\};google.ml=function()\\{return null\\};google.wl=function(a,b)\\{try\\{google.ml(Error(a),!1,b)\\}catch(d)\\{\\}\\};google.time=function()\\{return(new Date).getTime()\\};google.log=function(a,b,d,c,g)\\{if(a=google.logUrl(a,b,d,c,g))\\{b=new Image;var e=google.lc,f=google.li;e{[}f{]}=b;b.onerror=b.onload=b.onabort=function()\\{delete e{[}f{]}\\};google.vel\\&\\&google.vel.lu\\&\\&google.vel.lu(a);b.src=a;google.li=f+1\\}\\};google.logUrl=function(a,b,d,c,g)\\{var e=\"\",f=google.ls\\textbar{}\\textbar{}\"\";d\\textbar{}\\textbar{}-1!=b.search(\"\\&ei=\")\\textbar{}\\textbar{}(e=\"\\&ei=\"+google.getEI(c),-1==b.search(\"\\&lei=\")\\&\\&(c=google.getLEI(c))\\&\\&(e+=\"\\&lei=\"+c));c=\"\";!d\\&\\&google.cshid\\&\\&-1==b.search(\"\\&cshid=\")\\&\\&(c=\"\\&cshid=\"+google.cshid);a=d\\textbar{}\\textbar{}\"/\"+(g\\textbar{}\\textbar{}\"gen\\_204\")+\"?atyp=i\\&ct=\"+a+\"\\&cad=\"+b+e+f+\"\\&zx=\"+google.time()+c;/\\textasciicircum{}http:/i.test(a)\\&\\&google.https()\\&\\&(google.ml(Error(\"a\"),!1,\\{src:a,glmm:1\\}),a=\"\");return a\\};\\}).call(this);(function()\\{google.y=\\{\\};google.x=function(a,b)\\{if(a)var c=a.id;else\\{do c=Math.random();while(google.y{[}c{]})\\}google.y{[}c{]}={[}a,b{]};return!1\\};google.lm={[}{]};google.plm=function(a)\\{google.lm.push.apply(google.lm,a)\\};google.lq={[}{]};google.load=function(a,b,c)\\{google.lq.push({[}{[}a{]},b,c{]})\\};google.loadAll=function(a,b)\\{google.lq.push({[}a,b{]})\\};\\}).call(this);google.f=\\{\\};var a=window.location,b=a.href.indexOf(\"\\#\");if(0<=b)\\{var c=a.href.substring(b+1);/(\\textasciicircum{}\\textbar{}\\&)q=/.test(c)\\&\\&-1==c.indexOf(\"\\#\")\\&\\&a.replace(\"/search?\"+c.replace(/(\\textasciicircum{}\\textbar{}\\&)fp={[}\\textasciicircum{}\\&{]}*/g,\"\")+\"\\&cad=h\")\\};</script><style>\\#gbar,\\#guser\\{font-size:13px;padding-top:1px !important;\\}\\#gbar\\{height:22px\\}\\#guser\\{padding-bottom:7px !important;text-align:right\\}.gbh,.gbd\\{border-top:1px solid \\#c9d7f1;font-size:1px\\}.gbh\\{height:0;position:absolute;top:24px;width:100\\%\\}@media all\\{.gb1\\{height:22px;margin-right:.5em;vertical-align:top\\}\\#gbar\\{float:left\\}\\}a.gb1,a.gb4\\{text-decoration:underline !important\\}a.gb1,a.gb4\\{color:\\#00c !important\\}.gbi .gb4\\{color:\\#dd8e27 !important\\}.gbf .gb4\\{color:\\#900 !important\\}'\n",
       "\\item '</style><style>body,td,a,p,.h\\{font-family:arial,sans-serif\\}body\\{margin:0;overflow-y:scroll\\}\\#gog\\{padding:3px 8px 0\\}td\\{line-height:.8em\\}.gac\\_m td\\{line-height:17px\\}form\\{margin-bottom:20px\\}.h\\{color:\\#36c\\}.q\\{color:\\#00c\\}.ts td\\{padding:0\\}.ts\\{border-collapse:collapse\\}em\\{color:\\#c03;font-style:normal;font-weight:normal\\}a em\\{text-decoration:underline\\}.lst\\{height:25px;width:496px\\}.gsfi,.lst\\{font:18px arial,sans-serif\\}.gsfs\\{font:17px arial,sans-serif\\}.ds\\{display:inline-box;display:inline-block;margin:3px 0 4px;margin-left:4px\\}input\\{font-family:inherit\\}a.gb1,a.gb2,a.gb3,a.gb4\\{color:\\#11c !important\\}body\\{background:\\#fff;color:black\\}a\\{color:\\#11c;text-decoration:none\\}a:hover,a:active\\{text-decoration:underline\\}.fl a\\{color:\\#36c\\}a:visited\\{color:\\#551a8b\\}a.gb1,a.gb4\\{text-decoration:underline\\}a.gb3:hover\\{text-decoration:none\\}\\#ghead a.gb2:hover\\{color:\\#fff !important\\}.sblc\\{padding-top:5px\\}.sblc a\\{display:block;margin:2px 0;margin-left:13px;font-size:11px\\}.lsbb\\{background:\\#eee;border:solid 1px;border-color:\\#ccc \\#999 \\#999 \\#ccc;height:30px\\}.lsbb\\{display:block\\}.ftl,\\#fll a\\{display:inline-block;margin:0 12px\\}.lsb\\{background:url(/images/nav\\_logo229.png) 0 -261px repeat-x;border:none;color:\\#000;cursor:pointer;height:30px;margin:0;outline:0;font:15px arial,sans-serif;vertical-align:top\\}.lsb:active\\{background:\\#ccc\\}.lst:focus\\{outline:none\\}</style><script nonce=\"fR+MgW+wEUi6LxzWEYeokg==\"></script><link href=\"/images/branding/product/ico/googleg\\_lodp.ico\" rel=\"shortcut icon\"></head><body bgcolor=\"\\#fff\"><script nonce=\"fR+MgW+wEUi6LxzWEYeokg==\">(function()\\{var src=\\textbackslash{}'/images/nav\\_logo229.png\\textbackslash{}';var iesg=false;document.body.onload = function()\\{window.n \\&\\& window.n();if (document.images)\\{new Image().src=src;\\}'\n",
       "\\item 'if (!iesg)\\{document.f\\&\\&document.f.q.focus();document.gbqf\\&\\&document.gbqf.q.focus();\\}'\n",
       "\\item '\\}'\n",
       "\\item '\\})();</script><div id=\"mngb\"> <div id=gbar><nobr><b class=gb1>\\textbackslash{}xb7j\\textbackslash{}xb4M</b> <a class=gb1 href=\"https://www.google.com.tw/imghp?hl=zh-TW\\&tab=wi\">\\textbackslash{}xb9Ϥ\\textbackslash{}xf9</a> <a class=gb1 href=\"https://maps.google.com.tw/maps?hl=zh-TW\\&tab=wl\">\\textbackslash{}xa6a\\textbackslash{}xb9\\textbackslash{}xcf</a> <a class=gb1 href=\"https://play.google.com/?hl=zh-TW\\&tab=w8\">Play</a> <a class=gb1 href=\"https://www.youtube.com/?gl=TW\\&tab=w1\">YouTube</a> <a class=gb1 href=\"https://news.google.com.tw/nwshp?hl=zh-TW\\&tab=wn\">\\textbackslash{}xb7s\\textbackslash{}xbbD</a> <a class=gb1 href=\"https://mail.google.com/mail/?tab=wm\">Gmail</a> <a class=gb1 href=\"https://drive.google.com/?tab=wo\">\\textbackslash{}xb6\\textbackslash{}xb3\\textbackslash{}xba\\textbackslash{}u0775w\\textbackslash{}xba\\textbackslash{}xd0</a> <a class=gb1 style=\"text-decoration:none\" href=\"https://www.google.com.tw/intl/zh-TW/options/\"><u>\\textbackslash{}xa7\\textbackslash{}xf3\\textbackslash{}xa6h</u> \\&raquo;</a></nobr></div><div id=guser width=100\\%><nobr><span id=gbn class=gbi></span><span id=gbf class=gbf></span><span id=gbe></span><a href=\"http://www.google.com.tw/history/optout?hl=zh-TW\" class=gb4>\\textbackslash{}xba\\textbackslash{}xf4\\textbackslash{}xad\\textbackslash{}xb6\\textbackslash{}xac\\textbackslash{}xf6\\textbackslash{}xbf\\textbackslash{}xfd</a> \\textbar{} <a  href=\"/preferences?hl=zh-TW\" class=gb4>\\textbackslash{}xb3{]}\\textbackslash{}xa9w</a> \\textbar{} <a target=\\_top id=gb\\_70 href=\"https://accounts.google.com/ServiceLogin?hl=zh-TW\\&passive=true\\&continue=https://www.google.com.tw/\" class=gb4>\\textbackslash{}xb5n\\textbackslash{}xa4J</a></nobr></div><div class=gbh style=left:0></div><div class=gbh style=right:0></div> </div><center><br clear=\"all\" id=\"lgpd\"><div id=\"lga\"><a href=\"/search?site=\\&amp;ie=UTF-8\\&amp;q=\\%E5\\%9C\\%8B\\%E9\\%9A\\%9B\\%E5\\%A9\\%A6\\%E5\\%A5\\%B3\\%E7\\%AF\\%80\\&amp;oi=ddle\\&amp;ct=international-womens-day-2018-4678767631925248\\&amp;hl=zh-TW\\&amp;kgmid=/m/01pp4\\_\\&amp;sa=X\\&amp;ved=0ahUKEwjlkv274trZAhUMnpQKHVSxDJ0QPQgD\"><img alt=\"2018 \\textbackslash{}xb0\\textbackslash{}xea\\textbackslash{}xbbڰ\\textbackslash{}xfc\\textbackslash{}xa4k\\textbackslash{}xb8`\" border=\"0\" height=\"220\" src=\"/logos/doodles/2018/international-womens-day-2018-4678767631925248.3-l.png\" title=\"2018 \\textbackslash{}xb0\\textbackslash{}xea\\textbackslash{}xbbڰ\\textbackslash{}xfc\\textbackslash{}xa4k\\textbackslash{}xb8`\" width=\"550\" id=\"hplogo\" onload=\"window.lol\\&\\&lol()\"><br></a><br></div><form action=\"/search\" name=\"f\"><table cellpadding=\"0\" cellspacing=\"0\"><tr valign=\"top\"><td width=\"25\\%\">\\&nbsp;</td><td align=\"center\" nowrap=\"\"><input name=\"ie\" value=\"Big5\" type=\"hidden\"><input value=\"zh-TW\" name=\"hl\" type=\"hidden\"><input name=\"source\" type=\"hidden\" value=\"hp\"><input name=\"biw\" type=\"hidden\"><input name=\"bih\" type=\"hidden\"><div class=\"ds\" style=\"height:32px;margin:4px 0\"><input style=\"color:\\#000;margin:0;padding:5px 8px 0 6px;vertical-align:top\" autocomplete=\"off\" class=\"lst\" value=\"\" title=\"Google \\textbackslash{}xb7j\\textbackslash{}xb4M\" maxlength=\"2048\" name=\"q\" size=\"57\"></div><br style=\"line-height:0\"><span class=\"ds\"><span class=\"lsbb\"><input class=\"lsb\" value=\"Google \\textbackslash{}xb7j\\textbackslash{}xb4M\" name=\"btnG\" type=\"submit\"></span></span><span class=\"ds\"><span class=\"lsbb\"><input class=\"lsb\" value=\"\\textbackslash{}xa6n\\textbackslash{}xa4\\textbackslash{}xe2\\textbackslash{}xae\\textbackslash{}xf0\" name=\"btnI\" onclick=\"if(this.form.q.value)this.checked=1; else top.location=\\textbackslash{}'/doodles/\\textbackslash{}'\" type=\"submit\"></span></span></td><td class=\"fl sblc\" align=\"left\" nowrap=\"\" width=\"25\\%\"><a href=\"/advanced\\_search?hl=zh-TW\\&amp;authuser=0\">\\textbackslash{}xb6i\\textbackslash{}xb6\\textbackslash{}xa5\\textbackslash{}xb7j\\textbackslash{}xb4M</a><a href=\"/language\\_tools?hl=zh-TW\\&amp;authuser=0\">\\textbackslash{}xbby\\textbackslash{}xa8\\textbackslash{}xa5\\textbackslash{}xa4u\\textbackslash{}xa8\\textbackslash{}xe3</a></td></tr></table><input id=\"gbv\" name=\"gbv\" type=\"hidden\" value=\"1\"></form><div id=\"gac\\_scont\"></div><div style=\"font-size:83\\%;min-height:3.5em\"><br><div id=\"prm\"><style>.szppmdbYutt\\_\\_middle-slot-promo\\{font-size:small;margin-bottom:32px\\}.szppmdbYutt\\_\\_middle-slot-promo a.\\_uFi\\{display:inline-block;text-decoration:none\\}.szppmdbYutt\\_\\_middle-slot-promo img\\{border:none;margin-right:5px;vertical-align:middle\\}</style><div class=\"szppmdbYutt\\_\\_middle-slot-promo\" data-ved=\"0ahUKEwjlkv274trZAhUMnpQKHVSxDJ0QnIcBCAQ\"><a class=\"\\_XIi\" href=\"https://www.google.com/url?q=https://www.youtube.com/watch\\%3Fv\\%3DlkfpqGWzHCE\\%26\\&amp;source=hpp\\&amp;id=19005198\\&amp;ct=3\\&amp;usg=AFQjCNHSEugVqahVqCOM\\_DiqF-cCQhA3yQ\\&amp;sa=X\\&amp;ved=0ahUKEwjlkv274trZAhUMnpQKHVSxDJ0Q8IcBCAU\" rel=\"nofollow\">\\textbackslash{}xbcy\\textbackslash{}xaf\\textbackslash{}xac\\textbackslash{}xb0\\textbackslash{}xea\\textbackslash{}xbbڰ\\textbackslash{}xfc\\textbackslash{}xa4k\\textbackslash{}xb8`</a></div></div></div><span id=\"footer\"><div style=\"font-size:10pt\"><div style=\"margin:19px auto;text-align:center\" id=\"fll\"><a href=\"/intl/zh-TW/ads/\">\\textbackslash{}xbcs\\textbackslash{}xa7i\\textbackslash{}xaaA\\textbackslash{}xb0\\textbackslash{}xc8</a><a href=\"http://www.google.com.tw/intl/zh-TW/services/\">\\textbackslash{}xb0\\textbackslash{}u04f7\\textasciitilde{}\\textbackslash{}xb8ѨM\\textbackslash{}xa4\\textbackslash{}xe8\\textbackslash{}xae\\textbackslash{}xd7</a><a href=\"/intl/zh-TW/about.html\">Google \\textbackslash{}xa7\\textbackslash{}xb9\\textbackslash{}xa5\\textbackslash{}xfe\\textbackslash{}xa4\\textbackslash{}xe2\\textbackslash{}xa5U</a><a href=\"https://www.google.com.tw/setprefdomain?prefdom=US\\&amp;sig=\\_\\_1TwbSvWQzCLkMDzFlhHDKJ4kZw8\\%3D\" id=\"fehl\">Google.com</a></div></div><p style=\"color:\\#767676;font-size:8pt\">\\&copy; 2018 - <a href=\"/intl/zh-TW/policies/privacy/\">\\textbackslash{}xc1\\textbackslash{}xf4\\textbackslash{}xa8p\\textbackslash{}xc5v</a> - <a href=\"/intl/zh-TW/policies/terms/\">\\textbackslash{}xaaA\\textbackslash{}xb0ȱ\\textbackslash{}xf8\\textbackslash{}xb4\\textbackslash{}xda</a></p></span></center><script nonce=\"fR+MgW+wEUi6LxzWEYeokg==\">(function()\\{window.google.cdo=\\{height:0,width:0\\};(function()\\{var a=window.innerWidth,b=window.innerHeight;if(!a\\textbar{}\\textbar{}!b)\\{var c=window.document,d=\"CSS1Compat\"==c.compatMode?c.documentElement:c.body;a=d.clientWidth;b=d.clientHeight\\}a\\&\\&b\\&\\&(a!=google.cdo.width\\textbar{}\\textbar{}b!=google.cdo.height)\\&\\&google.log(\"\",\"\",\"/client\\_204?\\&atyp=i\\&biw=\"+a+\"\\&bih=\"+b+\"\\&ei=\"+google.kEI);\\}).call(this);\\})();</script><div id=\"xjsd\"></div><div id=\"xjsi\"><script nonce=\"fR+MgW+wEUi6LxzWEYeokg==\">(function()\\{function c(b)\\{window.setTimeout(function()\\{var a=document.createElement(\"script\");a.src=b;google.timers\\&\\&google.timers.load.t\\&\\&google.tick(\"load\",\\{gen204:\"xjsls\",clearcut:31\\});document.getElementById(\"xjsd\").appendChild(a)\\},0)\\}google.dljp=function(b,a)\\{google.xjsu=b;c(a)\\};google.dlj=c;\\}).call(this);if(!google.xjs)\\{window.\\_=window.\\_\\textbar{}\\textbar{}\\{\\};window.\\_DumpException=window.\\_.\\_DumpException=function(e)\\{throw e\\};google.dljp(\\textbackslash{}'/xjs/\\_/js/k\\textbackslash{}\\textbackslash{}x3dxjs.hp.en.4RyKi7eW2jE.O/m\\textbackslash{}\\textbackslash{}x3dsb\\_he,d/am\\textbackslash{}\\textbackslash{}x3dKIA/rt\\textbackslash{}\\textbackslash{}x3dj/d\\textbackslash{}\\textbackslash{}x3d1/t\\textbackslash{}\\textbackslash{}x3dzcms/rs\\textbackslash{}\\textbackslash{}x3dACT90oHqMdUqVfXk6auw0vsuirOcvS4V6A\\textbackslash{}',\\textbackslash{}'/xjs/\\_/js/k\\textbackslash{}\\textbackslash{}x3dxjs.hp.en.4RyKi7eW2jE.O/m\\textbackslash{}\\textbackslash{}x3dsb\\_he,d/am\\textbackslash{}\\textbackslash{}x3dKIA/rt\\textbackslash{}\\textbackslash{}x3dj/d\\textbackslash{}\\textbackslash{}x3d1/t\\textbackslash{}\\textbackslash{}x3dzcms/rs\\textbackslash{}\\textbackslash{}x3dACT90oHqMdUqVfXk6auw0vsuirOcvS4V6A\\textbackslash{}');google.xjs=1;\\}google.pmc=\\{\"sb\\_he\":\\{\"agen\":true,\"cgen\":true,\"client\":\"heirloom-hp\",\"dh\":true,\"dhqt\":true,\"ds\":\"\",\"fl\":true,\"host\":\"google.com.tw\",\"isbh\":28,\"jsonp\":true,\"msgs\":\\{\"cibl\":\"\\textbackslash{}xb2M\\textbackslash{}xb0\\textbackslash{}xa3\\textbackslash{}xb7j\\textbackslash{}xb4M\",\"dym\":\"\\textbackslash{}xb1z\\textbackslash{}xacO\\textbackslash{}xa4\\textbackslash{}xa3\\textbackslash{}xacO\\textbackslash{}xadn\\textbackslash{}xacd\\textbackslash{}xa1G\",\"lcky\":\"\\textbackslash{}xa6n\\textbackslash{}xa4\\textbackslash{}xe2\\textbackslash{}xae\\textbackslash{}xf0\",\"lml\":\"\\textbackslash{}xc1A\\textbackslash{}xb8ѸԱ\\textbackslash{}xa1\",\"oskt\":\"\\textbackslash{}xbf\\textbackslash{}xe9\\textbackslash{}xa4J\\textbackslash{}xa4u\\textbackslash{}xa8\\textbackslash{}xe3\",\"psrc\":\"\\textbackslash{}xa4w\\textbackslash{}xb1q\\textbackslash{}xb1z\\textbackslash{}xaa\\textbackslash{}xba\\textbackslash{}xa1u\\textbackslash{}\\textbackslash{}u003Ca href=\\textbackslash{}\\textbackslash{}\"/history\\textbackslash{}\\textbackslash{}\"\\textbackslash{}\\textbackslash{}u003E\\textbackslash{}xba\\textbackslash{}xf4\\textbackslash{}xad\\textbackslash{}xb6\\textbackslash{}xac\\textbackslash{}xf6\\textbackslash{}xbf\\textbackslash{}xfd\\textbackslash{}\\textbackslash{}u003C/a\\textbackslash{}\\textbackslash{}u003E\\textbackslash{}xa1v\\textbackslash{}xa4\\textbackslash{}xa4\\textbackslash{}xb2\\textbackslash{}xbe\\textbackslash{}xb0\\textbackslash{}xa3\\textbackslash{}xb3o\\textbackslash{}xb5\\textbackslash{}xa7\\textbackslash{}xb7j\\textbackslash{}xb4M\\textbackslash{}xac\\textbackslash{}xf6\\textbackslash{}xbf\\textbackslash{}xfd\",\"psrl\":\"\\textbackslash{}xb2\\textbackslash{}xbe\\textbackslash{}xb0\\textbackslash{}xa3\",\"sbit\":\"\\textbackslash{}xa5H\\textbackslash{}xb9\\textbackslash{}u03f7j\\textbackslash{}xb4M\",\"srch\":\"Google \\textbackslash{}xb7j\\textbackslash{}xb4M\"\\},\"nds\":true,\"ovr\":\\{\\},\"pq\":\"\",\"refpd\":true,\"refspre\":true,\"rfs\":{[}{]},\"sbpl\":24,\"sbpr\":24,\"scd\":10,\"sce\":5,\"stok\":\"bS80D0Twi4Tk3\\_Lqyb0bWT-5LYM\"\\},\"d\":\\{\\},\"ZI/YVQ\":\\{\\},\"YFCs/g\":\\{\\}\\};google.x(null,function()\\{\\});(function()\\{var r={[}{]};google.plm(r);\\})();(function()\\{var ctx={[}{]}'\n",
       "\\item ';google.jsc \\&\\& google.jsc.x(ctx);\\})();</script></div></body></html>'\n",
       "\\end{enumerate*}\n"
      ],
      "text/markdown": [
       "1. '&lt;!doctype html&gt;&lt;html itemscope=\"\" itemtype=\"http://schema.org/WebPage\" lang=\"zh-TW\"&gt;&lt;head&gt;&lt;meta content=\"text/html; charset=UTF-8\" http-equiv=\"Content-Type\"&gt;&lt;meta content=\"/logos/doodles/2018/international-womens-day-2018-4678767631925248.3-l.png\" itemprop=\"image\"&gt;&lt;meta content=\"2018 \\xb0\\xea\\xbbڰ\\xfc\\xa4k\\xb8`\" property=\"twitter:title\"&gt;&lt;meta content=\"2018 \\xb0\\xea\\xbbڰ\\xfc\\xa4k\\xb8`\\xa7ּ֡I\\xb2{\\xa6b\\xb4N\\xb3z\\xb9L\\xa4\\xb5\\xa4Ѫ\\xba #GoogleDoodle\\xa1A\\xb1\\xb4\\xaf\\xc1\\xa5@\\xacɦU\\xa6a\\xaa\\xba\\xa4k\\xa9ʴ\\xa3\\xa8Ѫ\\xba\\xba\\xeb\\xb1m\\xacG\\xa8Ƨa\\xa1I#HerStoryOurStory\" property=\"twitter:description\"&gt;&lt;meta content=\"2018 \\xb0\\xea\\xbbڰ\\xfc\\xa4k\\xb8`\\xa7ּ֡I\\xb2{\\xa6b\\xb4N\\xb3z\\xb9L\\xa4\\xb5\\xa4Ѫ\\xba #GoogleDoodle\\xa1A\\xb1\\xb4\\xaf\\xc1\\xa5@\\xacɦU\\xa6a\\xaa\\xba\\xa4k\\xa9ʴ\\xa3\\xa8Ѫ\\xba\\xba\\xeb\\xb1m\\xacG\\xa8Ƨa\\xa1I#HerStoryOurStory\" property=\"og:description\"&gt;&lt;meta content=\"summary_large_image\" property=\"twitter:card\"&gt;&lt;meta content=\"@GoogleDoodles\" property=\"twitter:site\"&gt;&lt;meta content=\"https://www.google.com/logos/doodles/2018/international-womens-day-2018-4678767631925248.2-2xa.gif\" property=\"twitter:image\"&gt;&lt;meta content=\"https://www.google.com/logos/doodles/2018/international-womens-day-2018-4678767631925248.2-2xa.gif\" property=\"og:image\"&gt;&lt;meta content=\"1046\" property=\"og:image:width\"&gt;&lt;meta content=\"460\" property=\"og:image:height\"&gt;&lt;meta content=\"https://www.google.com/logos/doodles/2018/international-womens-day-2018-4678767631925248.2-2xa.gif\" property=\"og:url\"&gt;&lt;meta content=\"video.other\" property=\"og:type\"&gt;&lt;title&gt;Google&lt;/title&gt;&lt;script nonce=\"fR+MgW+wEUi6LxzWEYeokg==\"&gt;(function(){window.google={kEI:\\'tyWgWqXbDoy80gTU4rLoCQ\\',kEXPI:\\'1353810,1354277,1354915,1355675,1355761,1355892,1356179,1356779,1356853,1357219,1358111,3700279,3700440,3700521,4029815,4031109,4043492,4045841,4048347,4071783,4081038,4084263,4096834,4097153,4097470,4097922,4097929,4098721,4098728,4104658,4109316,4109490,4116279,4116926,4116935,4118307,4118798,4120660,4122511,4124850,4125837,4126203,4126754,4126869,4127086,4127418,4127744,4128586,4129520,4129633,4130783,4131247,4131834,4135025,4136073,4136137,4137467,4137597,4137646,4138755,4140855,4141049,4141304,4142071,4142328,4142557,4142559,4142573,4142834,4143037,4143278,4143629,4144233,4144442,4144528,4144530,4144803,4145088,4145461,4145485,4145772,4145836,4146147,4146875,4147004,4147031,4147900,4147943,4148013,4148268,4148279,4148304,4148571,4148608,4149017,4149271,4150005,4150017,4150429,4151407,4152220,4152640,4153062,4153222,4153247,4153321,4153421,4153545,4153952,4154017,4154043,4154081,4154187,4154374,4154506,4154871,4155569,4155658,4156008,4156137,4156634,4156656,4156697,4156877,4157691,4157760,4157802,4157888,4157890,4158064,4158215,4159171,6513271,10200084,16200027,19000288,19000423,19000427,19001999,19002548,19002880,19003321,19003323,19003325,19003326,19003328,19003329,19003330,19003407,19003408,19003409,19004309,19004516,19004517,19004518,19004519,19004520,19004521,19004892,19004901,19005038,19005161,19005197,19005198,19005228,19005230\\',authuser:0,kscs:\\'c9c918f0_tyWgWqXbDoy80gTU4rLoCQ\\',u:\\'c9c918f0\\',kGL:\\'TW\\'};google.kHL=\\'zh-TW\\';})();(function(){google.lc=[];google.li=0;google.getEI=function(a){for(var b;a&amp;&amp;(!a.getAttribute||!(b=a.getAttribute(\"eid\")));)a=a.parentNode;return b||google.kEI};google.getLEI=function(a){for(var b=null;a&amp;&amp;(!a.getAttribute||!(b=a.getAttribute(\"leid\")));)a=a.parentNode;return b};google.https=function(){return\"https:\"==window.location.protocol};google.ml=function(){return null};google.wl=function(a,b){try{google.ml(Error(a),!1,b)}catch(d){}};google.time=function(){return(new Date).getTime()};google.log=function(a,b,d,c,g){if(a=google.logUrl(a,b,d,c,g)){b=new Image;var e=google.lc,f=google.li;e[f]=b;b.onerror=b.onload=b.onabort=function(){delete e[f]};google.vel&amp;&amp;google.vel.lu&amp;&amp;google.vel.lu(a);b.src=a;google.li=f+1}};google.logUrl=function(a,b,d,c,g){var e=\"\",f=google.ls||\"\";d||-1!=b.search(\"&amp;ei=\")||(e=\"&amp;ei=\"+google.getEI(c),-1==b.search(\"&amp;lei=\")&amp;&amp;(c=google.getLEI(c))&amp;&amp;(e+=\"&amp;lei=\"+c));c=\"\";!d&amp;&amp;google.cshid&amp;&amp;-1==b.search(\"&amp;cshid=\")&amp;&amp;(c=\"&amp;cshid=\"+google.cshid);a=d||\"/\"+(g||\"gen_204\")+\"?atyp=i&amp;ct=\"+a+\"&amp;cad=\"+b+e+f+\"&amp;zx=\"+google.time()+c;/^http:/i.test(a)&amp;&amp;google.https()&amp;&amp;(google.ml(Error(\"a\"),!1,{src:a,glmm:1}),a=\"\");return a};}).call(this);(function(){google.y={};google.x=function(a,b){if(a)var c=a.id;else{do c=Math.random();while(google.y[c])}google.y[c]=[a,b];return!1};google.lm=[];google.plm=function(a){google.lm.push.apply(google.lm,a)};google.lq=[];google.load=function(a,b,c){google.lq.push([[a],b,c])};google.loadAll=function(a,b){google.lq.push([a,b])};}).call(this);google.f={};var a=window.location,b=a.href.indexOf(\"#\");if(0&lt;=b){var c=a.href.substring(b+1);/(^|&amp;)q=/.test(c)&amp;&amp;-1==c.indexOf(\"#\")&amp;&amp;a.replace(\"/search?\"+c.replace(/(^|&amp;)fp=[^&amp;]*/g,\"\")+\"&amp;cad=h\")};&lt;/script&gt;&lt;style&gt;#gbar,#guser{font-size:13px;padding-top:1px !important;}#gbar{height:22px}#guser{padding-bottom:7px !important;text-align:right}.gbh,.gbd{border-top:1px solid #c9d7f1;font-size:1px}.gbh{height:0;position:absolute;top:24px;width:100%}@media all{.gb1{height:22px;margin-right:.5em;vertical-align:top}#gbar{float:left}}a.gb1,a.gb4{text-decoration:underline !important}a.gb1,a.gb4{color:#00c !important}.gbi .gb4{color:#dd8e27 !important}.gbf .gb4{color:#900 !important}'\n",
       "2. '&lt;/style&gt;&lt;style&gt;body,td,a,p,.h{font-family:arial,sans-serif}body{margin:0;overflow-y:scroll}#gog{padding:3px 8px 0}td{line-height:.8em}.gac_m td{line-height:17px}form{margin-bottom:20px}.h{color:#36c}.q{color:#00c}.ts td{padding:0}.ts{border-collapse:collapse}em{color:#c03;font-style:normal;font-weight:normal}a em{text-decoration:underline}.lst{height:25px;width:496px}.gsfi,.lst{font:18px arial,sans-serif}.gsfs{font:17px arial,sans-serif}.ds{display:inline-box;display:inline-block;margin:3px 0 4px;margin-left:4px}input{font-family:inherit}a.gb1,a.gb2,a.gb3,a.gb4{color:#11c !important}body{background:#fff;color:black}a{color:#11c;text-decoration:none}a:hover,a:active{text-decoration:underline}.fl a{color:#36c}a:visited{color:#551a8b}a.gb1,a.gb4{text-decoration:underline}a.gb3:hover{text-decoration:none}#ghead a.gb2:hover{color:#fff !important}.sblc{padding-top:5px}.sblc a{display:block;margin:2px 0;margin-left:13px;font-size:11px}.lsbb{background:#eee;border:solid 1px;border-color:#ccc #999 #999 #ccc;height:30px}.lsbb{display:block}.ftl,#fll a{display:inline-block;margin:0 12px}.lsb{background:url(/images/nav_logo229.png) 0 -261px repeat-x;border:none;color:#000;cursor:pointer;height:30px;margin:0;outline:0;font:15px arial,sans-serif;vertical-align:top}.lsb:active{background:#ccc}.lst:focus{outline:none}&lt;/style&gt;&lt;script nonce=\"fR+MgW+wEUi6LxzWEYeokg==\"&gt;&lt;/script&gt;&lt;link href=\"/images/branding/product/ico/googleg_lodp.ico\" rel=\"shortcut icon\"&gt;&lt;/head&gt;&lt;body bgcolor=\"#fff\"&gt;&lt;script nonce=\"fR+MgW+wEUi6LxzWEYeokg==\"&gt;(function(){var src=\\'/images/nav_logo229.png\\';var iesg=false;document.body.onload = function(){window.n &amp;&amp; window.n();if (document.images){new Image().src=src;}'\n",
       "3. 'if (!iesg){document.f&amp;&amp;document.f.q.focus();document.gbqf&amp;&amp;document.gbqf.q.focus();}'\n",
       "4. '}'\n",
       "5. <span style=white-space:pre-wrap>'})();&lt;/script&gt;&lt;div id=\"mngb\"&gt; &lt;div id=gbar&gt;&lt;nobr&gt;&lt;b class=gb1&gt;\\xb7j\\xb4M&lt;/b&gt; &lt;a class=gb1 href=\"https://www.google.com.tw/imghp?hl=zh-TW&amp;tab=wi\"&gt;\\xb9Ϥ\\xf9&lt;/a&gt; &lt;a class=gb1 href=\"https://maps.google.com.tw/maps?hl=zh-TW&amp;tab=wl\"&gt;\\xa6a\\xb9\\xcf&lt;/a&gt; &lt;a class=gb1 href=\"https://play.google.com/?hl=zh-TW&amp;tab=w8\"&gt;Play&lt;/a&gt; &lt;a class=gb1 href=\"https://www.youtube.com/?gl=TW&amp;tab=w1\"&gt;YouTube&lt;/a&gt; &lt;a class=gb1 href=\"https://news.google.com.tw/nwshp?hl=zh-TW&amp;tab=wn\"&gt;\\xb7s\\xbbD&lt;/a&gt; &lt;a class=gb1 href=\"https://mail.google.com/mail/?tab=wm\"&gt;Gmail&lt;/a&gt; &lt;a class=gb1 href=\"https://drive.google.com/?tab=wo\"&gt;\\xb6\\xb3\\xba\\u0775w\\xba\\xd0&lt;/a&gt; &lt;a class=gb1 style=\"text-decoration:none\" href=\"https://www.google.com.tw/intl/zh-TW/options/\"&gt;&lt;u&gt;\\xa7\\xf3\\xa6h&lt;/u&gt; &amp;raquo;&lt;/a&gt;&lt;/nobr&gt;&lt;/div&gt;&lt;div id=guser width=100%&gt;&lt;nobr&gt;&lt;span id=gbn class=gbi&gt;&lt;/span&gt;&lt;span id=gbf class=gbf&gt;&lt;/span&gt;&lt;span id=gbe&gt;&lt;/span&gt;&lt;a href=\"http://www.google.com.tw/history/optout?hl=zh-TW\" class=gb4&gt;\\xba\\xf4\\xad\\xb6\\xac\\xf6\\xbf\\xfd&lt;/a&gt; | &lt;a  href=\"/preferences?hl=zh-TW\" class=gb4&gt;\\xb3]\\xa9w&lt;/a&gt; | &lt;a target=_top id=gb_70 href=\"https://accounts.google.com/ServiceLogin?hl=zh-TW&amp;passive=true&amp;continue=https://www.google.com.tw/\" class=gb4&gt;\\xb5n\\xa4J&lt;/a&gt;&lt;/nobr&gt;&lt;/div&gt;&lt;div class=gbh style=left:0&gt;&lt;/div&gt;&lt;div class=gbh style=right:0&gt;&lt;/div&gt; &lt;/div&gt;&lt;center&gt;&lt;br clear=\"all\" id=\"lgpd\"&gt;&lt;div id=\"lga\"&gt;&lt;a href=\"/search?site=&amp;amp;ie=UTF-8&amp;amp;q=%E5%9C%8B%E9%9A%9B%E5%A9%A6%E5%A5%B3%E7%AF%80&amp;amp;oi=ddle&amp;amp;ct=international-womens-day-2018-4678767631925248&amp;amp;hl=zh-TW&amp;amp;kgmid=/m/01pp4_&amp;amp;sa=X&amp;amp;ved=0ahUKEwjlkv274trZAhUMnpQKHVSxDJ0QPQgD\"&gt;&lt;img alt=\"2018 \\xb0\\xea\\xbbڰ\\xfc\\xa4k\\xb8`\" border=\"0\" height=\"220\" src=\"/logos/doodles/2018/international-womens-day-2018-4678767631925248.3-l.png\" title=\"2018 \\xb0\\xea\\xbbڰ\\xfc\\xa4k\\xb8`\" width=\"550\" id=\"hplogo\" onload=\"window.lol&amp;&amp;lol()\"&gt;&lt;br&gt;&lt;/a&gt;&lt;br&gt;&lt;/div&gt;&lt;form action=\"/search\" name=\"f\"&gt;&lt;table cellpadding=\"0\" cellspacing=\"0\"&gt;&lt;tr valign=\"top\"&gt;&lt;td width=\"25%\"&gt;&amp;nbsp;&lt;/td&gt;&lt;td align=\"center\" nowrap=\"\"&gt;&lt;input name=\"ie\" value=\"Big5\" type=\"hidden\"&gt;&lt;input value=\"zh-TW\" name=\"hl\" type=\"hidden\"&gt;&lt;input name=\"source\" type=\"hidden\" value=\"hp\"&gt;&lt;input name=\"biw\" type=\"hidden\"&gt;&lt;input name=\"bih\" type=\"hidden\"&gt;&lt;div class=\"ds\" style=\"height:32px;margin:4px 0\"&gt;&lt;input style=\"color:#000;margin:0;padding:5px 8px 0 6px;vertical-align:top\" autocomplete=\"off\" class=\"lst\" value=\"\" title=\"Google \\xb7j\\xb4M\" maxlength=\"2048\" name=\"q\" size=\"57\"&gt;&lt;/div&gt;&lt;br style=\"line-height:0\"&gt;&lt;span class=\"ds\"&gt;&lt;span class=\"lsbb\"&gt;&lt;input class=\"lsb\" value=\"Google \\xb7j\\xb4M\" name=\"btnG\" type=\"submit\"&gt;&lt;/span&gt;&lt;/span&gt;&lt;span class=\"ds\"&gt;&lt;span class=\"lsbb\"&gt;&lt;input class=\"lsb\" value=\"\\xa6n\\xa4\\xe2\\xae\\xf0\" name=\"btnI\" onclick=\"if(this.form.q.value)this.checked=1; else top.location=\\'/doodles/\\'\" type=\"submit\"&gt;&lt;/span&gt;&lt;/span&gt;&lt;/td&gt;&lt;td class=\"fl sblc\" align=\"left\" nowrap=\"\" width=\"25%\"&gt;&lt;a href=\"/advanced_search?hl=zh-TW&amp;amp;authuser=0\"&gt;\\xb6i\\xb6\\xa5\\xb7j\\xb4M&lt;/a&gt;&lt;a href=\"/language_tools?hl=zh-TW&amp;amp;authuser=0\"&gt;\\xbby\\xa8\\xa5\\xa4u\\xa8\\xe3&lt;/a&gt;&lt;/td&gt;&lt;/tr&gt;&lt;/table&gt;&lt;input id=\"gbv\" name=\"gbv\" type=\"hidden\" value=\"1\"&gt;&lt;/form&gt;&lt;div id=\"gac_scont\"&gt;&lt;/div&gt;&lt;div style=\"font-size:83%;min-height:3.5em\"&gt;&lt;br&gt;&lt;div id=\"prm\"&gt;&lt;style&gt;.szppmdbYutt__middle-slot-promo{font-size:small;margin-bottom:32px}.szppmdbYutt__middle-slot-promo a._uFi{display:inline-block;text-decoration:none}.szppmdbYutt__middle-slot-promo img{border:none;margin-right:5px;vertical-align:middle}&lt;/style&gt;&lt;div class=\"szppmdbYutt__middle-slot-promo\" data-ved=\"0ahUKEwjlkv274trZAhUMnpQKHVSxDJ0QnIcBCAQ\"&gt;&lt;a class=\"_XIi\" href=\"https://www.google.com/url?q=https://www.youtube.com/watch%3Fv%3DlkfpqGWzHCE%26&amp;amp;source=hpp&amp;amp;id=19005198&amp;amp;ct=3&amp;amp;usg=AFQjCNHSEugVqahVqCOM_DiqF-cCQhA3yQ&amp;amp;sa=X&amp;amp;ved=0ahUKEwjlkv274trZAhUMnpQKHVSxDJ0Q8IcBCAU\" rel=\"nofollow\"&gt;\\xbcy\\xaf\\xac\\xb0\\xea\\xbbڰ\\xfc\\xa4k\\xb8`&lt;/a&gt;&lt;/div&gt;&lt;/div&gt;&lt;/div&gt;&lt;span id=\"footer\"&gt;&lt;div style=\"font-size:10pt\"&gt;&lt;div style=\"margin:19px auto;text-align:center\" id=\"fll\"&gt;&lt;a href=\"/intl/zh-TW/ads/\"&gt;\\xbcs\\xa7i\\xaaA\\xb0\\xc8&lt;/a&gt;&lt;a href=\"http://www.google.com.tw/intl/zh-TW/services/\"&gt;\\xb0\\u04f7~\\xb8ѨM\\xa4\\xe8\\xae\\xd7&lt;/a&gt;&lt;a href=\"/intl/zh-TW/about.html\"&gt;Google \\xa7\\xb9\\xa5\\xfe\\xa4\\xe2\\xa5U&lt;/a&gt;&lt;a href=\"https://www.google.com.tw/setprefdomain?prefdom=US&amp;amp;sig=__1TwbSvWQzCLkMDzFlhHDKJ4kZw8%3D\" id=\"fehl\"&gt;Google.com&lt;/a&gt;&lt;/div&gt;&lt;/div&gt;&lt;p style=\"color:#767676;font-size:8pt\"&gt;&amp;copy; 2018 - &lt;a href=\"/intl/zh-TW/policies/privacy/\"&gt;\\xc1\\xf4\\xa8p\\xc5v&lt;/a&gt; - &lt;a href=\"/intl/zh-TW/policies/terms/\"&gt;\\xaaA\\xb0ȱ\\xf8\\xb4\\xda&lt;/a&gt;&lt;/p&gt;&lt;/span&gt;&lt;/center&gt;&lt;script nonce=\"fR+MgW+wEUi6LxzWEYeokg==\"&gt;(function(){window.google.cdo={height:0,width:0};(function(){var a=window.innerWidth,b=window.innerHeight;if(!a||!b){var c=window.document,d=\"CSS1Compat\"==c.compatMode?c.documentElement:c.body;a=d.clientWidth;b=d.clientHeight}a&amp;&amp;b&amp;&amp;(a!=google.cdo.width||b!=google.cdo.height)&amp;&amp;google.log(\"\",\"\",\"/client_204?&amp;atyp=i&amp;biw=\"+a+\"&amp;bih=\"+b+\"&amp;ei=\"+google.kEI);}).call(this);})();&lt;/script&gt;&lt;div id=\"xjsd\"&gt;&lt;/div&gt;&lt;div id=\"xjsi\"&gt;&lt;script nonce=\"fR+MgW+wEUi6LxzWEYeokg==\"&gt;(function(){function c(b){window.setTimeout(function(){var a=document.createElement(\"script\");a.src=b;google.timers&amp;&amp;google.timers.load.t&amp;&amp;google.tick(\"load\",{gen204:\"xjsls\",clearcut:31});document.getElementById(\"xjsd\").appendChild(a)},0)}google.dljp=function(b,a){google.xjsu=b;c(a)};google.dlj=c;}).call(this);if(!google.xjs){window._=window._||{};window._DumpException=window._._DumpException=function(e){throw e};google.dljp(\\'/xjs/_/js/k\\\\x3dxjs.hp.en.4RyKi7eW2jE.O/m\\\\x3dsb_he,d/am\\\\x3dKIA/rt\\\\x3dj/d\\\\x3d1/t\\\\x3dzcms/rs\\\\x3dACT90oHqMdUqVfXk6auw0vsuirOcvS4V6A\\',\\'/xjs/_/js/k\\\\x3dxjs.hp.en.4RyKi7eW2jE.O/m\\\\x3dsb_he,d/am\\\\x3dKIA/rt\\\\x3dj/d\\\\x3d1/t\\\\x3dzcms/rs\\\\x3dACT90oHqMdUqVfXk6auw0vsuirOcvS4V6A\\');google.xjs=1;}google.pmc={\"sb_he\":{\"agen\":true,\"cgen\":true,\"client\":\"heirloom-hp\",\"dh\":true,\"dhqt\":true,\"ds\":\"\",\"fl\":true,\"host\":\"google.com.tw\",\"isbh\":28,\"jsonp\":true,\"msgs\":{\"cibl\":\"\\xb2M\\xb0\\xa3\\xb7j\\xb4M\",\"dym\":\"\\xb1z\\xacO\\xa4\\xa3\\xacO\\xadn\\xacd\\xa1G\",\"lcky\":\"\\xa6n\\xa4\\xe2\\xae\\xf0\",\"lml\":\"\\xc1A\\xb8ѸԱ\\xa1\",\"oskt\":\"\\xbf\\xe9\\xa4J\\xa4u\\xa8\\xe3\",\"psrc\":\"\\xa4w\\xb1q\\xb1z\\xaa\\xba\\xa1u\\\\u003Ca href=\\\\\"/history\\\\\"\\\\u003E\\xba\\xf4\\xad\\xb6\\xac\\xf6\\xbf\\xfd\\\\u003C/a\\\\u003E\\xa1v\\xa4\\xa4\\xb2\\xbe\\xb0\\xa3\\xb3o\\xb5\\xa7\\xb7j\\xb4M\\xac\\xf6\\xbf\\xfd\",\"psrl\":\"\\xb2\\xbe\\xb0\\xa3\",\"sbit\":\"\\xa5H\\xb9\\u03f7j\\xb4M\",\"srch\":\"Google \\xb7j\\xb4M\"},\"nds\":true,\"ovr\":{},\"pq\":\"\",\"refpd\":true,\"refspre\":true,\"rfs\":[],\"sbpl\":24,\"sbpr\":24,\"scd\":10,\"sce\":5,\"stok\":\"bS80D0Twi4Tk3_Lqyb0bWT-5LYM\"},\"d\":{},\"ZI/YVQ\":{},\"YFCs/g\":{}};google.x(null,function(){});(function(){var r=[];google.plm(r);})();(function(){var ctx=[]'</span>\n",
       "6. ';google.jsc &amp;&amp; google.jsc.x(ctx);})();&lt;/script&gt;&lt;/div&gt;&lt;/body&gt;&lt;/html&gt;'\n",
       "\n",
       "\n"
      ],
      "text/plain": [
       "[1] \"<!doctype html><html itemscope=\\\"\\\" itemtype=\\\"http://schema.org/WebPage\\\" lang=\\\"zh-TW\\\"><head><meta content=\\\"text/html; charset=UTF-8\\\" http-equiv=\\\"Content-Type\\\"><meta content=\\\"/logos/doodles/2018/international-womens-day-2018-4678767631925248.3-l.png\\\" itemprop=\\\"image\\\"><meta content=\\\"2018 \\xb0\\xea\\xbbڰ\\xfc\\xa4k\\xb8`\\\" property=\\\"twitter:title\\\"><meta content=\\\"2018 \\xb0\\xea\\xbbڰ\\xfc\\xa4k\\xb8`\\xa7ּ֡I\\xb2{\\xa6b\\xb4N\\xb3z\\xb9L\\xa4\\xb5\\xa4Ѫ\\xba #GoogleDoodle\\xa1A\\xb1\\xb4\\xaf\\xc1\\xa5@\\xacɦU\\xa6a\\xaa\\xba\\xa4k\\xa9ʴ\\xa3\\xa8Ѫ\\xba\\xba\\xeb\\xb1m\\xacG\\xa8Ƨa\\xa1I#HerStoryOurStory\\\" property=\\\"twitter:description\\\"><meta content=\\\"2018 \\xb0\\xea\\xbbڰ\\xfc\\xa4k\\xb8`\\xa7ּ֡I\\xb2{\\xa6b\\xb4N\\xb3z\\xb9L\\xa4\\xb5\\xa4Ѫ\\xba #GoogleDoodle\\xa1A\\xb1\\xb4\\xaf\\xc1\\xa5@\\xacɦU\\xa6a\\xaa\\xba\\xa4k\\xa9ʴ\\xa3\\xa8Ѫ\\xba\\xba\\xeb\\xb1m\\xacG\\xa8Ƨa\\xa1I#HerStoryOurStory\\\" property=\\\"og:description\\\"><meta content=\\\"summary_large_image\\\" property=\\\"twitter:card\\\"><meta content=\\\"@GoogleDoodles\\\" property=\\\"twitter:site\\\"><meta content=\\\"https://www.google.com/logos/doodles/2018/international-womens-day-2018-4678767631925248.2-2xa.gif\\\" property=\\\"twitter:image\\\"><meta content=\\\"https://www.google.com/logos/doodles/2018/international-womens-day-2018-4678767631925248.2-2xa.gif\\\" property=\\\"og:image\\\"><meta content=\\\"1046\\\" property=\\\"og:image:width\\\"><meta content=\\\"460\\\" property=\\\"og:image:height\\\"><meta content=\\\"https://www.google.com/logos/doodles/2018/international-womens-day-2018-4678767631925248.2-2xa.gif\\\" property=\\\"og:url\\\"><meta content=\\\"video.other\\\" property=\\\"og:type\\\"><title>Google</title><script nonce=\\\"fR+MgW+wEUi6LxzWEYeokg==\\\">(function(){window.google={kEI:'tyWgWqXbDoy80gTU4rLoCQ',kEXPI:'1353810,1354277,1354915,1355675,1355761,1355892,1356179,1356779,1356853,1357219,1358111,3700279,3700440,3700521,4029815,4031109,4043492,4045841,4048347,4071783,4081038,4084263,4096834,4097153,4097470,4097922,4097929,4098721,4098728,4104658,4109316,4109490,4116279,4116926,4116935,4118307,4118798,4120660,4122511,4124850,4125837,4126203,4126754,4126869,4127086,4127418,4127744,4128586,4129520,4129633,4130783,4131247,4131834,4135025,4136073,4136137,4137467,4137597,4137646,4138755,4140855,4141049,4141304,4142071,4142328,4142557,4142559,4142573,4142834,4143037,4143278,4143629,4144233,4144442,4144528,4144530,4144803,4145088,4145461,4145485,4145772,4145836,4146147,4146875,4147004,4147031,4147900,4147943,4148013,4148268,4148279,4148304,4148571,4148608,4149017,4149271,4150005,4150017,4150429,4151407,4152220,4152640,4153062,4153222,4153247,4153321,4153421,4153545,4153952,4154017,4154043,4154081,4154187,4154374,4154506,4154871,4155569,4155658,4156008,4156137,4156634,4156656,4156697,4156877,4157691,4157760,4157802,4157888,4157890,4158064,4158215,4159171,6513271,10200084,16200027,19000288,19000423,19000427,19001999,19002548,19002880,19003321,19003323,19003325,19003326,19003328,19003329,19003330,19003407,19003408,19003409,19004309,19004516,19004517,19004518,19004519,19004520,19004521,19004892,19004901,19005038,19005161,19005197,19005198,19005228,19005230',authuser:0,kscs:'c9c918f0_tyWgWqXbDoy80gTU4rLoCQ',u:'c9c918f0',kGL:'TW'};google.kHL='zh-TW';})();(function(){google.lc=[];google.li=0;google.getEI=function(a){for(var b;a&&(!a.getAttribute||!(b=a.getAttribute(\\\"eid\\\")));)a=a.parentNode;return b||google.kEI};google.getLEI=function(a){for(var b=null;a&&(!a.getAttribute||!(b=a.getAttribute(\\\"leid\\\")));)a=a.parentNode;return b};google.https=function(){return\\\"https:\\\"==window.location.protocol};google.ml=function(){return null};google.wl=function(a,b){try{google.ml(Error(a),!1,b)}catch(d){}};google.time=function(){return(new Date).getTime()};google.log=function(a,b,d,c,g){if(a=google.logUrl(a,b,d,c,g)){b=new Image;var e=google.lc,f=google.li;e[f]=b;b.onerror=b.onload=b.onabort=function(){delete e[f]};google.vel&&google.vel.lu&&google.vel.lu(a);b.src=a;google.li=f+1}};google.logUrl=function(a,b,d,c,g){var e=\\\"\\\",f=google.ls||\\\"\\\";d||-1!=b.search(\\\"&ei=\\\")||(e=\\\"&ei=\\\"+google.getEI(c),-1==b.search(\\\"&lei=\\\")&&(c=google.getLEI(c))&&(e+=\\\"&lei=\\\"+c));c=\\\"\\\";!d&&google.cshid&&-1==b.search(\\\"&cshid=\\\")&&(c=\\\"&cshid=\\\"+google.cshid);a=d||\\\"/\\\"+(g||\\\"gen_204\\\")+\\\"?atyp=i&ct=\\\"+a+\\\"&cad=\\\"+b+e+f+\\\"&zx=\\\"+google.time()+c;/^http:/i.test(a)&&google.https()&&(google.ml(Error(\\\"a\\\"),!1,{src:a,glmm:1}),a=\\\"\\\");return a};}).call(this);(function(){google.y={};google.x=function(a,b){if(a)var c=a.id;else{do c=Math.random();while(google.y[c])}google.y[c]=[a,b];return!1};google.lm=[];google.plm=function(a){google.lm.push.apply(google.lm,a)};google.lq=[];google.load=function(a,b,c){google.lq.push([[a],b,c])};google.loadAll=function(a,b){google.lq.push([a,b])};}).call(this);google.f={};var a=window.location,b=a.href.indexOf(\\\"#\\\");if(0<=b){var c=a.href.substring(b+1);/(^|&)q=/.test(c)&&-1==c.indexOf(\\\"#\\\")&&a.replace(\\\"/search?\\\"+c.replace(/(^|&)fp=[^&]*/g,\\\"\\\")+\\\"&cad=h\\\")};</script><style>#gbar,#guser{font-size:13px;padding-top:1px !important;}#gbar{height:22px}#guser{padding-bottom:7px !important;text-align:right}.gbh,.gbd{border-top:1px solid #c9d7f1;font-size:1px}.gbh{height:0;position:absolute;top:24px;width:100%}@media all{.gb1{height:22px;margin-right:.5em;vertical-align:top}#gbar{float:left}}a.gb1,a.gb4{text-decoration:underline !important}a.gb1,a.gb4{color:#00c !important}.gbi .gb4{color:#dd8e27 !important}.gbf .gb4{color:#900 !important}\"                                                                                                                                                                                                                                                                                                                                                                                                                                                                                                                                                                                                                                                                                                                                                                                                                                                                                                                                                                                                                                                                                                                                                                                                                                                                                                                                                                                                                                                                                                                                                                            \n",
       "[2] \"</style><style>body,td,a,p,.h{font-family:arial,sans-serif}body{margin:0;overflow-y:scroll}#gog{padding:3px 8px 0}td{line-height:.8em}.gac_m td{line-height:17px}form{margin-bottom:20px}.h{color:#36c}.q{color:#00c}.ts td{padding:0}.ts{border-collapse:collapse}em{color:#c03;font-style:normal;font-weight:normal}a em{text-decoration:underline}.lst{height:25px;width:496px}.gsfi,.lst{font:18px arial,sans-serif}.gsfs{font:17px arial,sans-serif}.ds{display:inline-box;display:inline-block;margin:3px 0 4px;margin-left:4px}input{font-family:inherit}a.gb1,a.gb2,a.gb3,a.gb4{color:#11c !important}body{background:#fff;color:black}a{color:#11c;text-decoration:none}a:hover,a:active{text-decoration:underline}.fl a{color:#36c}a:visited{color:#551a8b}a.gb1,a.gb4{text-decoration:underline}a.gb3:hover{text-decoration:none}#ghead a.gb2:hover{color:#fff !important}.sblc{padding-top:5px}.sblc a{display:block;margin:2px 0;margin-left:13px;font-size:11px}.lsbb{background:#eee;border:solid 1px;border-color:#ccc #999 #999 #ccc;height:30px}.lsbb{display:block}.ftl,#fll a{display:inline-block;margin:0 12px}.lsb{background:url(/images/nav_logo229.png) 0 -261px repeat-x;border:none;color:#000;cursor:pointer;height:30px;margin:0;outline:0;font:15px arial,sans-serif;vertical-align:top}.lsb:active{background:#ccc}.lst:focus{outline:none}</style><script nonce=\\\"fR+MgW+wEUi6LxzWEYeokg==\\\"></script><link href=\\\"/images/branding/product/ico/googleg_lodp.ico\\\" rel=\\\"shortcut icon\\\"></head><body bgcolor=\\\"#fff\\\"><script nonce=\\\"fR+MgW+wEUi6LxzWEYeokg==\\\">(function(){var src='/images/nav_logo229.png';var iesg=false;document.body.onload = function(){window.n && window.n();if (document.images){new Image().src=src;}\"                                                                                                                                                                                                                                                                                                                                                                                                                                                                                                                                                                                                                                                                                                                                                                                                                                                                                                                                                                                                                                                                                                                                                                                                                                                                                                                                                                                                                                                                                                                                                                                                                                                                                                                                                                                                                                                                                                                                                                                                                                                                                                                                                                                                                                                                                                                                                                                                                                                                                                                                                                                                                                                                                                                                                                                                                                                                                                                                                                                                                                                                                                                                                                                                                                                                                                                                                                                                                                                                                                                                                                                                                                                                                                                                                                                                                                                                                                                                                                                                                                                                                                                                                                                                                                                                                                                                                                                                                                                                                                                                                                                                                                                                                                                                                                                                                                                                                                                                                                                                                                                                                                                                                                                                                                                                                                                                                                                                \n",
       "[3] \"if (!iesg){document.f&&document.f.q.focus();document.gbqf&&document.gbqf.q.focus();}\"                                                                                                                                                                                                                                                                                                                                                                                                                                                                                                                                                                                                                                                                                                                                                                                                                                                                                                                                                                                                                                                                                                                                                                                                                                                                                                                                                                                                                                                                                                                                                                                                                                                                                                                                                                                                                                                                                                                                                                                                                                                                                                                                                                                                                                                                                                                                                                                                                                                                                                                                                                                                                                                                                                                                                                                                                                                                                                                                                                                                                                                                                                                                                                                                                                                                                                                                                                                                                                                                                                                                                                                                                                                                                                                                                                                                                                                                                                                                                                                                                                                                                                                                                                                                                                                                                                                                                                                                                                                                                                                                                                                                                                                                                                                                                                                                                                                                                                                                                                                                                                                                                                                                                                                                                                                                                                                                                                                                                                                                                                                                                                                                                                                                                                                                                                                                                                                                                                                                                                                                                                                                                                                                                                                                                                                                                                                                                                                                                                                                                                                                                                                                                                                                                                                                                                                                                                                                                                                                                                                                                                                                               \n",
       "[4] \"}\"                                                                                                                                                                                                                                                                                                                                                                                                                                                                                                                                                                                                                                                                                                                                                                                                                                                                                                                                                                                                                                                                                                                                                                                                                                                                                                                                                                                                                                                                                                                                                                                                                                                                                                                                                                                                                                                                                                                                                                                                                                                                                                                                                                                                                                                                                                                                                                                                                                                                                                                                                                                                                                                                                                                                                                                                                                                                                                                                                                                                                                                                                                                                                                                                                                                                                                                                                                                                                                                                                                                                                                                                                                                                                                                                                                                                                                                                                                                                                                                                                                                                                                                                                                                                                                                                                                                                                                                                                                                                                                                                                                                                                                                                                                                                                                                                                                                                                                                                                                                                                                                                                                                                                                                                                                                                                                                                                                                                                                                                                                                                                                                                                                                                                                                                                                                                                                                                                                                                                                                                                                                                                                                                                                                                                                                                                                                                                                                                                                                                                                                                                                                                                                                                                                                                                                                                                                                                                                                                                                                                                                                                                                                                                                  \n",
       "[5] \"})();</script><div id=\\\"mngb\\\"> <div id=gbar><nobr><b class=gb1>\\xb7j\\xb4M</b> <a class=gb1 href=\\\"https://www.google.com.tw/imghp?hl=zh-TW&tab=wi\\\">\\xb9Ϥ\\xf9</a> <a class=gb1 href=\\\"https://maps.google.com.tw/maps?hl=zh-TW&tab=wl\\\">\\xa6a\\xb9\\xcf</a> <a class=gb1 href=\\\"https://play.google.com/?hl=zh-TW&tab=w8\\\">Play</a> <a class=gb1 href=\\\"https://www.youtube.com/?gl=TW&tab=w1\\\">YouTube</a> <a class=gb1 href=\\\"https://news.google.com.tw/nwshp?hl=zh-TW&tab=wn\\\">\\xb7s\\xbbD</a> <a class=gb1 href=\\\"https://mail.google.com/mail/?tab=wm\\\">Gmail</a> <a class=gb1 href=\\\"https://drive.google.com/?tab=wo\\\">\\xb6\\xb3\\xba\\u0775w\\xba\\xd0</a> <a class=gb1 style=\\\"text-decoration:none\\\" href=\\\"https://www.google.com.tw/intl/zh-TW/options/\\\"><u>\\xa7\\xf3\\xa6h</u> &raquo;</a></nobr></div><div id=guser width=100%><nobr><span id=gbn class=gbi></span><span id=gbf class=gbf></span><span id=gbe></span><a href=\\\"http://www.google.com.tw/history/optout?hl=zh-TW\\\" class=gb4>\\xba\\xf4\\xad\\xb6\\xac\\xf6\\xbf\\xfd</a> | <a  href=\\\"/preferences?hl=zh-TW\\\" class=gb4>\\xb3]\\xa9w</a> | <a target=_top id=gb_70 href=\\\"https://accounts.google.com/ServiceLogin?hl=zh-TW&passive=true&continue=https://www.google.com.tw/\\\" class=gb4>\\xb5n\\xa4J</a></nobr></div><div class=gbh style=left:0></div><div class=gbh style=right:0></div> </div><center><br clear=\\\"all\\\" id=\\\"lgpd\\\"><div id=\\\"lga\\\"><a href=\\\"/search?site=&amp;ie=UTF-8&amp;q=%E5%9C%8B%E9%9A%9B%E5%A9%A6%E5%A5%B3%E7%AF%80&amp;oi=ddle&amp;ct=international-womens-day-2018-4678767631925248&amp;hl=zh-TW&amp;kgmid=/m/01pp4_&amp;sa=X&amp;ved=0ahUKEwjlkv274trZAhUMnpQKHVSxDJ0QPQgD\\\"><img alt=\\\"2018 \\xb0\\xea\\xbbڰ\\xfc\\xa4k\\xb8`\\\" border=\\\"0\\\" height=\\\"220\\\" src=\\\"/logos/doodles/2018/international-womens-day-2018-4678767631925248.3-l.png\\\" title=\\\"2018 \\xb0\\xea\\xbbڰ\\xfc\\xa4k\\xb8`\\\" width=\\\"550\\\" id=\\\"hplogo\\\" onload=\\\"window.lol&&lol()\\\"><br></a><br></div><form action=\\\"/search\\\" name=\\\"f\\\"><table cellpadding=\\\"0\\\" cellspacing=\\\"0\\\"><tr valign=\\\"top\\\"><td width=\\\"25%\\\">&nbsp;</td><td align=\\\"center\\\" nowrap=\\\"\\\"><input name=\\\"ie\\\" value=\\\"Big5\\\" type=\\\"hidden\\\"><input value=\\\"zh-TW\\\" name=\\\"hl\\\" type=\\\"hidden\\\"><input name=\\\"source\\\" type=\\\"hidden\\\" value=\\\"hp\\\"><input name=\\\"biw\\\" type=\\\"hidden\\\"><input name=\\\"bih\\\" type=\\\"hidden\\\"><div class=\\\"ds\\\" style=\\\"height:32px;margin:4px 0\\\"><input style=\\\"color:#000;margin:0;padding:5px 8px 0 6px;vertical-align:top\\\" autocomplete=\\\"off\\\" class=\\\"lst\\\" value=\\\"\\\" title=\\\"Google \\xb7j\\xb4M\\\" maxlength=\\\"2048\\\" name=\\\"q\\\" size=\\\"57\\\"></div><br style=\\\"line-height:0\\\"><span class=\\\"ds\\\"><span class=\\\"lsbb\\\"><input class=\\\"lsb\\\" value=\\\"Google \\xb7j\\xb4M\\\" name=\\\"btnG\\\" type=\\\"submit\\\"></span></span><span class=\\\"ds\\\"><span class=\\\"lsbb\\\"><input class=\\\"lsb\\\" value=\\\"\\xa6n\\xa4\\xe2\\xae\\xf0\\\" name=\\\"btnI\\\" onclick=\\\"if(this.form.q.value)this.checked=1; else top.location='/doodles/'\\\" type=\\\"submit\\\"></span></span></td><td class=\\\"fl sblc\\\" align=\\\"left\\\" nowrap=\\\"\\\" width=\\\"25%\\\"><a href=\\\"/advanced_search?hl=zh-TW&amp;authuser=0\\\">\\xb6i\\xb6\\xa5\\xb7j\\xb4M</a><a href=\\\"/language_tools?hl=zh-TW&amp;authuser=0\\\">\\xbby\\xa8\\xa5\\xa4u\\xa8\\xe3</a></td></tr></table><input id=\\\"gbv\\\" name=\\\"gbv\\\" type=\\\"hidden\\\" value=\\\"1\\\"></form><div id=\\\"gac_scont\\\"></div><div style=\\\"font-size:83%;min-height:3.5em\\\"><br><div id=\\\"prm\\\"><style>.szppmdbYutt__middle-slot-promo{font-size:small;margin-bottom:32px}.szppmdbYutt__middle-slot-promo a._uFi{display:inline-block;text-decoration:none}.szppmdbYutt__middle-slot-promo img{border:none;margin-right:5px;vertical-align:middle}</style><div class=\\\"szppmdbYutt__middle-slot-promo\\\" data-ved=\\\"0ahUKEwjlkv274trZAhUMnpQKHVSxDJ0QnIcBCAQ\\\"><a class=\\\"_XIi\\\" href=\\\"https://www.google.com/url?q=https://www.youtube.com/watch%3Fv%3DlkfpqGWzHCE%26&amp;source=hpp&amp;id=19005198&amp;ct=3&amp;usg=AFQjCNHSEugVqahVqCOM_DiqF-cCQhA3yQ&amp;sa=X&amp;ved=0ahUKEwjlkv274trZAhUMnpQKHVSxDJ0Q8IcBCAU\\\" rel=\\\"nofollow\\\">\\xbcy\\xaf\\xac\\xb0\\xea\\xbbڰ\\xfc\\xa4k\\xb8`</a></div></div></div><span id=\\\"footer\\\"><div style=\\\"font-size:10pt\\\"><div style=\\\"margin:19px auto;text-align:center\\\" id=\\\"fll\\\"><a href=\\\"/intl/zh-TW/ads/\\\">\\xbcs\\xa7i\\xaaA\\xb0\\xc8</a><a href=\\\"http://www.google.com.tw/intl/zh-TW/services/\\\">\\xb0\\u04f7~\\xb8ѨM\\xa4\\xe8\\xae\\xd7</a><a href=\\\"/intl/zh-TW/about.html\\\">Google \\xa7\\xb9\\xa5\\xfe\\xa4\\xe2\\xa5U</a><a href=\\\"https://www.google.com.tw/setprefdomain?prefdom=US&amp;sig=__1TwbSvWQzCLkMDzFlhHDKJ4kZw8%3D\\\" id=\\\"fehl\\\">Google.com</a></div></div><p style=\\\"color:#767676;font-size:8pt\\\">&copy; 2018 - <a href=\\\"/intl/zh-TW/policies/privacy/\\\">\\xc1\\xf4\\xa8p\\xc5v</a> - <a href=\\\"/intl/zh-TW/policies/terms/\\\">\\xaaA\\xb0ȱ\\xf8\\xb4\\xda</a></p></span></center><script nonce=\\\"fR+MgW+wEUi6LxzWEYeokg==\\\">(function(){window.google.cdo={height:0,width:0};(function(){var a=window.innerWidth,b=window.innerHeight;if(!a||!b){var c=window.document,d=\\\"CSS1Compat\\\"==c.compatMode?c.documentElement:c.body;a=d.clientWidth;b=d.clientHeight}a&&b&&(a!=google.cdo.width||b!=google.cdo.height)&&google.log(\\\"\\\",\\\"\\\",\\\"/client_204?&atyp=i&biw=\\\"+a+\\\"&bih=\\\"+b+\\\"&ei=\\\"+google.kEI);}).call(this);})();</script><div id=\\\"xjsd\\\"></div><div id=\\\"xjsi\\\"><script nonce=\\\"fR+MgW+wEUi6LxzWEYeokg==\\\">(function(){function c(b){window.setTimeout(function(){var a=document.createElement(\\\"script\\\");a.src=b;google.timers&&google.timers.load.t&&google.tick(\\\"load\\\",{gen204:\\\"xjsls\\\",clearcut:31});document.getElementById(\\\"xjsd\\\").appendChild(a)},0)}google.dljp=function(b,a){google.xjsu=b;c(a)};google.dlj=c;}).call(this);if(!google.xjs){window._=window._||{};window._DumpException=window._._DumpException=function(e){throw e};google.dljp('/xjs/_/js/k\\\\x3dxjs.hp.en.4RyKi7eW2jE.O/m\\\\x3dsb_he,d/am\\\\x3dKIA/rt\\\\x3dj/d\\\\x3d1/t\\\\x3dzcms/rs\\\\x3dACT90oHqMdUqVfXk6auw0vsuirOcvS4V6A','/xjs/_/js/k\\\\x3dxjs.hp.en.4RyKi7eW2jE.O/m\\\\x3dsb_he,d/am\\\\x3dKIA/rt\\\\x3dj/d\\\\x3d1/t\\\\x3dzcms/rs\\\\x3dACT90oHqMdUqVfXk6auw0vsuirOcvS4V6A');google.xjs=1;}google.pmc={\\\"sb_he\\\":{\\\"agen\\\":true,\\\"cgen\\\":true,\\\"client\\\":\\\"heirloom-hp\\\",\\\"dh\\\":true,\\\"dhqt\\\":true,\\\"ds\\\":\\\"\\\",\\\"fl\\\":true,\\\"host\\\":\\\"google.com.tw\\\",\\\"isbh\\\":28,\\\"jsonp\\\":true,\\\"msgs\\\":{\\\"cibl\\\":\\\"\\xb2M\\xb0\\xa3\\xb7j\\xb4M\\\",\\\"dym\\\":\\\"\\xb1z\\xacO\\xa4\\xa3\\xacO\\xadn\\xacd\\xa1G\\\",\\\"lcky\\\":\\\"\\xa6n\\xa4\\xe2\\xae\\xf0\\\",\\\"lml\\\":\\\"\\xc1A\\xb8ѸԱ\\xa1\\\",\\\"oskt\\\":\\\"\\xbf\\xe9\\xa4J\\xa4u\\xa8\\xe3\\\",\\\"psrc\\\":\\\"\\xa4w\\xb1q\\xb1z\\xaa\\xba\\xa1u\\\\u003Ca href=\\\\\\\"/history\\\\\\\"\\\\u003E\\xba\\xf4\\xad\\xb6\\xac\\xf6\\xbf\\xfd\\\\u003C/a\\\\u003E\\xa1v\\xa4\\xa4\\xb2\\xbe\\xb0\\xa3\\xb3o\\xb5\\xa7\\xb7j\\xb4M\\xac\\xf6\\xbf\\xfd\\\",\\\"psrl\\\":\\\"\\xb2\\xbe\\xb0\\xa3\\\",\\\"sbit\\\":\\\"\\xa5H\\xb9\\u03f7j\\xb4M\\\",\\\"srch\\\":\\\"Google \\xb7j\\xb4M\\\"},\\\"nds\\\":true,\\\"ovr\\\":{},\\\"pq\\\":\\\"\\\",\\\"refpd\\\":true,\\\"refspre\\\":true,\\\"rfs\\\":[],\\\"sbpl\\\":24,\\\"sbpr\\\":24,\\\"scd\\\":10,\\\"sce\\\":5,\\\"stok\\\":\\\"bS80D0Twi4Tk3_Lqyb0bWT-5LYM\\\"},\\\"d\\\":{},\\\"ZI/YVQ\\\":{},\\\"YFCs/g\\\":{}};google.x(null,function(){});(function(){var r=[];google.plm(r);})();(function(){var ctx=[]\"\n",
       "[6] \";google.jsc && google.jsc.x(ctx);})();</script></div></body></html>\"                                                                                                                                                                                                                                                                                                                                                                                                                                                                                                                                                                                                                                                                                                                                                                                                                                                                                                                                                                                                                                                                                                                                                                                                                                                                                                                                                                                                                                                                                                                                                                                                                                                                                                                                                                                                                                                                                                                                                                                                                                                                                                                                                                                                                                                                                                                                                                                                                                                                                                                                                                                                                                                                                                                                                                                                                                                                                                                                                                                                                                                                                                                                                                                                                                                                                                                                                                                                                                                                                                                                                                                                                                                                                                                                                                                                                                                                                                                                                                                                                                                                                                                                                                                                                                                                                                                                                                                                                                                                                                                                                                                                                                                                                                                                                                                                                                                                                                                                                                                                                                                                                                                                                                                                                                                                                                                                                                                                                                                                                                                                                                                                                                                                                                                                                                                                                                                                                                                                                                                                                                                                                                                                                                                                                                                                                                                                                                                                                                                                                                                                                                                                                                                                                                                                                                                                                                                                                                                                                                                                                                                                                                "
      ]
     },
     "metadata": {},
     "output_type": "display_data"
    }
   ],
   "source": [
    "head(x)"
   ]
  }
 ],
 "metadata": {
  "kernelspec": {
   "display_name": "R",
   "language": "R",
   "name": "ir"
  },
  "language_info": {
   "codemirror_mode": "r",
   "file_extension": ".r",
   "mimetype": "text/x-r-source",
   "name": "R",
   "pygments_lexer": "r",
   "version": "3.4.3"
  }
 },
 "nbformat": 4,
 "nbformat_minor": 2
}
