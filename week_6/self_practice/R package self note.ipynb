{
 "cells": [
  {
   "cell_type": "markdown",
   "metadata": {},
   "source": [
    "# R package note"
   ]
  },
  {
   "cell_type": "markdown",
   "metadata": {},
   "source": [
    "### Source code "
   ]
  },
  {
   "cell_type": "markdown",
   "metadata": {},
   "source": [
    "development version of a package. A directory with R/"
   ]
  },
  {
   "cell_type": "markdown",
   "metadata": {},
   "source": [
    "### Bundled packages"
   ]
  },
  {
   "cell_type": "markdown",
   "metadata": {},
   "source": [
    "packaged that is compressed into a single file\n",
    "in Linux : `.tar.gz`\n",
    "call `dwvtools:build()` to make a bundle"
   ]
  },
  {
   "cell_type": "markdown",
   "metadata": {},
   "source": [
    "### Binary packages"
   ]
  },
  {
   "cell_type": "markdown",
   "metadata": {},
   "source": [
    "no .R file in R/. Three files store the parsed functions in a efficient file format.\n",
    "\n",
    "**the result of loading all the R code then save the function with** `save()`"
   ]
  },
  {
   "cell_type": "markdown",
   "metadata": {},
   "source": [
    "`Meta/` contains a number of Rds files. (cached metedata about the package)\n",
    "\n",
    "`html/`\n",
    "\n",
    "`src/`\n",
    "`inst/`"
   ]
  },
  {
   "cell_type": "markdown",
   "metadata": {},
   "source": [
    "**Don't use library() or require()**  use DESCRIPTION instead."
   ]
  },
  {
   "cell_type": "markdown",
   "metadata": {},
   "source": [
    "**Never use source() to load code froma file**"
   ]
  },
  {
   "cell_type": "markdown",
   "metadata": {},
   "source": [
    "If you modify glocal options() or graphics par(), save the fold values and reset when you're done"
   ]
  },
  {
   "cell_type": "markdown",
   "metadata": {},
   "source": [
    "```\n",
    "old <- setwd(tempdir())\n",
    "on.exit(setwd(old), add = True)\n",
    "```"
   ]
  },
  {
   "cell_type": "markdown",
   "metadata": {},
   "source": [
    "**Avoiding modifying the working directory** make sure ti change it back."
   ]
  },
  {
   "cell_type": "markdown",
   "metadata": {},
   "source": [
    "creating plots and printing output to the console are two other waus of affecting the global R environment. **isolate them in functions that only produce outputs.** ex. seperate the data preparation and ploting so that people can use your data to do other visualization"
   ]
  },
  {
   "cell_type": "markdown",
   "metadata": {},
   "source": [
    "!! Avoiding rely on the user's landscape(might different from yours.)"
   ]
  },
  {
   "cell_type": "markdown",
   "metadata": {},
   "source": [
    "**Packages need side-effects ==> if your packages need to do some initial setup.**\n",
    "\n",
    "```\n",
    ".onload()\n",
    ".onAttach()\n",
    "```\n",
    "==> to display an informative message when the package loads. This might make usage conditions clear, or display useful tips.\n",
    "==> startup messages use .onAttach()\n",
    "==> to display startup() messgaes always use ``` packageStartupMessage()```\n"
   ]
  },
  {
   "cell_type": "code",
   "execution_count": null,
   "metadata": {},
   "outputs": [],
   "source": []
  }
 ],
 "metadata": {
  "kernelspec": {
   "display_name": "R",
   "language": "R",
   "name": "ir"
  },
  "language_info": {
   "codemirror_mode": "r",
   "file_extension": ".r",
   "mimetype": "text/x-r-source",
   "name": "R",
   "pygments_lexer": "r",
   "version": "3.4.3"
  }
 },
 "nbformat": 4,
 "nbformat_minor": 2
}
