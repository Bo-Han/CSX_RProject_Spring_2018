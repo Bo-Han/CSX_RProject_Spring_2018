{
 "cells": [
  {
   "cell_type": "markdown",
   "metadata": {},
   "source": [
    "# MLP.R try"
   ]
  },
  {
   "cell_type": "code",
   "execution_count": 1,
   "metadata": {},
   "outputs": [
    {
     "name": "stderr",
     "output_type": "stream",
     "text": [
      "Loading required package: monmlp\n",
      "Warning message in library(package, lib.loc = lib.loc, character.only = TRUE, logical.return = TRUE, :\n",
      "“there is no package called ‘monmlp’”Loading required package: Metrics\n",
      "Warning message in library(package, lib.loc = lib.loc, character.only = TRUE, logical.return = TRUE, :\n",
      "“there is no package called ‘Metrics’”"
     ]
    }
   ],
   "source": [
    "require(monmlp)\n",
    "require(Metrics)"
   ]
  },
  {
   "cell_type": "code",
   "execution_count": 2,
   "metadata": {},
   "outputs": [
    {
     "ename": "ERROR",
     "evalue": "Error in logistic(x): 沒有這個函數 \"logistic\"\n",
     "output_type": "error",
     "traceback": [
      "Error in logistic(x): 沒有這個函數 \"logistic\"\nTraceback:\n"
     ]
    }
   ],
   "source": [
    "#MultiLayer Perceptron Code\n",
    "x <- as.matrix(seq(-10, 10, length = 100))\n",
    "y <- logistic(x) + rnorm(100, sd = 0.2)"
   ]
  },
  {
   "cell_type": "code",
   "execution_count": null,
   "metadata": {},
   "outputs": [],
   "source": []
  }
 ],
 "metadata": {
  "kernelspec": {
   "display_name": "R",
   "language": "R",
   "name": "ir"
  },
  "language_info": {
   "codemirror_mode": "r",
   "file_extension": ".r",
   "mimetype": "text/x-r-source",
   "name": "R",
   "pygments_lexer": "r",
   "version": "3.4.3"
  }
 },
 "nbformat": 4,
 "nbformat_minor": 2
}
